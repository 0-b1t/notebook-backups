{
 "cells": [
  {
   "cell_type": "markdown",
   "metadata": {},
   "source": [
    "A pretty great write up on SVMs:\n",
    "* [Support Vector Machine — Simply Explained](https://towardsdatascience.com/support-vector-machine-simply-explained-fee28eba5496)\n",
    "\n",
    "Another pretty great write up on SVMs:\n",
    "* Part 1: [An intuitive introduction to Support Vector Machine](https://medium.com/swlh/support-vector-machine-from-scratch-ce095a47dc5c)\n",
    "* Part 2: [Visualizing SVM with Python](https://medium.com/swlh/support-vector-machine-from-scratch-ce095a47dc5c)"
   ]
  },
  {
   "cell_type": "code",
   "execution_count": null,
   "metadata": {},
   "outputs": [],
   "source": [
    "%reload_ext nb_black"
   ]
  },
  {
   "cell_type": "code",
   "execution_count": null,
   "metadata": {},
   "outputs": [],
   "source": [
    "import pandas as pd\n",
    "import numpy as np\n",
    "\n",
    "from sklearn.svm import SVC\n",
    "\n",
    "from mlxtend.plotting import plot_decision_regions\n",
    "import seaborn as sns\n",
    "import matplotlib.pyplot as plt\n",
    "\n",
    "%matplotlib inline\n",
    "\n",
    "# fmt: off\n",
    "\n",
    "# Some fake data\n",
    "test_grade = [90, 100, 85, 93, 88, 100, \n",
    "              97, 92, 89, 84, 55, 65, 75, \n",
    "              58, 69, 71, 72, 63, 70, 59]\n",
    "\n",
    "project_grade = [100, 85, 98, 88, 87, 99, \n",
    "                 99, 86, 89, 100, 67, 71,\n",
    "                 74, 73, 55, 59, 56, 72, 67, 72]\n",
    "\n",
    "pass_fail = [\"pass\", \"pass\", \"pass\", \"pass\", \"pass\",\n",
    "             \"pass\", \"pass\", \"pass\", \"pass\", \"pass\",\n",
    "             \"fail\", \"fail\", \"fail\", \"fail\", \"fail\",\n",
    "             \"fail\", \"fail\", \"fail\", \"fail\", \"fail\"]\n",
    "# fmt: on"
   ]
  },
  {
   "cell_type": "markdown",
   "metadata": {},
   "source": [
    "Create a dataframe using the 3 lists above as the columns."
   ]
  },
  {
   "cell_type": "code",
   "execution_count": null,
   "metadata": {},
   "outputs": [],
   "source": []
  },
  {
   "cell_type": "markdown",
   "metadata": {},
   "source": [
    "Convert the pass/fail column to be 1 if the record is a `'pass'` and 0 when the record is a `'fail'`. "
   ]
  },
  {
   "cell_type": "code",
   "execution_count": null,
   "metadata": {},
   "outputs": [],
   "source": []
  },
  {
   "cell_type": "markdown",
   "metadata": {},
   "source": [
    "Make a scatter plot of test scores by project scores and color by whether the record passed or failed."
   ]
  },
  {
   "cell_type": "code",
   "execution_count": null,
   "metadata": {},
   "outputs": [],
   "source": []
  },
  {
   "cell_type": "markdown",
   "metadata": {},
   "source": [
    "Look at the documenation for `SVC` which has already been loaded using `from sklearn.svm import SVC`."
   ]
  },
  {
   "cell_type": "code",
   "execution_count": null,
   "metadata": {},
   "outputs": [],
   "source": []
  },
  {
   "cell_type": "markdown",
   "metadata": {},
   "source": [
    "Use the documentation to fit an `SVC` model with a kernel type of `'linear'`.  No need to do a train/test split.  The target variable should be the pass/fail column."
   ]
  },
  {
   "cell_type": "code",
   "execution_count": null,
   "metadata": {},
   "outputs": [],
   "source": []
  },
  {
   "cell_type": "markdown",
   "metadata": {},
   "source": [
    "Use the documentation of `plot_decision_regions` to plot the decision boundary of the `SVC` classifier.  The `plot_decision_regions` function was imported with the line: `from mlxtend.plotting import plot_decision_regions`."
   ]
  },
  {
   "cell_type": "code",
   "execution_count": null,
   "metadata": {},
   "outputs": [],
   "source": [
    "plot_decision_regions(____)\n",
    "\n",
    "# These axes labels might be different depending\n",
    "# on how you built the dataframe, and the order of columns in it\n",
    "plt.xlabel(\"Test Score\")\n",
    "plt.ylabel(\"Project Score\")\n",
    "plt.legend(loc=\"upper left\")\n",
    "plt.show()"
   ]
  },
  {
   "cell_type": "markdown",
   "metadata": {},
   "source": [
    "View the support vectors using your model's attribute holding this info.  Identify these points in the plot."
   ]
  },
  {
   "cell_type": "code",
   "execution_count": null,
   "metadata": {},
   "outputs": [],
   "source": []
  },
  {
   "cell_type": "markdown",
   "metadata": {},
   "source": [
    "View the model's coefficients.  Note, these are not interpreted in the same way as linear regression."
   ]
  },
  {
   "cell_type": "code",
   "execution_count": null,
   "metadata": {},
   "outputs": [],
   "source": []
  },
  {
   "cell_type": "markdown",
   "metadata": {},
   "source": [
    "Look what happens to the coefficients if we make one of the features useless.  We're going to give every one a project grade of 0 so that the model can only use test grades as a predictor."
   ]
  },
  {
   "cell_type": "code",
   "execution_count": null,
   "metadata": {},
   "outputs": [],
   "source": [
    "# Gen data\n",
    "df = pd.DataFrame(\n",
    "    {\"test_grades\": test_grade, \"project_grades\": 0, \"pass_fail\": pass_fail}\n",
    ")\n",
    "\n",
    "df[\"pass\"] = (df[\"pass_fail\"] == \"pass\").astype(int)\n",
    "df = df.drop(columns=[\"pass_fail\"])\n",
    "\n",
    "# Prep data for model\n",
    "X = df.drop(columns=[\"pass\"])\n",
    "y = df[\"pass\"]\n",
    "\n",
    "# Fit model\n",
    "model_compare_coef = SVC(kernel=\"linear\")\n",
    "model_compare_coef.fit(X, y)\n",
    "\n",
    "plot_decision_regions(np.array(X), np.array(y), model_compare_coef)\n",
    "\n",
    "# These axes labels might be different depending\n",
    "# on how you built the dataframe, and the order of columns in it\n",
    "plt.xlabel(\"Test Score\")\n",
    "plt.ylabel(\"Project Score\")\n",
    "plt.legend(loc=\"upper left\")\n",
    "plt.show()"
   ]
  },
  {
   "cell_type": "markdown",
   "metadata": {},
   "source": [
    "With scaled data and a `'linear'` kernel, the magnitude of the coefficients provide an indication of feature importance.  Note these are not intrepreted in the same way as linear regression coefficients."
   ]
  },
  {
   "cell_type": "code",
   "execution_count": null,
   "metadata": {},
   "outputs": [],
   "source": [
    "model_compare_coef.coef_"
   ]
  },
  {
   "cell_type": "markdown",
   "metadata": {},
   "source": [
    "-----\n",
    "\n",
    "Create a dataframe with new records to classify.\n",
    "\n",
    "* For the 1st record, use 90 as the test score and 73 as the project score.\n",
    "* For the 2nd record, use 90 as the test score and 72 as the project score.\n",
    "\n",
    "Make predictions of pass/fail for both of these records and add a column to the dataframe to hold these predictions. Call this column the same thing as the y column in your original dataframe."
   ]
  },
  {
   "cell_type": "code",
   "execution_count": null,
   "metadata": {},
   "outputs": [],
   "source": []
  },
  {
   "cell_type": "markdown",
   "metadata": {},
   "source": [
    "Combine this dataframe with the original one and replot the decision boundary with these 2 points included."
   ]
  },
  {
   "cell_type": "code",
   "execution_count": null,
   "metadata": {},
   "outputs": [],
   "source": []
  },
  {
   "cell_type": "markdown",
   "metadata": {
    "hideCode": true,
    "hideOutput": false
   },
   "source": [
    "Re-plot the decision boundary and include these 2 new points."
   ]
  },
  {
   "cell_type": "code",
   "execution_count": null,
   "metadata": {},
   "outputs": [],
   "source": [
    "plot_decision_regions(____)\n",
    "\n",
    "# These axes labels might be different depending\n",
    "# on how you built the dataframe, and the order of columns in it\n",
    "plt.xlabel(\"Test Score\")\n",
    "plt.ylabel(\"Project Score\")\n",
    "plt.legend(loc=\"upper left\")\n",
    "plt.show()"
   ]
  }
 ],
 "metadata": {
  "kernelspec": {
   "display_name": "Python 3",
   "language": "python",
   "name": "python3"
  },
  "language_info": {
   "codemirror_mode": {
    "name": "ipython",
    "version": 3
   },
   "file_extension": ".py",
   "mimetype": "text/x-python",
   "name": "python",
   "nbconvert_exporter": "python",
   "pygments_lexer": "ipython3",
   "version": "3.7.6"
  }
 },
 "nbformat": 4,
 "nbformat_minor": 2
}
