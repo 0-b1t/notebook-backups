{
 "cells": [
  {
   "cell_type": "code",
   "execution_count": 1,
   "metadata": {},
   "outputs": [
    {
     "data": {
      "application/javascript": [
       "\n",
       "            setTimeout(function() {\n",
       "                var nbb_cell_id = 1;\n",
       "                var nbb_unformatted_code = \"%reload_ext nb_black\";\n",
       "                var nbb_formatted_code = \"%reload_ext nb_black\";\n",
       "                var nbb_cells = Jupyter.notebook.get_cells();\n",
       "                for (var i = 0; i < nbb_cells.length; ++i) {\n",
       "                    if (nbb_cells[i].input_prompt_number == nbb_cell_id) {\n",
       "                        if (nbb_cells[i].get_text() == nbb_unformatted_code) {\n",
       "                             nbb_cells[i].set_text(nbb_formatted_code);\n",
       "                        }\n",
       "                        break;\n",
       "                    }\n",
       "                }\n",
       "            }, 500);\n",
       "            "
      ],
      "text/plain": [
       "<IPython.core.display.Javascript object>"
      ]
     },
     "metadata": {},
     "output_type": "display_data"
    }
   ],
   "source": [
    "%reload_ext nb_black"
   ]
  },
  {
   "cell_type": "code",
   "execution_count": 2,
   "metadata": {},
   "outputs": [
    {
     "data": {
      "application/javascript": [
       "\n",
       "            setTimeout(function() {\n",
       "                var nbb_cell_id = 2;\n",
       "                var nbb_unformatted_code = \"import pandas as pd\\nimport numpy as np\\n\\nfrom sklearn.preprocessing import scale\\nfrom sklearn.linear_model import LinearRegression\\nfrom sklearn.svm import SVC, SVR\\n\\nimport seaborn as sns\\nimport matplotlib.pyplot as plt\\n\\n%matplotlib inline\";\n",
       "                var nbb_formatted_code = \"import pandas as pd\\nimport numpy as np\\n\\nfrom sklearn.preprocessing import scale\\nfrom sklearn.linear_model import LinearRegression\\nfrom sklearn.svm import SVC, SVR\\n\\nimport seaborn as sns\\nimport matplotlib.pyplot as plt\\n\\n%matplotlib inline\";\n",
       "                var nbb_cells = Jupyter.notebook.get_cells();\n",
       "                for (var i = 0; i < nbb_cells.length; ++i) {\n",
       "                    if (nbb_cells[i].input_prompt_number == nbb_cell_id) {\n",
       "                        if (nbb_cells[i].get_text() == nbb_unformatted_code) {\n",
       "                             nbb_cells[i].set_text(nbb_formatted_code);\n",
       "                        }\n",
       "                        break;\n",
       "                    }\n",
       "                }\n",
       "            }, 500);\n",
       "            "
      ],
      "text/plain": [
       "<IPython.core.display.Javascript object>"
      ]
     },
     "metadata": {},
     "output_type": "display_data"
    }
   ],
   "source": [
    "import pandas as pd\n",
    "import numpy as np\n",
    "\n",
    "from sklearn.preprocessing import scale\n",
    "from sklearn.linear_model import LinearRegression\n",
    "from sklearn.svm import SVC\n",
    "\n",
    "import seaborn as sns\n",
    "import matplotlib.pyplot as plt\n",
    "\n",
    "%matplotlib inline"
   ]
  },
  {
   "cell_type": "markdown",
   "metadata": {},
   "source": [
    "Generating some positively correlated data with a clear trend"
   ]
  },
  {
   "cell_type": "code",
   "execution_count": 3,
   "metadata": {},
   "outputs": [
    {
     "data": {
      "application/javascript": [
       "\n",
       "            setTimeout(function() {\n",
       "                var nbb_cell_id = 3;\n",
       "                var nbb_unformatted_code = \"np.random.seed(42)\\n\\nn = 30\\n\\nx = np.arange(n)\\ny = x + 20 * np.random.random(n)\\n\\ndf = pd.DataFrame({\\\"x\\\": scale(x), \\\"y\\\": scale(y)})\";\n",
       "                var nbb_formatted_code = \"np.random.seed(42)\\n\\nn = 30\\n\\nx = np.arange(n)\\ny = x + 20 * np.random.random(n)\\n\\ndf = pd.DataFrame({\\\"x\\\": scale(x), \\\"y\\\": scale(y)})\";\n",
       "                var nbb_cells = Jupyter.notebook.get_cells();\n",
       "                for (var i = 0; i < nbb_cells.length; ++i) {\n",
       "                    if (nbb_cells[i].input_prompt_number == nbb_cell_id) {\n",
       "                        if (nbb_cells[i].get_text() == nbb_unformatted_code) {\n",
       "                             nbb_cells[i].set_text(nbb_formatted_code);\n",
       "                        }\n",
       "                        break;\n",
       "                    }\n",
       "                }\n",
       "            }, 500);\n",
       "            "
      ],
      "text/plain": [
       "<IPython.core.display.Javascript object>"
      ]
     },
     "metadata": {},
     "output_type": "display_data"
    }
   ],
   "source": [
    "np.random.seed(42)\n",
    "\n",
    "n = 30\n",
    "\n",
    "x = np.arange(n)\n",
    "y = x + 20 * np.random.random(n)\n",
    "\n",
    "df = pd.DataFrame({\"x\": scale(x), \"y\": scale(y)})"
   ]
  },
  {
   "cell_type": "code",
   "execution_count": 4,
   "metadata": {},
   "outputs": [
    {
     "data": {
      "image/png": "[encoded data removed]",
      "text/plain": [
       "<Figure size 432x288 with 1 Axes>"
      ]
     },
     "metadata": {
      "needs_background": "light"
     },
     "output_type": "display_data"
    },
    {
     "data": {
      "application/javascript": [
       "\n",
       "            setTimeout(function() {\n",
       "                var nbb_cell_id = 4;\n",
       "                var nbb_unformatted_code = \"sns.scatterplot(\\\"x\\\", \\\"y\\\", data=df)\\nplt.show()\";\n",
       "                var nbb_formatted_code = \"sns.scatterplot(\\\"x\\\", \\\"y\\\", data=df)\\nplt.show()\";\n",
       "                var nbb_cells = Jupyter.notebook.get_cells();\n",
       "                for (var i = 0; i < nbb_cells.length; ++i) {\n",
       "                    if (nbb_cells[i].input_prompt_number == nbb_cell_id) {\n",
       "                        if (nbb_cells[i].get_text() == nbb_unformatted_code) {\n",
       "                             nbb_cells[i].set_text(nbb_formatted_code);\n",
       "                        }\n",
       "                        break;\n",
       "                    }\n",
       "                }\n",
       "            }, 500);\n",
       "            "
      ],
      "text/plain": [
       "<IPython.core.display.Javascript object>"
      ]
     },
     "metadata": {},
     "output_type": "display_data"
    }
   ],
   "source": [
    "sns.scatterplot(\"x\", \"y\", data=df)\n",
    "plt.show()"
   ]
  },
  {
   "cell_type": "markdown",
   "metadata": {},
   "source": [
    "We're going to fit a linear regression. Thanks to minimizing error and the nature of this data, the line should put about half of the points above/below the line.  We'll use this to create labels for the data points (class 0 & 1).  Then we'll fit an `SVC`, the data should be perfectly separable and with a high value of `C`, the decision boundary should match the line drawn by OLS."
   ]
  },
  {
   "cell_type": "code",
   "execution_count": 5,
   "metadata": {},
   "outputs": [
    {
     "data": {
      "application/javascript": [
       "\n",
       "            setTimeout(function() {\n",
       "                var nbb_cell_id = 5;\n",
       "                var nbb_unformatted_code = \"X = df[[\\\"x\\\"]]\\ny = df[\\\"y\\\"]\\n\\nlm = LinearRegression()\\nlm.fit(X, y)\\n\\n# Storing predictions to draw line\\ndf[\\\"lm_y\\\"] = lm.predict(X)\\n\\n# Create labels based on sign of residual\\nresid = df[\\\"lm_y\\\"] - y\\ndf[\\\"label_bin\\\"] = (resid > 0).astype(int)\\ndf[\\\"label\\\"] = df[\\\"label_bin\\\"]\\ndf.loc[df[\\\"label\\\"] == 0, \\\"label\\\"] = -1\";\n",
       "                var nbb_formatted_code = \"X = df[[\\\"x\\\"]]\\ny = df[\\\"y\\\"]\\n\\nlm = LinearRegression()\\nlm.fit(X, y)\\n\\n# Storing predictions to draw line\\ndf[\\\"lm_y\\\"] = lm.predict(X)\\n\\n# Create labels based on sign of residual\\nresid = df[\\\"lm_y\\\"] - y\\ndf[\\\"label_bin\\\"] = (resid > 0).astype(int)\\ndf[\\\"label\\\"] = df[\\\"label_bin\\\"]\\ndf.loc[df[\\\"label\\\"] == 0, \\\"label\\\"] = -1\";\n",
       "                var nbb_cells = Jupyter.notebook.get_cells();\n",
       "                for (var i = 0; i < nbb_cells.length; ++i) {\n",
       "                    if (nbb_cells[i].input_prompt_number == nbb_cell_id) {\n",
       "                        if (nbb_cells[i].get_text() == nbb_unformatted_code) {\n",
       "                             nbb_cells[i].set_text(nbb_formatted_code);\n",
       "                        }\n",
       "                        break;\n",
       "                    }\n",
       "                }\n",
       "            }, 500);\n",
       "            "
      ],
      "text/plain": [
       "<IPython.core.display.Javascript object>"
      ]
     },
     "metadata": {},
     "output_type": "display_data"
    }
   ],
   "source": [
    "X = df[[\"x\"]]\n",
    "y = df[\"y\"]\n",
    "\n",
    "lm = LinearRegression()\n",
    "lm.fit(X, y)\n",
    "\n",
    "# Storing predictions to draw line\n",
    "df[\"lm_y\"] = lm.predict(X)\n",
    "\n",
    "# Create labels based on sign of residual\n",
    "resid = df[\"lm_y\"] - y\n",
    "df[\"label_bin\"] = (resid > 0).astype(int)\n",
    "df[\"label\"] = df[\"label_bin\"]\n",
    "df.loc[df[\"label\"] == 0, \"label\"] = -1"
   ]
  },
  {
   "cell_type": "code",
   "execution_count": 6,
   "metadata": {},
   "outputs": [
    {
     "data": {
      "image/png": "[encoded data removed]",
      "text/plain": [
       "<Figure size 432x288 with 1 Axes>"
      ]
     },
     "metadata": {
      "needs_background": "light"
     },
     "output_type": "display_data"
    },
    {
     "data": {
      "application/javascript": [
       "\n",
       "            setTimeout(function() {\n",
       "                var nbb_cell_id = 6;\n",
       "                var nbb_unformatted_code = \"sns.scatterplot(\\\"x\\\", \\\"y\\\", hue=\\\"label_bin\\\", style=\\\"label\\\", markers=[\\\"_\\\", \\\"+\\\"], data=df)\\nplt.plot(df[\\\"x\\\"], df[\\\"lm_y\\\"], \\\"--\\\", c=\\\"gray\\\", label=\\\"OLS\\\")\\nplt.legend().remove()\\nplt.show()\";\n",
       "                var nbb_formatted_code = \"sns.scatterplot(\\\"x\\\", \\\"y\\\", hue=\\\"label_bin\\\", style=\\\"label\\\", markers=[\\\"_\\\", \\\"+\\\"], data=df)\\nplt.plot(df[\\\"x\\\"], df[\\\"lm_y\\\"], \\\"--\\\", c=\\\"gray\\\", label=\\\"OLS\\\")\\nplt.legend().remove()\\nplt.show()\";\n",
       "                var nbb_cells = Jupyter.notebook.get_cells();\n",
       "                for (var i = 0; i < nbb_cells.length; ++i) {\n",
       "                    if (nbb_cells[i].input_prompt_number == nbb_cell_id) {\n",
       "                        if (nbb_cells[i].get_text() == nbb_unformatted_code) {\n",
       "                             nbb_cells[i].set_text(nbb_formatted_code);\n",
       "                        }\n",
       "                        break;\n",
       "                    }\n",
       "                }\n",
       "            }, 500);\n",
       "            "
      ],
      "text/plain": [
       "<IPython.core.display.Javascript object>"
      ]
     },
     "metadata": {},
     "output_type": "display_data"
    }
   ],
   "source": [
    "sns.scatterplot(\"x\", \"y\", hue=\"label_bin\", style=\"label\", markers=[\"_\", \"+\"], data=df)\n",
    "plt.plot(df[\"x\"], df[\"lm_y\"], \"--\", c=\"gray\", label=\"OLS\")\n",
    "plt.legend().remove()\n",
    "plt.show()"
   ]
  },
  {
   "cell_type": "markdown",
   "metadata": {},
   "source": [
    "Let's go ahead and fit an SVC.  We have some points very close to the OLS line.  In order for the decision boundary of SVC to match the OLS line we need it to have a high `C`."
   ]
  },
  {
   "cell_type": "code",
   "execution_count": 7,
   "metadata": {},
   "outputs": [
    {
     "data": {
      "text/plain": [
       "array([[ 13.46222138, -14.62333034]])"
      ]
     },
     "execution_count": 7,
     "metadata": {},
     "output_type": "execute_result"
    },
    {
     "data": {
      "application/javascript": [
       "\n",
       "            setTimeout(function() {\n",
       "                var nbb_cell_id = 7;\n",
       "                var nbb_unformatted_code = \"X = df[[\\\"x\\\", \\\"y\\\"]]\\ny = df[\\\"label_bin\\\"]\\n\\nsvc = SVC(C=100000, kernel=\\\"linear\\\")\\nsvc.fit(X, y)\\n\\nsvc.coef_\";\n",
       "                var nbb_formatted_code = \"X = df[[\\\"x\\\", \\\"y\\\"]]\\ny = df[\\\"label_bin\\\"]\\n\\nsvc = SVC(C=100000, kernel=\\\"linear\\\")\\nsvc.fit(X, y)\\n\\nsvc.coef_\";\n",
       "                var nbb_cells = Jupyter.notebook.get_cells();\n",
       "                for (var i = 0; i < nbb_cells.length; ++i) {\n",
       "                    if (nbb_cells[i].input_prompt_number == nbb_cell_id) {\n",
       "                        if (nbb_cells[i].get_text() == nbb_unformatted_code) {\n",
       "                             nbb_cells[i].set_text(nbb_formatted_code);\n",
       "                        }\n",
       "                        break;\n",
       "                    }\n",
       "                }\n",
       "            }, 500);\n",
       "            "
      ],
      "text/plain": [
       "<IPython.core.display.Javascript object>"
      ]
     },
     "metadata": {},
     "output_type": "display_data"
    }
   ],
   "source": [
    "X = df[[\"x\", \"y\"]]\n",
    "y = df[\"label_bin\"]\n",
    "\n",
    "svc = SVC(C=100000, kernel=\"linear\")\n",
    "svc.fit(X, y)\n",
    "\n",
    "svc.coef_"
   ]
  },
  {
   "cell_type": "code",
   "execution_count": 8,
   "metadata": {},
   "outputs": [
    {
     "data": {
      "text/plain": [
       "array([-1.16876035])"
      ]
     },
     "execution_count": 8,
     "metadata": {},
     "output_type": "execute_result"
    },
    {
     "data": {
      "application/javascript": [
       "\n",
       "            setTimeout(function() {\n",
       "                var nbb_cell_id = 8;\n",
       "                var nbb_unformatted_code = \"svc.intercept_\";\n",
       "                var nbb_formatted_code = \"svc.intercept_\";\n",
       "                var nbb_cells = Jupyter.notebook.get_cells();\n",
       "                for (var i = 0; i < nbb_cells.length; ++i) {\n",
       "                    if (nbb_cells[i].input_prompt_number == nbb_cell_id) {\n",
       "                        if (nbb_cells[i].get_text() == nbb_unformatted_code) {\n",
       "                             nbb_cells[i].set_text(nbb_formatted_code);\n",
       "                        }\n",
       "                        break;\n",
       "                    }\n",
       "                }\n",
       "            }, 500);\n",
       "            "
      ],
      "text/plain": [
       "<IPython.core.display.Javascript object>"
      ]
     },
     "metadata": {},
     "output_type": "display_data"
    }
   ],
   "source": [
    "svc.intercept_"
   ]
  },
  {
   "cell_type": "markdown",
   "metadata": {},
   "source": [
    "Our formula for prediction:\n",
    "\n",
    "$$-1.17 + (13.46) * x + (-14.62) * y$$\n",
    "\n",
    "If we plug in our features and we get out a number greater than 0, we will predict the positive class; a number less than 0 and we will predict the negative class.\n",
    "\n",
    "Note, this is our threshold for classification.  SVC actually tried to do better. More on that below.\n",
    "\n",
    "For linear SVC, interpreting coefficients is not the same as in linear or logistic regression.  There are some things we can take away:\n",
    "* The objective of SVC is minimize these coefficients as long as it doesn't lead to poor predictions, this means the size of the coefficients is an indication of importance.\n",
    "* The sign can give some indication of which class the feature is associated with, for example `y` has a negative coefficient and if you inspect the plot you'll see that a higher y is associated with the negative class (class 0).  However, take note that this style of interpretation doesn't perfectly hold for `x`'s coefficient (we don't see much indication of class based on `x`)"
   ]
  },
  {
   "cell_type": "code",
   "execution_count": 9,
   "metadata": {},
   "outputs": [
    {
     "data": {
      "text/plain": [
       "0"
      ]
     },
     "execution_count": 9,
     "metadata": {},
     "output_type": "execute_result"
    },
    {
     "data": {
      "application/javascript": [
       "\n",
       "            setTimeout(function() {\n",
       "                var nbb_cell_id = 9;\n",
       "                var nbb_unformatted_code = \"# Extract coefficients and intercept\\nw1 = svc.coef_[0][0]\\nw2 = svc.coef_[0][1]\\nb = svc.intercept_[0]\\n\\n# Apply formula\\ndf[\\\"pred\\\"] = b + w1 * df[\\\"x\\\"] + w2 * df[\\\"y\\\"]\\n\\n# Convert outputted value to label\\ndf[\\\"pred_label\\\"] = (df[\\\"pred\\\"] > 0).astype(int)\\ndf.loc[df[\\\"pred_label\\\"] == 0, \\\"pred_label\\\"] = -1\\n\\n# Prove zero mistakes\\n(df[\\\"label\\\"] != df[\\\"pred_label\\\"]).sum()\";\n",
       "                var nbb_formatted_code = \"# Extract coefficients and intercept\\nw1 = svc.coef_[0][0]\\nw2 = svc.coef_[0][1]\\nb = svc.intercept_[0]\\n\\n# Apply formula\\ndf[\\\"pred\\\"] = b + w1 * df[\\\"x\\\"] + w2 * df[\\\"y\\\"]\\n\\n# Convert outputted value to label\\ndf[\\\"pred_label\\\"] = (df[\\\"pred\\\"] > 0).astype(int)\\ndf.loc[df[\\\"pred_label\\\"] == 0, \\\"pred_label\\\"] = -1\\n\\n# Prove zero mistakes\\n(df[\\\"label\\\"] != df[\\\"pred_label\\\"]).sum()\";\n",
       "                var nbb_cells = Jupyter.notebook.get_cells();\n",
       "                for (var i = 0; i < nbb_cells.length; ++i) {\n",
       "                    if (nbb_cells[i].input_prompt_number == nbb_cell_id) {\n",
       "                        if (nbb_cells[i].get_text() == nbb_unformatted_code) {\n",
       "                             nbb_cells[i].set_text(nbb_formatted_code);\n",
       "                        }\n",
       "                        break;\n",
       "                    }\n",
       "                }\n",
       "            }, 500);\n",
       "            "
      ],
      "text/plain": [
       "<IPython.core.display.Javascript object>"
      ]
     },
     "metadata": {},
     "output_type": "display_data"
    }
   ],
   "source": [
    "# Extract coefficients and intercept\n",
    "w1 = svc.coef_[0][0]\n",
    "w2 = svc.coef_[0][1]\n",
    "b = svc.intercept_[0]\n",
    "\n",
    "# Apply formula\n",
    "df[\"pred\"] = b + w1 * df[\"x\"] + w2 * df[\"y\"]\n",
    "\n",
    "# Convert outputted value to label\n",
    "df[\"pred_label\"] = (df[\"pred\"] > 0).astype(int)\n",
    "df.loc[df[\"pred_label\"] == 0, \"pred_label\"] = -1\n",
    "\n",
    "# Prove zero mistakes\n",
    "(df[\"label\"] != df[\"pred_label\"]).sum()"
   ]
  },
  {
   "cell_type": "markdown",
   "metadata": {},
   "source": [
    "The objective of SVC is to minimize the following:\n",
    "\n",
    "$$\\frac{1}{2}||w||^2 + C \\sum_i{max(0, 1 - y_i(w^Tx_i + b))}$$ \n",
    "\n",
    "Dictionary:\n",
    "* $w$ is the coefficients\n",
    "* $||w||$ is the magnitude of the coefficients\n",
    "* $C$ is a hyperparameter to address how much slack is allowed to misclassify training samples (too high and chance of overfitting)\n",
    "* $x_i$ is a training sample (feature vector)\n",
    "* $y_i$ is a training sample's true label\n",
    "* $b$ is the intercept\n",
    "\n",
    "Translations:\n",
    "\n",
    "* $\\frac{1}{2}||w||^2$\n",
    "    * Goal: Maximize margin\n",
    "    * Minimizing this expression (given a constraint of perfectly separating the data) is mathematically equivalent to maximizing the margin between the support vectors.\n",
    "    \n",
    "    \n",
    "* $C \\sum_i{max(0, 1 - y_i(w^Tx_i + b))}$\n",
    "    * Goal: Add a penaly for misclassifying training samples\n",
    "    * $w^Tx_i + b$ is the formula we apply to predict new observations. Multiply the features by coefficients and add a constant.  If the result is above 0 we predict 1, otherwise we predict 0.\n",
    "    * Lets say our true label ($y_i$) is 1 and $w^Tx_i + b$ evaluates to -2.  Then $max(0, 1 - (1)(-2))$ is 3 (adding some penalty for misclassifying).\n",
    "    * Lets say our true label ($y_i$) is -1 and $w^Tx_i + b$ evaluates to -2.  Then $max(0, 1 - (-1)(-2))$ is 0 (adding no penalty for misclassifying).\n",
    "    \n",
    "    \n",
    "------\n",
    "\n",
    "Written out in code for our example."
   ]
  },
  {
   "cell_type": "code",
   "execution_count": 10,
   "metadata": {},
   "outputs": [
    {
     "data": {
      "application/javascript": [
       "\n",
       "            setTimeout(function() {\n",
       "                var nbb_cell_id = 10;\n",
       "                var nbb_unformatted_code = \"def svc_objective(X, y, w, b, C):\\n    # 1/2 * ||w||^2\\n    weight_size = (1 / 2) * np.linalg.norm(w) ** 2\\n\\n    # C * sum(max(0, 1\\u2212y(wt * xi + b)))\\n\\n    # 1\\u2212y(wt * xi + b)\\n    penalties = 1 - y * (np.dot(X, w.T) + b)\\n    # max(0, penalties)\\n    penalties = np.clip(penalties, 0, np.inf)\\n    penalty = C * np.sum(penalties)\\n\\n    value = weight_size + penalty\\n\\n    return value, weight_size, penalty\";\n",
       "                var nbb_formatted_code = \"def svc_objective(X, y, w, b, C):\\n    # 1/2 * ||w||^2\\n    weight_size = (1 / 2) * np.linalg.norm(w) ** 2\\n\\n    # C * sum(max(0, 1\\u2212y(wt * xi + b)))\\n\\n    # 1\\u2212y(wt * xi + b)\\n    penalties = 1 - y * (np.dot(X, w.T) + b)\\n    # max(0, penalties)\\n    penalties = np.clip(penalties, 0, np.inf)\\n    penalty = C * np.sum(penalties)\\n\\n    value = weight_size + penalty\\n\\n    return value, weight_size, penalty\";\n",
       "                var nbb_cells = Jupyter.notebook.get_cells();\n",
       "                for (var i = 0; i < nbb_cells.length; ++i) {\n",
       "                    if (nbb_cells[i].input_prompt_number == nbb_cell_id) {\n",
       "                        if (nbb_cells[i].get_text() == nbb_unformatted_code) {\n",
       "                             nbb_cells[i].set_text(nbb_formatted_code);\n",
       "                        }\n",
       "                        break;\n",
       "                    }\n",
       "                }\n",
       "            }, 500);\n",
       "            "
      ],
      "text/plain": [
       "<IPython.core.display.Javascript object>"
      ]
     },
     "metadata": {},
     "output_type": "display_data"
    }
   ],
   "source": [
    "def svc_objective(X, y, w, b, C):\n",
    "    # 1/2 * ||w||^2\n",
    "    weight_size = (1 / 2) * np.linalg.norm(w) ** 2\n",
    "\n",
    "    # C * sum(max(0, 1−y(wt * xi + b)))\n",
    "\n",
    "    # 1−y(wt * xi + b)\n",
    "    penalties = 1 - y * (np.dot(X, w.T) + b)\n",
    "    # max(0, penalties)\n",
    "    penalties = np.clip(penalties, 0, np.inf)\n",
    "    penalty = C * np.sum(penalties)\n",
    "\n",
    "    value = weight_size + penalty\n",
    "\n",
    "    return value, weight_size, penalty"
   ]
  },
  {
   "cell_type": "code",
   "execution_count": 11,
   "metadata": {},
   "outputs": [
    {
     "name": "stdout",
     "output_type": "stream",
     "text": [
      "margin component: 197.54\n",
      "misclassifcation component: 133.60\n",
      "total objective: 331.14\n"
     ]
    },
    {
     "data": {
      "application/javascript": [
       "\n",
       "            setTimeout(function() {\n",
       "                var nbb_cell_id = 11;\n",
       "                var nbb_unformatted_code = \"X = df[[\\\"x\\\", \\\"y\\\"]].values\\ny = df[[\\\"label\\\"]].values\\n\\nw = svc.coef_\\nb = svc.intercept_\\n\\nC = 100000\\n\\nvalue, margin, misclassifcation = svc_objective(X, y, w, b, C)\\n\\nprint(f\\\"margin component: {margin:.2f}\\\")\\nprint(f\\\"misclassifcation component: {misclassifcation:.2f}\\\")\\nprint(f\\\"total objective: {value:.2f}\\\")\";\n",
       "                var nbb_formatted_code = \"X = df[[\\\"x\\\", \\\"y\\\"]].values\\ny = df[[\\\"label\\\"]].values\\n\\nw = svc.coef_\\nb = svc.intercept_\\n\\nC = 100000\\n\\nvalue, margin, misclassifcation = svc_objective(X, y, w, b, C)\\n\\nprint(f\\\"margin component: {margin:.2f}\\\")\\nprint(f\\\"misclassifcation component: {misclassifcation:.2f}\\\")\\nprint(f\\\"total objective: {value:.2f}\\\")\";\n",
       "                var nbb_cells = Jupyter.notebook.get_cells();\n",
       "                for (var i = 0; i < nbb_cells.length; ++i) {\n",
       "                    if (nbb_cells[i].input_prompt_number == nbb_cell_id) {\n",
       "                        if (nbb_cells[i].get_text() == nbb_unformatted_code) {\n",
       "                             nbb_cells[i].set_text(nbb_formatted_code);\n",
       "                        }\n",
       "                        break;\n",
       "                    }\n",
       "                }\n",
       "            }, 500);\n",
       "            "
      ],
      "text/plain": [
       "<IPython.core.display.Javascript object>"
      ]
     },
     "metadata": {},
     "output_type": "display_data"
    }
   ],
   "source": [
    "X = df[[\"x\", \"y\"]].values\n",
    "y = df[[\"label\"]].values\n",
    "\n",
    "w = svc.coef_\n",
    "b = svc.intercept_\n",
    "\n",
    "C = 100000\n",
    "\n",
    "value, margin, misclassifcation = svc_objective(X, y, w, b, C)\n",
    "\n",
    "print(f\"margin component: {margin:.2f}\")\n",
    "print(f\"misclassifcation component: {misclassifcation:.2f}\")\n",
    "print(f\"total objective: {value:.2f}\")"
   ]
  },
  {
   "cell_type": "markdown",
   "metadata": {},
   "source": [
    "We technically didn't have any mistakes, but we classified based on being greater or less than `0`.  SVC's goal is to have all the negative observations have an outputted value `<= -1` and all the positive observations have an outputted value `>= 1`.  We had some observations with absolute values below 1 so we see some penalty here for it and our very large `C` scaled up the penalty a lot.\n",
    "\n",
    "---\n",
    "\n",
    "Compare to other coefficients.  We should always see a higher number for the final output in this case."
   ]
  },
  {
   "cell_type": "code",
   "execution_count": 12,
   "metadata": {},
   "outputs": [
    {
     "name": "stdout",
     "output_type": "stream",
     "text": [
      "coefficients used: [[ 13.46222138 -14.62333034]]\n",
      "\n",
      "margin component: 786.89\n",
      "misclassifcation component: 66865602.37\n",
      "total objective: 66866389.26\n"
     ]
    },
    {
     "data": {
      "application/javascript": [
       "\n",
       "            setTimeout(function() {\n",
       "                var nbb_cell_id = 12;\n",
       "                var nbb_unformatted_code = \"w_random = np.random.normal(0, 20, size=(1, 2))\\n\\nvalue, margin, misclassifcation = svc_objective(X, y, w_random, b, C)\\n\\nprint(f\\\"coefficients used: {w}\\\\n\\\")\\n\\nprint(f\\\"margin component: {margin:.2f}\\\")\\nprint(f\\\"misclassifcation component: {misclassifcation:.2f}\\\")\\nprint(f\\\"total objective: {value:.2f}\\\")\";\n",
       "                var nbb_formatted_code = \"w_random = np.random.normal(0, 20, size=(1, 2))\\n\\nvalue, margin, misclassifcation = svc_objective(X, y, w_random, b, C)\\n\\nprint(f\\\"coefficients used: {w}\\\\n\\\")\\n\\nprint(f\\\"margin component: {margin:.2f}\\\")\\nprint(f\\\"misclassifcation component: {misclassifcation:.2f}\\\")\\nprint(f\\\"total objective: {value:.2f}\\\")\";\n",
       "                var nbb_cells = Jupyter.notebook.get_cells();\n",
       "                for (var i = 0; i < nbb_cells.length; ++i) {\n",
       "                    if (nbb_cells[i].input_prompt_number == nbb_cell_id) {\n",
       "                        if (nbb_cells[i].get_text() == nbb_unformatted_code) {\n",
       "                             nbb_cells[i].set_text(nbb_formatted_code);\n",
       "                        }\n",
       "                        break;\n",
       "                    }\n",
       "                }\n",
       "            }, 500);\n",
       "            "
      ],
      "text/plain": [
       "<IPython.core.display.Javascript object>"
      ]
     },
     "metadata": {},
     "output_type": "display_data"
    }
   ],
   "source": [
    "w_random = np.random.normal(0, 20, size=(1, 2))\n",
    "\n",
    "value, margin, misclassifcation = svc_objective(X, y, w_random, b, C)\n",
    "\n",
    "print(f\"coefficients used: {w}\\n\")\n",
    "\n",
    "print(f\"margin component: {margin:.2f}\")\n",
    "print(f\"misclassifcation component: {misclassifcation:.2f}\")\n",
    "print(f\"total objective: {value:.2f}\")"
   ]
  },
  {
   "cell_type": "markdown",
   "metadata": {},
   "source": [
    "We can minimize the first portion of the objective by using 0s as coefficients, but this comes with a big increase in the second half of the objective that focuses on mistakes."
   ]
  },
  {
   "cell_type": "code",
   "execution_count": 13,
   "metadata": {},
   "outputs": [
    {
     "name": "stdout",
     "output_type": "stream",
     "text": [
      "coefficients used: [[0 0]]\n",
      "\n",
      "margin component: 0.00\n",
      "misclassifcation component: 3253140.52\n",
      "total objective: 3253140.52\n"
     ]
    },
    {
     "data": {
      "application/javascript": [
       "\n",
       "            setTimeout(function() {\n",
       "                var nbb_cell_id = 13;\n",
       "                var nbb_unformatted_code = \"w_zero = np.array([[0, 0]])\\n\\nvalue, margin, misclassifcation = svc_objective(X, y, w_zero, b, C)\\n\\nprint(f\\\"coefficients used: {w_zero}\\\\n\\\")\\n\\nprint(f\\\"margin component: {margin:.2f}\\\")\\nprint(f\\\"misclassifcation component: {misclassifcation:.2f}\\\")\\nprint(f\\\"total objective: {value:.2f}\\\")\";\n",
       "                var nbb_formatted_code = \"w_zero = np.array([[0, 0]])\\n\\nvalue, margin, misclassifcation = svc_objective(X, y, w_zero, b, C)\\n\\nprint(f\\\"coefficients used: {w_zero}\\\\n\\\")\\n\\nprint(f\\\"margin component: {margin:.2f}\\\")\\nprint(f\\\"misclassifcation component: {misclassifcation:.2f}\\\")\\nprint(f\\\"total objective: {value:.2f}\\\")\";\n",
       "                var nbb_cells = Jupyter.notebook.get_cells();\n",
       "                for (var i = 0; i < nbb_cells.length; ++i) {\n",
       "                    if (nbb_cells[i].input_prompt_number == nbb_cell_id) {\n",
       "                        if (nbb_cells[i].get_text() == nbb_unformatted_code) {\n",
       "                             nbb_cells[i].set_text(nbb_formatted_code);\n",
       "                        }\n",
       "                        break;\n",
       "                    }\n",
       "                }\n",
       "            }, 500);\n",
       "            "
      ],
      "text/plain": [
       "<IPython.core.display.Javascript object>"
      ]
     },
     "metadata": {},
     "output_type": "display_data"
    }
   ],
   "source": [
    "w_zero = np.array([[0, 0]])\n",
    "\n",
    "value, margin, misclassifcation = svc_objective(X, y, w_zero, b, C)\n",
    "\n",
    "print(f\"coefficients used: {w_zero}\\n\")\n",
    "\n",
    "print(f\"margin component: {margin:.2f}\")\n",
    "print(f\"misclassifcation component: {misclassifcation:.2f}\")\n",
    "print(f\"total objective: {value:.2f}\")"
   ]
  },
  {
   "cell_type": "markdown",
   "metadata": {},
   "source": [
    "If you don't care about mistakes you could set `C` low."
   ]
  },
  {
   "cell_type": "code",
   "execution_count": 14,
   "metadata": {},
   "outputs": [
    {
     "name": "stdout",
     "output_type": "stream",
     "text": [
      "coefficients used: [[0 0]]\n",
      "\n",
      "margin component: 0.00\n",
      "misclassifcation component: 0.33\n",
      "total objective: 0.33\n"
     ]
    },
    {
     "data": {
      "application/javascript": [
       "\n",
       "            setTimeout(function() {\n",
       "                var nbb_cell_id = 14;\n",
       "                var nbb_unformatted_code = \"w_zero = np.array([[0, 0]])\\nC_low = 0.01\\n\\nvalue, margin, misclassifcation = svc_objective(X, y, w_zero, b, C_low)\\n\\nprint(f\\\"coefficients used: {w_zero}\\\\n\\\")\\n\\nprint(f\\\"margin component: {margin:.2f}\\\")\\nprint(f\\\"misclassifcation component: {misclassifcation:.2f}\\\")\\nprint(f\\\"total objective: {value:.2f}\\\")\";\n",
       "                var nbb_formatted_code = \"w_zero = np.array([[0, 0]])\\nC_low = 0.01\\n\\nvalue, margin, misclassifcation = svc_objective(X, y, w_zero, b, C_low)\\n\\nprint(f\\\"coefficients used: {w_zero}\\\\n\\\")\\n\\nprint(f\\\"margin component: {margin:.2f}\\\")\\nprint(f\\\"misclassifcation component: {misclassifcation:.2f}\\\")\\nprint(f\\\"total objective: {value:.2f}\\\")\";\n",
       "                var nbb_cells = Jupyter.notebook.get_cells();\n",
       "                for (var i = 0; i < nbb_cells.length; ++i) {\n",
       "                    if (nbb_cells[i].input_prompt_number == nbb_cell_id) {\n",
       "                        if (nbb_cells[i].get_text() == nbb_unformatted_code) {\n",
       "                             nbb_cells[i].set_text(nbb_formatted_code);\n",
       "                        }\n",
       "                        break;\n",
       "                    }\n",
       "                }\n",
       "            }, 500);\n",
       "            "
      ],
      "text/plain": [
       "<IPython.core.display.Javascript object>"
      ]
     },
     "metadata": {},
     "output_type": "display_data"
    }
   ],
   "source": [
    "w_zero = np.array([[0, 0]])\n",
    "C_low = 0.01\n",
    "\n",
    "value, margin, misclassifcation = svc_objective(X, y, w_zero, b, C_low)\n",
    "\n",
    "print(f\"coefficients used: {w_zero}\\n\")\n",
    "\n",
    "print(f\"margin component: {margin:.2f}\")\n",
    "print(f\"misclassifcation component: {misclassifcation:.2f}\")\n",
    "print(f\"total objective: {value:.2f}\")"
   ]
  },
  {
   "cell_type": "markdown",
   "metadata": {},
   "source": [
    "As far as SVC thinks, this is a better solution given the parameters.  We told it to minimze the coefficients and that we don't care about misclassifications.  This just shows the importance of optimizing your value of `C`.  SVC's goal is to minimize the objective, we need to make sure it's objective matches ours."
   ]
  },
  {
   "cell_type": "markdown",
   "metadata": {},
   "source": [
    "What about kernels?\n",
    "\n",
    "Demos show plots of the higher dimensional space, but to show that plot you need to actually calculate all that new data.  In practice, the kernels are directly incorporated into the objective without the actual need to calculate the full kernel space.  \n",
    "\n",
    "This requires rewriting the objective in a different form which won't be done here. In the end we are still minimzing our objective function which means we are after a combination of maximizing the margin and minimizing mistakes in the training data."
   ]
  }
 ],
 "metadata": {
  "kernelspec": {
   "display_name": "Python 3",
   "language": "python",
   "name": "python3"
  },
  "language_info": {
   "codemirror_mode": {
    "name": "ipython",
    "version": 3
   },
   "file_extension": ".py",
   "mimetype": "text/x-python",
   "name": "python",
   "nbconvert_exporter": "python",
   "pygments_lexer": "ipython3",
   "version": "3.7.6"
  }
 },
 "nbformat": 4,
 "nbformat_minor": 2
}
