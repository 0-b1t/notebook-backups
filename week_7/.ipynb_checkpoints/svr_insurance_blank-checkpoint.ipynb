{
 "cells": [
  {
   "cell_type": "markdown",
   "metadata": {},
   "source": [
    "# 🏥 Insurance prices 💰\n",
    "\n",
    "Read more about dataset from [this kaggle page](https://www.kaggle.com/mirichoi0218/insurance).  The original source of the data is not mentioned in the description :(\n",
    "\n",
    "We'll be predicting charges based on some features of the clients.\n",
    "\n",
    "## General EDA and Viz"
   ]
  },
  {
   "cell_type": "code",
   "execution_count": 2,
   "metadata": {},
   "outputs": [
    {
     "data": {
      "application/javascript": [
       "\n",
       "            setTimeout(function() {\n",
       "                var nbb_cell_id = 2;\n",
       "                var nbb_unformatted_code = \"%reload_ext nb_black\";\n",
       "                var nbb_formatted_code = \"%reload_ext nb_black\";\n",
       "                var nbb_cells = Jupyter.notebook.get_cells();\n",
       "                for (var i = 0; i < nbb_cells.length; ++i) {\n",
       "                    if (nbb_cells[i].input_prompt_number == nbb_cell_id) {\n",
       "                        if (nbb_cells[i].get_text() == nbb_unformatted_code) {\n",
       "                             nbb_cells[i].set_text(nbb_formatted_code);\n",
       "                        }\n",
       "                        break;\n",
       "                    }\n",
       "                }\n",
       "            }, 500);\n",
       "            "
      ],
      "text/plain": [
       "<IPython.core.display.Javascript object>"
      ]
     },
     "metadata": {},
     "output_type": "display_data"
    },
    {
     "data": {
      "application/javascript": [
       "\n",
       "            setTimeout(function() {\n",
       "                var nbb_cell_id = 2;\n",
       "                var nbb_unformatted_code = \"%reload_ext nb_black\";\n",
       "                var nbb_formatted_code = \"%reload_ext nb_black\";\n",
       "                var nbb_cells = Jupyter.notebook.get_cells();\n",
       "                for (var i = 0; i < nbb_cells.length; ++i) {\n",
       "                    if (nbb_cells[i].input_prompt_number == nbb_cell_id) {\n",
       "                        if (nbb_cells[i].get_text() == nbb_unformatted_code) {\n",
       "                             nbb_cells[i].set_text(nbb_formatted_code);\n",
       "                        }\n",
       "                        break;\n",
       "                    }\n",
       "                }\n",
       "            }, 500);\n",
       "            "
      ],
      "text/plain": [
       "<IPython.core.display.Javascript object>"
      ]
     },
     "metadata": {},
     "output_type": "display_data"
    }
   ],
   "source": [
    "%reload_ext nb_black"
   ]
  },
  {
   "cell_type": "code",
   "execution_count": 3,
   "metadata": {},
   "outputs": [
    {
     "data": {
      "application/javascript": [
       "\n",
       "            setTimeout(function() {\n",
       "                var nbb_cell_id = 3;\n",
       "                var nbb_unformatted_code = \"import pandas as pd\\nimport numpy as np\\n\\nfrom sklearn.model_selection import train_test_split, GridSearchCV\\nfrom sklearn.preprocessing import MinMaxScaler, StandardScaler, OneHotEncoder\\nfrom sklearn.svm import SVR\\nfrom sklearn.compose import ColumnTransformer\\nfrom sklearn.pipeline import Pipeline\\n\\nimport seaborn as sns\\nimport matplotlib.pyplot as plt\\n\\n%matplotlib inline\\n\\ndata_url = \\\"https://raw.githubusercontent.com/stedy/Machine-Learning-with-R-datasets/master/insurance.csv\\\"\\ninsurance = pd.read_csv(data_url)\";\n",
       "                var nbb_formatted_code = \"import pandas as pd\\nimport numpy as np\\n\\nfrom sklearn.model_selection import train_test_split, GridSearchCV\\nfrom sklearn.preprocessing import MinMaxScaler, StandardScaler, OneHotEncoder\\nfrom sklearn.svm import SVR\\nfrom sklearn.compose import ColumnTransformer\\nfrom sklearn.pipeline import Pipeline\\n\\nimport seaborn as sns\\nimport matplotlib.pyplot as plt\\n\\n%matplotlib inline\\n\\ndata_url = \\\"https://raw.githubusercontent.com/stedy/Machine-Learning-with-R-datasets/master/insurance.csv\\\"\\ninsurance = pd.read_csv(data_url)\";\n",
       "                var nbb_cells = Jupyter.notebook.get_cells();\n",
       "                for (var i = 0; i < nbb_cells.length; ++i) {\n",
       "                    if (nbb_cells[i].input_prompt_number == nbb_cell_id) {\n",
       "                        if (nbb_cells[i].get_text() == nbb_unformatted_code) {\n",
       "                             nbb_cells[i].set_text(nbb_formatted_code);\n",
       "                        }\n",
       "                        break;\n",
       "                    }\n",
       "                }\n",
       "            }, 500);\n",
       "            "
      ],
      "text/plain": [
       "<IPython.core.display.Javascript object>"
      ]
     },
     "metadata": {},
     "output_type": "display_data"
    },
    {
     "data": {
      "application/javascript": [
       "\n",
       "            setTimeout(function() {\n",
       "                var nbb_cell_id = 3;\n",
       "                var nbb_unformatted_code = \"import pandas as pd\\nimport numpy as np\\n\\nfrom sklearn.model_selection import train_test_split, GridSearchCV\\nfrom sklearn.preprocessing import MinMaxScaler, StandardScaler, OneHotEncoder\\nfrom sklearn.svm import SVR\\nfrom sklearn.compose import ColumnTransformer\\nfrom sklearn.pipeline import Pipeline\\n\\nimport seaborn as sns\\nimport matplotlib.pyplot as plt\\n\\n%matplotlib inline\\n\\ndata_url = \\\"https://raw.githubusercontent.com/stedy/Machine-Learning-with-R-datasets/master/insurance.csv\\\"\\ninsurance = pd.read_csv(data_url)\";\n",
       "                var nbb_formatted_code = \"import pandas as pd\\nimport numpy as np\\n\\nfrom sklearn.model_selection import train_test_split, GridSearchCV\\nfrom sklearn.preprocessing import MinMaxScaler, StandardScaler, OneHotEncoder\\nfrom sklearn.svm import SVR\\nfrom sklearn.compose import ColumnTransformer\\nfrom sklearn.pipeline import Pipeline\\n\\nimport seaborn as sns\\nimport matplotlib.pyplot as plt\\n\\n%matplotlib inline\\n\\ndata_url = \\\"https://raw.githubusercontent.com/stedy/Machine-Learning-with-R-datasets/master/insurance.csv\\\"\\ninsurance = pd.read_csv(data_url)\";\n",
       "                var nbb_cells = Jupyter.notebook.get_cells();\n",
       "                for (var i = 0; i < nbb_cells.length; ++i) {\n",
       "                    if (nbb_cells[i].input_prompt_number == nbb_cell_id) {\n",
       "                        if (nbb_cells[i].get_text() == nbb_unformatted_code) {\n",
       "                             nbb_cells[i].set_text(nbb_formatted_code);\n",
       "                        }\n",
       "                        break;\n",
       "                    }\n",
       "                }\n",
       "            }, 500);\n",
       "            "
      ],
      "text/plain": [
       "<IPython.core.display.Javascript object>"
      ]
     },
     "metadata": {},
     "output_type": "display_data"
    }
   ],
   "source": [
    "import pandas as pd\n",
    "import numpy as np\n",
    "\n",
    "from sklearn.model_selection import train_test_split, GridSearchCV\n",
    "from sklearn.preprocessing import MinMaxScaler, StandardScaler, OneHotEncoder\n",
    "from sklearn.svm import SVR\n",
    "from sklearn.compose import ColumnTransformer\n",
    "from sklearn.pipeline import Pipeline\n",
    "\n",
    "import seaborn as sns\n",
    "import matplotlib.pyplot as plt\n",
    "\n",
    "%matplotlib inline\n",
    "\n",
    "data_url = \"https://raw.githubusercontent.com/stedy/Machine-Learning-with-R-datasets/master/insurance.csv\"\n",
    "insurance = pd.read_csv(data_url)"
   ]
  },
  {
   "cell_type": "markdown",
   "metadata": {},
   "source": [
    "Do some general eda to get familiar with what data we have."
   ]
  },
  {
   "cell_type": "code",
   "execution_count": 4,
   "metadata": {},
   "outputs": [
    {
     "data": {
      "text/html": [
       "<div>\n",
       "<style scoped>\n",
       "    .dataframe tbody tr th:only-of-type {\n",
       "        vertical-align: middle;\n",
       "    }\n",
       "\n",
       "    .dataframe tbody tr th {\n",
       "        vertical-align: top;\n",
       "    }\n",
       "\n",
       "    .dataframe thead th {\n",
       "        text-align: right;\n",
       "    }\n",
       "</style>\n",
       "<table border=\"1\" class=\"dataframe\">\n",
       "  <thead>\n",
       "    <tr style=\"text-align: right;\">\n",
       "      <th></th>\n",
       "      <th>age</th>\n",
       "      <th>sex</th>\n",
       "      <th>bmi</th>\n",
       "      <th>children</th>\n",
       "      <th>smoker</th>\n",
       "      <th>region</th>\n",
       "      <th>charges</th>\n",
       "    </tr>\n",
       "  </thead>\n",
       "  <tbody>\n",
       "    <tr>\n",
       "      <th>0</th>\n",
       "      <td>19</td>\n",
       "      <td>female</td>\n",
       "      <td>27.900</td>\n",
       "      <td>0</td>\n",
       "      <td>yes</td>\n",
       "      <td>southwest</td>\n",
       "      <td>16884.92400</td>\n",
       "    </tr>\n",
       "    <tr>\n",
       "      <th>1</th>\n",
       "      <td>18</td>\n",
       "      <td>male</td>\n",
       "      <td>33.770</td>\n",
       "      <td>1</td>\n",
       "      <td>no</td>\n",
       "      <td>southeast</td>\n",
       "      <td>1725.55230</td>\n",
       "    </tr>\n",
       "    <tr>\n",
       "      <th>2</th>\n",
       "      <td>28</td>\n",
       "      <td>male</td>\n",
       "      <td>33.000</td>\n",
       "      <td>3</td>\n",
       "      <td>no</td>\n",
       "      <td>southeast</td>\n",
       "      <td>4449.46200</td>\n",
       "    </tr>\n",
       "    <tr>\n",
       "      <th>3</th>\n",
       "      <td>33</td>\n",
       "      <td>male</td>\n",
       "      <td>22.705</td>\n",
       "      <td>0</td>\n",
       "      <td>no</td>\n",
       "      <td>northwest</td>\n",
       "      <td>21984.47061</td>\n",
       "    </tr>\n",
       "    <tr>\n",
       "      <th>4</th>\n",
       "      <td>32</td>\n",
       "      <td>male</td>\n",
       "      <td>28.880</td>\n",
       "      <td>0</td>\n",
       "      <td>no</td>\n",
       "      <td>northwest</td>\n",
       "      <td>3866.85520</td>\n",
       "    </tr>\n",
       "  </tbody>\n",
       "</table>\n",
       "</div>"
      ],
      "text/plain": [
       "   age     sex     bmi  children smoker     region      charges\n",
       "0   19  female  27.900         0    yes  southwest  16884.92400\n",
       "1   18    male  33.770         1     no  southeast   1725.55230\n",
       "2   28    male  33.000         3     no  southeast   4449.46200\n",
       "3   33    male  22.705         0     no  northwest  21984.47061\n",
       "4   32    male  28.880         0     no  northwest   3866.85520"
      ]
     },
     "execution_count": 4,
     "metadata": {},
     "output_type": "execute_result"
    },
    {
     "data": {
      "application/javascript": [
       "\n",
       "            setTimeout(function() {\n",
       "                var nbb_cell_id = 4;\n",
       "                var nbb_unformatted_code = \"insurance.head()\";\n",
       "                var nbb_formatted_code = \"insurance.head()\";\n",
       "                var nbb_cells = Jupyter.notebook.get_cells();\n",
       "                for (var i = 0; i < nbb_cells.length; ++i) {\n",
       "                    if (nbb_cells[i].input_prompt_number == nbb_cell_id) {\n",
       "                        if (nbb_cells[i].get_text() == nbb_unformatted_code) {\n",
       "                             nbb_cells[i].set_text(nbb_formatted_code);\n",
       "                        }\n",
       "                        break;\n",
       "                    }\n",
       "                }\n",
       "            }, 500);\n",
       "            "
      ],
      "text/plain": [
       "<IPython.core.display.Javascript object>"
      ]
     },
     "metadata": {},
     "output_type": "display_data"
    },
    {
     "data": {
      "application/javascript": [
       "\n",
       "            setTimeout(function() {\n",
       "                var nbb_cell_id = 4;\n",
       "                var nbb_unformatted_code = \"insurance.head()\";\n",
       "                var nbb_formatted_code = \"insurance.head()\";\n",
       "                var nbb_cells = Jupyter.notebook.get_cells();\n",
       "                for (var i = 0; i < nbb_cells.length; ++i) {\n",
       "                    if (nbb_cells[i].input_prompt_number == nbb_cell_id) {\n",
       "                        if (nbb_cells[i].get_text() == nbb_unformatted_code) {\n",
       "                             nbb_cells[i].set_text(nbb_formatted_code);\n",
       "                        }\n",
       "                        break;\n",
       "                    }\n",
       "                }\n",
       "            }, 500);\n",
       "            "
      ],
      "text/plain": [
       "<IPython.core.display.Javascript object>"
      ]
     },
     "metadata": {},
     "output_type": "display_data"
    }
   ],
   "source": [
    "insurance.head()"
   ]
  },
  {
   "cell_type": "code",
   "execution_count": 5,
   "metadata": {},
   "outputs": [
    {
     "data": {
      "application/javascript": [
       "\n",
       "            setTimeout(function() {\n",
       "                var nbb_cell_id = 5;\n",
       "                var nbb_unformatted_code = \"# Converting binary columns to 1s and 0s\\ninsurance[\\\"smoker\\\"] = (insurance[\\\"smoker\\\"] == \\\"yes\\\").astype(int)\\ninsurance[\\\"sex\\\"] = (insurance[\\\"sex\\\"] == \\\"male\\\").astype(int)\";\n",
       "                var nbb_formatted_code = \"# Converting binary columns to 1s and 0s\\ninsurance[\\\"smoker\\\"] = (insurance[\\\"smoker\\\"] == \\\"yes\\\").astype(int)\\ninsurance[\\\"sex\\\"] = (insurance[\\\"sex\\\"] == \\\"male\\\").astype(int)\";\n",
       "                var nbb_cells = Jupyter.notebook.get_cells();\n",
       "                for (var i = 0; i < nbb_cells.length; ++i) {\n",
       "                    if (nbb_cells[i].input_prompt_number == nbb_cell_id) {\n",
       "                        if (nbb_cells[i].get_text() == nbb_unformatted_code) {\n",
       "                             nbb_cells[i].set_text(nbb_formatted_code);\n",
       "                        }\n",
       "                        break;\n",
       "                    }\n",
       "                }\n",
       "            }, 500);\n",
       "            "
      ],
      "text/plain": [
       "<IPython.core.display.Javascript object>"
      ]
     },
     "metadata": {},
     "output_type": "display_data"
    },
    {
     "data": {
      "application/javascript": [
       "\n",
       "            setTimeout(function() {\n",
       "                var nbb_cell_id = 5;\n",
       "                var nbb_unformatted_code = \"# Converting binary columns to 1s and 0s\\ninsurance[\\\"smoker\\\"] = (insurance[\\\"smoker\\\"] == \\\"yes\\\").astype(int)\\ninsurance[\\\"sex\\\"] = (insurance[\\\"sex\\\"] == \\\"male\\\").astype(int)\";\n",
       "                var nbb_formatted_code = \"# Converting binary columns to 1s and 0s\\ninsurance[\\\"smoker\\\"] = (insurance[\\\"smoker\\\"] == \\\"yes\\\").astype(int)\\ninsurance[\\\"sex\\\"] = (insurance[\\\"sex\\\"] == \\\"male\\\").astype(int)\";\n",
       "                var nbb_cells = Jupyter.notebook.get_cells();\n",
       "                for (var i = 0; i < nbb_cells.length; ++i) {\n",
       "                    if (nbb_cells[i].input_prompt_number == nbb_cell_id) {\n",
       "                        if (nbb_cells[i].get_text() == nbb_unformatted_code) {\n",
       "                             nbb_cells[i].set_text(nbb_formatted_code);\n",
       "                        }\n",
       "                        break;\n",
       "                    }\n",
       "                }\n",
       "            }, 500);\n",
       "            "
      ],
      "text/plain": [
       "<IPython.core.display.Javascript object>"
      ]
     },
     "metadata": {},
     "output_type": "display_data"
    }
   ],
   "source": [
    "# Converting binary columns to 1s and 0s\n",
    "insurance[\"smoker\"] = (insurance[\"smoker\"] == \"yes\").astype(int)\n",
    "insurance[\"sex\"] = (insurance[\"sex\"] == \"male\").astype(int)"
   ]
  },
  {
   "cell_type": "code",
   "execution_count": null,
   "metadata": {},
   "outputs": [],
   "source": [
    "insurance.isna().sum()"
   ]
  },
  {
   "cell_type": "code",
   "execution_count": null,
   "metadata": {},
   "outputs": [],
   "source": [
    "insurance.dtypes"
   ]
  },
  {
   "cell_type": "markdown",
   "metadata": {},
   "source": [
    "We can start our visualization journey with a `scatter_matrix` or an `sns.pairplot` to see all our continuous variables.  Categorical variables we might plot individually with our target since we have a managable number of columns.\n",
    "\n",
    "* Create a `scatter_matrix` or an `sns.pairplot` of the data\n",
    "* Note any correlations, patterns, and distributions you see"
   ]
  },
  {
   "cell_type": "code",
   "execution_count": null,
   "metadata": {},
   "outputs": [],
   "source": [
    "____(insurance)\n",
    "plt.show()"
   ]
  },
  {
   "cell_type": "markdown",
   "metadata": {},
   "source": [
    "There's an interesting pattern in the scatterplot between `'age'` and `'charges'`.  It looks like there's 3 distinct groups.  This is hinting that there might be some variable interacting with `'age'`.  That is, the effect of `'age'` on `'charges'` might change based on some other variable at play.\n",
    "\n",
    "Hopefully we can find this interacting variable in our data.  However, it might be explained by a variable outside of our dataset; some domain knowledge would then be very useful to try and bring what explains these gaps.\n",
    "\n",
    "Let's visualize our categorical variables and try to figure out what might explain this.\n",
    "\n",
    "* Create a for loop that iterates over all of the categorical columns\n",
    "* Create a violin plot for each column with our `'charges'` column\n",
    "* Interpret what you see"
   ]
  },
  {
   "cell_type": "code",
   "execution_count": null,
   "metadata": {},
   "outputs": [],
   "source": [
    "cat_cols = [\"smoker\", \"sex\", \"region\"]\n",
    "\n",
    "____:\n",
    "    sns.violinplot(\"charges\", ____, data=insurance)\n",
    "    plt.show()"
   ]
  },
  {
   "cell_type": "markdown",
   "metadata": {},
   "source": [
    "* Smokers definitely appear to be charged more than non-smokers\n",
    "* The distributions between the sexes are pretty similiar.  The main difference is that the male distribution has a 'fatter' right hand tail (i.e. a group of males getting charged more)\n",
    "* Region seems to have a very small effect on charges.  Perhaps the southeast has a fatter tail than the others, but this may be less due to region itself, and more explained by other variables.  For example, I think I've read that the southeast has some of the highest rates of obesitity, idk if this is still accurate (or if it ever was)."
   ]
  },
  {
   "cell_type": "markdown",
   "metadata": {},
   "source": [
    "We just saw some effects that might help us explain the weird patterns shown in the `'age'` x `'charges'` scatter plot.  Let's try to include smoker in a scatterplot with these 2 variables since it appears to have the most extreme effect.\n",
    "\n",
    "* Create a `scatterplot` of `'age'` and `'charges'` colored by the `'smoker'` column\n",
    "* What do you notice?"
   ]
  },
  {
   "cell_type": "code",
   "execution_count": null,
   "metadata": {},
   "outputs": [],
   "source": [
    "sns.scatterplot(\"age\", \"charges\", hue=\"smoker\", data=insurance)\n",
    "plt.show()"
   ]
  },
  {
   "cell_type": "markdown",
   "metadata": {},
   "source": [
    "It looks like being a smoker interacts with age to explain part of this pattern of groups.  The effect of age on charges changes depending on whether or not the individual is a smoker.\n",
    "\n",
    "This plot shows that being a smoker could explain the top and bottom groups, but what about the middle group?  It looks like there's still a pattern to be found.\n",
    "\n",
    "The remaining bit of the pattern is a little bit harder to discover.  We're already showing 3 dimensions in our 2d plot thanks to color.  We could include a sizing dimension to try and bring in a 4th dimension, but this is harder to interpret.\n",
    "\n",
    "* Add the `'bmi'` column to the scatter plot using the `size` argument of `sns.scatterplot`"
   ]
  },
  {
   "cell_type": "code",
   "execution_count": null,
   "metadata": {},
   "outputs": [],
   "source": [
    "sns.scatterplot(\"age\", \"charges\", hue=\"smoker\", size=\"bmi\", data=insurance)\n",
    "plt.show()"
   ]
  },
  {
   "cell_type": "markdown",
   "metadata": {},
   "source": [
    "Putting `'bmi'` looks to explain away some of the pattern as well. It's less obvious, but it looks like lower bmi smokers are in the middle group, while higher bmi smokers are in the top group.  There are exceptions to this though.  If I was a data scientist working on this problem I would want to discuss this plot with my clients to make sure I have all the features that account for these 3 'strips' of data."
   ]
  },
  {
   "cell_type": "markdown",
   "metadata": {},
   "source": [
    "## Model Prep\n",
    "\n",
    "We'll keep all our features for now.  We might consider dropping region since it seems to have little effect based on our plots, but we would want to consult with experts (or build model with and without it and see if it has a positive effect on the accuracy or if its just dead weight)."
   ]
  },
  {
   "cell_type": "code",
   "execution_count": null,
   "metadata": {},
   "outputs": [],
   "source": [
    "insurance.head()"
   ]
  },
  {
   "cell_type": "code",
   "execution_count": null,
   "metadata": {},
   "outputs": [],
   "source": [
    "bin_cols = []\n",
    "\n",
    "cat_cols = []\n",
    "drop_cats = []\n",
    "\n",
    "num_cols = []"
   ]
  },
  {
   "cell_type": "code",
   "execution_count": null,
   "metadata": {},
   "outputs": [],
   "source": [
    "X = insurance.drop(columns=\"charges\")\n",
    "y = insurance[\"charges\"]\n",
    "\n",
    "X_train, X_test, y_train, y_test = train_test_split(\n",
    "    X, y, test_size=0.2, random_state=42\n",
    ")"
   ]
  },
  {
   "cell_type": "markdown",
   "metadata": {},
   "source": [
    "* Finish the `ColumnTransformer()` definition"
   ]
  },
  {
   "cell_type": "code",
   "execution_count": null,
   "metadata": {},
   "outputs": [],
   "source": [
    "preprocessing = ColumnTransformer(\n",
    "    [\n",
    "        (\"encode_cats\", ____, ____),\n",
    "        ______\n",
    "    ],\n",
    "    ____,\n",
    ")"
   ]
  },
  {
   "cell_type": "markdown",
   "metadata": {},
   "source": [
    "* Finish the `PipeLine()` definition using `SVR()`"
   ]
  },
  {
   "cell_type": "code",
   "execution_count": null,
   "metadata": {},
   "outputs": [],
   "source": [
    "# fmt: off\n",
    "pipeline = Pipeline(\n",
    "    [\n",
    "        _______,\n",
    "        _______\n",
    "    ],\n",
    ")\n",
    "# fmt: on"
   ]
  },
  {
   "cell_type": "markdown",
   "metadata": {},
   "source": [
    "Math break\n",
    "\n",
    "OLS tries to minimze the sum of squared errors (minmize mistakes and penalize big mistakes a little extra):\n",
    "$$min \\sum_{i=1}^{n}(y_i - (w^Tx_i + b))^2$$ \n",
    "\n",
    "* $w$ is the coefficients\n",
    "* $x_i$ is a training sample (aka feature vector; aka row of `X`)\n",
    "* $y_i$ is a training sample's true value\n",
    "* $b$ is the intercept\n",
    "\n",
    "SVR tries to minimize the coefficients and ensure every single observation lies within the 'tube' of error we say its allowed to have (defined by epsilon).  In real cases, we need some slack, not every observation will be in the tube.  Just like in `SVC` we say how much we care about mistakes (here a mistake is falling outside of the tube) using the parameter `C`.  Below is how we can think of the formulation of the problem. **This is not the actual formulation**, but I think it's a useful view of it for more thorough math see [here](http://kernelsvm.tripod.com/).\n",
    "\n",
    "$$min \\frac{1}{2}||w||^2 + C \\sum_{i=1}^{n}\\xi_i$$\n",
    "\n",
    "If $|y_i - (w^Tx_i + b)| \\le epsilon$ then we don't count it in the error term in the above formula (that is $\\xi_i = 0$).\n",
    "\n",
    "If $|y_i - (w^Tx_i + b)| > epsilon$ then we do count it in the error term in the above formula (that is $\\xi_i > 0$).\n",
    "\n",
    "* $w$ is the coefficients\n",
    "* $x_i$ is a training sample (aka feature vector; aka row of `X`)\n",
    "* $y_i$ is a training sample's true value\n",
    "* $b$ is the intercept\n",
    "* $\\xi$ is a measure of error (called slack)"
   ]
  },
  {
   "cell_type": "markdown",
   "metadata": {},
   "source": [
    "* Fit the pipeline to the training data\n",
    "* Score the model on train and testing data\n",
    "    * What is this score?\n",
    "    * Do we want to minimize it or maximize it?"
   ]
  },
  {
   "cell_type": "code",
   "execution_count": null,
   "metadata": {},
   "outputs": [],
   "source": [
    "____\n",
    "\n",
    "train_score = pipeline.score(X_train, y_train)\n",
    "test_score = pipeline.score(X_test, y_test)\n",
    "\n",
    "print(f\"train_score: {train_score}\")\n",
    "print(f\"test_score: {test_score}\")"
   ]
  },
  {
   "cell_type": "markdown",
   "metadata": {},
   "source": [
    "Dang, that's horrible... Maybe we want a different `kernel`, maybe we want a different `C`, a different `epsilon`. Sounds easier to `GridSearchCV` for this than to do a lot of guess and check.\n",
    "\n",
    "* Define a dictionary of parameters to be our grid to search through\n",
    "    * Use `0.1`, `1`, & `10` for the potential values of `'epsilon'`\n",
    "      * To specify parameters in a pipeline we have to provide the name of the step they apply to.  We specify the name of the step and then 2 underscores before using the usual hyperparameter name.  For example, if you named the `SVR()` step in your `Pipeline` `'svm'`, then the parameter name for `'epsilon'` would be `'svm__epsilon'`.\n",
    "    * Try some of the kernels\n",
    "    * Try a couple different degree polynomials\n",
    "    * Note how many models you'll be building before running the grid search\n",
    "* Define the grid search by passing in the pipeline, parameter grid\n",
    "* Fit the grid search.\n",
    "* Print out the best parameters.\n",
    "    * Remember that `degree` is ignored by all `kernel`s except `'poly'`.  So if the best kernel isn't `'poly'` we can ignore the `degree` parameter chosen."
   ]
  },
  {
   "cell_type": "code",
   "execution_count": null,
   "metadata": {},
   "outputs": [],
   "source": [
    "grid = {\n",
    "    \"svm__epsilon\": [0.1, 1, 10],\n",
    "    ____,\n",
    "    ____,\n",
    "    ____,\n",
    "}\n",
    "\n",
    "pipeline_cv = GridSearchCV(____, ____, verbose=1)\n",
    "pipeline_cv.fit(X_train, y_train)\n",
    "\n",
    "print('Best hyperparameters:')\n",
    "pipeline_cv._____"
   ]
  },
  {
   "cell_type": "markdown",
   "metadata": {},
   "source": [
    "* Score the resulting model that was fit via grid search cross validation\n",
    "* If the fit is poor, take note of what hyperparameters were chosen, are any of them at the edges of the grid?  Adjusting the grid might improve fit."
   ]
  },
  {
   "cell_type": "code",
   "execution_count": null,
   "metadata": {},
   "outputs": [],
   "source": [
    "train_score = pipeline_cv.score(X_train, y_train)\n",
    "test_score = pipeline_cv.score(X_test, y_test)\n",
    "\n",
    "print(f\"train_score: {train_score}\")\n",
    "print(f\"test_score: {test_score}\")"
   ]
  },
  {
   "cell_type": "markdown",
   "metadata": {},
   "source": [
    "* Make predictions on the test set\n",
    "* Calculate the mean absolute error (MAE) and the mean absolute percent error (MAPE)\n",
    "* Create a plot of the fitted vs the actual values"
   ]
  },
  {
   "cell_type": "code",
   "execution_count": null,
   "metadata": {},
   "outputs": [],
   "source": []
  }
 ],
 "metadata": {
  "kernelspec": {
   "display_name": "Python 3",
   "language": "python",
   "name": "python3"
  },
  "language_info": {
   "codemirror_mode": {
    "name": "ipython",
    "version": 3
   },
   "file_extension": ".py",
   "mimetype": "text/x-python",
   "name": "python",
   "nbconvert_exporter": "python",
   "pygments_lexer": "ipython3",
   "version": "3.7.6"
  }
 },
 "nbformat": 4,
 "nbformat_minor": 2
}
