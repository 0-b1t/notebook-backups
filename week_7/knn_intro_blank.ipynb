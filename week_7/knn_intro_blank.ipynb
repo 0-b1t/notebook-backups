{
 "cells": [
  {
   "cell_type": "markdown",
   "metadata": {},
   "source": [
    "# 🌸 KNN with Flowers 🌸"
   ]
  },
  {
   "cell_type": "code",
   "execution_count": null,
   "metadata": {},
   "outputs": [],
   "source": [
    "%reload_ext nb_black"
   ]
  },
  {
   "cell_type": "code",
   "execution_count": null,
   "metadata": {},
   "outputs": [],
   "source": [
    "import pandas as pd\n",
    "import numpy as np\n",
    "\n",
    "from sklearn.model_selection import train_test_split\n",
    "from sklearn.preprocessing import StandardScaler\n",
    "from sklearn.neighbors import KNeighborsClassifier\n",
    "\n",
    "import seaborn as sns\n",
    "import matplotlib.pyplot as plt\n",
    "\n",
    "%matplotlib inline"
   ]
  },
  {
   "cell_type": "code",
   "execution_count": null,
   "metadata": {},
   "outputs": [],
   "source": [
    "iris = sns.load_dataset(\"iris\")\n",
    "iris.head()"
   ]
  },
  {
   "cell_type": "markdown",
   "metadata": {},
   "source": [
    "## Viz Practice"
   ]
  },
  {
   "cell_type": "markdown",
   "metadata": {},
   "source": [
    "Use seaborn to make a `scatterplot` of `'sepal length (cm)'` by `'sepal width (cm)'`, colored by the species."
   ]
  },
  {
   "cell_type": "code",
   "execution_count": null,
   "metadata": {},
   "outputs": [],
   "source": []
  },
  {
   "cell_type": "markdown",
   "metadata": {},
   "source": [
    "Use seaborn to make a `scatterplot` of `'petal length (cm)'` by `'petal width (cm)'`, colored by the species."
   ]
  },
  {
   "cell_type": "code",
   "execution_count": null,
   "metadata": {},
   "outputs": [],
   "source": []
  },
  {
   "cell_type": "markdown",
   "metadata": {},
   "source": [
    "### Data prep\n",
    "Separate out your `X` and you `y`.  The species is our target variable."
   ]
  },
  {
   "cell_type": "code",
   "execution_count": null,
   "metadata": {},
   "outputs": [],
   "source": []
  },
  {
   "cell_type": "markdown",
   "metadata": {},
   "source": [
    "## Programming Practice\n",
    "\n",
    "Euclidean distance for 2d data is shown below.  In the formula, $a = (x_1, y_1)$ and $b = (x_2, y_2)$\n",
    "\n",
    "$$dist(a, b) = \\sqrt{(x_1 - x_2)^2 + (y_1 - y_2)^2}$$\n",
    "\n",
    "An example when $a = (1, 1)$ & $b = (4, 4)$.\n",
    "\n",
    "$$dist(a, b) = \\sqrt{(1 - 4)^2 + (1 - 4)^2} = \\sqrt{(9 + 9)} \\approx 4.24$$"
   ]
  },
  {
   "cell_type": "markdown",
   "metadata": {},
   "source": [
    "Step 1:\n",
    "* Recreate the input & output from the formula/example shown above\n",
    "    * `a` and `b` are defined for you, recreate the ~`4.24` output"
   ]
  },
  {
   "cell_type": "code",
   "execution_count": null,
   "metadata": {},
   "outputs": [],
   "source": [
    "a = (1, 1)\n",
    "b = (4, 4)"
   ]
  },
  {
   "cell_type": "code",
   "execution_count": null,
   "metadata": {},
   "outputs": [],
   "source": []
  },
  {
   "cell_type": "markdown",
   "metadata": {},
   "source": [
    "Step 2:\n",
    "* Make the process you've written work for $n$d points\n",
    "* Use the same test case as before to confirm the process works\n",
    "\n",
    "*Hint 1: the [`zip()`](https://data-flair.training/blogs/python-zip-function/) function could be a potential step towards accomplishing this*\n",
    "\n",
    "*Hint 2: converting the inputs to numpy arrays can make this even simpler*"
   ]
  },
  {
   "cell_type": "code",
   "execution_count": null,
   "metadata": {},
   "outputs": [],
   "source": []
  },
  {
   "cell_type": "markdown",
   "metadata": {},
   "source": [
    "Step 3:\n",
    "* Convert the logic you wrote in step 2 into a function"
   ]
  },
  {
   "cell_type": "code",
   "execution_count": null,
   "metadata": {},
   "outputs": [],
   "source": []
  },
  {
   "cell_type": "markdown",
   "metadata": {},
   "source": [
    "* Use your function to measure the euclidean distance between the first two rows of `X`"
   ]
  },
  {
   "cell_type": "code",
   "execution_count": null,
   "metadata": {},
   "outputs": [],
   "source": []
  },
  {
   "cell_type": "markdown",
   "metadata": {},
   "source": [
    "## Theory Practice\n",
    "\n",
    "Plot boxplots for each of your `X` features."
   ]
  },
  {
   "cell_type": "code",
   "execution_count": null,
   "metadata": {},
   "outputs": [],
   "source": []
  },
  {
   "cell_type": "markdown",
   "metadata": {},
   "source": [
    "Plot the same scatterplots from before with standardized axis ranges.  Set all the axes to be `(0, 8)`."
   ]
  },
  {
   "cell_type": "code",
   "execution_count": null,
   "metadata": {
    "hideOutput": true
   },
   "outputs": [],
   "source": [
    "ax = ____\n",
    "ax.set(xlim=(0, 8), ylim=(0, 8))\n",
    "plt.show()\n",
    "\n",
    "ax = ____\n",
    "ax.set(xlim=(0, 8), ylim=(0, 8))\n",
    "plt.show()"
   ]
  },
  {
   "cell_type": "markdown",
   "metadata": {},
   "source": [
    "What's the issue with this?"
   ]
  },
  {
   "cell_type": "markdown",
   "metadata": {},
   "source": [
    "We need to be sure to scale the data or the distance between a larger scale variable will dominate the classifications.\n",
    "\n",
    "* Perform a train test split\n",
    "  * Stratify the split by `y` to ensure equal representation of each class in train and test\n",
    "* Scale the data with the `StandardScaler()`"
   ]
  },
  {
   "cell_type": "code",
   "execution_count": null,
   "metadata": {},
   "outputs": [],
   "source": []
  },
  {
   "cell_type": "code",
   "execution_count": null,
   "metadata": {},
   "outputs": [],
   "source": []
  },
  {
   "cell_type": "markdown",
   "metadata": {},
   "source": [
    "* Fit a `KNeighborsClassifier()` and assess the accuracy/overfitting"
   ]
  },
  {
   "cell_type": "code",
   "execution_count": null,
   "metadata": {},
   "outputs": [],
   "source": []
  },
  {
   "cell_type": "markdown",
   "metadata": {},
   "source": [
    "* Fit a `KNeighborsClassifier()` with `n_neighbors` set to `1` and assess the accuracy/overfitting"
   ]
  },
  {
   "cell_type": "code",
   "execution_count": null,
   "metadata": {},
   "outputs": [],
   "source": []
  },
  {
   "cell_type": "markdown",
   "metadata": {},
   "source": [
    "* Fit a `KNeighborsClassifier()` with `n_neighbors` set to `20` and assess the accuracy/overfitting"
   ]
  },
  {
   "cell_type": "code",
   "execution_count": null,
   "metadata": {},
   "outputs": [],
   "source": []
  },
  {
   "cell_type": "markdown",
   "metadata": {},
   "source": [
    "* Write a `for` loop to assess the accuracy of `n_neighbors` on train & test for values 1 through 50.\n",
    "* Store the train & test accuracies from each iteration\n",
    "* Interpret the plot"
   ]
  },
  {
   "cell_type": "code",
   "execution_count": null,
   "metadata": {},
   "outputs": [],
   "source": [
    "ks = ____\n",
    "train_scores = []\n",
    "test_scores = []\n",
    "\n",
    "for k in ks:\n",
    "    model = KNeighborsClassifier(____)\n",
    "    model.fit(X_train, y_train)\n",
    "\n",
    "    train_score = ____\n",
    "    test_score = ____\n",
    "\n",
    "    train_scores.____\n",
    "    test_scores.____\n",
    "\n",
    "plt.plot(__, ____________, label=\"Train\")\n",
    "plt.plot(__, ___________, label=\"Test\")\n",
    "plt.____(\"k\")  # label x axis\n",
    "plt.____(\"Accuracy\")  # label y axis\n",
    "plt.legend()  # Display a legend\n",
    "plt.show()"
   ]
  },
  {
   "cell_type": "code",
   "execution_count": null,
   "metadata": {},
   "outputs": [],
   "source": []
  }
 ],
 "metadata": {
  "kernelspec": {
   "display_name": "Python 3",
   "language": "python",
   "name": "python3"
  },
  "language_info": {
   "codemirror_mode": {
    "name": "ipython",
    "version": 3
   },
   "file_extension": ".py",
   "mimetype": "text/x-python",
   "name": "python",
   "nbconvert_exporter": "python",
   "pygments_lexer": "ipython3",
   "version": "3.8.5"
  }
 },
 "nbformat": 4,
 "nbformat_minor": 2
}
