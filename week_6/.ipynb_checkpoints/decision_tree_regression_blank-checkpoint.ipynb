{
 "cells": [
  {
   "cell_type": "code",
   "execution_count": null,
   "metadata": {},
   "outputs": [],
   "source": [
    "%reload_ext nb_black"
   ]
  },
  {
   "cell_type": "code",
   "execution_count": null,
   "metadata": {},
   "outputs": [],
   "source": [
    "import numpy as np\n",
    "import pandas as pd\n",
    "\n",
    "from sklearn.datasets import load_boston\n",
    "from sklearn.model_selection import train_test_split\n",
    "from sklearn.tree import DecisionTreeRegressor, plot_tree\n",
    "\n",
    "import seaborn as sns\n",
    "import matplotlib.pyplot as plt\n",
    "\n",
    "%matplotlib inline\n",
    "\n",
    "boston_data = load_boston()"
   ]
  },
  {
   "cell_type": "code",
   "execution_count": null,
   "metadata": {},
   "outputs": [],
   "source": [
    "def eval_preds(y_true, y_pred):\n",
    "    \"\"\"Display some metrics for evaluating regression predictions\"\"\"\n",
    "    error = y_true - y_pred\n",
    "\n",
    "    rmse = np.mean(np.sqrt((error ** 2)))\n",
    "    mae = np.mean(np.abs(error))\n",
    "    mape = np.mean(np.abs((error / y_true)))\n",
    "\n",
    "    print(f\"rmse {rmse:.2f}\")\n",
    "    print(f\"mae {mae:.2f}\")\n",
    "    print(f\"mape {mape:.2f}\")\n",
    "\n",
    "    line_pts = [np.min(y_true), np.max(y_true)]\n",
    "    plt.scatter(y_true, y_pred)\n",
    "    plt.plot(line_pts, line_pts, c=\"red\", ls=\"--\", alpha=0.5)\n",
    "    plt.xlabel(\"Actual\")\n",
    "    plt.ylabel(\"Fit\")\n",
    "    plt.show()"
   ]
  },
  {
   "cell_type": "markdown",
   "metadata": {},
   "source": [
    "* Investigate `boston_data` what are we working with.\n",
    "* How could we put this in a dataframe with column names?\n",
    "* What are we predicting?"
   ]
  },
  {
   "cell_type": "code",
   "execution_count": null,
   "metadata": {},
   "outputs": [],
   "source": []
  },
  {
   "cell_type": "markdown",
   "metadata": {},
   "source": [
    "* Train test split"
   ]
  },
  {
   "cell_type": "code",
   "execution_count": null,
   "metadata": {},
   "outputs": [],
   "source": []
  },
  {
   "cell_type": "markdown",
   "metadata": {},
   "source": [
    "* Fit a `DecisionTreeRegressor` with default hyperparameters and report the train and test scores"
   ]
  },
  {
   "cell_type": "code",
   "execution_count": null,
   "metadata": {},
   "outputs": [],
   "source": []
  },
  {
   "cell_type": "markdown",
   "metadata": {},
   "source": [
    "* How are we performing?"
   ]
  },
  {
   "cell_type": "code",
   "execution_count": null,
   "metadata": {},
   "outputs": [],
   "source": []
  },
  {
   "cell_type": "markdown",
   "metadata": {},
   "source": [
    "* I put a helper function named `eval_preds()` at the top of this notebook.  Apply it to evaluate our model."
   ]
  },
  {
   "cell_type": "code",
   "execution_count": null,
   "metadata": {},
   "outputs": [],
   "source": [
    "y_pred = _____\n",
    "eval_preds(y_test, y_pred)"
   ]
  },
  {
   "cell_type": "markdown",
   "metadata": {},
   "source": [
    "* Plot the decision tree (we'll just use `plot_tree` here instead of pydotplus). This will take a while..."
   ]
  },
  {
   "cell_type": "code",
   "execution_count": null,
   "metadata": {},
   "outputs": [],
   "source": [
    "%%time\n",
    "plt.figure(figsize=(10, 10))\n",
    "plot_tree(model, filled=True, feature_names=X_train.columns)\n",
    "plt.show()"
   ]
  },
  {
   "cell_type": "markdown",
   "metadata": {},
   "source": [
    "-----\n",
    "\n",
    "#### Group 1\n",
    "\n",
    "* Adjust the hyperparameters of `max_depth` & `min_samples_leaf`\n",
    "* Re-fit, re-score, and re-plot the model.  How did these change the output?\n",
    "* Be prepared for someone to try and explain what these hyperparameters are doing (things you might tell us about)\n",
    "  * how the params relate to over/under fitting (i.e. the higher/lower the `max_depth` the more over/under fit the model becomes)\n",
    "  * how the params change the look of the tree in the plot\n",
    "  * how the params are described in the sklearn documentation (paraphrased to plainer english)\n",
    "\n",
    "#### Group 2\n",
    "\n",
    "* Adjust the hyperparameters of `max_leaf_nodes` & `min_samples_split`\n",
    "* Re-fit, re-score, and re-plot the model.  How did these change the output?\n",
    "* Be prepared for someone to try and explain what these hyperparameters are doing (things you might tell us about)\n",
    "  * how the params relate to over/under fitting (i.e. the higher/lower the `max_leaf_nodes` the more over/under fit the model becomes)\n",
    "  * how the params change the look of the tree\n",
    "  * how the params are described in the sklearn documentation (paraphrased to plainer english)"
   ]
  },
  {
   "cell_type": "code",
   "execution_count": null,
   "metadata": {},
   "outputs": [],
   "source": []
  }
 ],
 "metadata": {
  "kernelspec": {
   "display_name": "Python 3",
   "language": "python",
   "name": "python3"
  },
  "language_info": {
   "codemirror_mode": {
    "name": "ipython",
    "version": 3
   },
   "file_extension": ".py",
   "mimetype": "text/x-python",
   "name": "python",
   "nbconvert_exporter": "python",
   "pygments_lexer": "ipython3",
   "version": "3.7.6"
  }
 },
 "nbformat": 4,
 "nbformat_minor": 2
}
