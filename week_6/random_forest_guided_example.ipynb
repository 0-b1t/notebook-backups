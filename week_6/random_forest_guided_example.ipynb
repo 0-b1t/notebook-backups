{
 "cells": [
  {
   "cell_type": "code",
   "execution_count": 1,
   "metadata": {
    "run_control": {
     "frozen": false,
     "read_only": false
    }
   },
   "outputs": [],
   "source": [
    "# import pandas as pd\n",
    "# import numpy as np\n",
    "# # import matplotlib.pyplot as plt\n",
    "# %matplotlib inline"
   ]
  },
  {
   "cell_type": "markdown",
   "metadata": {
    "run_control": {
     "frozen": false,
     "read_only": false
    }
   },
   "source": [
    "We've talked about Random Forests. Now it's time to build one.\n",
    "\n",
    "Here we'll use data from Lending Club (2015) to predict the state of a loan given some information about it. You can download the dataset [here](https://www.dropbox.com/s/0so14yudedjmm5m/LoanStats3d.csv?dl=1)"
   ]
  },
  {
   "cell_type": "code",
   "execution_count": 2,
   "metadata": {
    "run_control": {
     "frozen": false,
     "read_only": false
    }
   },
   "outputs": [],
   "source": [
    "# # Replace the path with the correct path for your data.\n",
    "# y2015 = pd.read_csv(\n",
    "#     'https://tf-assets-prod.s3.amazonaws.com/tf-curric/data-science/LoanStats3d.csv',\n",
    "#     skipinitialspace=True,\n",
    "#     header=1\n",
    "# )\n",
    "\n",
    "# # Note the warning about dtypes."
   ]
  },
  {
   "cell_type": "code",
   "execution_count": 3,
   "metadata": {},
   "outputs": [],
   "source": [
    "# y2015.head()"
   ]
  },
  {
   "cell_type": "markdown",
   "metadata": {
    "run_control": {
     "frozen": false,
     "read_only": false
    }
   },
   "source": [
    "## The Blind Approach\n",
    "\n",
    "Now, as we've seen before, creating a model is the easy part. Let's try just using everything we've got and throwing it without much thought into a Random Forest. SKLearn requires the independent variables to be be numeric, and all we want is dummy variables so let's use `get_dummies` from Pandas to generate a dummy variable for every categorical column and see what happens off of this kind of naive approach."
   ]
  },
  {
   "cell_type": "code",
   "execution_count": 4,
   "metadata": {
    "run_control": {
     "frozen": false,
     "read_only": false
    }
   },
   "outputs": [],
   "source": [
    "# from sklearn import ensemble\n",
    "# from sklearn.model_selection import cross_val_score\n",
    "\n",
    "# rfc = ensemble.RandomForestClassifier()\n",
    "# X = y2015.drop('loan_status', 1)\n",
    "# Y = y2015['loan_status']\n",
    "# X = pd.get_dummies(X)\n",
    "\n",
    "# cross_val_score(rfc, X, Y, cv=5)"
   ]
  },
  {
   "cell_type": "markdown",
   "metadata": {
    "run_control": {
     "frozen": false,
     "read_only": false
    }
   },
   "source": [
    "Did your kernel die? My kernel died.\n",
    "\n",
    "Guess it isn't always going to be that easy...\n",
    "\n",
    "Can you think of what went wrong?\n",
    "\n",
    "(You're going to have to reset your kernel and reload the column, BUT DON'T RUN THE MODEL AGAIN OR YOU'LL CRASH THE KERNEL AGAIN!)\n",
    "\n",
    "## Data Cleaning\n",
    "\n",
    "Well, `get_dummies` can be a very memory intensive thing, particularly if data are typed poorly. We got a warning about that earlier. Mixed data types get converted to objects, and that could create huge problems. Our dataset is about 400,000 rows. If there's a bad type there its going to see 400,000 distinct values and try to create dummies for all of them. That's bad. Lets look at all our categorical variables and see how many distinct counts there are..."
   ]
  },
  {
   "cell_type": "code",
   "execution_count": 5,
   "metadata": {
    "run_control": {
     "frozen": false,
     "read_only": false
    },
    "scrolled": true
   },
   "outputs": [],
   "source": [
    "# categorical = y2015.select_dtypes(include=['object'])\n",
    "# for i in categorical:\n",
    "#     column = categorical[i]\n",
    "#     print(i)\n",
    "#     print(column.nunique())"
   ]
  },
  {
   "cell_type": "markdown",
   "metadata": {
    "run_control": {
     "frozen": false,
     "read_only": false
    }
   },
   "source": [
    "Well that right there is what's called a problem. Some of these have over a hundred thousand distinct types. Lets drop the ones with over 30 unique values, converting to numeric where it makes sense. In doing this there's a lot of code that gets written to just see if the numeric conversion makes sense. It's a manual process that we'll abstract away and just include the conversion.\n",
    "\n",
    "You could extract numeric features from the dates, but here we'll just drop them. There's a lot of data, it shouldn't be a huge problem."
   ]
  },
  {
   "cell_type": "code",
   "execution_count": 6,
   "metadata": {
    "run_control": {
     "frozen": false,
     "read_only": false
    }
   },
   "outputs": [],
   "source": [
    "# # Convert ID and Interest Rate to numeric.\n",
    "# y2015['id'] = pd.to_numeric(y2015['id'], errors='coerce')\n",
    "# y2015['int_rate'] = pd.to_numeric(y2015['int_rate'].str.strip('%'), errors='coerce')\n",
    "\n",
    "# # Drop other columns with many unique variables\n",
    "# y2015.drop(['url', 'emp_title', 'zip_code', 'earliest_cr_line', 'revol_util',\n",
    "#             'sub_grade', 'addr_state', 'desc'], 1, inplace=True)"
   ]
  },
  {
   "cell_type": "markdown",
   "metadata": {},
   "source": [
    "Wonder what was causing the dtype error on the id column, which _should_ have all been integers? Let's look at the end of the file."
   ]
  },
  {
   "cell_type": "code",
   "execution_count": 7,
   "metadata": {},
   "outputs": [],
   "source": [
    "# y2015.tail()"
   ]
  },
  {
   "cell_type": "code",
   "execution_count": 8,
   "metadata": {},
   "outputs": [],
   "source": [
    "# # Remove two summary rows at the end that don't actually contain data.\n",
    "# y2015 = y2015[:-2]"
   ]
  },
  {
   "cell_type": "markdown",
   "metadata": {
    "run_control": {
     "frozen": false,
     "read_only": false
    }
   },
   "source": [
    "Now this should be better. Let's try again."
   ]
  },
  {
   "cell_type": "code",
   "execution_count": 9,
   "metadata": {
    "run_control": {
     "frozen": false,
     "read_only": false
    }
   },
   "outputs": [],
   "source": [
    "# pd.get_dummies(y2015)"
   ]
  },
  {
   "cell_type": "markdown",
   "metadata": {
    "run_control": {
     "frozen": false,
     "read_only": false
    }
   },
   "source": [
    "It finally works! We had to sacrifice sub grade, state address and description, but that's fine. If you want to include them you could run the dummies independently and then append them back to the dataframe.\n",
    "\n",
    "## Second Attempt\n",
    "\n",
    "Now let's try this model again.\n",
    "\n",
    "We're also going to drop NA columns, rather than impute, because our data is rich enough that we can probably get away with it.\n",
    "\n",
    "This model may take a few minutes to run."
   ]
  },
  {
   "cell_type": "code",
   "execution_count": 10,
   "metadata": {
    "run_control": {
     "frozen": false,
     "read_only": false
    }
   },
   "outputs": [],
   "source": [
    "from sklearn import ensemble\n",
    "from sklearn.model_selection import cross_val_score\n",
    "\n",
    "# rfc = ensemble.RandomForestClassifier()\n",
    "# X = y2015.drop('loan_status', 1)\n",
    "# Y = y2015['loan_status']\n",
    "# X = pd.get_dummies(X)\n",
    "# X = X.dropna(axis=1)\n",
    "\n",
    "# cross_val_score(rfc, X, Y, cv=10)"
   ]
  },
  {
   "cell_type": "markdown",
   "metadata": {
    "run_control": {
     "frozen": false,
     "read_only": false
    }
   },
   "source": [
    "The score cross validation reports is the accuracy of the tree. Here we're about 98% accurate.\n",
    "\n",
    "That works pretty well, but there are a few potential problems. Firstly, we didn't really do much in the way of feature selection or model refinement. As such there are a lot of features in there that we don't really need. Some of them are actually quite impressively useless.\n",
    "\n",
    "There's also some variance in the scores. The fact that one gave us only 93% accuracy while others gave higher than 98 is concerning. This variance could be corrected by increasing the number of estimators. That will make it take even longer to run, however, and it is already quite slow."
   ]
  },
  {
   "cell_type": "markdown",
   "metadata": {},
   "source": [
    "## DRILL: Third Attempt\n",
    "\n",
    "So here's your task. Get rid of as much data as possible without dropping below an average of 90% accuracy in a 10-fold cross validation.\n",
    "\n",
    "You'll want to do a few things in this process. First, dive into the data that we have and see which features are most important. This can be the raw features or the generated dummies. You may want to use PCA or correlation matrices.\n",
    "\n",
    "Can you do it without using anything related to payment amount or outstanding principal? How do you know?"
   ]
  },
  {
   "cell_type": "code",
   "execution_count": 11,
   "metadata": {},
   "outputs": [
    {
     "data": {
      "application/javascript": [
       "\n",
       "            setTimeout(function() {\n",
       "                var nbb_cell_id = 11;\n",
       "                var nbb_unformatted_code = \"%reload_ext nb_black\";\n",
       "                var nbb_formatted_code = \"%reload_ext nb_black\";\n",
       "                var nbb_cells = Jupyter.notebook.get_cells();\n",
       "                for (var i = 0; i < nbb_cells.length; ++i) {\n",
       "                    if (nbb_cells[i].input_prompt_number == nbb_cell_id) {\n",
       "                        if (nbb_cells[i].get_text() == nbb_unformatted_code) {\n",
       "                             nbb_cells[i].set_text(nbb_formatted_code);\n",
       "                        }\n",
       "                        break;\n",
       "                    }\n",
       "                }\n",
       "            }, 500);\n",
       "            "
      ],
      "text/plain": [
       "<IPython.core.display.Javascript object>"
      ]
     },
     "metadata": {},
     "output_type": "display_data"
    }
   ],
   "source": [
    "%reload_ext nb_black"
   ]
  },
  {
   "cell_type": "code",
   "execution_count": 12,
   "metadata": {},
   "outputs": [
    {
     "data": {
      "application/javascript": [
       "\n",
       "            setTimeout(function() {\n",
       "                var nbb_cell_id = 12;\n",
       "                var nbb_unformatted_code = \"import numpy as np\\nimport pandas as pd\\n\\nfrom sklearn.model_selection import train_test_split, GridSearchCV\\nfrom sklearn.feature_selection import SelectFromModel, SelectKBest\\nfrom sklearn.tree import DecisionTreeClassifier\\nfrom sklearn.ensemble import RandomForestClassifier, ExtraTreesClassifier\\nfrom sklearn.metrics import confusion_matrix, classification_report\\n\\n# !pip install category_encoders\\nfrom category_encoders import LeaveOneOutEncoder, TargetEncoder\";\n",
       "                var nbb_formatted_code = \"import numpy as np\\nimport pandas as pd\\n\\nfrom sklearn.model_selection import train_test_split, GridSearchCV\\nfrom sklearn.feature_selection import SelectFromModel, SelectKBest\\nfrom sklearn.tree import DecisionTreeClassifier\\nfrom sklearn.ensemble import RandomForestClassifier, ExtraTreesClassifier\\nfrom sklearn.metrics import confusion_matrix, classification_report\\n\\n# !pip install category_encoders\\nfrom category_encoders import LeaveOneOutEncoder, TargetEncoder\";\n",
       "                var nbb_cells = Jupyter.notebook.get_cells();\n",
       "                for (var i = 0; i < nbb_cells.length; ++i) {\n",
       "                    if (nbb_cells[i].input_prompt_number == nbb_cell_id) {\n",
       "                        if (nbb_cells[i].get_text() == nbb_unformatted_code) {\n",
       "                             nbb_cells[i].set_text(nbb_formatted_code);\n",
       "                        }\n",
       "                        break;\n",
       "                    }\n",
       "                }\n",
       "            }, 500);\n",
       "            "
      ],
      "text/plain": [
       "<IPython.core.display.Javascript object>"
      ]
     },
     "metadata": {},
     "output_type": "display_data"
    }
   ],
   "source": [
    "import numpy as np\n",
    "import pandas as pd\n",
    "\n",
    "from sklearn.model_selection import train_test_split, GridSearchCV\n",
    "from sklearn.feature_selection import SelectFromModel, SelectKBest\n",
    "from sklearn.tree import DecisionTreeClassifier\n",
    "from sklearn.ensemble import RandomForestClassifier, ExtraTreesClassifier\n",
    "from sklearn.metrics import confusion_matrix, classification_report\n",
    "\n",
    "# !pip install category_encoders\n",
    "from category_encoders import LeaveOneOutEncoder, TargetEncoder"
   ]
  },
  {
   "cell_type": "code",
   "execution_count": 13,
   "metadata": {},
   "outputs": [
    {
     "data": {
      "application/javascript": [
       "\n",
       "            setTimeout(function() {\n",
       "                var nbb_cell_id = 13;\n",
       "                var nbb_unformatted_code = \"import warnings\\nimport statsmodels.api as sm\\nfrom statsmodels.stats.outliers_influence import variance_inflation_factor\\n\\n\\ndef print_vif(x):\\n    \\\"\\\"\\\"Utility for checking multicollinearity assumption\\n    \\n    :param x: input features to check using VIF. This is assumed to be a pandas.DataFrame\\n    :return: nothing is returned the VIFs are printed as a pandas series\\n    \\\"\\\"\\\"\\n    # Silence numpy FutureWarning about .ptp\\n    with warnings.catch_warnings():\\n        warnings.simplefilter(\\\"ignore\\\")\\n        x = sm.add_constant(x)\\n\\n    vifs = []\\n    for i in range(x.shape[1]):\\n        vif = variance_inflation_factor(x.values, i)\\n        vifs.append(vif)\\n\\n    print(\\\"VIF results\\\\n-------------------------------\\\")\\n    print(pd.Series(vifs, index=x.columns))\\n    print(\\\"-------------------------------\\\\n\\\")\";\n",
       "                var nbb_formatted_code = \"import warnings\\nimport statsmodels.api as sm\\nfrom statsmodels.stats.outliers_influence import variance_inflation_factor\\n\\n\\ndef print_vif(x):\\n    \\\"\\\"\\\"Utility for checking multicollinearity assumption\\n    \\n    :param x: input features to check using VIF. This is assumed to be a pandas.DataFrame\\n    :return: nothing is returned the VIFs are printed as a pandas series\\n    \\\"\\\"\\\"\\n    # Silence numpy FutureWarning about .ptp\\n    with warnings.catch_warnings():\\n        warnings.simplefilter(\\\"ignore\\\")\\n        x = sm.add_constant(x)\\n\\n    vifs = []\\n    for i in range(x.shape[1]):\\n        vif = variance_inflation_factor(x.values, i)\\n        vifs.append(vif)\\n\\n    print(\\\"VIF results\\\\n-------------------------------\\\")\\n    print(pd.Series(vifs, index=x.columns))\\n    print(\\\"-------------------------------\\\\n\\\")\";\n",
       "                var nbb_cells = Jupyter.notebook.get_cells();\n",
       "                for (var i = 0; i < nbb_cells.length; ++i) {\n",
       "                    if (nbb_cells[i].input_prompt_number == nbb_cell_id) {\n",
       "                        if (nbb_cells[i].get_text() == nbb_unformatted_code) {\n",
       "                             nbb_cells[i].set_text(nbb_formatted_code);\n",
       "                        }\n",
       "                        break;\n",
       "                    }\n",
       "                }\n",
       "            }, 500);\n",
       "            "
      ],
      "text/plain": [
       "<IPython.core.display.Javascript object>"
      ]
     },
     "metadata": {},
     "output_type": "display_data"
    }
   ],
   "source": [
    "import warnings\n",
    "import statsmodels.api as sm\n",
    "from statsmodels.stats.outliers_influence import variance_inflation_factor\n",
    "\n",
    "\n",
    "def print_vif(x):\n",
    "    \"\"\"Utility for checking multicollinearity assumption\n",
    "    \n",
    "    :param x: input features to check using VIF. This is assumed to be a pandas.DataFrame\n",
    "    :return: nothing is returned the VIFs are printed as a pandas series\n",
    "    \"\"\"\n",
    "    # Silence numpy FutureWarning about .ptp\n",
    "    with warnings.catch_warnings():\n",
    "        warnings.simplefilter(\"ignore\")\n",
    "        x = sm.add_constant(x)\n",
    "\n",
    "    vifs = []\n",
    "    for i in range(x.shape[1]):\n",
    "        vif = variance_inflation_factor(x.values, i)\n",
    "        vifs.append(vif)\n",
    "\n",
    "    print(\"VIF results\\n-------------------------------\")\n",
    "    print(pd.Series(vifs, index=x.columns))\n",
    "    print(\"-------------------------------\\n\")"
   ]
  },
  {
   "cell_type": "code",
   "execution_count": 14,
   "metadata": {},
   "outputs": [
    {
     "name": "stderr",
     "output_type": "stream",
     "text": [
      "C:\\ProgramData\\Anaconda3\\lib\\site-packages\\IPython\\core\\interactiveshell.py:3063: DtypeWarning: Columns (0,19,55) have mixed types.Specify dtype option on import or set low_memory=False.\n",
      "  interactivity=interactivity, compiler=compiler, result=result)\n"
     ]
    },
    {
     "data": {
      "application/javascript": [
       "\n",
       "            setTimeout(function() {\n",
       "                var nbb_cell_id = 14;\n",
       "                var nbb_unformatted_code = \"# Replace the path with the correct path for your data.\\ny2015 = pd.read_csv(\\n    \\\"https://tf-assets-prod.s3.amazonaws.com/tf-curric/data-science/LoanStats3d.csv\\\",\\n    skipinitialspace=True,\\n    header=1,\\n)\\n\\n# Note the warning about dtypes.\";\n",
       "                var nbb_formatted_code = \"# Replace the path with the correct path for your data.\\ny2015 = pd.read_csv(\\n    \\\"https://tf-assets-prod.s3.amazonaws.com/tf-curric/data-science/LoanStats3d.csv\\\",\\n    skipinitialspace=True,\\n    header=1,\\n)\\n\\n# Note the warning about dtypes.\";\n",
       "                var nbb_cells = Jupyter.notebook.get_cells();\n",
       "                for (var i = 0; i < nbb_cells.length; ++i) {\n",
       "                    if (nbb_cells[i].input_prompt_number == nbb_cell_id) {\n",
       "                        if (nbb_cells[i].get_text() == nbb_unformatted_code) {\n",
       "                             nbb_cells[i].set_text(nbb_formatted_code);\n",
       "                        }\n",
       "                        break;\n",
       "                    }\n",
       "                }\n",
       "            }, 500);\n",
       "            "
      ],
      "text/plain": [
       "<IPython.core.display.Javascript object>"
      ]
     },
     "metadata": {},
     "output_type": "display_data"
    }
   ],
   "source": [
    "# Replace the path with the correct path for your data.\n",
    "y2015 = pd.read_csv(\n",
    "    \"https://tf-assets-prod.s3.amazonaws.com/tf-curric/data-science/LoanStats3d.csv\",\n",
    "    skipinitialspace=True,\n",
    "    header=1,\n",
    ")\n",
    "\n",
    "# Note the warning about dtypes."
   ]
  },
  {
   "cell_type": "code",
   "execution_count": 15,
   "metadata": {
    "run_control": {
     "frozen": false,
     "read_only": false
    }
   },
   "outputs": [
    {
     "data": {
      "application/javascript": [
       "\n",
       "            setTimeout(function() {\n",
       "                var nbb_cell_id = 15;\n",
       "                var nbb_unformatted_code = \"# Your code here.\\n\\n# Convert ID and Interest Rate to numeric.\\ny2015[\\\"id\\\"] = pd.to_numeric(y2015[\\\"id\\\"], errors=\\\"coerce\\\")\\ny2015[\\\"int_rate\\\"] = pd.to_numeric(y2015[\\\"int_rate\\\"].str.strip(\\\"%\\\"), errors=\\\"coerce\\\")\\n\\n# Drop other columns with many unique variables\\ny2015.drop(\\n    [\\n        \\\"url\\\",\\n        \\\"emp_title\\\",\\n        \\\"zip_code\\\",\\n        \\\"earliest_cr_line\\\",\\n        \\\"revol_util\\\",\\n        \\\"sub_grade\\\",\\n        \\\"addr_state\\\",\\n        \\\"desc\\\",\\n    ],\\n    1,\\n    inplace=True,\\n)\";\n",
       "                var nbb_formatted_code = \"# Your code here.\\n\\n# Convert ID and Interest Rate to numeric.\\ny2015[\\\"id\\\"] = pd.to_numeric(y2015[\\\"id\\\"], errors=\\\"coerce\\\")\\ny2015[\\\"int_rate\\\"] = pd.to_numeric(y2015[\\\"int_rate\\\"].str.strip(\\\"%\\\"), errors=\\\"coerce\\\")\\n\\n# Drop other columns with many unique variables\\ny2015.drop(\\n    [\\n        \\\"url\\\",\\n        \\\"emp_title\\\",\\n        \\\"zip_code\\\",\\n        \\\"earliest_cr_line\\\",\\n        \\\"revol_util\\\",\\n        \\\"sub_grade\\\",\\n        \\\"addr_state\\\",\\n        \\\"desc\\\",\\n    ],\\n    1,\\n    inplace=True,\\n)\";\n",
       "                var nbb_cells = Jupyter.notebook.get_cells();\n",
       "                for (var i = 0; i < nbb_cells.length; ++i) {\n",
       "                    if (nbb_cells[i].input_prompt_number == nbb_cell_id) {\n",
       "                        if (nbb_cells[i].get_text() == nbb_unformatted_code) {\n",
       "                             nbb_cells[i].set_text(nbb_formatted_code);\n",
       "                        }\n",
       "                        break;\n",
       "                    }\n",
       "                }\n",
       "            }, 500);\n",
       "            "
      ],
      "text/plain": [
       "<IPython.core.display.Javascript object>"
      ]
     },
     "metadata": {},
     "output_type": "display_data"
    }
   ],
   "source": [
    "# Your code here.\n",
    "\n",
    "# Convert ID and Interest Rate to numeric.\n",
    "y2015[\"id\"] = pd.to_numeric(y2015[\"id\"], errors=\"coerce\")\n",
    "y2015[\"int_rate\"] = pd.to_numeric(y2015[\"int_rate\"].str.strip(\"%\"), errors=\"coerce\")\n",
    "\n",
    "# Drop other columns with many unique variables\n",
    "y2015.drop(\n",
    "    [\n",
    "        \"url\",\n",
    "        \"emp_title\",\n",
    "        \"zip_code\",\n",
    "        \"earliest_cr_line\",\n",
    "        \"revol_util\",\n",
    "        \"sub_grade\",\n",
    "        \"addr_state\",\n",
    "        \"desc\",\n",
    "    ],\n",
    "    1,\n",
    "    inplace=True,\n",
    ")"
   ]
  },
  {
   "cell_type": "code",
   "execution_count": 16,
   "metadata": {},
   "outputs": [
    {
     "data": {
      "application/javascript": [
       "\n",
       "            setTimeout(function() {\n",
       "                var nbb_cell_id = 16;\n",
       "                var nbb_unformatted_code = \"# Remove two summary rows at the end that don't actually contain data.\\ny2015 = y2015[:-2]\";\n",
       "                var nbb_formatted_code = \"# Remove two summary rows at the end that don't actually contain data.\\ny2015 = y2015[:-2]\";\n",
       "                var nbb_cells = Jupyter.notebook.get_cells();\n",
       "                for (var i = 0; i < nbb_cells.length; ++i) {\n",
       "                    if (nbb_cells[i].input_prompt_number == nbb_cell_id) {\n",
       "                        if (nbb_cells[i].get_text() == nbb_unformatted_code) {\n",
       "                             nbb_cells[i].set_text(nbb_formatted_code);\n",
       "                        }\n",
       "                        break;\n",
       "                    }\n",
       "                }\n",
       "            }, 500);\n",
       "            "
      ],
      "text/plain": [
       "<IPython.core.display.Javascript object>"
      ]
     },
     "metadata": {},
     "output_type": "display_data"
    }
   ],
   "source": [
    "# Remove two summary rows at the end that don't actually contain data.\n",
    "y2015 = y2015[:-2]"
   ]
  },
  {
   "cell_type": "code",
   "execution_count": 17,
   "metadata": {},
   "outputs": [
    {
     "data": {
      "application/javascript": [
       "\n",
       "            setTimeout(function() {\n",
       "                var nbb_cell_id = 17;\n",
       "                var nbb_unformatted_code = \"missingness_df = y2015.isna().mean().sort_values(ascending=False)\";\n",
       "                var nbb_formatted_code = \"missingness_df = y2015.isna().mean().sort_values(ascending=False)\";\n",
       "                var nbb_cells = Jupyter.notebook.get_cells();\n",
       "                for (var i = 0; i < nbb_cells.length; ++i) {\n",
       "                    if (nbb_cells[i].input_prompt_number == nbb_cell_id) {\n",
       "                        if (nbb_cells[i].get_text() == nbb_unformatted_code) {\n",
       "                             nbb_cells[i].set_text(nbb_formatted_code);\n",
       "                        }\n",
       "                        break;\n",
       "                    }\n",
       "                }\n",
       "            }, 500);\n",
       "            "
      ],
      "text/plain": [
       "<IPython.core.display.Javascript object>"
      ]
     },
     "metadata": {},
     "output_type": "display_data"
    }
   ],
   "source": [
    "missingness_df = y2015.isna().mean().sort_values(ascending=False)"
   ]
  },
  {
   "cell_type": "code",
   "execution_count": 18,
   "metadata": {},
   "outputs": [
    {
     "data": {
      "application/javascript": [
       "\n",
       "            setTimeout(function() {\n",
       "                var nbb_cell_id = 18;\n",
       "                var nbb_unformatted_code = \"for col in missingness_df.index:\\n    if y2015[col].isna().mean()>0.05:\\n        y2015=y2015.drop(col, 1)\";\n",
       "                var nbb_formatted_code = \"for col in missingness_df.index:\\n    if y2015[col].isna().mean() > 0.05:\\n        y2015 = y2015.drop(col, 1)\";\n",
       "                var nbb_cells = Jupyter.notebook.get_cells();\n",
       "                for (var i = 0; i < nbb_cells.length; ++i) {\n",
       "                    if (nbb_cells[i].input_prompt_number == nbb_cell_id) {\n",
       "                        if (nbb_cells[i].get_text() == nbb_unformatted_code) {\n",
       "                             nbb_cells[i].set_text(nbb_formatted_code);\n",
       "                        }\n",
       "                        break;\n",
       "                    }\n",
       "                }\n",
       "            }, 500);\n",
       "            "
      ],
      "text/plain": [
       "<IPython.core.display.Javascript object>"
      ]
     },
     "metadata": {},
     "output_type": "display_data"
    }
   ],
   "source": [
    "for col in missingness_df.index:\n",
    "    if y2015[col].isna().mean()>0.05:\n",
    "        y2015=y2015.drop(col, 1)\n"
   ]
  },
  {
   "cell_type": "code",
   "execution_count": 19,
   "metadata": {},
   "outputs": [
    {
     "data": {
      "text/plain": [
       "id                            0.0\n",
       "member_id                     0.0\n",
       "loan_amnt                     0.0\n",
       "funded_amnt                   0.0\n",
       "funded_amnt_inv               0.0\n",
       "                             ... \n",
       "tax_liens                     0.0\n",
       "tot_hi_cred_lim               0.0\n",
       "total_bal_ex_mort             0.0\n",
       "total_bc_limit                0.0\n",
       "total_il_high_credit_limit    0.0\n",
       "Length: 78, dtype: float64"
      ]
     },
     "execution_count": 19,
     "metadata": {},
     "output_type": "execute_result"
    },
    {
     "data": {
      "application/javascript": [
       "\n",
       "            setTimeout(function() {\n",
       "                var nbb_cell_id = 19;\n",
       "                var nbb_unformatted_code = \"y2015.isna().mean()\";\n",
       "                var nbb_formatted_code = \"y2015.isna().mean()\";\n",
       "                var nbb_cells = Jupyter.notebook.get_cells();\n",
       "                for (var i = 0; i < nbb_cells.length; ++i) {\n",
       "                    if (nbb_cells[i].input_prompt_number == nbb_cell_id) {\n",
       "                        if (nbb_cells[i].get_text() == nbb_unformatted_code) {\n",
       "                             nbb_cells[i].set_text(nbb_formatted_code);\n",
       "                        }\n",
       "                        break;\n",
       "                    }\n",
       "                }\n",
       "            }, 500);\n",
       "            "
      ],
      "text/plain": [
       "<IPython.core.display.Javascript object>"
      ]
     },
     "metadata": {},
     "output_type": "display_data"
    }
   ],
   "source": [
    "y2015.isna().mean()"
   ]
  },
  {
   "cell_type": "code",
   "execution_count": 20,
   "metadata": {},
   "outputs": [
    {
     "data": {
      "application/javascript": [
       "\n",
       "            setTimeout(function() {\n",
       "                var nbb_cell_id = 20;\n",
       "                var nbb_unformatted_code = \"y2015 = y2015.dropna()\";\n",
       "                var nbb_formatted_code = \"y2015 = y2015.dropna()\";\n",
       "                var nbb_cells = Jupyter.notebook.get_cells();\n",
       "                for (var i = 0; i < nbb_cells.length; ++i) {\n",
       "                    if (nbb_cells[i].input_prompt_number == nbb_cell_id) {\n",
       "                        if (nbb_cells[i].get_text() == nbb_unformatted_code) {\n",
       "                             nbb_cells[i].set_text(nbb_formatted_code);\n",
       "                        }\n",
       "                        break;\n",
       "                    }\n",
       "                }\n",
       "            }, 500);\n",
       "            "
      ],
      "text/plain": [
       "<IPython.core.display.Javascript object>"
      ]
     },
     "metadata": {},
     "output_type": "display_data"
    }
   ],
   "source": [
    "y2015 = y2015.dropna()"
   ]
  },
  {
   "cell_type": "code",
   "execution_count": 21,
   "metadata": {},
   "outputs": [
    {
     "data": {
      "application/javascript": [
       "\n",
       "            setTimeout(function() {\n",
       "                var nbb_cell_id = 21;\n",
       "                var nbb_unformatted_code = \"drop_cols = [\\n    \\\"title\\\",\\n    \\\"last_pymnt_d\\\",\\n    \\\"acc_now_delinq\\\",\\n    \\\"policy_code\\\",\\n    \\\"purpose\\\",\\n    \\\"last_credit_pull_d\\\",\\n    \\\"delinq_amnt\\\",\\n    \\\"tax_liens\\\",\\n    \\\"grade\\\",\\n    \\\"loan_status\\\",\\n    \\\"id\\\",\\n    \\\"member_id\\\",\\n    \\\"issue_d\\\",\\n    \\\"pub_rec\\\",\\n    \\\"delinq_2yrs\\\",\\n    \\\"verification_status\\\",\\n    \\\"home_ownership\\\",\\n    \\\"num_tl_120dpd_2m\\\",\\n    \\\"num_tl_30dpd\\\",\\n    \\\"num_tl_90g_dpd_24m\\\",\\n    \\\"mort_acc\\\",\\n    \\\"chargeoff_within_12_mths\\\",\\n    \\\"collections_12_mths_ex_med\\\",\\n    \\\"initial_list_status\\\",\\n    \\\"inq_last_6mths\\\",\\n    \\\"tot_coll_amt\\\",\\n    \\\"num_sats\\\",\\n    \\\"tot_cur_bal\\\",\\n    \\\"open_acc\\\",\\n    \\\"pub_rec_bankruptcies\\\",\\n    \\\"mo_sin_rcnt_rev_tl_op\\\",\\n    \\\"total_acc\\\",\\n    \\\"bc_util\\\",\\n    \\\"num_tl_op_past_12m\\\",\\n    \\\"num_bc_sats\\\",\\n    \\\"num_actv_bc_tl\\\",\\n    \\\"percent_bc_gt_75\\\",\\n    \\\"num_actv_rev_tl\\\",\\n    \\\"num_op_rev_tl\\\",\\n    \\\"num_accts_ever_120_pd\\\",\\n    \\\"pct_tl_nvr_dlq\\\",\\n    \\\"acc_open_past_24mths\\\",\\n    \\\"num_il_tl\\\",\\n    \\\"mo_sin_rcnt_tl\\\",\\n    \\\"num_bc_tl\\\",\\n    \\\"num_rev_tl_bal_gt_0\\\",\\n    \\\"annual_inc\\\",\\n    \\\"total_rec_late_fee\\\",\\n    \\\"avg_cur_bal\\\",\\n]\\nX = y2015.drop(columns=drop_cols)\\ny = y2015[\\\"loan_status\\\"]\";\n",
       "                var nbb_formatted_code = \"drop_cols = [\\n    \\\"title\\\",\\n    \\\"last_pymnt_d\\\",\\n    \\\"acc_now_delinq\\\",\\n    \\\"policy_code\\\",\\n    \\\"purpose\\\",\\n    \\\"last_credit_pull_d\\\",\\n    \\\"delinq_amnt\\\",\\n    \\\"tax_liens\\\",\\n    \\\"grade\\\",\\n    \\\"loan_status\\\",\\n    \\\"id\\\",\\n    \\\"member_id\\\",\\n    \\\"issue_d\\\",\\n    \\\"pub_rec\\\",\\n    \\\"delinq_2yrs\\\",\\n    \\\"verification_status\\\",\\n    \\\"home_ownership\\\",\\n    \\\"num_tl_120dpd_2m\\\",\\n    \\\"num_tl_30dpd\\\",\\n    \\\"num_tl_90g_dpd_24m\\\",\\n    \\\"mort_acc\\\",\\n    \\\"chargeoff_within_12_mths\\\",\\n    \\\"collections_12_mths_ex_med\\\",\\n    \\\"initial_list_status\\\",\\n    \\\"inq_last_6mths\\\",\\n    \\\"tot_coll_amt\\\",\\n    \\\"num_sats\\\",\\n    \\\"tot_cur_bal\\\",\\n    \\\"open_acc\\\",\\n    \\\"pub_rec_bankruptcies\\\",\\n    \\\"mo_sin_rcnt_rev_tl_op\\\",\\n    \\\"total_acc\\\",\\n    \\\"bc_util\\\",\\n    \\\"num_tl_op_past_12m\\\",\\n    \\\"num_bc_sats\\\",\\n    \\\"num_actv_bc_tl\\\",\\n    \\\"percent_bc_gt_75\\\",\\n    \\\"num_actv_rev_tl\\\",\\n    \\\"num_op_rev_tl\\\",\\n    \\\"num_accts_ever_120_pd\\\",\\n    \\\"pct_tl_nvr_dlq\\\",\\n    \\\"acc_open_past_24mths\\\",\\n    \\\"num_il_tl\\\",\\n    \\\"mo_sin_rcnt_tl\\\",\\n    \\\"num_bc_tl\\\",\\n    \\\"num_rev_tl_bal_gt_0\\\",\\n    \\\"annual_inc\\\",\\n    \\\"total_rec_late_fee\\\",\\n    \\\"avg_cur_bal\\\",\\n]\\nX = y2015.drop(columns=drop_cols)\\ny = y2015[\\\"loan_status\\\"]\";\n",
       "                var nbb_cells = Jupyter.notebook.get_cells();\n",
       "                for (var i = 0; i < nbb_cells.length; ++i) {\n",
       "                    if (nbb_cells[i].input_prompt_number == nbb_cell_id) {\n",
       "                        if (nbb_cells[i].get_text() == nbb_unformatted_code) {\n",
       "                             nbb_cells[i].set_text(nbb_formatted_code);\n",
       "                        }\n",
       "                        break;\n",
       "                    }\n",
       "                }\n",
       "            }, 500);\n",
       "            "
      ],
      "text/plain": [
       "<IPython.core.display.Javascript object>"
      ]
     },
     "metadata": {},
     "output_type": "display_data"
    }
   ],
   "source": [
    "drop_cols = [\n",
    "    \"title\",\n",
    "    \"last_pymnt_d\",\n",
    "    \"acc_now_delinq\",\n",
    "    \"policy_code\",\n",
    "    \"purpose\",\n",
    "    \"last_credit_pull_d\",\n",
    "    \"delinq_amnt\",\n",
    "    \"tax_liens\",\n",
    "    \"grade\",\n",
    "    \"loan_status\",\n",
    "    \"id\",\n",
    "    \"member_id\",\n",
    "    \"issue_d\",\n",
    "    \"pub_rec\",\n",
    "    \"delinq_2yrs\",\n",
    "    \"verification_status\",\n",
    "    \"home_ownership\",\n",
    "    \"num_tl_120dpd_2m\",\n",
    "    \"num_tl_30dpd\",\n",
    "    \"num_tl_90g_dpd_24m\",\n",
    "    \"mort_acc\",\n",
    "    \"chargeoff_within_12_mths\",\n",
    "    \"collections_12_mths_ex_med\",\n",
    "    \"initial_list_status\",\n",
    "    \"inq_last_6mths\",\n",
    "    \"tot_coll_amt\",\n",
    "    \"num_sats\",\n",
    "    \"tot_cur_bal\",\n",
    "    \"open_acc\",\n",
    "    \"pub_rec_bankruptcies\",\n",
    "    \"mo_sin_rcnt_rev_tl_op\",\n",
    "    \"total_acc\",\n",
    "    \"bc_util\",\n",
    "    \"num_tl_op_past_12m\",\n",
    "    \"num_bc_sats\",\n",
    "    \"num_actv_bc_tl\",\n",
    "    \"percent_bc_gt_75\",\n",
    "    \"num_actv_rev_tl\",\n",
    "    \"num_op_rev_tl\",\n",
    "    \"num_accts_ever_120_pd\",\n",
    "    \"pct_tl_nvr_dlq\",\n",
    "    \"acc_open_past_24mths\",\n",
    "    \"num_il_tl\",\n",
    "    \"mo_sin_rcnt_tl\",\n",
    "    \"num_bc_tl\",\n",
    "    \"num_rev_tl_bal_gt_0\",\n",
    "    \"annual_inc\",\n",
    "    \"total_rec_late_fee\",\n",
    "    \"avg_cur_bal\",\n",
    "]\n",
    "X = y2015.drop(columns=drop_cols)\n",
    "y = y2015[\"loan_status\"]"
   ]
  },
  {
   "cell_type": "code",
   "execution_count": 22,
   "metadata": {},
   "outputs": [
    {
     "data": {
      "text/plain": [
       "Index(['loan_amnt', 'funded_amnt', 'funded_amnt_inv', 'term', 'int_rate',\n",
       "       'installment', 'pymnt_plan', 'dti', 'revol_bal', 'out_prncp',\n",
       "       'out_prncp_inv', 'total_pymnt', 'total_pymnt_inv', 'total_rec_prncp',\n",
       "       'total_rec_int', 'recoveries', 'collection_recovery_fee',\n",
       "       'last_pymnt_amnt', 'application_type', 'total_rev_hi_lim',\n",
       "       'bc_open_to_buy', 'mo_sin_old_il_acct', 'mo_sin_old_rev_tl_op',\n",
       "       'mths_since_recent_bc', 'num_rev_accts', 'tot_hi_cred_lim',\n",
       "       'total_bal_ex_mort', 'total_bc_limit', 'total_il_high_credit_limit'],\n",
       "      dtype='object')"
      ]
     },
     "execution_count": 22,
     "metadata": {},
     "output_type": "execute_result"
    },
    {
     "data": {
      "application/javascript": [
       "\n",
       "            setTimeout(function() {\n",
       "                var nbb_cell_id = 22;\n",
       "                var nbb_unformatted_code = \"X.columns\";\n",
       "                var nbb_formatted_code = \"X.columns\";\n",
       "                var nbb_cells = Jupyter.notebook.get_cells();\n",
       "                for (var i = 0; i < nbb_cells.length; ++i) {\n",
       "                    if (nbb_cells[i].input_prompt_number == nbb_cell_id) {\n",
       "                        if (nbb_cells[i].get_text() == nbb_unformatted_code) {\n",
       "                             nbb_cells[i].set_text(nbb_formatted_code);\n",
       "                        }\n",
       "                        break;\n",
       "                    }\n",
       "                }\n",
       "            }, 500);\n",
       "            "
      ],
      "text/plain": [
       "<IPython.core.display.Javascript object>"
      ]
     },
     "metadata": {},
     "output_type": "display_data"
    }
   ],
   "source": [
    "X.columns"
   ]
  },
  {
   "cell_type": "code",
   "execution_count": 23,
   "metadata": {},
   "outputs": [
    {
     "data": {
      "application/javascript": [
       "\n",
       "            setTimeout(function() {\n",
       "                var nbb_cell_id = 23;\n",
       "                var nbb_unformatted_code = \"X = pd.get_dummies(X, drop_first=True)\";\n",
       "                var nbb_formatted_code = \"X = pd.get_dummies(X, drop_first=True)\";\n",
       "                var nbb_cells = Jupyter.notebook.get_cells();\n",
       "                for (var i = 0; i < nbb_cells.length; ++i) {\n",
       "                    if (nbb_cells[i].input_prompt_number == nbb_cell_id) {\n",
       "                        if (nbb_cells[i].get_text() == nbb_unformatted_code) {\n",
       "                             nbb_cells[i].set_text(nbb_formatted_code);\n",
       "                        }\n",
       "                        break;\n",
       "                    }\n",
       "                }\n",
       "            }, 500);\n",
       "            "
      ],
      "text/plain": [
       "<IPython.core.display.Javascript object>"
      ]
     },
     "metadata": {},
     "output_type": "display_data"
    }
   ],
   "source": [
    "X = pd.get_dummies(X, drop_first=True)\n"
   ]
  },
  {
   "cell_type": "code",
   "execution_count": 24,
   "metadata": {},
   "outputs": [
    {
     "data": {
      "application/javascript": [
       "\n",
       "            setTimeout(function() {\n",
       "                var nbb_cell_id = 24;\n",
       "                var nbb_unformatted_code = \"# encoder = TargetEncoder(cols=cat_cols)\\n# encoder.fit(X, y)\\n# X = encoder.transform(X)\";\n",
       "                var nbb_formatted_code = \"# encoder = TargetEncoder(cols=cat_cols)\\n# encoder.fit(X, y)\\n# X = encoder.transform(X)\";\n",
       "                var nbb_cells = Jupyter.notebook.get_cells();\n",
       "                for (var i = 0; i < nbb_cells.length; ++i) {\n",
       "                    if (nbb_cells[i].input_prompt_number == nbb_cell_id) {\n",
       "                        if (nbb_cells[i].get_text() == nbb_unformatted_code) {\n",
       "                             nbb_cells[i].set_text(nbb_formatted_code);\n",
       "                        }\n",
       "                        break;\n",
       "                    }\n",
       "                }\n",
       "            }, 500);\n",
       "            "
      ],
      "text/plain": [
       "<IPython.core.display.Javascript object>"
      ]
     },
     "metadata": {},
     "output_type": "display_data"
    }
   ],
   "source": [
    "# encoder = TargetEncoder(cols=cat_cols)\n",
    "# encoder.fit(X, y)\n",
    "# X = encoder.transform(X)\n"
   ]
  },
  {
   "cell_type": "code",
   "execution_count": 25,
   "metadata": {},
   "outputs": [
    {
     "data": {
      "text/plain": [
       "RandomForestClassifier(bootstrap=True, ccp_alpha=0.0, class_weight=None,\n",
       "                       criterion='gini', max_depth=None, max_features='auto',\n",
       "                       max_leaf_nodes=None, max_samples=None,\n",
       "                       min_impurity_decrease=0.0, min_impurity_split=None,\n",
       "                       min_samples_leaf=1, min_samples_split=2,\n",
       "                       min_weight_fraction_leaf=0.0, n_estimators=20, n_jobs=-1,\n",
       "                       oob_score=False, random_state=None, verbose=0,\n",
       "                       warm_start=False)"
      ]
     },
     "execution_count": 25,
     "metadata": {},
     "output_type": "execute_result"
    },
    {
     "data": {
      "application/javascript": [
       "\n",
       "            setTimeout(function() {\n",
       "                var nbb_cell_id = 25;\n",
       "                var nbb_unformatted_code = \"model = RandomForestClassifier(n_estimators=20, n_jobs=-1)\\nmodel.fit(X, y)\";\n",
       "                var nbb_formatted_code = \"model = RandomForestClassifier(n_estimators=20, n_jobs=-1)\\nmodel.fit(X, y)\";\n",
       "                var nbb_cells = Jupyter.notebook.get_cells();\n",
       "                for (var i = 0; i < nbb_cells.length; ++i) {\n",
       "                    if (nbb_cells[i].input_prompt_number == nbb_cell_id) {\n",
       "                        if (nbb_cells[i].get_text() == nbb_unformatted_code) {\n",
       "                             nbb_cells[i].set_text(nbb_formatted_code);\n",
       "                        }\n",
       "                        break;\n",
       "                    }\n",
       "                }\n",
       "            }, 500);\n",
       "            "
      ],
      "text/plain": [
       "<IPython.core.display.Javascript object>"
      ]
     },
     "metadata": {},
     "output_type": "display_data"
    }
   ],
   "source": [
    "model = RandomForestClassifier(n_estimators=20, n_jobs=-1)\n",
    "model.fit(X, y)"
   ]
  },
  {
   "cell_type": "code",
   "execution_count": 26,
   "metadata": {},
   "outputs": [
    {
     "data": {
      "text/plain": [
       "0.9967292374013389"
      ]
     },
     "execution_count": 26,
     "metadata": {},
     "output_type": "execute_result"
    },
    {
     "data": {
      "application/javascript": [
       "\n",
       "            setTimeout(function() {\n",
       "                var nbb_cell_id = 26;\n",
       "                var nbb_unformatted_code = \"model.score(X, y)\";\n",
       "                var nbb_formatted_code = \"model.score(X, y)\";\n",
       "                var nbb_cells = Jupyter.notebook.get_cells();\n",
       "                for (var i = 0; i < nbb_cells.length; ++i) {\n",
       "                    if (nbb_cells[i].input_prompt_number == nbb_cell_id) {\n",
       "                        if (nbb_cells[i].get_text() == nbb_unformatted_code) {\n",
       "                             nbb_cells[i].set_text(nbb_formatted_code);\n",
       "                        }\n",
       "                        break;\n",
       "                    }\n",
       "                }\n",
       "            }, 500);\n",
       "            "
      ],
      "text/plain": [
       "<IPython.core.display.Javascript object>"
      ]
     },
     "metadata": {},
     "output_type": "display_data"
    }
   ],
   "source": [
    "model.score(X, y)"
   ]
  },
  {
   "cell_type": "code",
   "execution_count": 27,
   "metadata": {},
   "outputs": [
    {
     "data": {
      "application/javascript": [
       "\n",
       "            setTimeout(function() {\n",
       "                var nbb_cell_id = 27;\n",
       "                var nbb_unformatted_code = \"feat_imp = pd.DataFrame({\\\"feat\\\": X.columns, \\\"importance\\\": model.feature_importances_})\";\n",
       "                var nbb_formatted_code = \"feat_imp = pd.DataFrame({\\\"feat\\\": X.columns, \\\"importance\\\": model.feature_importances_})\";\n",
       "                var nbb_cells = Jupyter.notebook.get_cells();\n",
       "                for (var i = 0; i < nbb_cells.length; ++i) {\n",
       "                    if (nbb_cells[i].input_prompt_number == nbb_cell_id) {\n",
       "                        if (nbb_cells[i].get_text() == nbb_unformatted_code) {\n",
       "                             nbb_cells[i].set_text(nbb_formatted_code);\n",
       "                        }\n",
       "                        break;\n",
       "                    }\n",
       "                }\n",
       "            }, 500);\n",
       "            "
      ],
      "text/plain": [
       "<IPython.core.display.Javascript object>"
      ]
     },
     "metadata": {},
     "output_type": "display_data"
    }
   ],
   "source": [
    "feat_imp = pd.DataFrame({\"feat\": X.columns, \"importance\": model.feature_importances_})"
   ]
  },
  {
   "cell_type": "code",
   "execution_count": 28,
   "metadata": {},
   "outputs": [
    {
     "data": {
      "text/plain": [
       "['num_rev_accts']"
      ]
     },
     "execution_count": 28,
     "metadata": {},
     "output_type": "execute_result"
    },
    {
     "data": {
      "application/javascript": [
       "\n",
       "            setTimeout(function() {\n",
       "                var nbb_cell_id = 28;\n",
       "                var nbb_unformatted_code = \"[\\n    \\\"title\\\",\\n    \\\"last_pymnt_d\\\",\\n    \\\"num_tl\\\",\\n    \\\"policy_code\\\",\\n    \\\"purpose\\\",\\n    \\\"last_credit_pull_d\\\",\\n    \\\"delinq_amnt\\\",\\n    \\\"tax_liens\\\",\\n    \\\"grade\\\",\\n    'issue_d',\\n    'pub_rec',\\n    'delinq_2yrs',\\n    'verification_status',\\n    'home_ownership',\\n    'num_tl_120dpd',\\n    'num_tl_30dpd',\\n    'num_tl_90g_dpd'\\n    'mort_acc',\\n    'chargeoff_within_12_mths',\\n    'collections_12_mths_ex_med',\\n    'initial_list_status_w',\\n    'inq_last_6mths',\\n    'tot_coll_amt',\\n    'num_sats',\\n    'tot_cur_bal'\\n]\\n[\\n    'open_acc',\\n    'pub_rec_bankruptcies',\\n    'mo_sin_rcnt_rev_tl_op',\\n    'total_acc',\\n    'bc_util',\\n    'num_tl_op_past_12m',\\n    'num_bc_sats',\\n    'num_actv_bc_tl',\\n    'percent_bc_gt_75'\\n    'num_actv_rev_tl',\\n    'num_op_rev_tl'\\n]\\n[\\n    'num_accts_ever_120_pd',\\n    'pct_tl_nvr_dlq',\\n    'acc_open_past_24mths',\\n    'num_il_tl',\\n    'mo_sin_rcnt_tl',\\n    'num_bc_tl',\\n    'num_rev_tl_bal_gt_0'\\n    'annual_inc',\\n    'total_rec_late_fee',\\n    'avg_cur_bal'\\n]\\n\\n[\\n    'num_rev_accts',\\n    \\n]\";\n",
       "                var nbb_formatted_code = \"[\\n    \\\"title\\\",\\n    \\\"last_pymnt_d\\\",\\n    \\\"num_tl\\\",\\n    \\\"policy_code\\\",\\n    \\\"purpose\\\",\\n    \\\"last_credit_pull_d\\\",\\n    \\\"delinq_amnt\\\",\\n    \\\"tax_liens\\\",\\n    \\\"grade\\\",\\n    \\\"issue_d\\\",\\n    \\\"pub_rec\\\",\\n    \\\"delinq_2yrs\\\",\\n    \\\"verification_status\\\",\\n    \\\"home_ownership\\\",\\n    \\\"num_tl_120dpd\\\",\\n    \\\"num_tl_30dpd\\\",\\n    \\\"num_tl_90g_dpd\\\" \\\"mort_acc\\\",\\n    \\\"chargeoff_within_12_mths\\\",\\n    \\\"collections_12_mths_ex_med\\\",\\n    \\\"initial_list_status_w\\\",\\n    \\\"inq_last_6mths\\\",\\n    \\\"tot_coll_amt\\\",\\n    \\\"num_sats\\\",\\n    \\\"tot_cur_bal\\\",\\n]\\n[\\n    \\\"open_acc\\\",\\n    \\\"pub_rec_bankruptcies\\\",\\n    \\\"mo_sin_rcnt_rev_tl_op\\\",\\n    \\\"total_acc\\\",\\n    \\\"bc_util\\\",\\n    \\\"num_tl_op_past_12m\\\",\\n    \\\"num_bc_sats\\\",\\n    \\\"num_actv_bc_tl\\\",\\n    \\\"percent_bc_gt_75\\\" \\\"num_actv_rev_tl\\\",\\n    \\\"num_op_rev_tl\\\",\\n]\\n[\\n    \\\"num_accts_ever_120_pd\\\",\\n    \\\"pct_tl_nvr_dlq\\\",\\n    \\\"acc_open_past_24mths\\\",\\n    \\\"num_il_tl\\\",\\n    \\\"mo_sin_rcnt_tl\\\",\\n    \\\"num_bc_tl\\\",\\n    \\\"num_rev_tl_bal_gt_0\\\" \\\"annual_inc\\\",\\n    \\\"total_rec_late_fee\\\",\\n    \\\"avg_cur_bal\\\",\\n]\\n\\n[\\n    \\\"num_rev_accts\\\",\\n]\";\n",
       "                var nbb_cells = Jupyter.notebook.get_cells();\n",
       "                for (var i = 0; i < nbb_cells.length; ++i) {\n",
       "                    if (nbb_cells[i].input_prompt_number == nbb_cell_id) {\n",
       "                        if (nbb_cells[i].get_text() == nbb_unformatted_code) {\n",
       "                             nbb_cells[i].set_text(nbb_formatted_code);\n",
       "                        }\n",
       "                        break;\n",
       "                    }\n",
       "                }\n",
       "            }, 500);\n",
       "            "
      ],
      "text/plain": [
       "<IPython.core.display.Javascript object>"
      ]
     },
     "metadata": {},
     "output_type": "display_data"
    }
   ],
   "source": [
    "[\n",
    "    \"title\",\n",
    "    \"last_pymnt_d\",\n",
    "    \"num_tl\",\n",
    "    \"policy_code\",\n",
    "    \"purpose\",\n",
    "    \"last_credit_pull_d\",\n",
    "    \"delinq_amnt\",\n",
    "    \"tax_liens\",\n",
    "    \"grade\",\n",
    "    \"issue_d\",\n",
    "    \"pub_rec\",\n",
    "    \"delinq_2yrs\",\n",
    "    \"verification_status\",\n",
    "    \"home_ownership\",\n",
    "    \"num_tl_120dpd\",\n",
    "    \"num_tl_30dpd\",\n",
    "    \"num_tl_90g_dpd\" \"mort_acc\",\n",
    "    \"chargeoff_within_12_mths\",\n",
    "    \"collections_12_mths_ex_med\",\n",
    "    \"initial_list_status_w\",\n",
    "    \"inq_last_6mths\",\n",
    "    \"tot_coll_amt\",\n",
    "    \"num_sats\",\n",
    "    \"tot_cur_bal\",\n",
    "]\n",
    "[\n",
    "    \"open_acc\",\n",
    "    \"pub_rec_bankruptcies\",\n",
    "    \"mo_sin_rcnt_rev_tl_op\",\n",
    "    \"total_acc\",\n",
    "    \"bc_util\",\n",
    "    \"num_tl_op_past_12m\",\n",
    "    \"num_bc_sats\",\n",
    "    \"num_actv_bc_tl\",\n",
    "    \"percent_bc_gt_75\" \"num_actv_rev_tl\",\n",
    "    \"num_op_rev_tl\",\n",
    "]\n",
    "[\n",
    "    \"num_accts_ever_120_pd\",\n",
    "    \"pct_tl_nvr_dlq\",\n",
    "    \"acc_open_past_24mths\",\n",
    "    \"num_il_tl\",\n",
    "    \"mo_sin_rcnt_tl\",\n",
    "    \"num_bc_tl\",\n",
    "    \"num_rev_tl_bal_gt_0\" \"annual_inc\",\n",
    "    \"total_rec_late_fee\",\n",
    "    \"avg_cur_bal\",\n",
    "]\n",
    "\n",
    "[\n",
    "    \"num_rev_accts\",\n",
    "]"
   ]
  },
  {
   "cell_type": "code",
   "execution_count": null,
   "metadata": {},
   "outputs": [],
   "source": []
  },
  {
   "cell_type": "code",
   "execution_count": 29,
   "metadata": {},
   "outputs": [
    {
     "data": {
      "text/html": [
       "<div>\n",
       "<style scoped>\n",
       "    .dataframe tbody tr th:only-of-type {\n",
       "        vertical-align: middle;\n",
       "    }\n",
       "\n",
       "    .dataframe tbody tr th {\n",
       "        vertical-align: top;\n",
       "    }\n",
       "\n",
       "    .dataframe thead th {\n",
       "        text-align: right;\n",
       "    }\n",
       "</style>\n",
       "<table border=\"1\" class=\"dataframe\">\n",
       "  <thead>\n",
       "    <tr style=\"text-align: right;\">\n",
       "      <th></th>\n",
       "      <th>feat</th>\n",
       "      <th>importance</th>\n",
       "    </tr>\n",
       "  </thead>\n",
       "  <tbody>\n",
       "    <tr>\n",
       "      <th>7</th>\n",
       "      <td>out_prncp</td>\n",
       "      <td>0.320018</td>\n",
       "    </tr>\n",
       "    <tr>\n",
       "      <th>8</th>\n",
       "      <td>out_prncp_inv</td>\n",
       "      <td>0.166575</td>\n",
       "    </tr>\n",
       "    <tr>\n",
       "      <th>15</th>\n",
       "      <td>last_pymnt_amnt</td>\n",
       "      <td>0.143039</td>\n",
       "    </tr>\n",
       "    <tr>\n",
       "      <th>11</th>\n",
       "      <td>total_rec_prncp</td>\n",
       "      <td>0.096462</td>\n",
       "    </tr>\n",
       "    <tr>\n",
       "      <th>9</th>\n",
       "      <td>total_pymnt</td>\n",
       "      <td>0.054579</td>\n",
       "    </tr>\n",
       "    <tr>\n",
       "      <th>10</th>\n",
       "      <td>total_pymnt_inv</td>\n",
       "      <td>0.030605</td>\n",
       "    </tr>\n",
       "    <tr>\n",
       "      <th>13</th>\n",
       "      <td>recoveries</td>\n",
       "      <td>0.017837</td>\n",
       "    </tr>\n",
       "    <tr>\n",
       "      <th>12</th>\n",
       "      <td>total_rec_int</td>\n",
       "      <td>0.016692</td>\n",
       "    </tr>\n",
       "    <tr>\n",
       "      <th>1</th>\n",
       "      <td>funded_amnt</td>\n",
       "      <td>0.015739</td>\n",
       "    </tr>\n",
       "    <tr>\n",
       "      <th>0</th>\n",
       "      <td>loan_amnt</td>\n",
       "      <td>0.015644</td>\n",
       "    </tr>\n",
       "    <tr>\n",
       "      <th>14</th>\n",
       "      <td>collection_recovery_fee</td>\n",
       "      <td>0.015332</td>\n",
       "    </tr>\n",
       "    <tr>\n",
       "      <th>4</th>\n",
       "      <td>installment</td>\n",
       "      <td>0.014224</td>\n",
       "    </tr>\n",
       "    <tr>\n",
       "      <th>2</th>\n",
       "      <td>funded_amnt_inv</td>\n",
       "      <td>0.009922</td>\n",
       "    </tr>\n",
       "    <tr>\n",
       "      <th>5</th>\n",
       "      <td>dti</td>\n",
       "      <td>0.006913</td>\n",
       "    </tr>\n",
       "    <tr>\n",
       "      <th>3</th>\n",
       "      <td>int_rate</td>\n",
       "      <td>0.006802</td>\n",
       "    </tr>\n",
       "    <tr>\n",
       "      <th>22</th>\n",
       "      <td>tot_hi_cred_lim</td>\n",
       "      <td>0.006791</td>\n",
       "    </tr>\n",
       "  </tbody>\n",
       "</table>\n",
       "</div>"
      ],
      "text/plain": [
       "                       feat  importance\n",
       "7                 out_prncp    0.320018\n",
       "8             out_prncp_inv    0.166575\n",
       "15          last_pymnt_amnt    0.143039\n",
       "11          total_rec_prncp    0.096462\n",
       "9               total_pymnt    0.054579\n",
       "10          total_pymnt_inv    0.030605\n",
       "13               recoveries    0.017837\n",
       "12            total_rec_int    0.016692\n",
       "1               funded_amnt    0.015739\n",
       "0                 loan_amnt    0.015644\n",
       "14  collection_recovery_fee    0.015332\n",
       "4               installment    0.014224\n",
       "2           funded_amnt_inv    0.009922\n",
       "5                       dti    0.006913\n",
       "3                  int_rate    0.006802\n",
       "22          tot_hi_cred_lim    0.006791"
      ]
     },
     "execution_count": 29,
     "metadata": {},
     "output_type": "execute_result"
    },
    {
     "data": {
      "application/javascript": [
       "\n",
       "            setTimeout(function() {\n",
       "                var nbb_cell_id = 29;\n",
       "                var nbb_unformatted_code = \"feat_imp.sort_values(by=\\\"importance\\\", ascending=False).loc[:][:16]\";\n",
       "                var nbb_formatted_code = \"feat_imp.sort_values(by=\\\"importance\\\", ascending=False).loc[:][:16]\";\n",
       "                var nbb_cells = Jupyter.notebook.get_cells();\n",
       "                for (var i = 0; i < nbb_cells.length; ++i) {\n",
       "                    if (nbb_cells[i].input_prompt_number == nbb_cell_id) {\n",
       "                        if (nbb_cells[i].get_text() == nbb_unformatted_code) {\n",
       "                             nbb_cells[i].set_text(nbb_formatted_code);\n",
       "                        }\n",
       "                        break;\n",
       "                    }\n",
       "                }\n",
       "            }, 500);\n",
       "            "
      ],
      "text/plain": [
       "<IPython.core.display.Javascript object>"
      ]
     },
     "metadata": {},
     "output_type": "display_data"
    }
   ],
   "source": [
    "feat_imp.sort_values(by=\"importance\", ascending=False).loc[:][:16]"
   ]
  },
  {
   "cell_type": "code",
   "execution_count": 30,
   "metadata": {},
   "outputs": [
    {
     "data": {
      "application/javascript": [
       "\n",
       "            setTimeout(function() {\n",
       "                var nbb_cell_id = 30;\n",
       "                var nbb_unformatted_code = \"keep_cols = (\\n    feat_imp.sort_values(by=\\\"importance\\\", ascending=False).loc[:][:3][\\\"feat\\\"].values\\n)\";\n",
       "                var nbb_formatted_code = \"keep_cols = (\\n    feat_imp.sort_values(by=\\\"importance\\\", ascending=False).loc[:][:3][\\\"feat\\\"].values\\n)\";\n",
       "                var nbb_cells = Jupyter.notebook.get_cells();\n",
       "                for (var i = 0; i < nbb_cells.length; ++i) {\n",
       "                    if (nbb_cells[i].input_prompt_number == nbb_cell_id) {\n",
       "                        if (nbb_cells[i].get_text() == nbb_unformatted_code) {\n",
       "                             nbb_cells[i].set_text(nbb_formatted_code);\n",
       "                        }\n",
       "                        break;\n",
       "                    }\n",
       "                }\n",
       "            }, 500);\n",
       "            "
      ],
      "text/plain": [
       "<IPython.core.display.Javascript object>"
      ]
     },
     "metadata": {},
     "output_type": "display_data"
    }
   ],
   "source": [
    "keep_cols = (\n",
    "    feat_imp.sort_values(by=\"importance\", ascending=False).loc[:][:3][\"feat\"].values\n",
    ")"
   ]
  },
  {
   "cell_type": "code",
   "execution_count": 31,
   "metadata": {},
   "outputs": [
    {
     "data": {
      "application/javascript": [
       "\n",
       "            setTimeout(function() {\n",
       "                var nbb_cell_id = 31;\n",
       "                var nbb_unformatted_code = \"X = y2015[keep_cols]\";\n",
       "                var nbb_formatted_code = \"X = y2015[keep_cols]\";\n",
       "                var nbb_cells = Jupyter.notebook.get_cells();\n",
       "                for (var i = 0; i < nbb_cells.length; ++i) {\n",
       "                    if (nbb_cells[i].input_prompt_number == nbb_cell_id) {\n",
       "                        if (nbb_cells[i].get_text() == nbb_unformatted_code) {\n",
       "                             nbb_cells[i].set_text(nbb_formatted_code);\n",
       "                        }\n",
       "                        break;\n",
       "                    }\n",
       "                }\n",
       "            }, 500);\n",
       "            "
      ],
      "text/plain": [
       "<IPython.core.display.Javascript object>"
      ]
     },
     "metadata": {},
     "output_type": "display_data"
    }
   ],
   "source": [
    "X = y2015[keep_cols]"
   ]
  },
  {
   "cell_type": "code",
   "execution_count": null,
   "metadata": {},
   "outputs": [],
   "source": [
    "\n",
    "rfc.fit(X,y)"
   ]
  },
  {
   "cell_type": "code",
   "execution_count": 36,
   "metadata": {},
   "outputs": [
    {
     "data": {
      "application/javascript": [
       "\n",
       "            setTimeout(function() {\n",
       "                var nbb_cell_id = 36;\n",
       "                var nbb_unformatted_code = \"n_sample = 1000\";\n",
       "                var nbb_formatted_code = \"n_sample = 1000\";\n",
       "                var nbb_cells = Jupyter.notebook.get_cells();\n",
       "                for (var i = 0; i < nbb_cells.length; ++i) {\n",
       "                    if (nbb_cells[i].input_prompt_number == nbb_cell_id) {\n",
       "                        if (nbb_cells[i].get_text() == nbb_unformatted_code) {\n",
       "                             nbb_cells[i].set_text(nbb_formatted_code);\n",
       "                        }\n",
       "                        break;\n",
       "                    }\n",
       "                }\n",
       "            }, 500);\n",
       "            "
      ],
      "text/plain": [
       "<IPython.core.display.Javascript object>"
      ]
     },
     "metadata": {},
     "output_type": "display_data"
    }
   ],
   "source": [
    "n_sample = 1000"
   ]
  },
  {
   "cell_type": "code",
   "execution_count": null,
   "metadata": {},
   "outputs": [
    {
     "name": "stderr",
     "output_type": "stream",
     "text": [
      "C:\\ProgramData\\Anaconda3\\lib\\site-packages\\sklearn\\model_selection\\_split.py:667: UserWarning: The least populated class in y has only 3 members, which is less than n_splits=10.\n",
      "  % (min_groups, self.n_splits)), UserWarning)\n"
     ]
    }
   ],
   "source": [
    "rfc = RandomForestClassifier()\n",
    "# X = y2015.drop('loan_status', 1)\n",
    "# Y = y2015['loan_status']\n",
    "# X = pd.get_dummies(X)\n",
    "# X = X.dropna(axis=1)\n",
    "X_sample = X.sample(n=n_sample, random_state=34)\n",
    "y_sample = y.sample(n=n_sample, random_state=34)\n",
    "cross_val_score(rfc, X_sample, y_sample, cv=10)"
   ]
  },
  {
   "cell_type": "code",
   "execution_count": null,
   "metadata": {},
   "outputs": [],
   "source": [
    "# col_filter = selector.get_support()\n",
    "# X.columns[col_filter]"
   ]
  }
 ],
 "metadata": {
  "hide_input": false,
  "kernelspec": {
   "display_name": "Python 3",
   "language": "python",
   "name": "python3"
  },
  "language_info": {
   "codemirror_mode": {
    "name": "ipython",
    "version": 3
   },
   "file_extension": ".py",
   "mimetype": "text/x-python",
   "name": "python",
   "nbconvert_exporter": "python",
   "pygments_lexer": "ipython3",
   "version": "3.7.6"
  },
  "toc": {
   "colors": {
    "hover_highlight": "#DAA520",
    "running_highlight": "#FF0000",
    "selected_highlight": "#FFD700"
   },
   "moveMenuLeft": true,
   "nav_menu": {
    "height": "86px",
    "width": "252px"
   },
   "navigate_menu": true,
   "number_sections": true,
   "sideBar": true,
   "threshold": 4,
   "toc_cell": false,
   "toc_section_display": "block",
   "toc_window_display": false
  }
 },
 "nbformat": 4,
 "nbformat_minor": 2
}
