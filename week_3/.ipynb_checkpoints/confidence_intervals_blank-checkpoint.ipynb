{
 "cells": [
  {
   "cell_type": "code",
   "execution_count": 1,
   "metadata": {},
   "outputs": [
    {
     "data": {
      "application/javascript": [
       "\n",
       "            setTimeout(function() {\n",
       "                var nbb_cell_id = 1;\n",
       "                var nbb_unformatted_code = \"%reload_ext nb_black\";\n",
       "                var nbb_formatted_code = \"%reload_ext nb_black\";\n",
       "                var nbb_cells = Jupyter.notebook.get_cells();\n",
       "                for (var i = 0; i < nbb_cells.length; ++i) {\n",
       "                    if (nbb_cells[i].input_prompt_number == nbb_cell_id) {\n",
       "                        if (nbb_cells[i].get_text() == nbb_unformatted_code) {\n",
       "                             nbb_cells[i].set_text(nbb_formatted_code);\n",
       "                        }\n",
       "                        break;\n",
       "                    }\n",
       "                }\n",
       "            }, 500);\n",
       "            "
      ],
      "text/plain": [
       "<IPython.core.display.Javascript object>"
      ]
     },
     "metadata": {},
     "output_type": "display_data"
    }
   ],
   "source": [
    "%reload_ext nb_black"
   ]
  },
  {
   "cell_type": "markdown",
   "metadata": {},
   "source": [
    "### 🥵 WARM UP 🥵\n",
    "\n",
    "* A t-test is a ratio of what?\n",
    "* What is the 'signal' of a t-test?\n",
    "* What is the 'noise' of a t-test?\n",
    "* What is the null hypothesis of a t-test?\n",
    "* If a $p$ value is 0.00000001 what conlcusion will we likely draw?\n",
    "\n",
    "----"
   ]
  },
  {
   "cell_type": "code",
   "execution_count": 2,
   "metadata": {},
   "outputs": [
    {
     "data": {
      "application/javascript": [
       "\n",
       "            setTimeout(function() {\n",
       "                var nbb_cell_id = 2;\n",
       "                var nbb_unformatted_code = \"import pandas as pd\\nimport numpy as np\\n\\nfrom scipy import stats\\n\\nimport seaborn as sns\\nimport matplotlib.pyplot as plt\\n\\n%matplotlib inline\";\n",
       "                var nbb_formatted_code = \"import pandas as pd\\nimport numpy as np\\n\\nfrom scipy import stats\\n\\nimport seaborn as sns\\nimport matplotlib.pyplot as plt\\n\\n%matplotlib inline\";\n",
       "                var nbb_cells = Jupyter.notebook.get_cells();\n",
       "                for (var i = 0; i < nbb_cells.length; ++i) {\n",
       "                    if (nbb_cells[i].input_prompt_number == nbb_cell_id) {\n",
       "                        if (nbb_cells[i].get_text() == nbb_unformatted_code) {\n",
       "                             nbb_cells[i].set_text(nbb_formatted_code);\n",
       "                        }\n",
       "                        break;\n",
       "                    }\n",
       "                }\n",
       "            }, 500);\n",
       "            "
      ],
      "text/plain": [
       "<IPython.core.display.Javascript object>"
      ]
     },
     "metadata": {},
     "output_type": "display_data"
    }
   ],
   "source": [
    "import pandas as pd\n",
    "import numpy as np\n",
    "\n",
    "from scipy import stats\n",
    "\n",
    "import seaborn as sns\n",
    "import matplotlib.pyplot as plt\n",
    "\n",
    "%matplotlib inline"
   ]
  },
  {
   "cell_type": "markdown",
   "metadata": {},
   "source": [
    "## Statistics don't happen in a vaccuum\n",
    "\n",
    "Setup:\n",
    "\n",
    "> Our boss says we need to evaluate if there's a significant difference between our current website and a new website that would be very expensive to implement.  Boss says we have some data on what sales currently are and what they would be with the new website.  Again, this is a very expensive change to make. So the boss says there needs to a *significant difference*.\n",
    "\n",
    "Your brain starts firing... \"a significant difference? this is the day I can apply all my stats training\".  Your fingers excitedly reach out for the keyboard to perform the t-test. You've been preparing for this your whole life.  The noises from your mechanical keys can be heard from all corners of the open office floor plan as you fervently type out the appropriate code:"
   ]
  },
  {
   "cell_type": "code",
   "execution_count": 32,
   "metadata": {},
   "outputs": [
    {
     "data": {
      "application/javascript": [
       "\n",
       "            setTimeout(function() {\n",
       "                var nbb_cell_id = 32;\n",
       "                var nbb_unformatted_code = \"# Sorry for breaking the immersion in the story line\\n# Just making up data.... next cell to attain statistics glory\\nnp.random.seed(42)\\n\\nog = pd.DataFrame({\\\"sales\\\": np.random.normal(200.0, 3, 1000), \\\"group\\\": \\\"old\\\"})\\nnew = pd.DataFrame({\\\"sales\\\": np.random.normal(200.5, 3, 1000), \\\"group\\\": \\\"new\\\"})\\n\\nsales = pd.concat((og, new))\";\n",
       "                var nbb_formatted_code = \"# Sorry for breaking the immersion in the story line\\n# Just making up data.... next cell to attain statistics glory\\nnp.random.seed(42)\\n\\nog = pd.DataFrame({\\\"sales\\\": np.random.normal(200.0, 3, 1000), \\\"group\\\": \\\"old\\\"})\\nnew = pd.DataFrame({\\\"sales\\\": np.random.normal(200.5, 3, 1000), \\\"group\\\": \\\"new\\\"})\\n\\nsales = pd.concat((og, new))\";\n",
       "                var nbb_cells = Jupyter.notebook.get_cells();\n",
       "                for (var i = 0; i < nbb_cells.length; ++i) {\n",
       "                    if (nbb_cells[i].input_prompt_number == nbb_cell_id) {\n",
       "                        if (nbb_cells[i].get_text() == nbb_unformatted_code) {\n",
       "                             nbb_cells[i].set_text(nbb_formatted_code);\n",
       "                        }\n",
       "                        break;\n",
       "                    }\n",
       "                }\n",
       "            }, 500);\n",
       "            "
      ],
      "text/plain": [
       "<IPython.core.display.Javascript object>"
      ]
     },
     "metadata": {},
     "output_type": "display_data"
    }
   ],
   "source": [
    "# Sorry for breaking the immersion in the story line\n",
    "# Just making up data.... next cell to attain statistics glory\n",
    "np.random.seed(42)\n",
    "\n",
    "og = pd.DataFrame({\"sales\": np.random.normal(200.0, 3, 1000), \"group\": \"old\"})\n",
    "new = pd.DataFrame({\"sales\": np.random.normal(200.5, 3, 1000), \"group\": \"new\"})\n",
    "\n",
    "sales = pd.concat((og, new))"
   ]
  },
  {
   "cell_type": "markdown",
   "metadata": {},
   "source": [
    "* Create a plot to compare the 2 groups of sales"
   ]
  },
  {
   "cell_type": "code",
   "execution_count": null,
   "metadata": {},
   "outputs": [],
   "source": []
  },
  {
   "cell_type": "markdown",
   "metadata": {},
   "source": [
    "* Perform all the steps for a t-test and report the result"
   ]
  },
  {
   "cell_type": "code",
   "execution_count": null,
   "metadata": {},
   "outputs": [],
   "source": []
  },
  {
   "cell_type": "markdown",
   "metadata": {},
   "source": [
    "### Statistical vs practical significance\n",
    "\n",
    "Think about what *significant* means to a t-test and how this compares to how a normal person thinks about a *significant difference*.\n",
    "\n",
    "* To a t-test, a significant difference of means is saying: \"Assuming these 2 groups are identical, these observed means are unlikely.\"\n",
    "* To a normal person, a significnat difference of means is saying: \"These 2 means have a really really big gap between them.\"\n",
    "\n",
    "These are not the same! One thing to note, these 2 perspectives agree on what's not a significant difference, they differ on what a significant difference is.\n",
    "\n",
    "### Quantifying differences\n",
    "\n",
    "Let's pretend were normal people and try to think like them.  If I tell you, \"do this technique and youll have more connections on linkedin\".  The 2 follow up questions on this statement could be:\n",
    "\n",
    "1. Q: How many more connections?\n",
    "  * A: 1\n",
    "2. Q: Whats the technique?\n",
    "  * A: add me as a connection\n",
    "\n",
    "---\n",
    "\n",
    "In the above t-test you performed.  Your boss cares doesn't care about a statistically significant difference of means, they care about a practically significant difference of means.  \n",
    "\n",
    "If your t-test shows a difference.  You *need* to answer the follow-up question of \"how big is the difference\".  We'll answer this question with a confidence interval.\n",
    "\n",
    "A confidence interval gives us some wiggle room in our response.  For example, if I asked you how long it takes to drive downtown you might say it takes about 20-30 minutes.  You're giving a range because there's things out of your control.\n",
    "\n",
    "#### Confidence interval formula\n",
    "\n",
    "A confidence interval for a difference of means will be:\n",
    "\n",
    "$$signal \\pm noise$$\n",
    "\n",
    "These are the same signal & noise that appear in the t-test.  The signal is the difference of means, and the noise is a measure of the amount & variability of the evidence.\n",
    "\n",
    "$$signal = \\overline{x}_{1}-\\overline{x}_{2}$$\n",
    "\n",
    "$$noise = \\sqrt{\\frac{s_{1}^{2}}{n_{1}}+\\frac{s_{2}^{2}}{n_{2}}}$$\n",
    "\n",
    "What does it mean if our interval contains 0?\n",
    "\n",
    "All that's missing is a way to indicate how confident our interval is.  In general, with large sample sizes we can stick with 1.96 as our number in this formula (1.96 relates to a 95% confidence interval).  With this addition, the formula for our 95% confidence interval will be:\n",
    "\n",
    "$$signal \\pm 1.96 * noise$$"
   ]
  },
  {
   "cell_type": "markdown",
   "metadata": {},
   "source": [
    "* Translate this formula to python"
   ]
  },
  {
   "cell_type": "code",
   "execution_count": null,
   "metadata": {},
   "outputs": [],
   "source": [
    "signal = ____ - ____\n",
    "noise = np.sqrt(____ / ____ + ____ / ____)\n",
    "\n",
    "ci_lo = ____\n",
    "ci_hi = ____"
   ]
  },
  {
   "cell_type": "code",
   "execution_count": null,
   "metadata": {
    "hideOutput": true
   },
   "outputs": [],
   "source": [
    "(ci_lo, ci_hi)"
   ]
  },
  {
   "cell_type": "markdown",
   "metadata": {},
   "source": [
    "According to our confidence interval, if we make the costly change in website.  The true boost in sales that we'll see is likely in the range of our 95% CI.\n",
    "\n",
    "How do you advise your boss?"
   ]
  },
  {
   "cell_type": "code",
   "execution_count": null,
   "metadata": {},
   "outputs": [],
   "source": []
  },
  {
   "cell_type": "markdown",
   "metadata": {},
   "source": [
    "### Choose your own adventure\n",
    "\n",
    "1. Revisit marble race and calculate a confidence interval for the difference between blue and not blue?\n",
    "* Revisit pairs exercise and calculate a confidence interval for 🐌s?\n",
    "* Go through a new t-test & confidence interval example (below).\n",
    "* Get into a more in depth discussion about where the number 1.96 comes from?\n",
    "* Marble race to decide?"
   ]
  },
  {
   "cell_type": "code",
   "execution_count": 38,
   "metadata": {},
   "outputs": [
    {
     "data": {
      "text/html": [
       "<div>\n",
       "<style scoped>\n",
       "    .dataframe tbody tr th:only-of-type {\n",
       "        vertical-align: middle;\n",
       "    }\n",
       "\n",
       "    .dataframe tbody tr th {\n",
       "        vertical-align: top;\n",
       "    }\n",
       "\n",
       "    .dataframe thead th {\n",
       "        text-align: right;\n",
       "    }\n",
       "</style>\n",
       "<table border=\"1\" class=\"dataframe\">\n",
       "  <thead>\n",
       "    <tr style=\"text-align: right;\">\n",
       "      <th></th>\n",
       "      <th>sepal_length</th>\n",
       "      <th>sepal_width</th>\n",
       "      <th>petal_length</th>\n",
       "      <th>petal_width</th>\n",
       "      <th>species</th>\n",
       "    </tr>\n",
       "  </thead>\n",
       "  <tbody>\n",
       "    <tr>\n",
       "      <th>0</th>\n",
       "      <td>5.1</td>\n",
       "      <td>3.5</td>\n",
       "      <td>1.4</td>\n",
       "      <td>0.2</td>\n",
       "      <td>setosa</td>\n",
       "    </tr>\n",
       "    <tr>\n",
       "      <th>1</th>\n",
       "      <td>4.9</td>\n",
       "      <td>3.0</td>\n",
       "      <td>1.4</td>\n",
       "      <td>0.2</td>\n",
       "      <td>setosa</td>\n",
       "    </tr>\n",
       "  </tbody>\n",
       "</table>\n",
       "</div>"
      ],
      "text/plain": [
       "   sepal_length  sepal_width  petal_length  petal_width species\n",
       "0           5.1          3.5           1.4          0.2  setosa\n",
       "1           4.9          3.0           1.4          0.2  setosa"
      ]
     },
     "execution_count": 38,
     "metadata": {},
     "output_type": "execute_result"
    },
    {
     "data": {
      "application/javascript": [
       "\n",
       "            setTimeout(function() {\n",
       "                var nbb_cell_id = 38;\n",
       "                var nbb_unformatted_code = \"iris = sns.load_dataset(\\\"iris\\\")\\niris.head(2)\";\n",
       "                var nbb_formatted_code = \"iris = sns.load_dataset(\\\"iris\\\")\\niris.head(2)\";\n",
       "                var nbb_cells = Jupyter.notebook.get_cells();\n",
       "                for (var i = 0; i < nbb_cells.length; ++i) {\n",
       "                    if (nbb_cells[i].input_prompt_number == nbb_cell_id) {\n",
       "                        if (nbb_cells[i].get_text() == nbb_unformatted_code) {\n",
       "                             nbb_cells[i].set_text(nbb_formatted_code);\n",
       "                        }\n",
       "                        break;\n",
       "                    }\n",
       "                }\n",
       "            }, 500);\n",
       "            "
      ],
      "text/plain": [
       "<IPython.core.display.Javascript object>"
      ]
     },
     "metadata": {},
     "output_type": "display_data"
    }
   ],
   "source": [
    "iris = sns.load_dataset(\"iris\")\n",
    "iris.head(2)"
   ]
  },
  {
   "cell_type": "markdown",
   "metadata": {},
   "source": [
    "Question: Two speicies of iris are setosa and versicolor.  Is there a difference in sepal length between these w species?"
   ]
  },
  {
   "cell_type": "code",
   "execution_count": null,
   "metadata": {},
   "outputs": [],
   "source": []
  }
 ],
 "metadata": {
  "kernelspec": {
   "display_name": "Python 3",
   "language": "python",
   "name": "python3"
  },
  "language_info": {
   "codemirror_mode": {
    "name": "ipython",
    "version": 3
   },
   "file_extension": ".py",
   "mimetype": "text/x-python",
   "name": "python",
   "nbconvert_exporter": "python",
   "pygments_lexer": "ipython3",
   "version": "3.7.6"
  }
 },
 "nbformat": 4,
 "nbformat_minor": 2
}
