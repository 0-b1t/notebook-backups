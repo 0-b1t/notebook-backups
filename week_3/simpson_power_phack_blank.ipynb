{
 "cells": [
  {
   "cell_type": "code",
   "execution_count": null,
   "metadata": {},
   "outputs": [],
   "source": [
    "%reload_ext nb_black"
   ]
  },
  {
   "cell_type": "markdown",
   "metadata": {},
   "source": [
    "# Kidney Treatment Analysis\n",
    "\n",
    "You have data collected about an experimental kidney treatmeant, and you want to decide which treatment is more effective: A or B."
   ]
  },
  {
   "cell_type": "code",
   "execution_count": null,
   "metadata": {},
   "outputs": [],
   "source": [
    "import pandas as pd\n",
    "import numpy as np\n",
    "from scipy import stats\n",
    "import matplotlib.pyplot as plt\n",
    "\n",
    "%matplotlib inline\n",
    "\n",
    "data_url = \"https://tf-assets-prod.s3.amazonaws.com/tf-curric/data-science/kidney_stone_data.csv\""
   ]
  },
  {
   "cell_type": "markdown",
   "metadata": {},
   "source": [
    "* Read and inspect the data.  Do we have any missing values to deal with?"
   ]
  },
  {
   "cell_type": "code",
   "execution_count": null,
   "metadata": {},
   "outputs": [],
   "source": [
    "kidney_df = pd.read_csv(data_url)\n",
    "kidney_df.head()"
   ]
  },
  {
   "cell_type": "markdown",
   "metadata": {},
   "source": [
    "Which treatment is more successful? How do we go about investigating this?\n",
    "\n",
    "* Investigate the `pd.crosstab()` function and use it as a way to assess treatment A vs B.\n",
    "* What do you conclude?"
   ]
  },
  {
   "cell_type": "code",
   "execution_count": null,
   "metadata": {},
   "outputs": [],
   "source": []
  },
  {
   "cell_type": "markdown",
   "metadata": {},
   "source": [
    "We could more formally analyze these numbers with a $\\chi^2$ (\"chi square\") test of independence.  See more on what this procedure is doing in this video from [Khan Academy](https://www.khanacademy.org/math/ap-statistics/chi-square-tests/chi-square-tests-two-way-tables/v/chi-square-test-association-independence).\n",
    "\n",
    "What do you conclude from this test?"
   ]
  },
  {
   "cell_type": "code",
   "execution_count": null,
   "metadata": {},
   "outputs": [],
   "source": [
    "# Input your crosstab here w/o normalizing or row/col totals\n",
    "crosstab = ____\n",
    "chi2, p, df, expected = stats.chi2_contingency(crosstab)\n",
    "p"
   ]
  },
  {
   "cell_type": "markdown",
   "metadata": {},
   "source": [
    "Now, include the `'stone_size'` column in your crosstab analysis.\n",
    "\n",
    "What do you conlude?"
   ]
  },
  {
   "cell_type": "code",
   "execution_count": null,
   "metadata": {},
   "outputs": [],
   "source": []
  },
  {
   "cell_type": "markdown",
   "metadata": {},
   "source": [
    "The small effect seen in the success rates has reversed! For all stone sizes, treatment A has a higher success rate than treatment B. This is an example of Simpson's paradox:\n",
    "\n",
    "> Simpson's paradox (or Simpson's reversal, Yule–Simpson effect, amalgamation paradox, or reversal paradox) is a phenomenon in probability and statistics, in which a trend appears in several different groups of data but disappears or reverses when these groups are combined.\n",
    "\n",
    "from [Wikipedia](https://en.wikipedia.org/wiki/Simpson%27s_paradox)\n",
    "\n",
    "----\n",
    "\n",
    "If we were to run a $\\chi^2$ test of independence:"
   ]
  },
  {
   "cell_type": "code",
   "execution_count": null,
   "metadata": {},
   "outputs": [],
   "source": [
    "# Input your crosstab here w/o normalizing or row/col totals\n",
    "crosstab = ____\n",
    "chi2, p, df, expected = stats.chi2_contingency(crosstab)\n",
    "p"
   ]
  },
  {
   "cell_type": "markdown",
   "metadata": {},
   "source": [
    "# Let's p-hack!\n",
    "\n",
    "First, let's go over the theory behind it\n",
    "\n",
    "### Sample size and the t statistic\n",
    "\n",
    "In a t-test, the p value is directly related to t statistic.  As t increases, p decreases.  The definition of t is below.\n",
    "\n",
    "$$t = \\frac{signal}{noise} = \\frac{\\overline{x}_{1}-\\overline{x}_{2}}{\\sqrt{\\frac{s_{1}^{2}}{n_{1}}+\\frac{s_{2}^{2}}{n_{2}}}}$$\n",
    "\n",
    "The denominator (aka $noise$) is the component that is affected by sample size.  The intuition behind this is that as your sample increases you should be drowning out the 'noisy' observations and the result is less noise overall.\n",
    "\n",
    "This means as as `n` increases, our denominator decreases.  In fractions/division, when we hold the numerator constant and the denominator gets smaller, the result gets larger (e.g. $\\frac{1}{4} = 0.25$ & $\\frac{1}{2} = 0.5$).\n",
    "\n",
    "All of this builds up to... our t statistic will get larger as `n` increases (assuming everything else stays relatively the same).\n",
    "\n",
    "----"
   ]
  },
  {
   "cell_type": "markdown",
   "metadata": {},
   "source": [
    "Enough with the theory, prove it.  We have 2 means and standard deviations defined below."
   ]
  },
  {
   "cell_type": "code",
   "execution_count": null,
   "metadata": {},
   "outputs": [],
   "source": [
    "mean_x1 = 11\n",
    "mean_x2 = 10\n",
    "std_x1 = 2\n",
    "std_x2 = 2"
   ]
  },
  {
   "cell_type": "markdown",
   "metadata": {},
   "source": [
    "* Write a `for` loop that loops over the different values in the `ns` list\n",
    "* In each iteration, calculate a `t` and `p` value for the given means, standard deviations, and value of `n` (assume both groups had `n` observations).\n",
    "* Store the p values in a list to print/plot the relationship between p and n"
   ]
  },
  {
   "cell_type": "code",
   "execution_count": null,
   "metadata": {},
   "outputs": [],
   "source": [
    "ns = [10, 50, 100, 500, 1000, 5000]\n",
    "ps = []\n",
    "for ____:\n",
    "    signal = ____\n",
    "    noise = ____\n",
    "    t = ____\n",
    "\n",
    "    # Look up p value for given value of t and sample size\n",
    "    p = stats.t.sf(np.abs(t), 2 * n - 2) * 2\n",
    "    ____"
   ]
  },
  {
   "cell_type": "markdown",
   "metadata": {},
   "source": [
    "### Sample size and the confidence interval\n",
    "\n",
    "The formula we've been using for a 95% confidence interval for a t-test is shown below.  Reason out what will happen to our confidence interval as sample size increases.\n",
    "\n",
    "$$\\overline{X}_{1}-\\overline{X}_{2} \\pm 1.96 * {\\sqrt{\\frac{s_{1}^{2}}{n_{1}}+\\frac{s_{2}^{2}}{n_{2}}}}$$"
   ]
  },
  {
   "cell_type": "markdown",
   "metadata": {},
   "source": [
    "Write a for loop similar to the one above but this time with a focus on confidence intervals.  What happens to the confidence interval as n increases?"
   ]
  },
  {
   "cell_type": "code",
   "execution_count": null,
   "metadata": {},
   "outputs": [],
   "source": []
  }
 ],
 "metadata": {
  "kernelspec": {
   "display_name": "Python 3",
   "language": "python",
   "name": "python3"
  },
  "language_info": {
   "codemirror_mode": {
    "name": "ipython",
    "version": 3
   },
   "file_extension": ".py",
   "mimetype": "text/x-python",
   "name": "python",
   "nbconvert_exporter": "python",
   "pygments_lexer": "ipython3",
   "version": "3.7.7"
  }
 },
 "nbformat": 4,
 "nbformat_minor": 2
}
