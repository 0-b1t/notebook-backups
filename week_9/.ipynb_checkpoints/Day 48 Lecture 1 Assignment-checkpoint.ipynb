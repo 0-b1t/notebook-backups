{
 "cells": [
  {
   "cell_type": "code",
   "execution_count": 1,
   "metadata": {},
   "outputs": [
    {
     "data": {
      "application/javascript": [
       "\n",
       "            setTimeout(function() {\n",
       "                var nbb_cell_id = 1;\n",
       "                var nbb_unformatted_code = \"%reload_ext nb_black\";\n",
       "                var nbb_formatted_code = \"%reload_ext nb_black\";\n",
       "                var nbb_cells = Jupyter.notebook.get_cells();\n",
       "                for (var i = 0; i < nbb_cells.length; ++i) {\n",
       "                    if (nbb_cells[i].input_prompt_number == nbb_cell_id) {\n",
       "                        if (nbb_cells[i].get_text() == nbb_unformatted_code) {\n",
       "                             nbb_cells[i].set_text(nbb_formatted_code);\n",
       "                        }\n",
       "                        break;\n",
       "                    }\n",
       "                }\n",
       "            }, 500);\n",
       "            "
      ],
      "text/plain": [
       "<IPython.core.display.Javascript object>"
      ]
     },
     "metadata": {},
     "output_type": "display_data"
    }
   ],
   "source": [
    "%reload_ext nb_black"
   ]
  },
  {
   "cell_type": "markdown",
   "metadata": {
    "colab_type": "text",
    "id": "xdL0Yz0D1D_q"
   },
   "source": [
    "## Day 48 Lecture 1 Assignment\n",
    "\n",
    "In this assignment, we will apply hierarchical clustering to a dataset containing the locations of all Starbucks in the U.S.\n",
    "\n",
    "Note: this assignment uses geographical data and maps, which will require the use of two specific packages: haversine and plotly. Both of these can be pip installed."
   ]
  },
  {
   "cell_type": "code",
   "execution_count": 2,
   "metadata": {
    "colab": {},
    "colab_type": "code",
    "id": "OulyiH_C1D_r"
   },
   "outputs": [
    {
     "data": {
      "application/javascript": [
       "\n",
       "            setTimeout(function() {\n",
       "                var nbb_cell_id = 2;\n",
       "                var nbb_unformatted_code = \"%matplotlib inline\\n\\nimport matplotlib.pyplot as plt\\nimport numpy as np\\nimport pandas as pd\\nfrom sklearn.cluster import AgglomerativeClustering\\nfrom scipy.cluster.hierarchy import dendrogram\\nfrom haversine import haversine\\nimport plotly.express as px\";\n",
       "                var nbb_formatted_code = \"%matplotlib inline\\n\\nimport matplotlib.pyplot as plt\\nimport numpy as np\\nimport pandas as pd\\nfrom sklearn.cluster import AgglomerativeClustering\\nfrom scipy.cluster.hierarchy import dendrogram\\nfrom haversine import haversine\\nimport plotly.express as px\";\n",
       "                var nbb_cells = Jupyter.notebook.get_cells();\n",
       "                for (var i = 0; i < nbb_cells.length; ++i) {\n",
       "                    if (nbb_cells[i].input_prompt_number == nbb_cell_id) {\n",
       "                        if (nbb_cells[i].get_text() == nbb_unformatted_code) {\n",
       "                             nbb_cells[i].set_text(nbb_formatted_code);\n",
       "                        }\n",
       "                        break;\n",
       "                    }\n",
       "                }\n",
       "            }, 500);\n",
       "            "
      ],
      "text/plain": [
       "<IPython.core.display.Javascript object>"
      ]
     },
     "metadata": {},
     "output_type": "display_data"
    }
   ],
   "source": [
    "%matplotlib inline\n",
    "\n",
    "import matplotlib.pyplot as plt\n",
    "import numpy as np\n",
    "import pandas as pd\n",
    "from sklearn.cluster import AgglomerativeClustering\n",
    "from scipy.cluster.hierarchy import dendrogram\n",
    "from haversine import haversine\n",
    "import plotly.express as px"
   ]
  },
  {
   "cell_type": "markdown",
   "metadata": {
    "colab_type": "text",
    "id": "NFHYqtgvglMA"
   },
   "source": [
    "Below are some convenience functions for calculating geographical distance matrices using lat-long data and plotting a dendrogram by combining a scikit-learn model with scipy's dendrogram plotting functionality."
   ]
  },
  {
   "cell_type": "code",
   "execution_count": 3,
   "metadata": {
    "colab": {},
    "colab_type": "code",
    "id": "jjPmbcf1glMB"
   },
   "outputs": [
    {
     "data": {
      "application/javascript": [
       "\n",
       "            setTimeout(function() {\n",
       "                var nbb_cell_id = 3;\n",
       "                var nbb_unformatted_code = \"def geo_sim_matrix(df, col_name = 'Coordinates'):\\n    \\\"\\\"\\\"\\n    A function that computes a geographical distance matrix (in miles).\\n    Each row in the dataframe should correspond to one location.\\n    In addition, the dataframe must have a column containing the lat-long of each location as a tuple (i.e. (lat, long)).\\n    \\n    Parameters:\\n        df (pandas dataframe): an nxm dataframe containing the locations to compute similarities between.\\n        col (string): the name of the column containing the lat-long tuples.\\n        \\n    Returns:\\n        distance (pandas dataframe): an nxn distance matrix between the geographical coordinates of each location.\\n    \\\"\\\"\\\"\\n    \\n    df = df.copy()\\n    df.reset_index(inplace=True)\\n    haver_vec = np.vectorize(haversine, otypes=[np.float32])\\n    distance = df.groupby('index').apply(lambda x: pd.Series(haver_vec(df[col_name], x[col_name])))\\n    distance = distance / 1.609344\\n    distance.columns = distance.index\\n    \\n    return distance\\n\\n\\ndef plot_dendrogram(model, **kwargs):\\n    \\\"\\\"\\\"\\n    A basic function for plotting a dendrogram. Sourced from the following link:\\n    https://github.com/scikit-learn/scikit-learn/blob/70cf4a676caa2d2dad2e3f6e4478d64bcb0506f7/examples/cluster/plot_hierarchical_clustering_dendrogram.py\\n    \\n    Parameters:\\n        model (object of class sklearn.cluster.hierarchical.AgglomerativeClustering): a fitted scikit-learn hierarchical clustering model.\\n    \\n    Output: a dendrogram based on the model based in the parameters.\\n    \\n    Returns: N/A    \\n    \\\"\\\"\\\"\\n    # Children of hierarchical clustering\\n    children = model.children_\\n\\n    # Distances between each pair of children\\n    # Since we don't have this information, we can use a uniform one for plotting\\n    distance = np.arange(children.shape[0])\\n\\n    # The number of observations contained in each cluster level\\n    no_of_observations = np.arange(2, children.shape[0]+2)\\n\\n    # Create linkage matrix and then plot the dendrogram\\n    linkage_matrix = np.column_stack([children, distance, no_of_observations]).astype(float)\\n\\n    # Plot the corresponding dendrogram\\n    dendrogram(linkage_matrix, **kwargs)\";\n",
       "                var nbb_formatted_code = \"def geo_sim_matrix(df, col_name=\\\"Coordinates\\\"):\\n    \\\"\\\"\\\"\\n    A function that computes a geographical distance matrix (in miles).\\n    Each row in the dataframe should correspond to one location.\\n    In addition, the dataframe must have a column containing the lat-long of each location as a tuple (i.e. (lat, long)).\\n    \\n    Parameters:\\n        df (pandas dataframe): an nxm dataframe containing the locations to compute similarities between.\\n        col (string): the name of the column containing the lat-long tuples.\\n        \\n    Returns:\\n        distance (pandas dataframe): an nxn distance matrix between the geographical coordinates of each location.\\n    \\\"\\\"\\\"\\n\\n    df = df.copy()\\n    df.reset_index(inplace=True)\\n    haver_vec = np.vectorize(haversine, otypes=[np.float32])\\n    distance = df.groupby(\\\"index\\\").apply(\\n        lambda x: pd.Series(haver_vec(df[col_name], x[col_name]))\\n    )\\n    distance = distance / 1.609344\\n    distance.columns = distance.index\\n\\n    return distance\\n\\n\\ndef plot_dendrogram(model, **kwargs):\\n    \\\"\\\"\\\"\\n    A basic function for plotting a dendrogram. Sourced from the following link:\\n    https://github.com/scikit-learn/scikit-learn/blob/70cf4a676caa2d2dad2e3f6e4478d64bcb0506f7/examples/cluster/plot_hierarchical_clustering_dendrogram.py\\n    \\n    Parameters:\\n        model (object of class sklearn.cluster.hierarchical.AgglomerativeClustering): a fitted scikit-learn hierarchical clustering model.\\n    \\n    Output: a dendrogram based on the model based in the parameters.\\n    \\n    Returns: N/A    \\n    \\\"\\\"\\\"\\n    # Children of hierarchical clustering\\n    children = model.children_\\n\\n    # Distances between each pair of children\\n    # Since we don't have this information, we can use a uniform one for plotting\\n    distance = np.arange(children.shape[0])\\n\\n    # The number of observations contained in each cluster level\\n    no_of_observations = np.arange(2, children.shape[0] + 2)\\n\\n    # Create linkage matrix and then plot the dendrogram\\n    linkage_matrix = np.column_stack([children, distance, no_of_observations]).astype(\\n        float\\n    )\\n\\n    # Plot the corresponding dendrogram\\n    dendrogram(linkage_matrix, **kwargs)\";\n",
       "                var nbb_cells = Jupyter.notebook.get_cells();\n",
       "                for (var i = 0; i < nbb_cells.length; ++i) {\n",
       "                    if (nbb_cells[i].input_prompt_number == nbb_cell_id) {\n",
       "                        if (nbb_cells[i].get_text() == nbb_unformatted_code) {\n",
       "                             nbb_cells[i].set_text(nbb_formatted_code);\n",
       "                        }\n",
       "                        break;\n",
       "                    }\n",
       "                }\n",
       "            }, 500);\n",
       "            "
      ],
      "text/plain": [
       "<IPython.core.display.Javascript object>"
      ]
     },
     "metadata": {},
     "output_type": "display_data"
    }
   ],
   "source": [
    "def geo_sim_matrix(df, col_name=\"Coordinates\"):\n",
    "    \"\"\"\n",
    "    A function that computes a geographical distance matrix (in miles).\n",
    "    Each row in the dataframe should correspond to one location.\n",
    "    In addition, the dataframe must have a column containing the lat-long of each location as a tuple (i.e. (lat, long)).\n",
    "    \n",
    "    Parameters:\n",
    "        df (pandas dataframe): an nxm dataframe containing the locations to compute similarities between.\n",
    "        col (string): the name of the column containing the lat-long tuples.\n",
    "        \n",
    "    Returns:\n",
    "        distance (pandas dataframe): an nxn distance matrix between the geographical coordinates of each location.\n",
    "    \"\"\"\n",
    "\n",
    "    df = df.copy()\n",
    "    df.reset_index(inplace=True)\n",
    "    haver_vec = np.vectorize(haversine, otypes=[np.float32])\n",
    "    distance = df.groupby(\"index\").apply(\n",
    "        lambda x: pd.Series(haver_vec(df[col_name], x[col_name]))\n",
    "    )\n",
    "    distance = distance / 1.609344\n",
    "    distance.columns = distance.index\n",
    "\n",
    "    return distance\n",
    "\n",
    "\n",
    "def plot_dendrogram(model, **kwargs):\n",
    "    \"\"\"\n",
    "    A basic function for plotting a dendrogram. Sourced from the following link:\n",
    "    https://github.com/scikit-learn/scikit-learn/blob/70cf4a676caa2d2dad2e3f6e4478d64bcb0506f7/examples/cluster/plot_hierarchical_clustering_dendrogram.py\n",
    "    \n",
    "    Parameters:\n",
    "        model (object of class sklearn.cluster.hierarchical.AgglomerativeClustering): a fitted scikit-learn hierarchical clustering model.\n",
    "    \n",
    "    Output: a dendrogram based on the model based in the parameters.\n",
    "    \n",
    "    Returns: N/A    \n",
    "    \"\"\"\n",
    "    # Children of hierarchical clustering\n",
    "    children = model.children_\n",
    "\n",
    "    # Distances between each pair of children\n",
    "    # Since we don't have this information, we can use a uniform one for plotting\n",
    "    distance = np.arange(children.shape[0])\n",
    "\n",
    "    # The number of observations contained in each cluster level\n",
    "    no_of_observations = np.arange(2, children.shape[0] + 2)\n",
    "\n",
    "    # Create linkage matrix and then plot the dendrogram\n",
    "    linkage_matrix = np.column_stack([children, distance, no_of_observations]).astype(\n",
    "        float\n",
    "    )\n",
    "\n",
    "    # Plot the corresponding dendrogram\n",
    "    dendrogram(linkage_matrix, **kwargs)"
   ]
  },
  {
   "cell_type": "markdown",
   "metadata": {
    "colab_type": "text",
    "id": "ezMvoRlB1D_t"
   },
   "source": [
    "This dataset contains the latitude and longitude (as well as several other details we will not be using) of every Starbucks in the world as of February 2017. Each row consists of the following features, which are generally self-explanatory:\n",
    "\n",
    "- Brand\n",
    "- Store Number\n",
    "- Store Name\n",
    "- Ownership Type\n",
    "- Street Address\n",
    "- City\n",
    "- State/Province\n",
    "- Country\n",
    "- Postcode\n",
    "- Phone Number\n",
    "- Timezone\n",
    "- Longitude\n",
    "- Latitude\n",
    "\n",
    "Load in the dataset."
   ]
  },
  {
   "cell_type": "code",
   "execution_count": 4,
   "metadata": {
    "colab": {},
    "colab_type": "code",
    "id": "wP1U4eQ91D_u"
   },
   "outputs": [
    {
     "data": {
      "text/html": [
       "<div>\n",
       "<style scoped>\n",
       "    .dataframe tbody tr th:only-of-type {\n",
       "        vertical-align: middle;\n",
       "    }\n",
       "\n",
       "    .dataframe tbody tr th {\n",
       "        vertical-align: top;\n",
       "    }\n",
       "\n",
       "    .dataframe thead th {\n",
       "        text-align: right;\n",
       "    }\n",
       "</style>\n",
       "<table border=\"1\" class=\"dataframe\">\n",
       "  <thead>\n",
       "    <tr style=\"text-align: right;\">\n",
       "      <th></th>\n",
       "      <th>Brand</th>\n",
       "      <th>Store Number</th>\n",
       "      <th>Store Name</th>\n",
       "      <th>Ownership Type</th>\n",
       "      <th>Street Address</th>\n",
       "      <th>City</th>\n",
       "      <th>State/Province</th>\n",
       "      <th>Country</th>\n",
       "      <th>Postcode</th>\n",
       "      <th>Phone Number</th>\n",
       "      <th>Timezone</th>\n",
       "      <th>Longitude</th>\n",
       "      <th>Latitude</th>\n",
       "    </tr>\n",
       "  </thead>\n",
       "  <tbody>\n",
       "    <tr>\n",
       "      <th>0</th>\n",
       "      <td>Starbucks</td>\n",
       "      <td>47370-257954</td>\n",
       "      <td>Meritxell, 96</td>\n",
       "      <td>Licensed</td>\n",
       "      <td>Av. Meritxell, 96</td>\n",
       "      <td>Andorra la Vella</td>\n",
       "      <td>7</td>\n",
       "      <td>AD</td>\n",
       "      <td>AD500</td>\n",
       "      <td>376818720</td>\n",
       "      <td>GMT+1:00 Europe/Andorra</td>\n",
       "      <td>1.53</td>\n",
       "      <td>42.51</td>\n",
       "    </tr>\n",
       "    <tr>\n",
       "      <th>1</th>\n",
       "      <td>Starbucks</td>\n",
       "      <td>22331-212325</td>\n",
       "      <td>Ajman Drive Thru</td>\n",
       "      <td>Licensed</td>\n",
       "      <td>1 Street 69, Al Jarf</td>\n",
       "      <td>Ajman</td>\n",
       "      <td>AJ</td>\n",
       "      <td>AE</td>\n",
       "      <td>NaN</td>\n",
       "      <td>NaN</td>\n",
       "      <td>GMT+04:00 Asia/Dubai</td>\n",
       "      <td>55.47</td>\n",
       "      <td>25.42</td>\n",
       "    </tr>\n",
       "    <tr>\n",
       "      <th>2</th>\n",
       "      <td>Starbucks</td>\n",
       "      <td>47089-256771</td>\n",
       "      <td>Dana Mall</td>\n",
       "      <td>Licensed</td>\n",
       "      <td>Sheikh Khalifa Bin Zayed St.</td>\n",
       "      <td>Ajman</td>\n",
       "      <td>AJ</td>\n",
       "      <td>AE</td>\n",
       "      <td>NaN</td>\n",
       "      <td>NaN</td>\n",
       "      <td>GMT+04:00 Asia/Dubai</td>\n",
       "      <td>55.47</td>\n",
       "      <td>25.39</td>\n",
       "    </tr>\n",
       "    <tr>\n",
       "      <th>3</th>\n",
       "      <td>Starbucks</td>\n",
       "      <td>22126-218024</td>\n",
       "      <td>Twofour 54</td>\n",
       "      <td>Licensed</td>\n",
       "      <td>Al Salam Street</td>\n",
       "      <td>Abu Dhabi</td>\n",
       "      <td>AZ</td>\n",
       "      <td>AE</td>\n",
       "      <td>NaN</td>\n",
       "      <td>NaN</td>\n",
       "      <td>GMT+04:00 Asia/Dubai</td>\n",
       "      <td>54.38</td>\n",
       "      <td>24.48</td>\n",
       "    </tr>\n",
       "    <tr>\n",
       "      <th>4</th>\n",
       "      <td>Starbucks</td>\n",
       "      <td>17127-178586</td>\n",
       "      <td>Al Ain Tower</td>\n",
       "      <td>Licensed</td>\n",
       "      <td>Khaldiya Area, Abu Dhabi Island</td>\n",
       "      <td>Abu Dhabi</td>\n",
       "      <td>AZ</td>\n",
       "      <td>AE</td>\n",
       "      <td>NaN</td>\n",
       "      <td>NaN</td>\n",
       "      <td>GMT+04:00 Asia/Dubai</td>\n",
       "      <td>54.54</td>\n",
       "      <td>24.51</td>\n",
       "    </tr>\n",
       "  </tbody>\n",
       "</table>\n",
       "</div>"
      ],
      "text/plain": [
       "       Brand  Store Number        Store Name Ownership Type  \\\n",
       "0  Starbucks  47370-257954     Meritxell, 96       Licensed   \n",
       "1  Starbucks  22331-212325  Ajman Drive Thru       Licensed   \n",
       "2  Starbucks  47089-256771         Dana Mall       Licensed   \n",
       "3  Starbucks  22126-218024        Twofour 54       Licensed   \n",
       "4  Starbucks  17127-178586      Al Ain Tower       Licensed   \n",
       "\n",
       "                    Street Address              City State/Province Country  \\\n",
       "0                Av. Meritxell, 96  Andorra la Vella              7      AD   \n",
       "1             1 Street 69, Al Jarf             Ajman             AJ      AE   \n",
       "2     Sheikh Khalifa Bin Zayed St.             Ajman             AJ      AE   \n",
       "3                  Al Salam Street         Abu Dhabi             AZ      AE   \n",
       "4  Khaldiya Area, Abu Dhabi Island         Abu Dhabi             AZ      AE   \n",
       "\n",
       "  Postcode Phone Number                 Timezone  Longitude  Latitude  \n",
       "0    AD500    376818720  GMT+1:00 Europe/Andorra       1.53     42.51  \n",
       "1      NaN          NaN     GMT+04:00 Asia/Dubai      55.47     25.42  \n",
       "2      NaN          NaN     GMT+04:00 Asia/Dubai      55.47     25.39  \n",
       "3      NaN          NaN     GMT+04:00 Asia/Dubai      54.38     24.48  \n",
       "4      NaN          NaN     GMT+04:00 Asia/Dubai      54.54     24.51  "
      ]
     },
     "execution_count": 4,
     "metadata": {},
     "output_type": "execute_result"
    },
    {
     "data": {
      "application/javascript": [
       "\n",
       "            setTimeout(function() {\n",
       "                var nbb_cell_id = 4;\n",
       "                var nbb_unformatted_code = \"# answer goes here\\n\\nsbux = pd.read_csv('data/starbucks_locations.csv')\\n\\nsbux.head()\";\n",
       "                var nbb_formatted_code = \"# answer goes here\\n\\nsbux = pd.read_csv(\\\"data/starbucks_locations.csv\\\")\\n\\nsbux.head()\";\n",
       "                var nbb_cells = Jupyter.notebook.get_cells();\n",
       "                for (var i = 0; i < nbb_cells.length; ++i) {\n",
       "                    if (nbb_cells[i].input_prompt_number == nbb_cell_id) {\n",
       "                        if (nbb_cells[i].get_text() == nbb_unformatted_code) {\n",
       "                             nbb_cells[i].set_text(nbb_formatted_code);\n",
       "                        }\n",
       "                        break;\n",
       "                    }\n",
       "                }\n",
       "            }, 500);\n",
       "            "
      ],
      "text/plain": [
       "<IPython.core.display.Javascript object>"
      ]
     },
     "metadata": {},
     "output_type": "display_data"
    }
   ],
   "source": [
    "# answer goes here\n",
    "\n",
    "sbux = pd.read_csv('data/starbucks_locations.csv')\n",
    "\n",
    "sbux.head()\n",
    "\n"
   ]
  },
  {
   "cell_type": "markdown",
   "metadata": {
    "colab_type": "text",
    "id": "o_K1eQ0x1D_y"
   },
   "source": [
    "Begin by narrowing down the dataset to a specific geographic area of interest. Since we will need to manually compute a distance matrix, which will be on the order of $n^{2}$ in terms of size, we would recommend choosing an area with 3000 or less locations. In this example, we will use California, which has about 2800 locations. Feel free to choose a different region that is of more interest to you, if desired.\n",
    "\n",
    "Subset the dataframe to only include records for Starbucks locations in California."
   ]
  },
  {
   "cell_type": "code",
   "execution_count": null,
   "metadata": {
    "colab": {},
    "colab_type": "code",
    "id": "xaPTv22LglMK"
   },
   "outputs": [],
   "source": [
    "# answer goes here\n",
    "sbux[sbux['State']]\n",
    "\n",
    "\n"
   ]
  },
  {
   "cell_type": "markdown",
   "metadata": {
    "colab_type": "text",
    "id": "JP466YhlglMN"
   },
   "source": [
    "The haversine package takes tuples with 2 numeric elements and interprets them as lat-long to calculate distance, so add a new column called \"Coordinates\" that converts the lat and long in each row into a tuple. In other words, the last two columns of the dataframe should initially look like this:\n",
    "\n",
    "**Latitude, Longitude**  \n",
    "-121.64, 39.14  \n",
    "-116.40, 34.13  \n",
    "...\n",
    "\n",
    "After adding the new column, the last three columns should look like this:\n",
    "\n",
    "**Latitude, Longitude, Coordinates**  \n",
    "-121.64, 39.14, (-121.64, 39.14)  \n",
    "-116.40, 34.13, (-116.40, 34.13)  \n",
    "..."
   ]
  },
  {
   "cell_type": "code",
   "execution_count": null,
   "metadata": {
    "colab": {},
    "colab_type": "code",
    "id": "xfYVreyw1D_y"
   },
   "outputs": [],
   "source": [
    "# answer goes here\n",
    "\n",
    "\n",
    "\n"
   ]
  },
  {
   "cell_type": "markdown",
   "metadata": {
    "colab_type": "text",
    "id": "ufXIZ40WglMQ"
   },
   "source": [
    "Calculate the distance matrix using the starter code/function geo_sim_matrix() provided earlier in the notebook. It assumes the column containing the coordinates for each location is called \"Coordinates\"; examine the docstring for more details."
   ]
  },
  {
   "cell_type": "code",
   "execution_count": null,
   "metadata": {
    "colab": {},
    "colab_type": "code",
    "id": "Xn6hPlyGglMR"
   },
   "outputs": [],
   "source": [
    "# answer goes here\n",
    "\n",
    "\n",
    "\n"
   ]
  },
  {
   "cell_type": "markdown",
   "metadata": {
    "colab_type": "text",
    "id": "86lfEP_91D_0"
   },
   "source": [
    "Build the hierarchical clustering model using n_clusters = 5 and average linkage. Bear in mind that we are passing a precomputed distance matrix, which will require an additional parameter to be manually specified. \n",
    "\n",
    "Additionally, save the predicted cluster assignments as a new column in your dataframe."
   ]
  },
  {
   "cell_type": "code",
   "execution_count": null,
   "metadata": {
    "colab": {},
    "colab_type": "code",
    "id": "o3PUI4l61D_0"
   },
   "outputs": [],
   "source": [
    "# answer goes here\n",
    "\n",
    "\n",
    "\n"
   ]
  },
  {
   "cell_type": "markdown",
   "metadata": {
    "colab_type": "text",
    "id": "MUjcLMMk1D_2"
   },
   "source": [
    "Plot the dendrogram using the provided starter code/function \"plot_dendrogram\". The dendrogram will be difficult to read because there are so many leaf nodes; try experimenting with smaller geographical areas for easier to read dendrograms."
   ]
  },
  {
   "cell_type": "code",
   "execution_count": null,
   "metadata": {
    "colab": {},
    "colab_type": "code",
    "id": "6OTdN8oF1D_2"
   },
   "outputs": [],
   "source": [
    "# answer goes here\n",
    "\n",
    "\n",
    "\n"
   ]
  },
  {
   "cell_type": "markdown",
   "metadata": {
    "colab_type": "text",
    "id": "ao3Y5FVp1D_4"
   },
   "source": [
    "Finally, plot the resulting clusters on a map using the \"scatter_geo\" function from plotly.express. The map defaults to the entire world; the \"scope\" parameter is useful for narrowing down the region plotted in the map. The documentation can be found here:\n",
    "\n",
    "https://www.plotly.express/plotly_express/#plotly_express.scatter_geo\n",
    "\n",
    "Tip: If the markers on the map are too large, their size can be changed with the following line of code:\n",
    "\n",
    "*fig.update_traces(marker=dict(size=...)))*\n",
    "\n",
    "Do the clusters correspond to geographic areas you would expect? Experiment with other values for n_cluster and linkage and see how they affect the results."
   ]
  },
  {
   "cell_type": "code",
   "execution_count": null,
   "metadata": {
    "colab": {},
    "colab_type": "code",
    "id": "sUhMxZdL1D_4",
    "scrolled": true
   },
   "outputs": [],
   "source": [
    "# answer goes here\n",
    "\n",
    "\n",
    "\n"
   ]
  }
 ],
 "metadata": {
  "colab": {
   "collapsed_sections": [],
   "name": "Day 48 Lecture 1 Assignment.ipynb",
   "provenance": []
  },
  "kernelspec": {
   "display_name": "Python 3",
   "language": "python",
   "name": "python3"
  },
  "language_info": {
   "codemirror_mode": {
    "name": "ipython",
    "version": 3
   },
   "file_extension": ".py",
   "mimetype": "text/x-python",
   "name": "python",
   "nbconvert_exporter": "python",
   "pygments_lexer": "ipython3",
   "version": "3.7.6"
  }
 },
 "nbformat": 4,
 "nbformat_minor": 1
}
