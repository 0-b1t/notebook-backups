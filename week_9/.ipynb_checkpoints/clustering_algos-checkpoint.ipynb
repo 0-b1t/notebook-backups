{
 "cells": [
  {
   "cell_type": "code",
   "execution_count": 1,
   "metadata": {},
   "outputs": [
    {
     "data": {
      "application/javascript": [
       "\n",
       "            setTimeout(function() {\n",
       "                var nbb_cell_id = 1;\n",
       "                var nbb_unformatted_code = \"%reload_ext nb_black\";\n",
       "                var nbb_formatted_code = \"%reload_ext nb_black\";\n",
       "                var nbb_cells = Jupyter.notebook.get_cells();\n",
       "                for (var i = 0; i < nbb_cells.length; ++i) {\n",
       "                    if (nbb_cells[i].input_prompt_number == nbb_cell_id) {\n",
       "                        if (nbb_cells[i].get_text() == nbb_unformatted_code) {\n",
       "                             nbb_cells[i].set_text(nbb_formatted_code);\n",
       "                        }\n",
       "                        break;\n",
       "                    }\n",
       "                }\n",
       "            }, 500);\n",
       "            "
      ],
      "text/plain": [
       "<IPython.core.display.Javascript object>"
      ]
     },
     "metadata": {},
     "output_type": "display_data"
    }
   ],
   "source": [
    "%reload_ext nb_black"
   ]
  },
  {
   "cell_type": "markdown",
   "metadata": {},
   "source": [
    "# Clustering Algorithms\n",
    "\n",
    "## Table of Contents\n",
    "\n",
    "* Making up data (code needs to be run to, but don't worry about the code here)\n",
    "* [Intro Data EDA](#Intro-Data-EDA)\n",
    "    * `TODO: write high level notes here`\n",
    "    \n",
    "    \n",
    "* [KMeans](#KMeans)\n",
    "    * Good for only continuous numeric data\n",
    "    * Must specify k\n",
    "    * Easy to interpret/fast\n",
    "    * Sensitive to outliers\n",
    "    * Only good with isotropic clusters\n",
    "    * Ca\n",
    "    \n",
    "    \n",
    "* [kmedoids](#kmedoids)\n",
    "    * `TODO: write high level notes here`\n",
    "    \n",
    "    \n",
    "* [AgglomerativeClustering](#AgglomerativeClustering)\n",
    "    * `TODO: write high level notes here`\n",
    "    \n",
    "    \n",
    "* [DBSCAN](#DBSCAN)\n",
    "    * `TODO: write high level notes here`\n",
    "    \n",
    "    \n",
    "* [GaussianMixture](#GaussianMixture)\n",
    "    * `TODO: write high level notes here`\n",
    "    \n",
    "    \n",
    "* [MeanShift](#MeanShift)\n",
    "    * `TODO: write high level notes here`\n",
    "    \n",
    "    \n",
    "* [AffinityPropagation](#AffinityPropagation)\n",
    "    * `TODO: write high level notes here`\n",
    "    \n",
    "    "
   ]
  },
  {
   "cell_type": "code",
   "execution_count": 2,
   "metadata": {},
   "outputs": [
    {
     "data": {
      "application/javascript": [
       "\n",
       "            setTimeout(function() {\n",
       "                var nbb_cell_id = 2;\n",
       "                var nbb_unformatted_code = \"import pandas as pd\\nimport numpy as np\\n\\nfrom scipy.spatial.distance import pdist, squareform\\n\\n# !pip install pyclustering\\nfrom pyclustering.cluster.kmedoids import kmedoids\\n\\nfrom sklearn.cluster import (\\n    KMeans,\\n    DBSCAN,\\n    AgglomerativeClustering,\\n    AffinityPropagation,\\n    MeanShift,\\n)\\nfrom sklearn.mixture import GaussianMixture\\nfrom sklearn.datasets import make_blobs\\nfrom sklearn.preprocessing import scale\\n\\nfrom gower import gower_matrix\\n\\nimport seaborn as sns\\nimport matplotlib.pyplot as plt\\n\\n%matplotlib inline\";\n",
       "                var nbb_formatted_code = \"import pandas as pd\\nimport numpy as np\\n\\nfrom scipy.spatial.distance import pdist, squareform\\n\\n# !pip install pyclustering\\nfrom pyclustering.cluster.kmedoids import kmedoids\\n\\nfrom sklearn.cluster import (\\n    KMeans,\\n    DBSCAN,\\n    AgglomerativeClustering,\\n    AffinityPropagation,\\n    MeanShift,\\n)\\nfrom sklearn.mixture import GaussianMixture\\nfrom sklearn.datasets import make_blobs\\nfrom sklearn.preprocessing import scale\\n\\nfrom gower import gower_matrix\\n\\nimport seaborn as sns\\nimport matplotlib.pyplot as plt\\n\\n%matplotlib inline\";\n",
       "                var nbb_cells = Jupyter.notebook.get_cells();\n",
       "                for (var i = 0; i < nbb_cells.length; ++i) {\n",
       "                    if (nbb_cells[i].input_prompt_number == nbb_cell_id) {\n",
       "                        if (nbb_cells[i].get_text() == nbb_unformatted_code) {\n",
       "                             nbb_cells[i].set_text(nbb_formatted_code);\n",
       "                        }\n",
       "                        break;\n",
       "                    }\n",
       "                }\n",
       "            }, 500);\n",
       "            "
      ],
      "text/plain": [
       "<IPython.core.display.Javascript object>"
      ]
     },
     "metadata": {},
     "output_type": "display_data"
    }
   ],
   "source": [
    "import pandas as pd\n",
    "import numpy as np\n",
    "\n",
    "from scipy.spatial.distance import pdist, squareform\n",
    "\n",
    "# !pip install pyclustering\n",
    "from pyclustering.cluster.kmedoids import kmedoids\n",
    "\n",
    "from sklearn.cluster import (\n",
    "    KMeans,\n",
    "    DBSCAN,\n",
    "    AgglomerativeClustering,\n",
    "    AffinityPropagation,\n",
    "    MeanShift,\n",
    ")\n",
    "from sklearn.mixture import GaussianMixture\n",
    "from sklearn.datasets import make_blobs\n",
    "from sklearn.preprocessing import scale\n",
    "\n",
    "from gower import gower_matrix\n",
    "\n",
    "import seaborn as sns\n",
    "import matplotlib.pyplot as plt\n",
    "\n",
    "%matplotlib inline"
   ]
  },
  {
   "cell_type": "code",
   "execution_count": 3,
   "metadata": {},
   "outputs": [
    {
     "data": {
      "application/javascript": [
       "\n",
       "            setTimeout(function() {\n",
       "                var nbb_cell_id = 3;\n",
       "                var nbb_unformatted_code = \"def plot_cluster_results(X, labels):\\n    \\\"\\\"\\\"Plot a 2d X (first 2 columns will be used) colored by label\\\"\\\"\\\"\\n    # Ensure X is a dataframe with 2 columns named x1 & x2\\n    df_x = pd.DataFrame(X)\\n    df_x = df_x.iloc[:, :2]\\n    df_x.columns = [\\\"x1\\\", \\\"x2\\\"]\\n\\n    df_x[\\\"label\\\"] = labels\\n    df_x = df_x.sort_values(\\\"label\\\")\\n    # Make seaborn not convert the labels to numeric\\n    df_x[\\\"label\\\"] = \\\"'\\\" + df_x[\\\"label\\\"].astype(str) + \\\"'\\\"\\n\\n    fig, axes = plt.subplots(1, 2, figsize=(10, 5))\\n\\n    sns.scatterplot(\\\"x1\\\", \\\"x2\\\", data=df_x, ax=axes[0])\\n    sns.scatterplot(\\\"x1\\\", \\\"x2\\\", hue=\\\"label\\\", data=df_x, ax=axes[1])\\n    axes[0].set_title(\\\"input data\\\")\\n    axes[1].set_title(\\\"labeled data\\\")\\n    plt.tight_layout()\";\n",
       "                var nbb_formatted_code = \"def plot_cluster_results(X, labels):\\n    \\\"\\\"\\\"Plot a 2d X (first 2 columns will be used) colored by label\\\"\\\"\\\"\\n    # Ensure X is a dataframe with 2 columns named x1 & x2\\n    df_x = pd.DataFrame(X)\\n    df_x = df_x.iloc[:, :2]\\n    df_x.columns = [\\\"x1\\\", \\\"x2\\\"]\\n\\n    df_x[\\\"label\\\"] = labels\\n    df_x = df_x.sort_values(\\\"label\\\")\\n    # Make seaborn not convert the labels to numeric\\n    df_x[\\\"label\\\"] = \\\"'\\\" + df_x[\\\"label\\\"].astype(str) + \\\"'\\\"\\n\\n    fig, axes = plt.subplots(1, 2, figsize=(10, 5))\\n\\n    sns.scatterplot(\\\"x1\\\", \\\"x2\\\", data=df_x, ax=axes[0])\\n    sns.scatterplot(\\\"x1\\\", \\\"x2\\\", hue=\\\"label\\\", data=df_x, ax=axes[1])\\n    axes[0].set_title(\\\"input data\\\")\\n    axes[1].set_title(\\\"labeled data\\\")\\n    plt.tight_layout()\";\n",
       "                var nbb_cells = Jupyter.notebook.get_cells();\n",
       "                for (var i = 0; i < nbb_cells.length; ++i) {\n",
       "                    if (nbb_cells[i].input_prompt_number == nbb_cell_id) {\n",
       "                        if (nbb_cells[i].get_text() == nbb_unformatted_code) {\n",
       "                             nbb_cells[i].set_text(nbb_formatted_code);\n",
       "                        }\n",
       "                        break;\n",
       "                    }\n",
       "                }\n",
       "            }, 500);\n",
       "            "
      ],
      "text/plain": [
       "<IPython.core.display.Javascript object>"
      ]
     },
     "metadata": {},
     "output_type": "display_data"
    }
   ],
   "source": [
    "def plot_cluster_results(X, labels):\n",
    "    \"\"\"Plot a 2d X (first 2 columns will be used) colored by label\"\"\"\n",
    "    # Ensure X is a dataframe with 2 columns named x1 & x2\n",
    "    df_x = pd.DataFrame(X)\n",
    "    df_x = df_x.iloc[:, :2]\n",
    "    df_x.columns = [\"x1\", \"x2\"]\n",
    "\n",
    "    df_x[\"label\"] = labels\n",
    "    df_x = df_x.sort_values(\"label\")\n",
    "    # Make seaborn not convert the labels to numeric\n",
    "    df_x[\"label\"] = \"'\" + df_x[\"label\"].astype(str) + \"'\"\n",
    "\n",
    "    fig, axes = plt.subplots(1, 2, figsize=(10, 5))\n",
    "\n",
    "    sns.scatterplot(\"x1\", \"x2\", data=df_x, ax=axes[0])\n",
    "    sns.scatterplot(\"x1\", \"x2\", hue=\"label\", data=df_x, ax=axes[1])\n",
    "    axes[0].set_title(\"input data\")\n",
    "    axes[1].set_title(\"labeled data\")\n",
    "    plt.tight_layout()"
   ]
  },
  {
   "cell_type": "markdown",
   "metadata": {},
   "source": [
    "## Making up example data\n",
    "\n",
    "[back to top](#Clustering-Algorithms)\n",
    "\n",
    "* `df_1` - numbers only\n",
    "* `df_2` - numbers only\n",
    "* `df_3` - yes/no survey style data\n",
    "* `df_4` - nominal style data with all features having >3 category levels\n",
    "* `df_5` - `df_1` + `df_3` + `df_4`\n",
    "\n",
    "Click link to scroll on down to [Intro Data EDA](#Intro-Data-EDA).\n",
    "\n",
    "----"
   ]
  },
  {
   "cell_type": "code",
   "execution_count": 4,
   "metadata": {},
   "outputs": [
    {
     "data": {
      "application/javascript": [
       "\n",
       "            setTimeout(function() {\n",
       "                var nbb_cell_id = 4;\n",
       "                var nbb_unformatted_code = \"n = 5000\";\n",
       "                var nbb_formatted_code = \"n = 5000\";\n",
       "                var nbb_cells = Jupyter.notebook.get_cells();\n",
       "                for (var i = 0; i < nbb_cells.length; ++i) {\n",
       "                    if (nbb_cells[i].input_prompt_number == nbb_cell_id) {\n",
       "                        if (nbb_cells[i].get_text() == nbb_unformatted_code) {\n",
       "                             nbb_cells[i].set_text(nbb_formatted_code);\n",
       "                        }\n",
       "                        break;\n",
       "                    }\n",
       "                }\n",
       "            }, 500);\n",
       "            "
      ],
      "text/plain": [
       "<IPython.core.display.Javascript object>"
      ]
     },
     "metadata": {},
     "output_type": "display_data"
    }
   ],
   "source": [
    "n = 5000"
   ]
  },
  {
   "cell_type": "markdown",
   "metadata": {},
   "source": [
    "Make up some purely numeric data"
   ]
  },
  {
   "cell_type": "code",
   "execution_count": 5,
   "metadata": {},
   "outputs": [
    {
     "data": {
      "application/javascript": [
       "\n",
       "            setTimeout(function() {\n",
       "                var nbb_cell_id = 5;\n",
       "                var nbb_unformatted_code = \"def make_df_1_2():\\n    np.random.seed(4)\\n    X1, _ = make_blobs(n, centers=5)\\n\\n    np.random.seed(1)\\n    X2, _ = make_blobs(n, centers=5)\\n\\n    df_1 = pd.DataFrame(scale(X1), columns=[\\\"x1\\\", \\\"x2\\\"])\\n    df_2 = pd.DataFrame(scale(X2), columns=[\\\"x1\\\", \\\"x2\\\"])\\n\\n    return df_1, df_2\";\n",
       "                var nbb_formatted_code = \"def make_df_1_2():\\n    np.random.seed(4)\\n    X1, _ = make_blobs(n, centers=5)\\n\\n    np.random.seed(1)\\n    X2, _ = make_blobs(n, centers=5)\\n\\n    df_1 = pd.DataFrame(scale(X1), columns=[\\\"x1\\\", \\\"x2\\\"])\\n    df_2 = pd.DataFrame(scale(X2), columns=[\\\"x1\\\", \\\"x2\\\"])\\n\\n    return df_1, df_2\";\n",
       "                var nbb_cells = Jupyter.notebook.get_cells();\n",
       "                for (var i = 0; i < nbb_cells.length; ++i) {\n",
       "                    if (nbb_cells[i].input_prompt_number == nbb_cell_id) {\n",
       "                        if (nbb_cells[i].get_text() == nbb_unformatted_code) {\n",
       "                             nbb_cells[i].set_text(nbb_formatted_code);\n",
       "                        }\n",
       "                        break;\n",
       "                    }\n",
       "                }\n",
       "            }, 500);\n",
       "            "
      ],
      "text/plain": [
       "<IPython.core.display.Javascript object>"
      ]
     },
     "metadata": {},
     "output_type": "display_data"
    }
   ],
   "source": [
    "def make_df_1_2():\n",
    "    np.random.seed(4)\n",
    "    X1, _ = make_blobs(n, centers=5)\n",
    "\n",
    "    np.random.seed(1)\n",
    "    X2, _ = make_blobs(n, centers=5)\n",
    "\n",
    "    df_1 = pd.DataFrame(scale(X1), columns=[\"x1\", \"x2\"])\n",
    "    df_2 = pd.DataFrame(scale(X2), columns=[\"x1\", \"x2\"])\n",
    "\n",
    "    return df_1, df_2"
   ]
  },
  {
   "cell_type": "markdown",
   "metadata": {},
   "source": [
    "Make up some binary data"
   ]
  },
  {
   "cell_type": "code",
   "execution_count": 6,
   "metadata": {},
   "outputs": [
    {
     "data": {
      "application/javascript": [
       "\n",
       "            setTimeout(function() {\n",
       "                var nbb_cell_id = 6;\n",
       "                var nbb_unformatted_code = \"def make_df_3():\\n    np.random.seed(42)\\n\\n    df_3 = pd.DataFrame()\\n    for i in range(5):\\n        col_name = f\\\"q{i + 1}\\\"\\n        df_3[col_name] = np.random.choice([0, 1], size=n)\\n\\n    row_filter = df_3[\\\"q1\\\"] == 1\\n    df_3.loc[row_filter, \\\"q5\\\"] = np.random.choice(\\n        [0, 1], size=sum(row_filter), p=[0.9, 0.1]\\n    )\\n\\n    row_filter = df_3[\\\"q2\\\"] == 1\\n    df_3.loc[row_filter, \\\"q4\\\"] = np.random.choice(\\n        [0, 1], size=sum(row_filter), p=[0.1, 0.9]\\n    )\\n\\n    return df_3\";\n",
       "                var nbb_formatted_code = \"def make_df_3():\\n    np.random.seed(42)\\n\\n    df_3 = pd.DataFrame()\\n    for i in range(5):\\n        col_name = f\\\"q{i + 1}\\\"\\n        df_3[col_name] = np.random.choice([0, 1], size=n)\\n\\n    row_filter = df_3[\\\"q1\\\"] == 1\\n    df_3.loc[row_filter, \\\"q5\\\"] = np.random.choice(\\n        [0, 1], size=sum(row_filter), p=[0.9, 0.1]\\n    )\\n\\n    row_filter = df_3[\\\"q2\\\"] == 1\\n    df_3.loc[row_filter, \\\"q4\\\"] = np.random.choice(\\n        [0, 1], size=sum(row_filter), p=[0.1, 0.9]\\n    )\\n\\n    return df_3\";\n",
       "                var nbb_cells = Jupyter.notebook.get_cells();\n",
       "                for (var i = 0; i < nbb_cells.length; ++i) {\n",
       "                    if (nbb_cells[i].input_prompt_number == nbb_cell_id) {\n",
       "                        if (nbb_cells[i].get_text() == nbb_unformatted_code) {\n",
       "                             nbb_cells[i].set_text(nbb_formatted_code);\n",
       "                        }\n",
       "                        break;\n",
       "                    }\n",
       "                }\n",
       "            }, 500);\n",
       "            "
      ],
      "text/plain": [
       "<IPython.core.display.Javascript object>"
      ]
     },
     "metadata": {},
     "output_type": "display_data"
    }
   ],
   "source": [
    "def make_df_3():\n",
    "    np.random.seed(42)\n",
    "\n",
    "    df_3 = pd.DataFrame()\n",
    "    for i in range(5):\n",
    "        col_name = f\"q{i + 1}\"\n",
    "        df_3[col_name] = np.random.choice([0, 1], size=n)\n",
    "\n",
    "    row_filter = df_3[\"q1\"] == 1\n",
    "    df_3.loc[row_filter, \"q5\"] = np.random.choice(\n",
    "        [0, 1], size=sum(row_filter), p=[0.9, 0.1]\n",
    "    )\n",
    "\n",
    "    row_filter = df_3[\"q2\"] == 1\n",
    "    df_3.loc[row_filter, \"q4\"] = np.random.choice(\n",
    "        [0, 1], size=sum(row_filter), p=[0.1, 0.9]\n",
    "    )\n",
    "\n",
    "    return df_3"
   ]
  },
  {
   "cell_type": "markdown",
   "metadata": {},
   "source": [
    "Make up some categorical data"
   ]
  },
  {
   "cell_type": "code",
   "execution_count": 7,
   "metadata": {},
   "outputs": [
    {
     "data": {
      "application/javascript": [
       "\n",
       "            setTimeout(function() {\n",
       "                var nbb_cell_id = 7;\n",
       "                var nbb_unformatted_code = \"def make_df_4():\\n    np.random.seed(42)\\n\\n    continents = [\\n        \\\"Africa\\\",\\n        \\\"Asia\\\",\\n        \\\"Europe\\\",\\n        \\\"South America\\\",\\n    ]\\n\\n    dept = [\\\"Accounting\\\", \\\"Sales\\\", \\\"IT\\\", \\\"Marketing\\\"]\\n    companies = [\\\"Innovato\\\", \\\"Rop\\\", \\\"UpDog\\\"]\\n\\n    df_4 = pd.DataFrame(\\n        {\\n            \\\"continent\\\": np.random.choice(continents, size=n),\\n            \\\"dept\\\": np.random.choice(dept, size=n),\\n        }\\n    )\\n    df_4[\\\"company\\\"] = np.nan\\n\\n    continent_filter = df_4[\\\"continent\\\"].isin(continents[:2])\\n    df_4.loc[continent_filter, \\\"company\\\"] = np.random.choice(\\n        companies, p=[0.5, 0.3, 0.2], size=sum(continent_filter)\\n    )\\n\\n    continent_filter = df_4[\\\"continent\\\"].isin(continents[2:])\\n    df_4.loc[continent_filter, \\\"company\\\"] = np.random.choice(\\n        companies, p=[0.2, 0.3, 0.5], size=sum(continent_filter)\\n    )\\n\\n    return df_4\";\n",
       "                var nbb_formatted_code = \"def make_df_4():\\n    np.random.seed(42)\\n\\n    continents = [\\n        \\\"Africa\\\",\\n        \\\"Asia\\\",\\n        \\\"Europe\\\",\\n        \\\"South America\\\",\\n    ]\\n\\n    dept = [\\\"Accounting\\\", \\\"Sales\\\", \\\"IT\\\", \\\"Marketing\\\"]\\n    companies = [\\\"Innovato\\\", \\\"Rop\\\", \\\"UpDog\\\"]\\n\\n    df_4 = pd.DataFrame(\\n        {\\n            \\\"continent\\\": np.random.choice(continents, size=n),\\n            \\\"dept\\\": np.random.choice(dept, size=n),\\n        }\\n    )\\n    df_4[\\\"company\\\"] = np.nan\\n\\n    continent_filter = df_4[\\\"continent\\\"].isin(continents[:2])\\n    df_4.loc[continent_filter, \\\"company\\\"] = np.random.choice(\\n        companies, p=[0.5, 0.3, 0.2], size=sum(continent_filter)\\n    )\\n\\n    continent_filter = df_4[\\\"continent\\\"].isin(continents[2:])\\n    df_4.loc[continent_filter, \\\"company\\\"] = np.random.choice(\\n        companies, p=[0.2, 0.3, 0.5], size=sum(continent_filter)\\n    )\\n\\n    return df_4\";\n",
       "                var nbb_cells = Jupyter.notebook.get_cells();\n",
       "                for (var i = 0; i < nbb_cells.length; ++i) {\n",
       "                    if (nbb_cells[i].input_prompt_number == nbb_cell_id) {\n",
       "                        if (nbb_cells[i].get_text() == nbb_unformatted_code) {\n",
       "                             nbb_cells[i].set_text(nbb_formatted_code);\n",
       "                        }\n",
       "                        break;\n",
       "                    }\n",
       "                }\n",
       "            }, 500);\n",
       "            "
      ],
      "text/plain": [
       "<IPython.core.display.Javascript object>"
      ]
     },
     "metadata": {},
     "output_type": "display_data"
    }
   ],
   "source": [
    "def make_df_4():\n",
    "    np.random.seed(42)\n",
    "\n",
    "    continents = [\n",
    "        \"Africa\",\n",
    "        \"Asia\",\n",
    "        \"Europe\",\n",
    "        \"South America\",\n",
    "    ]\n",
    "\n",
    "    dept = [\"Accounting\", \"Sales\", \"IT\", \"Marketing\"]\n",
    "    companies = [\"Innovato\", \"Rop\", \"UpDog\"]\n",
    "\n",
    "    df_4 = pd.DataFrame(\n",
    "        {\n",
    "            \"continent\": np.random.choice(continents, size=n),\n",
    "            \"dept\": np.random.choice(dept, size=n),\n",
    "        }\n",
    "    )\n",
    "    df_4[\"company\"] = np.nan\n",
    "\n",
    "    continent_filter = df_4[\"continent\"].isin(continents[:2])\n",
    "    df_4.loc[continent_filter, \"company\"] = np.random.choice(\n",
    "        companies, p=[0.5, 0.3, 0.2], size=sum(continent_filter)\n",
    "    )\n",
    "\n",
    "    continent_filter = df_4[\"continent\"].isin(continents[2:])\n",
    "    df_4.loc[continent_filter, \"company\"] = np.random.choice(\n",
    "        companies, p=[0.2, 0.3, 0.5], size=sum(continent_filter)\n",
    "    )\n",
    "\n",
    "    return df_4"
   ]
  },
  {
   "cell_type": "markdown",
   "metadata": {},
   "source": [
    "Combine made up data to have mixed datatypes."
   ]
  },
  {
   "cell_type": "code",
   "execution_count": 8,
   "metadata": {},
   "outputs": [
    {
     "data": {
      "application/javascript": [
       "\n",
       "            setTimeout(function() {\n",
       "                var nbb_cell_id = 8;\n",
       "                var nbb_unformatted_code = \"def make_df_5():\\n    df_1, _ = make_df_1_2()\\n    df_3 = make_df_3()\\n    df_4 = make_df_4()\\n    df_5 = pd.concat((df_1, df_3, df_4), axis=1)\\n\\n    return df_5\";\n",
       "                var nbb_formatted_code = \"def make_df_5():\\n    df_1, _ = make_df_1_2()\\n    df_3 = make_df_3()\\n    df_4 = make_df_4()\\n    df_5 = pd.concat((df_1, df_3, df_4), axis=1)\\n\\n    return df_5\";\n",
       "                var nbb_cells = Jupyter.notebook.get_cells();\n",
       "                for (var i = 0; i < nbb_cells.length; ++i) {\n",
       "                    if (nbb_cells[i].input_prompt_number == nbb_cell_id) {\n",
       "                        if (nbb_cells[i].get_text() == nbb_unformatted_code) {\n",
       "                             nbb_cells[i].set_text(nbb_formatted_code);\n",
       "                        }\n",
       "                        break;\n",
       "                    }\n",
       "                }\n",
       "            }, 500);\n",
       "            "
      ],
      "text/plain": [
       "<IPython.core.display.Javascript object>"
      ]
     },
     "metadata": {},
     "output_type": "display_data"
    }
   ],
   "source": [
    "def make_df_5():\n",
    "    df_1, _ = make_df_1_2()\n",
    "    df_3 = make_df_3()\n",
    "    df_4 = make_df_4()\n",
    "    df_5 = pd.concat((df_1, df_3, df_4), axis=1)\n",
    "\n",
    "    return df_5"
   ]
  },
  {
   "cell_type": "markdown",
   "metadata": {},
   "source": [
    "## Intro Data EDA\n",
    "\n",
    "[back to top](#Clustering-Algorithms)"
   ]
  },
  {
   "cell_type": "code",
   "execution_count": 9,
   "metadata": {},
   "outputs": [
    {
     "data": {
      "application/javascript": [
       "\n",
       "            setTimeout(function() {\n",
       "                var nbb_cell_id = 9;\n",
       "                var nbb_unformatted_code = \"# reset data for section\\ndf_1, df_2 = make_df_1_2()\\ndf_3 = make_df_3()\\ndf_4 = make_df_4()\\ndf_5 = make_df_5()\";\n",
       "                var nbb_formatted_code = \"# reset data for section\\ndf_1, df_2 = make_df_1_2()\\ndf_3 = make_df_3()\\ndf_4 = make_df_4()\\ndf_5 = make_df_5()\";\n",
       "                var nbb_cells = Jupyter.notebook.get_cells();\n",
       "                for (var i = 0; i < nbb_cells.length; ++i) {\n",
       "                    if (nbb_cells[i].input_prompt_number == nbb_cell_id) {\n",
       "                        if (nbb_cells[i].get_text() == nbb_unformatted_code) {\n",
       "                             nbb_cells[i].set_text(nbb_formatted_code);\n",
       "                        }\n",
       "                        break;\n",
       "                    }\n",
       "                }\n",
       "            }, 500);\n",
       "            "
      ],
      "text/plain": [
       "<IPython.core.display.Javascript object>"
      ]
     },
     "metadata": {},
     "output_type": "display_data"
    }
   ],
   "source": [
    "# reset data for section\n",
    "df_1, df_2 = make_df_1_2()\n",
    "df_3 = make_df_3()\n",
    "df_4 = make_df_4()\n",
    "df_5 = make_df_5()"
   ]
  },
  {
   "cell_type": "markdown",
   "metadata": {},
   "source": [
    "`df_1` and `df_2` each consist of 2 numeric features."
   ]
  },
  {
   "cell_type": "code",
   "execution_count": 10,
   "metadata": {
    "scrolled": false
   },
   "outputs": [
    {
     "data": {
      "image/png": "[encoded data removed]",
      "text/plain": [
       "<Figure size 720x360 with 2 Axes>"
      ]
     },
     "metadata": {
      "needs_background": "light"
     },
     "output_type": "display_data"
    },
    {
     "data": {
      "application/javascript": [
       "\n",
       "            setTimeout(function() {\n",
       "                var nbb_cell_id = 10;\n",
       "                var nbb_unformatted_code = \"fig, axes = plt.subplots(1, 2, figsize=(10, 5))\\n\\nsns.scatterplot(\\\"x1\\\", \\\"x2\\\", data=df_1, ax=axes[0])\\nsns.scatterplot(\\\"x1\\\", \\\"x2\\\", data=df_2, ax=axes[1])\\naxes[0].set_title(\\\"df_1\\\")\\naxes[1].set_title(\\\"df_2\\\")\\nplt.tight_layout()\\nplt.show()\";\n",
       "                var nbb_formatted_code = \"fig, axes = plt.subplots(1, 2, figsize=(10, 5))\\n\\nsns.scatterplot(\\\"x1\\\", \\\"x2\\\", data=df_1, ax=axes[0])\\nsns.scatterplot(\\\"x1\\\", \\\"x2\\\", data=df_2, ax=axes[1])\\naxes[0].set_title(\\\"df_1\\\")\\naxes[1].set_title(\\\"df_2\\\")\\nplt.tight_layout()\\nplt.show()\";\n",
       "                var nbb_cells = Jupyter.notebook.get_cells();\n",
       "                for (var i = 0; i < nbb_cells.length; ++i) {\n",
       "                    if (nbb_cells[i].input_prompt_number == nbb_cell_id) {\n",
       "                        if (nbb_cells[i].get_text() == nbb_unformatted_code) {\n",
       "                             nbb_cells[i].set_text(nbb_formatted_code);\n",
       "                        }\n",
       "                        break;\n",
       "                    }\n",
       "                }\n",
       "            }, 500);\n",
       "            "
      ],
      "text/plain": [
       "<IPython.core.display.Javascript object>"
      ]
     },
     "metadata": {},
     "output_type": "display_data"
    }
   ],
   "source": [
    "fig, axes = plt.subplots(1, 2, figsize=(10, 5))\n",
    "\n",
    "sns.scatterplot(\"x1\", \"x2\", data=df_1, ax=axes[0])\n",
    "sns.scatterplot(\"x1\", \"x2\", data=df_2, ax=axes[1])\n",
    "axes[0].set_title(\"df_1\")\n",
    "axes[1].set_title(\"df_2\")\n",
    "plt.tight_layout()\n",
    "plt.show()"
   ]
  },
  {
   "cell_type": "markdown",
   "metadata": {},
   "source": [
    "`df_3` is binary data representing True/False responses to a survey"
   ]
  },
  {
   "cell_type": "code",
   "execution_count": 11,
   "metadata": {},
   "outputs": [
    {
     "name": "stdout",
     "output_type": "stream",
     "text": [
      "Co-occurances\n"
     ]
    },
    {
     "data": {
      "text/html": [
       "<style  type=\"text/css\" >\n",
       "    #T_bdd35e26_04c0_11eb_97fc_7085c2a9ca7arow0_col0 {\n",
       "            background-color:  #1b7eb7;\n",
       "            color:  #000000;\n",
       "        }    #T_bdd35e26_04c0_11eb_97fc_7085c2a9ca7arow0_col1 {\n",
       "            background-color:  #c2cbe2;\n",
       "            color:  #000000;\n",
       "        }    #T_bdd35e26_04c0_11eb_97fc_7085c2a9ca7arow0_col2 {\n",
       "            background-color:  #bdc8e1;\n",
       "            color:  #000000;\n",
       "        }    #T_bdd35e26_04c0_11eb_97fc_7085c2a9ca7arow0_col3 {\n",
       "            background-color:  #84b0d3;\n",
       "            color:  #000000;\n",
       "        }    #T_bdd35e26_04c0_11eb_97fc_7085c2a9ca7arow0_col4 {\n",
       "            background-color:  #fff7fb;\n",
       "            color:  #000000;\n",
       "        }    #T_bdd35e26_04c0_11eb_97fc_7085c2a9ca7arow1_col0 {\n",
       "            background-color:  #c2cbe2;\n",
       "            color:  #000000;\n",
       "        }    #T_bdd35e26_04c0_11eb_97fc_7085c2a9ca7arow1_col1 {\n",
       "            background-color:  #1b7eb7;\n",
       "            color:  #000000;\n",
       "        }    #T_bdd35e26_04c0_11eb_97fc_7085c2a9ca7arow1_col2 {\n",
       "            background-color:  #bdc8e1;\n",
       "            color:  #000000;\n",
       "        }    #T_bdd35e26_04c0_11eb_97fc_7085c2a9ca7arow1_col3 {\n",
       "            background-color:  #3f93c2;\n",
       "            color:  #000000;\n",
       "        }    #T_bdd35e26_04c0_11eb_97fc_7085c2a9ca7arow1_col4 {\n",
       "            background-color:  #e3e0ee;\n",
       "            color:  #000000;\n",
       "        }    #T_bdd35e26_04c0_11eb_97fc_7085c2a9ca7arow2_col0 {\n",
       "            background-color:  #bdc8e1;\n",
       "            color:  #000000;\n",
       "        }    #T_bdd35e26_04c0_11eb_97fc_7085c2a9ca7arow2_col1 {\n",
       "            background-color:  #bdc8e1;\n",
       "            color:  #000000;\n",
       "        }    #T_bdd35e26_04c0_11eb_97fc_7085c2a9ca7arow2_col2 {\n",
       "            background-color:  #1b7eb7;\n",
       "            color:  #000000;\n",
       "        }    #T_bdd35e26_04c0_11eb_97fc_7085c2a9ca7arow2_col3 {\n",
       "            background-color:  #86b0d3;\n",
       "            color:  #000000;\n",
       "        }    #T_bdd35e26_04c0_11eb_97fc_7085c2a9ca7arow2_col4 {\n",
       "            background-color:  #e6e2ef;\n",
       "            color:  #000000;\n",
       "        }    #T_bdd35e26_04c0_11eb_97fc_7085c2a9ca7arow3_col0 {\n",
       "            background-color:  #84b0d3;\n",
       "            color:  #000000;\n",
       "        }    #T_bdd35e26_04c0_11eb_97fc_7085c2a9ca7arow3_col1 {\n",
       "            background-color:  #3f93c2;\n",
       "            color:  #000000;\n",
       "        }    #T_bdd35e26_04c0_11eb_97fc_7085c2a9ca7arow3_col2 {\n",
       "            background-color:  #86b0d3;\n",
       "            color:  #000000;\n",
       "        }    #T_bdd35e26_04c0_11eb_97fc_7085c2a9ca7arow3_col3 {\n",
       "            background-color:  #023858;\n",
       "            color:  #f1f1f1;\n",
       "        }    #T_bdd35e26_04c0_11eb_97fc_7085c2a9ca7arow3_col4 {\n",
       "            background-color:  #d0d1e6;\n",
       "            color:  #000000;\n",
       "        }    #T_bdd35e26_04c0_11eb_97fc_7085c2a9ca7arow4_col0 {\n",
       "            background-color:  #fff7fb;\n",
       "            color:  #000000;\n",
       "        }    #T_bdd35e26_04c0_11eb_97fc_7085c2a9ca7arow4_col1 {\n",
       "            background-color:  #e3e0ee;\n",
       "            color:  #000000;\n",
       "        }    #T_bdd35e26_04c0_11eb_97fc_7085c2a9ca7arow4_col2 {\n",
       "            background-color:  #e6e2ef;\n",
       "            color:  #000000;\n",
       "        }    #T_bdd35e26_04c0_11eb_97fc_7085c2a9ca7arow4_col3 {\n",
       "            background-color:  #d0d1e6;\n",
       "            color:  #000000;\n",
       "        }    #T_bdd35e26_04c0_11eb_97fc_7085c2a9ca7arow4_col4 {\n",
       "            background-color:  #9fbad9;\n",
       "            color:  #000000;\n",
       "        }</style><table id=\"T_bdd35e26_04c0_11eb_97fc_7085c2a9ca7a\" ><thead>    <tr>        <th class=\"blank level0\" ></th>        <th class=\"col_heading level0 col0\" >q1</th>        <th class=\"col_heading level0 col1\" >q2</th>        <th class=\"col_heading level0 col2\" >q3</th>        <th class=\"col_heading level0 col3\" >q4</th>        <th class=\"col_heading level0 col4\" >q5</th>    </tr></thead><tbody>\n",
       "                <tr>\n",
       "                        <th id=\"T_bdd35e26_04c0_11eb_97fc_7085c2a9ca7alevel0_row0\" class=\"row_heading level0 row0\" >q1</th>\n",
       "                        <td id=\"T_bdd35e26_04c0_11eb_97fc_7085c2a9ca7arow0_col0\" class=\"data row0 col0\" >2496</td>\n",
       "                        <td id=\"T_bdd35e26_04c0_11eb_97fc_7085c2a9ca7arow0_col1\" class=\"data row0 col1\" >1186</td>\n",
       "                        <td id=\"T_bdd35e26_04c0_11eb_97fc_7085c2a9ca7arow0_col2\" class=\"data row0 col2\" >1245</td>\n",
       "                        <td id=\"T_bdd35e26_04c0_11eb_97fc_7085c2a9ca7arow0_col3\" class=\"data row0 col3\" >1730</td>\n",
       "                        <td id=\"T_bdd35e26_04c0_11eb_97fc_7085c2a9ca7arow0_col4\" class=\"data row0 col4\" >246</td>\n",
       "            </tr>\n",
       "            <tr>\n",
       "                        <th id=\"T_bdd35e26_04c0_11eb_97fc_7085c2a9ca7alevel0_row1\" class=\"row_heading level0 row1\" >q2</th>\n",
       "                        <td id=\"T_bdd35e26_04c0_11eb_97fc_7085c2a9ca7arow1_col0\" class=\"data row1 col0\" >1186</td>\n",
       "                        <td id=\"T_bdd35e26_04c0_11eb_97fc_7085c2a9ca7arow1_col1\" class=\"data row1 col1\" >2491</td>\n",
       "                        <td id=\"T_bdd35e26_04c0_11eb_97fc_7085c2a9ca7arow1_col2\" class=\"data row1 col2\" >1240</td>\n",
       "                        <td id=\"T_bdd35e26_04c0_11eb_97fc_7085c2a9ca7arow1_col3\" class=\"data row1 col3\" >2222</td>\n",
       "                        <td id=\"T_bdd35e26_04c0_11eb_97fc_7085c2a9ca7arow1_col4\" class=\"data row1 col4\" >781</td>\n",
       "            </tr>\n",
       "            <tr>\n",
       "                        <th id=\"T_bdd35e26_04c0_11eb_97fc_7085c2a9ca7alevel0_row2\" class=\"row_heading level0 row2\" >q3</th>\n",
       "                        <td id=\"T_bdd35e26_04c0_11eb_97fc_7085c2a9ca7arow2_col0\" class=\"data row2 col0\" >1245</td>\n",
       "                        <td id=\"T_bdd35e26_04c0_11eb_97fc_7085c2a9ca7arow2_col1\" class=\"data row2 col1\" >1240</td>\n",
       "                        <td id=\"T_bdd35e26_04c0_11eb_97fc_7085c2a9ca7arow2_col2\" class=\"data row2 col2\" >2492</td>\n",
       "                        <td id=\"T_bdd35e26_04c0_11eb_97fc_7085c2a9ca7arow2_col3\" class=\"data row2 col3\" >1723</td>\n",
       "                        <td id=\"T_bdd35e26_04c0_11eb_97fc_7085c2a9ca7arow2_col4\" class=\"data row2 col4\" >748</td>\n",
       "            </tr>\n",
       "            <tr>\n",
       "                        <th id=\"T_bdd35e26_04c0_11eb_97fc_7085c2a9ca7alevel0_row3\" class=\"row_heading level0 row3\" >q4</th>\n",
       "                        <td id=\"T_bdd35e26_04c0_11eb_97fc_7085c2a9ca7arow3_col0\" class=\"data row3 col0\" >1730</td>\n",
       "                        <td id=\"T_bdd35e26_04c0_11eb_97fc_7085c2a9ca7arow3_col1\" class=\"data row3 col1\" >2222</td>\n",
       "                        <td id=\"T_bdd35e26_04c0_11eb_97fc_7085c2a9ca7arow3_col2\" class=\"data row3 col2\" >1723</td>\n",
       "                        <td id=\"T_bdd35e26_04c0_11eb_97fc_7085c2a9ca7arow3_col3\" class=\"data row3 col3\" >3493</td>\n",
       "                        <td id=\"T_bdd35e26_04c0_11eb_97fc_7085c2a9ca7arow3_col4\" class=\"data row3 col4\" >1059</td>\n",
       "            </tr>\n",
       "            <tr>\n",
       "                        <th id=\"T_bdd35e26_04c0_11eb_97fc_7085c2a9ca7alevel0_row4\" class=\"row_heading level0 row4\" >q5</th>\n",
       "                        <td id=\"T_bdd35e26_04c0_11eb_97fc_7085c2a9ca7arow4_col0\" class=\"data row4 col0\" >246</td>\n",
       "                        <td id=\"T_bdd35e26_04c0_11eb_97fc_7085c2a9ca7arow4_col1\" class=\"data row4 col1\" >781</td>\n",
       "                        <td id=\"T_bdd35e26_04c0_11eb_97fc_7085c2a9ca7arow4_col2\" class=\"data row4 col2\" >748</td>\n",
       "                        <td id=\"T_bdd35e26_04c0_11eb_97fc_7085c2a9ca7arow4_col3\" class=\"data row4 col3\" >1059</td>\n",
       "                        <td id=\"T_bdd35e26_04c0_11eb_97fc_7085c2a9ca7arow4_col4\" class=\"data row4 col4\" >1516</td>\n",
       "            </tr>\n",
       "    </tbody></table>"
      ],
      "text/plain": [
       "<pandas.io.formats.style.Styler at 0x12f3a095488>"
      ]
     },
     "metadata": {},
     "output_type": "display_data"
    },
    {
     "name": "stdout",
     "output_type": "stream",
     "text": [
      "Co-occurances as a percent of responses\n"
     ]
    },
    {
     "data": {
      "text/html": [
       "<style  type=\"text/css\" >\n",
       "    #T_bdd5ccb4_04c0_11eb_a0b6_7085c2a9ca7arow0_col0 {\n",
       "            background-color:  #1b7eb7;\n",
       "            color:  #000000;\n",
       "        }    #T_bdd5ccb4_04c0_11eb_a0b6_7085c2a9ca7arow0_col1 {\n",
       "            background-color:  #c2cbe2;\n",
       "            color:  #000000;\n",
       "        }    #T_bdd5ccb4_04c0_11eb_a0b6_7085c2a9ca7arow0_col2 {\n",
       "            background-color:  #bdc8e1;\n",
       "            color:  #000000;\n",
       "        }    #T_bdd5ccb4_04c0_11eb_a0b6_7085c2a9ca7arow0_col3 {\n",
       "            background-color:  #84b0d3;\n",
       "            color:  #000000;\n",
       "        }    #T_bdd5ccb4_04c0_11eb_a0b6_7085c2a9ca7arow0_col4 {\n",
       "            background-color:  #fff7fb;\n",
       "            color:  #000000;\n",
       "        }    #T_bdd5ccb4_04c0_11eb_a0b6_7085c2a9ca7arow1_col0 {\n",
       "            background-color:  #c2cbe2;\n",
       "            color:  #000000;\n",
       "        }    #T_bdd5ccb4_04c0_11eb_a0b6_7085c2a9ca7arow1_col1 {\n",
       "            background-color:  #1b7eb7;\n",
       "            color:  #000000;\n",
       "        }    #T_bdd5ccb4_04c0_11eb_a0b6_7085c2a9ca7arow1_col2 {\n",
       "            background-color:  #bdc8e1;\n",
       "            color:  #000000;\n",
       "        }    #T_bdd5ccb4_04c0_11eb_a0b6_7085c2a9ca7arow1_col3 {\n",
       "            background-color:  #3f93c2;\n",
       "            color:  #000000;\n",
       "        }    #T_bdd5ccb4_04c0_11eb_a0b6_7085c2a9ca7arow1_col4 {\n",
       "            background-color:  #e3e0ee;\n",
       "            color:  #000000;\n",
       "        }    #T_bdd5ccb4_04c0_11eb_a0b6_7085c2a9ca7arow2_col0 {\n",
       "            background-color:  #bdc8e1;\n",
       "            color:  #000000;\n",
       "        }    #T_bdd5ccb4_04c0_11eb_a0b6_7085c2a9ca7arow2_col1 {\n",
       "            background-color:  #bdc8e1;\n",
       "            color:  #000000;\n",
       "        }    #T_bdd5ccb4_04c0_11eb_a0b6_7085c2a9ca7arow2_col2 {\n",
       "            background-color:  #1b7eb7;\n",
       "            color:  #000000;\n",
       "        }    #T_bdd5ccb4_04c0_11eb_a0b6_7085c2a9ca7arow2_col3 {\n",
       "            background-color:  #86b0d3;\n",
       "            color:  #000000;\n",
       "        }    #T_bdd5ccb4_04c0_11eb_a0b6_7085c2a9ca7arow2_col4 {\n",
       "            background-color:  #e6e2ef;\n",
       "            color:  #000000;\n",
       "        }    #T_bdd5ccb4_04c0_11eb_a0b6_7085c2a9ca7arow3_col0 {\n",
       "            background-color:  #84b0d3;\n",
       "            color:  #000000;\n",
       "        }    #T_bdd5ccb4_04c0_11eb_a0b6_7085c2a9ca7arow3_col1 {\n",
       "            background-color:  #3f93c2;\n",
       "            color:  #000000;\n",
       "        }    #T_bdd5ccb4_04c0_11eb_a0b6_7085c2a9ca7arow3_col2 {\n",
       "            background-color:  #86b0d3;\n",
       "            color:  #000000;\n",
       "        }    #T_bdd5ccb4_04c0_11eb_a0b6_7085c2a9ca7arow3_col3 {\n",
       "            background-color:  #023858;\n",
       "            color:  #f1f1f1;\n",
       "        }    #T_bdd5ccb4_04c0_11eb_a0b6_7085c2a9ca7arow3_col4 {\n",
       "            background-color:  #d0d1e6;\n",
       "            color:  #000000;\n",
       "        }    #T_bdd5ccb4_04c0_11eb_a0b6_7085c2a9ca7arow4_col0 {\n",
       "            background-color:  #fff7fb;\n",
       "            color:  #000000;\n",
       "        }    #T_bdd5ccb4_04c0_11eb_a0b6_7085c2a9ca7arow4_col1 {\n",
       "            background-color:  #e3e0ee;\n",
       "            color:  #000000;\n",
       "        }    #T_bdd5ccb4_04c0_11eb_a0b6_7085c2a9ca7arow4_col2 {\n",
       "            background-color:  #e6e2ef;\n",
       "            color:  #000000;\n",
       "        }    #T_bdd5ccb4_04c0_11eb_a0b6_7085c2a9ca7arow4_col3 {\n",
       "            background-color:  #d0d1e6;\n",
       "            color:  #000000;\n",
       "        }    #T_bdd5ccb4_04c0_11eb_a0b6_7085c2a9ca7arow4_col4 {\n",
       "            background-color:  #9fbad9;\n",
       "            color:  #000000;\n",
       "        }</style><table id=\"T_bdd5ccb4_04c0_11eb_a0b6_7085c2a9ca7a\" ><thead>    <tr>        <th class=\"blank level0\" ></th>        <th class=\"col_heading level0 col0\" >q1</th>        <th class=\"col_heading level0 col1\" >q2</th>        <th class=\"col_heading level0 col2\" >q3</th>        <th class=\"col_heading level0 col3\" >q4</th>        <th class=\"col_heading level0 col4\" >q5</th>    </tr></thead><tbody>\n",
       "                <tr>\n",
       "                        <th id=\"T_bdd5ccb4_04c0_11eb_a0b6_7085c2a9ca7alevel0_row0\" class=\"row_heading level0 row0\" >q1</th>\n",
       "                        <td id=\"T_bdd5ccb4_04c0_11eb_a0b6_7085c2a9ca7arow0_col0\" class=\"data row0 col0\" >0.499200</td>\n",
       "                        <td id=\"T_bdd5ccb4_04c0_11eb_a0b6_7085c2a9ca7arow0_col1\" class=\"data row0 col1\" >0.237200</td>\n",
       "                        <td id=\"T_bdd5ccb4_04c0_11eb_a0b6_7085c2a9ca7arow0_col2\" class=\"data row0 col2\" >0.249000</td>\n",
       "                        <td id=\"T_bdd5ccb4_04c0_11eb_a0b6_7085c2a9ca7arow0_col3\" class=\"data row0 col3\" >0.346000</td>\n",
       "                        <td id=\"T_bdd5ccb4_04c0_11eb_a0b6_7085c2a9ca7arow0_col4\" class=\"data row0 col4\" >0.049200</td>\n",
       "            </tr>\n",
       "            <tr>\n",
       "                        <th id=\"T_bdd5ccb4_04c0_11eb_a0b6_7085c2a9ca7alevel0_row1\" class=\"row_heading level0 row1\" >q2</th>\n",
       "                        <td id=\"T_bdd5ccb4_04c0_11eb_a0b6_7085c2a9ca7arow1_col0\" class=\"data row1 col0\" >0.237200</td>\n",
       "                        <td id=\"T_bdd5ccb4_04c0_11eb_a0b6_7085c2a9ca7arow1_col1\" class=\"data row1 col1\" >0.498200</td>\n",
       "                        <td id=\"T_bdd5ccb4_04c0_11eb_a0b6_7085c2a9ca7arow1_col2\" class=\"data row1 col2\" >0.248000</td>\n",
       "                        <td id=\"T_bdd5ccb4_04c0_11eb_a0b6_7085c2a9ca7arow1_col3\" class=\"data row1 col3\" >0.444400</td>\n",
       "                        <td id=\"T_bdd5ccb4_04c0_11eb_a0b6_7085c2a9ca7arow1_col4\" class=\"data row1 col4\" >0.156200</td>\n",
       "            </tr>\n",
       "            <tr>\n",
       "                        <th id=\"T_bdd5ccb4_04c0_11eb_a0b6_7085c2a9ca7alevel0_row2\" class=\"row_heading level0 row2\" >q3</th>\n",
       "                        <td id=\"T_bdd5ccb4_04c0_11eb_a0b6_7085c2a9ca7arow2_col0\" class=\"data row2 col0\" >0.249000</td>\n",
       "                        <td id=\"T_bdd5ccb4_04c0_11eb_a0b6_7085c2a9ca7arow2_col1\" class=\"data row2 col1\" >0.248000</td>\n",
       "                        <td id=\"T_bdd5ccb4_04c0_11eb_a0b6_7085c2a9ca7arow2_col2\" class=\"data row2 col2\" >0.498400</td>\n",
       "                        <td id=\"T_bdd5ccb4_04c0_11eb_a0b6_7085c2a9ca7arow2_col3\" class=\"data row2 col3\" >0.344600</td>\n",
       "                        <td id=\"T_bdd5ccb4_04c0_11eb_a0b6_7085c2a9ca7arow2_col4\" class=\"data row2 col4\" >0.149600</td>\n",
       "            </tr>\n",
       "            <tr>\n",
       "                        <th id=\"T_bdd5ccb4_04c0_11eb_a0b6_7085c2a9ca7alevel0_row3\" class=\"row_heading level0 row3\" >q4</th>\n",
       "                        <td id=\"T_bdd5ccb4_04c0_11eb_a0b6_7085c2a9ca7arow3_col0\" class=\"data row3 col0\" >0.346000</td>\n",
       "                        <td id=\"T_bdd5ccb4_04c0_11eb_a0b6_7085c2a9ca7arow3_col1\" class=\"data row3 col1\" >0.444400</td>\n",
       "                        <td id=\"T_bdd5ccb4_04c0_11eb_a0b6_7085c2a9ca7arow3_col2\" class=\"data row3 col2\" >0.344600</td>\n",
       "                        <td id=\"T_bdd5ccb4_04c0_11eb_a0b6_7085c2a9ca7arow3_col3\" class=\"data row3 col3\" >0.698600</td>\n",
       "                        <td id=\"T_bdd5ccb4_04c0_11eb_a0b6_7085c2a9ca7arow3_col4\" class=\"data row3 col4\" >0.211800</td>\n",
       "            </tr>\n",
       "            <tr>\n",
       "                        <th id=\"T_bdd5ccb4_04c0_11eb_a0b6_7085c2a9ca7alevel0_row4\" class=\"row_heading level0 row4\" >q5</th>\n",
       "                        <td id=\"T_bdd5ccb4_04c0_11eb_a0b6_7085c2a9ca7arow4_col0\" class=\"data row4 col0\" >0.049200</td>\n",
       "                        <td id=\"T_bdd5ccb4_04c0_11eb_a0b6_7085c2a9ca7arow4_col1\" class=\"data row4 col1\" >0.156200</td>\n",
       "                        <td id=\"T_bdd5ccb4_04c0_11eb_a0b6_7085c2a9ca7arow4_col2\" class=\"data row4 col2\" >0.149600</td>\n",
       "                        <td id=\"T_bdd5ccb4_04c0_11eb_a0b6_7085c2a9ca7arow4_col3\" class=\"data row4 col3\" >0.211800</td>\n",
       "                        <td id=\"T_bdd5ccb4_04c0_11eb_a0b6_7085c2a9ca7arow4_col4\" class=\"data row4 col4\" >0.303200</td>\n",
       "            </tr>\n",
       "    </tbody></table>"
      ],
      "text/plain": [
       "<pandas.io.formats.style.Styler at 0x12f3a0f1308>"
      ]
     },
     "metadata": {},
     "output_type": "display_data"
    },
    {
     "data": {
      "application/javascript": [
       "\n",
       "            setTimeout(function() {\n",
       "                var nbb_cell_id = 11;\n",
       "                var nbb_unformatted_code = \"# Co-occurance matrix\\n\\n# Read as how many times the question in\\n# the column was True at the same time the\\n# row question was True\\n\\n# The diagonal represents how many times the question\\n# was answered as True\\n\\n# For example, we can see q4 was the question was\\n# likely answered as True\\n\\n# For example, q2 and q4 were commonly answered as True together\\n# 2222 times (44% of responses) is the highest off-diagonal number\\n\\n# For example, q1 and q5 were rarely answered as True together\\n# 246 times (5% of responses) is the lowest number\\n\\nco_occur = df_3.T.dot(df_3)\\nco_occur_percent = co_occur / df_3.shape[0]\\n\\nprint(\\\"Co-occurances\\\")\\ndisplay(co_occur.style.background_gradient(axis=None))\\n\\nprint(\\\"Co-occurances as a percent of responses\\\")\\ndisplay(co_occur_percent.style.background_gradient(axis=None))\";\n",
       "                var nbb_formatted_code = \"# Co-occurance matrix\\n\\n# Read as how many times the question in\\n# the column was True at the same time the\\n# row question was True\\n\\n# The diagonal represents how many times the question\\n# was answered as True\\n\\n# For example, we can see q4 was the question was\\n# likely answered as True\\n\\n# For example, q2 and q4 were commonly answered as True together\\n# 2222 times (44% of responses) is the highest off-diagonal number\\n\\n# For example, q1 and q5 were rarely answered as True together\\n# 246 times (5% of responses) is the lowest number\\n\\nco_occur = df_3.T.dot(df_3)\\nco_occur_percent = co_occur / df_3.shape[0]\\n\\nprint(\\\"Co-occurances\\\")\\ndisplay(co_occur.style.background_gradient(axis=None))\\n\\nprint(\\\"Co-occurances as a percent of responses\\\")\\ndisplay(co_occur_percent.style.background_gradient(axis=None))\";\n",
       "                var nbb_cells = Jupyter.notebook.get_cells();\n",
       "                for (var i = 0; i < nbb_cells.length; ++i) {\n",
       "                    if (nbb_cells[i].input_prompt_number == nbb_cell_id) {\n",
       "                        if (nbb_cells[i].get_text() == nbb_unformatted_code) {\n",
       "                             nbb_cells[i].set_text(nbb_formatted_code);\n",
       "                        }\n",
       "                        break;\n",
       "                    }\n",
       "                }\n",
       "            }, 500);\n",
       "            "
      ],
      "text/plain": [
       "<IPython.core.display.Javascript object>"
      ]
     },
     "metadata": {},
     "output_type": "display_data"
    }
   ],
   "source": [
    "# Co-occurance matrix\n",
    "\n",
    "# Read as how many times the question in\n",
    "# the column was True at the same time the\n",
    "# row question was True\n",
    "\n",
    "# The diagonal represents how many times the question\n",
    "# was answered as True\n",
    "\n",
    "# For example, we can see q4 was the question was\n",
    "# likely answered as True\n",
    "\n",
    "# For example, q2 and q4 were commonly answered as True together\n",
    "# 2222 times (44% of responses) is the highest off-diagonal number\n",
    "\n",
    "# For example, q1 and q5 were rarely answered as True together\n",
    "# 246 times (5% of responses) is the lowest number\n",
    "\n",
    "co_occur = df_3.T.dot(df_3)\n",
    "co_occur_percent = co_occur / df_3.shape[0]\n",
    "\n",
    "print(\"Co-occurances\")\n",
    "display(co_occur.style.background_gradient(axis=None))\n",
    "\n",
    "print(\"Co-occurances as a percent of responses\")\n",
    "display(co_occur_percent.style.background_gradient(axis=None))"
   ]
  },
  {
   "cell_type": "markdown",
   "metadata": {},
   "source": [
    "`df_4` is categorical data"
   ]
  },
  {
   "cell_type": "code",
   "execution_count": 12,
   "metadata": {
    "scrolled": false
   },
   "outputs": [
    {
     "data": {
      "text/html": [
       "<style  type=\"text/css\" >\n",
       "    #T_bde6edb6_04c0_11eb_9e5e_7085c2a9ca7arow0_col0 {\n",
       "            background-color:  #03466e;\n",
       "            color:  #f1f1f1;\n",
       "        }    #T_bde6edb6_04c0_11eb_9e5e_7085c2a9ca7arow0_col1 {\n",
       "            background-color:  #045d92;\n",
       "            color:  #f1f1f1;\n",
       "        }    #T_bde6edb6_04c0_11eb_9e5e_7085c2a9ca7arow0_col2 {\n",
       "            background-color:  #023d60;\n",
       "            color:  #f1f1f1;\n",
       "        }    #T_bde6edb6_04c0_11eb_9e5e_7085c2a9ca7arow0_col3 {\n",
       "            background-color:  #023858;\n",
       "            color:  #f1f1f1;\n",
       "        }    #T_bde6edb6_04c0_11eb_9e5e_7085c2a9ca7arow1_col0 {\n",
       "            background-color:  #056faf;\n",
       "            color:  #f1f1f1;\n",
       "        }    #T_bde6edb6_04c0_11eb_9e5e_7085c2a9ca7arow1_col1 {\n",
       "            background-color:  #03466e;\n",
       "            color:  #f1f1f1;\n",
       "        }    #T_bde6edb6_04c0_11eb_9e5e_7085c2a9ca7arow1_col2 {\n",
       "            background-color:  #045e94;\n",
       "            color:  #f1f1f1;\n",
       "        }    #T_bde6edb6_04c0_11eb_9e5e_7085c2a9ca7arow1_col3 {\n",
       "            background-color:  #4897c4;\n",
       "            color:  #000000;\n",
       "        }    #T_bde6edb6_04c0_11eb_9e5e_7085c2a9ca7arow2_col0 {\n",
       "            background-color:  #fff7fb;\n",
       "            color:  #000000;\n",
       "        }    #T_bde6edb6_04c0_11eb_9e5e_7085c2a9ca7arow2_col1 {\n",
       "            background-color:  #f0eaf4;\n",
       "            color:  #000000;\n",
       "        }    #T_bde6edb6_04c0_11eb_9e5e_7085c2a9ca7arow2_col2 {\n",
       "            background-color:  #d4d4e8;\n",
       "            color:  #000000;\n",
       "        }    #T_bde6edb6_04c0_11eb_9e5e_7085c2a9ca7arow2_col3 {\n",
       "            background-color:  #eae6f1;\n",
       "            color:  #000000;\n",
       "        }    #T_bde6edb6_04c0_11eb_9e5e_7085c2a9ca7arow3_col0 {\n",
       "            background-color:  #f8f1f8;\n",
       "            color:  #000000;\n",
       "        }    #T_bde6edb6_04c0_11eb_9e5e_7085c2a9ca7arow3_col1 {\n",
       "            background-color:  #e1dfed;\n",
       "            color:  #000000;\n",
       "        }    #T_bde6edb6_04c0_11eb_9e5e_7085c2a9ca7arow3_col2 {\n",
       "            background-color:  #eee9f3;\n",
       "            color:  #000000;\n",
       "        }    #T_bde6edb6_04c0_11eb_9e5e_7085c2a9ca7arow3_col3 {\n",
       "            background-color:  #fbf3f9;\n",
       "            color:  #000000;\n",
       "        }    #T_bde6edb6_04c0_11eb_9e5e_7085c2a9ca7arow4_col0 {\n",
       "            background-color:  #b0c2de;\n",
       "            color:  #000000;\n",
       "        }    #T_bde6edb6_04c0_11eb_9e5e_7085c2a9ca7arow4_col1 {\n",
       "            background-color:  #c6cce3;\n",
       "            color:  #000000;\n",
       "        }    #T_bde6edb6_04c0_11eb_9e5e_7085c2a9ca7arow4_col2 {\n",
       "            background-color:  #dedcec;\n",
       "            color:  #000000;\n",
       "        }    #T_bde6edb6_04c0_11eb_9e5e_7085c2a9ca7arow4_col3 {\n",
       "            background-color:  #bdc8e1;\n",
       "            color:  #000000;\n",
       "        }    #T_bde6edb6_04c0_11eb_9e5e_7085c2a9ca7arow5_col0 {\n",
       "            background-color:  #9cb9d9;\n",
       "            color:  #000000;\n",
       "        }    #T_bde6edb6_04c0_11eb_9e5e_7085c2a9ca7arow5_col1 {\n",
       "            background-color:  #9cb9d9;\n",
       "            color:  #000000;\n",
       "        }    #T_bde6edb6_04c0_11eb_9e5e_7085c2a9ca7arow5_col2 {\n",
       "            background-color:  #c9cee4;\n",
       "            color:  #000000;\n",
       "        }    #T_bde6edb6_04c0_11eb_9e5e_7085c2a9ca7arow5_col3 {\n",
       "            background-color:  #a8bedc;\n",
       "            color:  #000000;\n",
       "        }    #T_bde6edb6_04c0_11eb_9e5e_7085c2a9ca7arow6_col0 {\n",
       "            background-color:  #b0c2de;\n",
       "            color:  #000000;\n",
       "        }    #T_bde6edb6_04c0_11eb_9e5e_7085c2a9ca7arow6_col1 {\n",
       "            background-color:  #cccfe5;\n",
       "            color:  #000000;\n",
       "        }    #T_bde6edb6_04c0_11eb_9e5e_7085c2a9ca7arow6_col2 {\n",
       "            background-color:  #b0c2de;\n",
       "            color:  #000000;\n",
       "        }    #T_bde6edb6_04c0_11eb_9e5e_7085c2a9ca7arow6_col3 {\n",
       "            background-color:  #a5bddb;\n",
       "            color:  #000000;\n",
       "        }    #T_bde6edb6_04c0_11eb_9e5e_7085c2a9ca7arow7_col0 {\n",
       "            background-color:  #7eadd1;\n",
       "            color:  #000000;\n",
       "        }    #T_bde6edb6_04c0_11eb_9e5e_7085c2a9ca7arow7_col1 {\n",
       "            background-color:  #94b6d7;\n",
       "            color:  #000000;\n",
       "        }    #T_bde6edb6_04c0_11eb_9e5e_7085c2a9ca7arow7_col2 {\n",
       "            background-color:  #c4cbe3;\n",
       "            color:  #000000;\n",
       "        }    #T_bde6edb6_04c0_11eb_9e5e_7085c2a9ca7arow7_col3 {\n",
       "            background-color:  #8bb2d4;\n",
       "            color:  #000000;\n",
       "        }    #T_bde6edb6_04c0_11eb_9e5e_7085c2a9ca7arow8_col0 {\n",
       "            background-color:  #e3e0ee;\n",
       "            color:  #000000;\n",
       "        }    #T_bde6edb6_04c0_11eb_9e5e_7085c2a9ca7arow8_col1 {\n",
       "            background-color:  #f0eaf4;\n",
       "            color:  #000000;\n",
       "        }    #T_bde6edb6_04c0_11eb_9e5e_7085c2a9ca7arow8_col2 {\n",
       "            background-color:  #eee9f3;\n",
       "            color:  #000000;\n",
       "        }    #T_bde6edb6_04c0_11eb_9e5e_7085c2a9ca7arow8_col3 {\n",
       "            background-color:  #ece7f2;\n",
       "            color:  #000000;\n",
       "        }    #T_bde6edb6_04c0_11eb_9e5e_7085c2a9ca7arow9_col0 {\n",
       "            background-color:  #f0eaf4;\n",
       "            color:  #000000;\n",
       "        }    #T_bde6edb6_04c0_11eb_9e5e_7085c2a9ca7arow9_col1 {\n",
       "            background-color:  #f1ebf5;\n",
       "            color:  #000000;\n",
       "        }    #T_bde6edb6_04c0_11eb_9e5e_7085c2a9ca7arow9_col2 {\n",
       "            background-color:  #e8e4f0;\n",
       "            color:  #000000;\n",
       "        }    #T_bde6edb6_04c0_11eb_9e5e_7085c2a9ca7arow9_col3 {\n",
       "            background-color:  #f1ebf5;\n",
       "            color:  #000000;\n",
       "        }    #T_bde6edb6_04c0_11eb_9e5e_7085c2a9ca7arow10_col0 {\n",
       "            background-color:  #60a1ca;\n",
       "            color:  #000000;\n",
       "        }    #T_bde6edb6_04c0_11eb_9e5e_7085c2a9ca7arow10_col1 {\n",
       "            background-color:  #0a73b2;\n",
       "            color:  #f1f1f1;\n",
       "        }    #T_bde6edb6_04c0_11eb_9e5e_7085c2a9ca7arow10_col2 {\n",
       "            background-color:  #05659f;\n",
       "            color:  #f1f1f1;\n",
       "        }    #T_bde6edb6_04c0_11eb_9e5e_7085c2a9ca7arow10_col3 {\n",
       "            background-color:  #045b8f;\n",
       "            color:  #f1f1f1;\n",
       "        }    #T_bde6edb6_04c0_11eb_9e5e_7085c2a9ca7arow11_col0 {\n",
       "            background-color:  #045687;\n",
       "            color:  #f1f1f1;\n",
       "        }    #T_bde6edb6_04c0_11eb_9e5e_7085c2a9ca7arow11_col1 {\n",
       "            background-color:  #046198;\n",
       "            color:  #f1f1f1;\n",
       "        }    #T_bde6edb6_04c0_11eb_9e5e_7085c2a9ca7arow11_col2 {\n",
       "            background-color:  #187cb6;\n",
       "            color:  #000000;\n",
       "        }    #T_bde6edb6_04c0_11eb_9e5e_7085c2a9ca7arow11_col3 {\n",
       "            background-color:  #167bb6;\n",
       "            color:  #000000;\n",
       "        }</style><table id=\"T_bde6edb6_04c0_11eb_9e5e_7085c2a9ca7a\" ><thead>    <tr>        <th class=\"blank\" ></th>        <th class=\"index_name level0\" >dept</th>        <th class=\"col_heading level0 col0\" >Accounting</th>        <th class=\"col_heading level0 col1\" >IT</th>        <th class=\"col_heading level0 col2\" >Marketing</th>        <th class=\"col_heading level0 col3\" >Sales</th>    </tr>    <tr>        <th class=\"index_name level0\" >company</th>        <th class=\"index_name level1\" >continent</th>        <th class=\"blank\" ></th>        <th class=\"blank\" ></th>        <th class=\"blank\" ></th>        <th class=\"blank\" ></th>    </tr></thead><tbody>\n",
       "                <tr>\n",
       "                        <th id=\"T_bde6edb6_04c0_11eb_9e5e_7085c2a9ca7alevel0_row0\" class=\"row_heading level0 row0\" rowspan=4>Innovato</th>\n",
       "                        <th id=\"T_bde6edb6_04c0_11eb_9e5e_7085c2a9ca7alevel1_row0\" class=\"row_heading level1 row0\" >Africa</th>\n",
       "                        <td id=\"T_bde6edb6_04c0_11eb_9e5e_7085c2a9ca7arow0_col0\" class=\"data row0 col0\" >174</td>\n",
       "                        <td id=\"T_bde6edb6_04c0_11eb_9e5e_7085c2a9ca7arow0_col1\" class=\"data row0 col1\" >162</td>\n",
       "                        <td id=\"T_bde6edb6_04c0_11eb_9e5e_7085c2a9ca7arow0_col2\" class=\"data row0 col2\" >178</td>\n",
       "                        <td id=\"T_bde6edb6_04c0_11eb_9e5e_7085c2a9ca7arow0_col3\" class=\"data row0 col3\" >181</td>\n",
       "            </tr>\n",
       "            <tr>\n",
       "                                <th id=\"T_bde6edb6_04c0_11eb_9e5e_7085c2a9ca7alevel1_row1\" class=\"row_heading level1 row1\" >Asia</th>\n",
       "                        <td id=\"T_bde6edb6_04c0_11eb_9e5e_7085c2a9ca7arow1_col0\" class=\"data row1 col0\" >148</td>\n",
       "                        <td id=\"T_bde6edb6_04c0_11eb_9e5e_7085c2a9ca7arow1_col1\" class=\"data row1 col1\" >174</td>\n",
       "                        <td id=\"T_bde6edb6_04c0_11eb_9e5e_7085c2a9ca7arow1_col2\" class=\"data row1 col2\" >161</td>\n",
       "                        <td id=\"T_bde6edb6_04c0_11eb_9e5e_7085c2a9ca7arow1_col3\" class=\"data row1 col3\" >126</td>\n",
       "            </tr>\n",
       "            <tr>\n",
       "                                <th id=\"T_bde6edb6_04c0_11eb_9e5e_7085c2a9ca7alevel1_row2\" class=\"row_heading level1 row2\" >Europe</th>\n",
       "                        <td id=\"T_bde6edb6_04c0_11eb_9e5e_7085c2a9ca7arow2_col0\" class=\"data row2 col0\" >48</td>\n",
       "                        <td id=\"T_bde6edb6_04c0_11eb_9e5e_7085c2a9ca7arow2_col1\" class=\"data row2 col1\" >62</td>\n",
       "                        <td id=\"T_bde6edb6_04c0_11eb_9e5e_7085c2a9ca7arow2_col2\" class=\"data row2 col2\" >79</td>\n",
       "                        <td id=\"T_bde6edb6_04c0_11eb_9e5e_7085c2a9ca7arow2_col3\" class=\"data row2 col3\" >66</td>\n",
       "            </tr>\n",
       "            <tr>\n",
       "                                <th id=\"T_bde6edb6_04c0_11eb_9e5e_7085c2a9ca7alevel1_row3\" class=\"row_heading level1 row3\" >South America</th>\n",
       "                        <td id=\"T_bde6edb6_04c0_11eb_9e5e_7085c2a9ca7arow3_col0\" class=\"data row3 col0\" >54</td>\n",
       "                        <td id=\"T_bde6edb6_04c0_11eb_9e5e_7085c2a9ca7arow3_col1\" class=\"data row3 col1\" >71</td>\n",
       "                        <td id=\"T_bde6edb6_04c0_11eb_9e5e_7085c2a9ca7arow3_col2\" class=\"data row3 col2\" >63</td>\n",
       "                        <td id=\"T_bde6edb6_04c0_11eb_9e5e_7085c2a9ca7arow3_col3\" class=\"data row3 col3\" >52</td>\n",
       "            </tr>\n",
       "            <tr>\n",
       "                        <th id=\"T_bde6edb6_04c0_11eb_9e5e_7085c2a9ca7alevel0_row4\" class=\"row_heading level0 row4\" rowspan=4>Rop</th>\n",
       "                        <th id=\"T_bde6edb6_04c0_11eb_9e5e_7085c2a9ca7alevel1_row4\" class=\"row_heading level1 row4\" >Africa</th>\n",
       "                        <td id=\"T_bde6edb6_04c0_11eb_9e5e_7085c2a9ca7arow4_col0\" class=\"data row4 col0\" >94</td>\n",
       "                        <td id=\"T_bde6edb6_04c0_11eb_9e5e_7085c2a9ca7arow4_col1\" class=\"data row4 col1\" >85</td>\n",
       "                        <td id=\"T_bde6edb6_04c0_11eb_9e5e_7085c2a9ca7arow4_col2\" class=\"data row4 col2\" >73</td>\n",
       "                        <td id=\"T_bde6edb6_04c0_11eb_9e5e_7085c2a9ca7arow4_col3\" class=\"data row4 col3\" >89</td>\n",
       "            </tr>\n",
       "            <tr>\n",
       "                                <th id=\"T_bde6edb6_04c0_11eb_9e5e_7085c2a9ca7alevel1_row5\" class=\"row_heading level1 row5\" >Asia</th>\n",
       "                        <td id=\"T_bde6edb6_04c0_11eb_9e5e_7085c2a9ca7arow5_col0\" class=\"data row5 col0\" >101</td>\n",
       "                        <td id=\"T_bde6edb6_04c0_11eb_9e5e_7085c2a9ca7arow5_col1\" class=\"data row5 col1\" >101</td>\n",
       "                        <td id=\"T_bde6edb6_04c0_11eb_9e5e_7085c2a9ca7arow5_col2\" class=\"data row5 col2\" >84</td>\n",
       "                        <td id=\"T_bde6edb6_04c0_11eb_9e5e_7085c2a9ca7arow5_col3\" class=\"data row5 col3\" >97</td>\n",
       "            </tr>\n",
       "            <tr>\n",
       "                                <th id=\"T_bde6edb6_04c0_11eb_9e5e_7085c2a9ca7alevel1_row6\" class=\"row_heading level1 row6\" >Europe</th>\n",
       "                        <td id=\"T_bde6edb6_04c0_11eb_9e5e_7085c2a9ca7arow6_col0\" class=\"data row6 col0\" >94</td>\n",
       "                        <td id=\"T_bde6edb6_04c0_11eb_9e5e_7085c2a9ca7arow6_col1\" class=\"data row6 col1\" >83</td>\n",
       "                        <td id=\"T_bde6edb6_04c0_11eb_9e5e_7085c2a9ca7arow6_col2\" class=\"data row6 col2\" >94</td>\n",
       "                        <td id=\"T_bde6edb6_04c0_11eb_9e5e_7085c2a9ca7arow6_col3\" class=\"data row6 col3\" >98</td>\n",
       "            </tr>\n",
       "            <tr>\n",
       "                                <th id=\"T_bde6edb6_04c0_11eb_9e5e_7085c2a9ca7alevel1_row7\" class=\"row_heading level1 row7\" >South America</th>\n",
       "                        <td id=\"T_bde6edb6_04c0_11eb_9e5e_7085c2a9ca7arow7_col0\" class=\"data row7 col0\" >111</td>\n",
       "                        <td id=\"T_bde6edb6_04c0_11eb_9e5e_7085c2a9ca7arow7_col1\" class=\"data row7 col1\" >104</td>\n",
       "                        <td id=\"T_bde6edb6_04c0_11eb_9e5e_7085c2a9ca7arow7_col2\" class=\"data row7 col2\" >86</td>\n",
       "                        <td id=\"T_bde6edb6_04c0_11eb_9e5e_7085c2a9ca7arow7_col3\" class=\"data row7 col3\" >107</td>\n",
       "            </tr>\n",
       "            <tr>\n",
       "                        <th id=\"T_bde6edb6_04c0_11eb_9e5e_7085c2a9ca7alevel0_row8\" class=\"row_heading level0 row8\" rowspan=4>UpDog</th>\n",
       "                        <th id=\"T_bde6edb6_04c0_11eb_9e5e_7085c2a9ca7alevel1_row8\" class=\"row_heading level1 row8\" >Africa</th>\n",
       "                        <td id=\"T_bde6edb6_04c0_11eb_9e5e_7085c2a9ca7arow8_col0\" class=\"data row8 col0\" >70</td>\n",
       "                        <td id=\"T_bde6edb6_04c0_11eb_9e5e_7085c2a9ca7arow8_col1\" class=\"data row8 col1\" >61</td>\n",
       "                        <td id=\"T_bde6edb6_04c0_11eb_9e5e_7085c2a9ca7arow8_col2\" class=\"data row8 col2\" >63</td>\n",
       "                        <td id=\"T_bde6edb6_04c0_11eb_9e5e_7085c2a9ca7arow8_col3\" class=\"data row8 col3\" >65</td>\n",
       "            </tr>\n",
       "            <tr>\n",
       "                                <th id=\"T_bde6edb6_04c0_11eb_9e5e_7085c2a9ca7alevel1_row9\" class=\"row_heading level1 row9\" >Asia</th>\n",
       "                        <td id=\"T_bde6edb6_04c0_11eb_9e5e_7085c2a9ca7arow9_col0\" class=\"data row9 col0\" >61</td>\n",
       "                        <td id=\"T_bde6edb6_04c0_11eb_9e5e_7085c2a9ca7arow9_col1\" class=\"data row9 col1\" >60</td>\n",
       "                        <td id=\"T_bde6edb6_04c0_11eb_9e5e_7085c2a9ca7arow9_col2\" class=\"data row9 col2\" >67</td>\n",
       "                        <td id=\"T_bde6edb6_04c0_11eb_9e5e_7085c2a9ca7arow9_col3\" class=\"data row9 col3\" >60</td>\n",
       "            </tr>\n",
       "            <tr>\n",
       "                                <th id=\"T_bde6edb6_04c0_11eb_9e5e_7085c2a9ca7alevel1_row10\" class=\"row_heading level1 row10\" >Europe</th>\n",
       "                        <td id=\"T_bde6edb6_04c0_11eb_9e5e_7085c2a9ca7arow10_col0\" class=\"data row10 col0\" >120</td>\n",
       "                        <td id=\"T_bde6edb6_04c0_11eb_9e5e_7085c2a9ca7arow10_col1\" class=\"data row10 col1\" >146</td>\n",
       "                        <td id=\"T_bde6edb6_04c0_11eb_9e5e_7085c2a9ca7arow10_col2\" class=\"data row10 col2\" >156</td>\n",
       "                        <td id=\"T_bde6edb6_04c0_11eb_9e5e_7085c2a9ca7arow10_col3\" class=\"data row10 col3\" >163</td>\n",
       "            </tr>\n",
       "            <tr>\n",
       "                                <th id=\"T_bde6edb6_04c0_11eb_9e5e_7085c2a9ca7alevel1_row11\" class=\"row_heading level1 row11\" >South America</th>\n",
       "                        <td id=\"T_bde6edb6_04c0_11eb_9e5e_7085c2a9ca7arow11_col0\" class=\"data row11 col0\" >166</td>\n",
       "                        <td id=\"T_bde6edb6_04c0_11eb_9e5e_7085c2a9ca7arow11_col1\" class=\"data row11 col1\" >159</td>\n",
       "                        <td id=\"T_bde6edb6_04c0_11eb_9e5e_7085c2a9ca7arow11_col2\" class=\"data row11 col2\" >141</td>\n",
       "                        <td id=\"T_bde6edb6_04c0_11eb_9e5e_7085c2a9ca7arow11_col3\" class=\"data row11 col3\" >142</td>\n",
       "            </tr>\n",
       "    </tbody></table>"
      ],
      "text/plain": [
       "<pandas.io.formats.style.Styler at 0x12f39921588>"
      ]
     },
     "execution_count": 12,
     "metadata": {},
     "output_type": "execute_result"
    },
    {
     "data": {
      "application/javascript": [
       "\n",
       "            setTimeout(function() {\n",
       "                var nbb_cell_id = 12;\n",
       "                var nbb_unformatted_code = \"# Again, co-occurances\\n\\n# We see Innovato seems to be more associated with Africa and Asia\\n# We see UpDog is associated with Europe and South America\\n\\ncrosstab = pd.crosstab([df_4[\\\"company\\\"], df_4[\\\"continent\\\"]], df_4[\\\"dept\\\"])\\ncrosstab.style.background_gradient(axis=None)\";\n",
       "                var nbb_formatted_code = \"# Again, co-occurances\\n\\n# We see Innovato seems to be more associated with Africa and Asia\\n# We see UpDog is associated with Europe and South America\\n\\ncrosstab = pd.crosstab([df_4[\\\"company\\\"], df_4[\\\"continent\\\"]], df_4[\\\"dept\\\"])\\ncrosstab.style.background_gradient(axis=None)\";\n",
       "                var nbb_cells = Jupyter.notebook.get_cells();\n",
       "                for (var i = 0; i < nbb_cells.length; ++i) {\n",
       "                    if (nbb_cells[i].input_prompt_number == nbb_cell_id) {\n",
       "                        if (nbb_cells[i].get_text() == nbb_unformatted_code) {\n",
       "                             nbb_cells[i].set_text(nbb_formatted_code);\n",
       "                        }\n",
       "                        break;\n",
       "                    }\n",
       "                }\n",
       "            }, 500);\n",
       "            "
      ],
      "text/plain": [
       "<IPython.core.display.Javascript object>"
      ]
     },
     "metadata": {},
     "output_type": "display_data"
    }
   ],
   "source": [
    "# Again, co-occurances\n",
    "\n",
    "# We see Innovato seems to be more associated with Africa and Asia\n",
    "# We see UpDog is associated with Europe and South America\n",
    "\n",
    "crosstab = pd.crosstab([df_4[\"company\"], df_4[\"continent\"]], df_4[\"dept\"])\n",
    "crosstab.style.background_gradient(axis=None)"
   ]
  },
  {
   "cell_type": "markdown",
   "metadata": {},
   "source": [
    "`df_5` is a combination of `df_1`, `df_3`, and `df_4`."
   ]
  },
  {
   "cell_type": "code",
   "execution_count": 13,
   "metadata": {},
   "outputs": [
    {
     "data": {
      "text/html": [
       "<div>\n",
       "<style scoped>\n",
       "    .dataframe tbody tr th:only-of-type {\n",
       "        vertical-align: middle;\n",
       "    }\n",
       "\n",
       "    .dataframe tbody tr th {\n",
       "        vertical-align: top;\n",
       "    }\n",
       "\n",
       "    .dataframe thead th {\n",
       "        text-align: right;\n",
       "    }\n",
       "</style>\n",
       "<table border=\"1\" class=\"dataframe\">\n",
       "  <thead>\n",
       "    <tr style=\"text-align: right;\">\n",
       "      <th></th>\n",
       "      <th>x1</th>\n",
       "      <th>x2</th>\n",
       "      <th>q1</th>\n",
       "      <th>q2</th>\n",
       "      <th>q3</th>\n",
       "      <th>q4</th>\n",
       "      <th>q5</th>\n",
       "      <th>continent</th>\n",
       "      <th>dept</th>\n",
       "      <th>company</th>\n",
       "    </tr>\n",
       "  </thead>\n",
       "  <tbody>\n",
       "    <tr>\n",
       "      <th>0</th>\n",
       "      <td>0.828952</td>\n",
       "      <td>-1.287727</td>\n",
       "      <td>0</td>\n",
       "      <td>0</td>\n",
       "      <td>0</td>\n",
       "      <td>1</td>\n",
       "      <td>0</td>\n",
       "      <td>Europe</td>\n",
       "      <td>IT</td>\n",
       "      <td>UpDog</td>\n",
       "    </tr>\n",
       "    <tr>\n",
       "      <th>1</th>\n",
       "      <td>-2.068668</td>\n",
       "      <td>-0.025076</td>\n",
       "      <td>1</td>\n",
       "      <td>0</td>\n",
       "      <td>1</td>\n",
       "      <td>1</td>\n",
       "      <td>0</td>\n",
       "      <td>South America</td>\n",
       "      <td>IT</td>\n",
       "      <td>UpDog</td>\n",
       "    </tr>\n",
       "    <tr>\n",
       "      <th>2</th>\n",
       "      <td>-0.466015</td>\n",
       "      <td>-0.515344</td>\n",
       "      <td>0</td>\n",
       "      <td>0</td>\n",
       "      <td>0</td>\n",
       "      <td>1</td>\n",
       "      <td>1</td>\n",
       "      <td>Africa</td>\n",
       "      <td>IT</td>\n",
       "      <td>Innovato</td>\n",
       "    </tr>\n",
       "    <tr>\n",
       "      <th>3</th>\n",
       "      <td>0.505617</td>\n",
       "      <td>1.020197</td>\n",
       "      <td>0</td>\n",
       "      <td>0</td>\n",
       "      <td>1</td>\n",
       "      <td>0</td>\n",
       "      <td>1</td>\n",
       "      <td>Europe</td>\n",
       "      <td>IT</td>\n",
       "      <td>Rop</td>\n",
       "    </tr>\n",
       "    <tr>\n",
       "      <th>4</th>\n",
       "      <td>0.234860</td>\n",
       "      <td>-1.424100</td>\n",
       "      <td>0</td>\n",
       "      <td>1</td>\n",
       "      <td>1</td>\n",
       "      <td>1</td>\n",
       "      <td>0</td>\n",
       "      <td>Europe</td>\n",
       "      <td>Marketing</td>\n",
       "      <td>Rop</td>\n",
       "    </tr>\n",
       "  </tbody>\n",
       "</table>\n",
       "</div>"
      ],
      "text/plain": [
       "         x1        x2  q1  q2  q3  q4  q5      continent       dept   company\n",
       "0  0.828952 -1.287727   0   0   0   1   0         Europe         IT     UpDog\n",
       "1 -2.068668 -0.025076   1   0   1   1   0  South America         IT     UpDog\n",
       "2 -0.466015 -0.515344   0   0   0   1   1         Africa         IT  Innovato\n",
       "3  0.505617  1.020197   0   0   1   0   1         Europe         IT       Rop\n",
       "4  0.234860 -1.424100   0   1   1   1   0         Europe  Marketing       Rop"
      ]
     },
     "execution_count": 13,
     "metadata": {},
     "output_type": "execute_result"
    },
    {
     "data": {
      "application/javascript": [
       "\n",
       "            setTimeout(function() {\n",
       "                var nbb_cell_id = 13;\n",
       "                var nbb_unformatted_code = \"df_5.head()\";\n",
       "                var nbb_formatted_code = \"df_5.head()\";\n",
       "                var nbb_cells = Jupyter.notebook.get_cells();\n",
       "                for (var i = 0; i < nbb_cells.length; ++i) {\n",
       "                    if (nbb_cells[i].input_prompt_number == nbb_cell_id) {\n",
       "                        if (nbb_cells[i].get_text() == nbb_unformatted_code) {\n",
       "                             nbb_cells[i].set_text(nbb_formatted_code);\n",
       "                        }\n",
       "                        break;\n",
       "                    }\n",
       "                }\n",
       "            }, 500);\n",
       "            "
      ],
      "text/plain": [
       "<IPython.core.display.Javascript object>"
      ]
     },
     "metadata": {},
     "output_type": "display_data"
    }
   ],
   "source": [
    "df_5.head()"
   ]
  },
  {
   "cell_type": "markdown",
   "metadata": {},
   "source": [
    "## KMeans\n",
    "\n",
    "[back to top](#Clustering-Algorithms)"
   ]
  },
  {
   "cell_type": "code",
   "execution_count": 14,
   "metadata": {},
   "outputs": [
    {
     "data": {
      "application/javascript": [
       "\n",
       "            setTimeout(function() {\n",
       "                var nbb_cell_id = 14;\n",
       "                var nbb_unformatted_code = \"# reset data for section\\ndf_1, df_2 = make_df_1_2()\\ndf_3 = make_df_3()\\ndf_4 = make_df_4()\\ndf_5 = make_df_5()\";\n",
       "                var nbb_formatted_code = \"# reset data for section\\ndf_1, df_2 = make_df_1_2()\\ndf_3 = make_df_3()\\ndf_4 = make_df_4()\\ndf_5 = make_df_5()\";\n",
       "                var nbb_cells = Jupyter.notebook.get_cells();\n",
       "                for (var i = 0; i < nbb_cells.length; ++i) {\n",
       "                    if (nbb_cells[i].input_prompt_number == nbb_cell_id) {\n",
       "                        if (nbb_cells[i].get_text() == nbb_unformatted_code) {\n",
       "                             nbb_cells[i].set_text(nbb_formatted_code);\n",
       "                        }\n",
       "                        break;\n",
       "                    }\n",
       "                }\n",
       "            }, 500);\n",
       "            "
      ],
      "text/plain": [
       "<IPython.core.display.Javascript object>"
      ]
     },
     "metadata": {},
     "output_type": "display_data"
    }
   ],
   "source": [
    "# reset data for section\n",
    "df_1, df_2 = make_df_1_2()\n",
    "df_3 = make_df_3()\n",
    "df_4 = make_df_4()\n",
    "df_5 = make_df_5()"
   ]
  },
  {
   "cell_type": "markdown",
   "metadata": {},
   "source": [
    "`df_1`"
   ]
  },
  {
   "cell_type": "code",
   "execution_count": 15,
   "metadata": {},
   "outputs": [
    {
     "data": {
      "text/html": [
       "<div>\n",
       "<style scoped>\n",
       "    .dataframe tbody tr th:only-of-type {\n",
       "        vertical-align: middle;\n",
       "    }\n",
       "\n",
       "    .dataframe tbody tr th {\n",
       "        vertical-align: top;\n",
       "    }\n",
       "\n",
       "    .dataframe thead th {\n",
       "        text-align: right;\n",
       "    }\n",
       "</style>\n",
       "<table border=\"1\" class=\"dataframe\">\n",
       "  <thead>\n",
       "    <tr style=\"text-align: right;\">\n",
       "      <th></th>\n",
       "      <th>x1</th>\n",
       "      <th>x2</th>\n",
       "    </tr>\n",
       "  </thead>\n",
       "  <tbody>\n",
       "    <tr>\n",
       "      <th>0</th>\n",
       "      <td>0.828952</td>\n",
       "      <td>-1.287727</td>\n",
       "    </tr>\n",
       "    <tr>\n",
       "      <th>1</th>\n",
       "      <td>-2.068668</td>\n",
       "      <td>-0.025076</td>\n",
       "    </tr>\n",
       "    <tr>\n",
       "      <th>2</th>\n",
       "      <td>-0.466015</td>\n",
       "      <td>-0.515344</td>\n",
       "    </tr>\n",
       "  </tbody>\n",
       "</table>\n",
       "</div>"
      ],
      "text/plain": [
       "         x1        x2\n",
       "0  0.828952 -1.287727\n",
       "1 -2.068668 -0.025076\n",
       "2 -0.466015 -0.515344"
      ]
     },
     "execution_count": 15,
     "metadata": {},
     "output_type": "execute_result"
    },
    {
     "data": {
      "application/javascript": [
       "\n",
       "            setTimeout(function() {\n",
       "                var nbb_cell_id = 15;\n",
       "                var nbb_unformatted_code = \"df_1.head(3)\";\n",
       "                var nbb_formatted_code = \"df_1.head(3)\";\n",
       "                var nbb_cells = Jupyter.notebook.get_cells();\n",
       "                for (var i = 0; i < nbb_cells.length; ++i) {\n",
       "                    if (nbb_cells[i].input_prompt_number == nbb_cell_id) {\n",
       "                        if (nbb_cells[i].get_text() == nbb_unformatted_code) {\n",
       "                             nbb_cells[i].set_text(nbb_formatted_code);\n",
       "                        }\n",
       "                        break;\n",
       "                    }\n",
       "                }\n",
       "            }, 500);\n",
       "            "
      ],
      "text/plain": [
       "<IPython.core.display.Javascript object>"
      ]
     },
     "metadata": {},
     "output_type": "display_data"
    }
   ],
   "source": [
    "df_1.head(3)"
   ]
  },
  {
   "cell_type": "code",
   "execution_count": 16,
   "metadata": {},
   "outputs": [
    {
     "data": {
      "text/plain": [
       "KMeans(algorithm='auto', copy_x=True, init='k-means++', max_iter=300,\n",
       "       n_clusters=5, n_init=10, n_jobs=None, precompute_distances='auto',\n",
       "       random_state=None, tol=0.0001, verbose=0)"
      ]
     },
     "execution_count": 16,
     "metadata": {},
     "output_type": "execute_result"
    },
    {
     "data": {
      "application/javascript": [
       "\n",
       "            setTimeout(function() {\n",
       "                var nbb_cell_id = 16;\n",
       "                var nbb_unformatted_code = \"clst = KMeans(5)\\nclst.fit(df_1)\";\n",
       "                var nbb_formatted_code = \"clst = KMeans(5)\\nclst.fit(df_1)\";\n",
       "                var nbb_cells = Jupyter.notebook.get_cells();\n",
       "                for (var i = 0; i < nbb_cells.length; ++i) {\n",
       "                    if (nbb_cells[i].input_prompt_number == nbb_cell_id) {\n",
       "                        if (nbb_cells[i].get_text() == nbb_unformatted_code) {\n",
       "                             nbb_cells[i].set_text(nbb_formatted_code);\n",
       "                        }\n",
       "                        break;\n",
       "                    }\n",
       "                }\n",
       "            }, 500);\n",
       "            "
      ],
      "text/plain": [
       "<IPython.core.display.Javascript object>"
      ]
     },
     "metadata": {},
     "output_type": "display_data"
    }
   ],
   "source": [
    "clst = KMeans(5)\n",
    "clst.fit(df_1)"
   ]
  },
  {
   "cell_type": "code",
   "execution_count": 17,
   "metadata": {},
   "outputs": [
    {
     "data": {
      "text/plain": [
       "array([[ 0.70842342, -1.48476021],\n",
       "       [ 0.69225286,  1.31097186],\n",
       "       [-1.82520161,  0.19553316],\n",
       "       [-0.26126125, -0.6628842 ],\n",
       "       [ 0.68574099,  0.6364175 ]])"
      ]
     },
     "execution_count": 17,
     "metadata": {},
     "output_type": "execute_result"
    },
    {
     "data": {
      "application/javascript": [
       "\n",
       "            setTimeout(function() {\n",
       "                var nbb_cell_id = 17;\n",
       "                var nbb_unformatted_code = \"clst.cluster_centers_\";\n",
       "                var nbb_formatted_code = \"clst.cluster_centers_\";\n",
       "                var nbb_cells = Jupyter.notebook.get_cells();\n",
       "                for (var i = 0; i < nbb_cells.length; ++i) {\n",
       "                    if (nbb_cells[i].input_prompt_number == nbb_cell_id) {\n",
       "                        if (nbb_cells[i].get_text() == nbb_unformatted_code) {\n",
       "                             nbb_cells[i].set_text(nbb_formatted_code);\n",
       "                        }\n",
       "                        break;\n",
       "                    }\n",
       "                }\n",
       "            }, 500);\n",
       "            "
      ],
      "text/plain": [
       "<IPython.core.display.Javascript object>"
      ]
     },
     "metadata": {},
     "output_type": "display_data"
    }
   ],
   "source": [
    "clst.cluster_centers_"
   ]
  },
  {
   "cell_type": "code",
   "execution_count": 18,
   "metadata": {},
   "outputs": [
    {
     "data": {
      "image/png": "[encoded data removed]",
      "text/plain": [
       "<Figure size 720x360 with 2 Axes>"
      ]
     },
     "metadata": {
      "needs_background": "light"
     },
     "output_type": "display_data"
    },
    {
     "data": {
      "application/javascript": [
       "\n",
       "            setTimeout(function() {\n",
       "                var nbb_cell_id = 18;\n",
       "                var nbb_unformatted_code = \"labels = clst.labels_\\n\\nplot_cluster_results(df_1, labels)\\nplt.legend().remove()\\nplt.show()\";\n",
       "                var nbb_formatted_code = \"labels = clst.labels_\\n\\nplot_cluster_results(df_1, labels)\\nplt.legend().remove()\\nplt.show()\";\n",
       "                var nbb_cells = Jupyter.notebook.get_cells();\n",
       "                for (var i = 0; i < nbb_cells.length; ++i) {\n",
       "                    if (nbb_cells[i].input_prompt_number == nbb_cell_id) {\n",
       "                        if (nbb_cells[i].get_text() == nbb_unformatted_code) {\n",
       "                             nbb_cells[i].set_text(nbb_formatted_code);\n",
       "                        }\n",
       "                        break;\n",
       "                    }\n",
       "                }\n",
       "            }, 500);\n",
       "            "
      ],
      "text/plain": [
       "<IPython.core.display.Javascript object>"
      ]
     },
     "metadata": {},
     "output_type": "display_data"
    }
   ],
   "source": [
    "labels = clst.labels_\n",
    "\n",
    "plot_cluster_results(df_1, labels)\n",
    "plt.legend().remove()\n",
    "plt.show()"
   ]
  },
  {
   "cell_type": "markdown",
   "metadata": {},
   "source": [
    "`df_2`"
   ]
  },
  {
   "cell_type": "code",
   "execution_count": 19,
   "metadata": {},
   "outputs": [
    {
     "data": {
      "text/plain": [
       "KMeans(algorithm='auto', copy_x=True, init='k-means++', max_iter=300,\n",
       "       n_clusters=5, n_init=10, n_jobs=None, precompute_distances='auto',\n",
       "       random_state=None, tol=0.0001, verbose=0)"
      ]
     },
     "execution_count": 19,
     "metadata": {},
     "output_type": "execute_result"
    },
    {
     "data": {
      "application/javascript": [
       "\n",
       "            setTimeout(function() {\n",
       "                var nbb_cell_id = 19;\n",
       "                var nbb_unformatted_code = \"clst = KMeans(5)\\nclst.fit(df_2)\";\n",
       "                var nbb_formatted_code = \"clst = KMeans(5)\\nclst.fit(df_2)\";\n",
       "                var nbb_cells = Jupyter.notebook.get_cells();\n",
       "                for (var i = 0; i < nbb_cells.length; ++i) {\n",
       "                    if (nbb_cells[i].input_prompt_number == nbb_cell_id) {\n",
       "                        if (nbb_cells[i].get_text() == nbb_unformatted_code) {\n",
       "                             nbb_cells[i].set_text(nbb_formatted_code);\n",
       "                        }\n",
       "                        break;\n",
       "                    }\n",
       "                }\n",
       "            }, 500);\n",
       "            "
      ],
      "text/plain": [
       "<IPython.core.display.Javascript object>"
      ]
     },
     "metadata": {},
     "output_type": "display_data"
    }
   ],
   "source": [
    "clst = KMeans(5)\n",
    "clst.fit(df_2)"
   ]
  },
  {
   "cell_type": "code",
   "execution_count": 20,
   "metadata": {},
   "outputs": [
    {
     "data": {
      "text/plain": [
       "array([[-1.3979286 , -0.44773243],\n",
       "       [ 1.14289713,  1.46005225],\n",
       "       [ 1.00183142,  0.63028014],\n",
       "       [-0.48666025, -1.39980594],\n",
       "       [-0.25679555, -0.25427167]])"
      ]
     },
     "execution_count": 20,
     "metadata": {},
     "output_type": "execute_result"
    },
    {
     "data": {
      "application/javascript": [
       "\n",
       "            setTimeout(function() {\n",
       "                var nbb_cell_id = 20;\n",
       "                var nbb_unformatted_code = \"clst.cluster_centers_\";\n",
       "                var nbb_formatted_code = \"clst.cluster_centers_\";\n",
       "                var nbb_cells = Jupyter.notebook.get_cells();\n",
       "                for (var i = 0; i < nbb_cells.length; ++i) {\n",
       "                    if (nbb_cells[i].input_prompt_number == nbb_cell_id) {\n",
       "                        if (nbb_cells[i].get_text() == nbb_unformatted_code) {\n",
       "                             nbb_cells[i].set_text(nbb_formatted_code);\n",
       "                        }\n",
       "                        break;\n",
       "                    }\n",
       "                }\n",
       "            }, 500);\n",
       "            "
      ],
      "text/plain": [
       "<IPython.core.display.Javascript object>"
      ]
     },
     "metadata": {},
     "output_type": "display_data"
    }
   ],
   "source": [
    "clst.cluster_centers_"
   ]
  },
  {
   "cell_type": "code",
   "execution_count": 21,
   "metadata": {},
   "outputs": [
    {
     "data": {
      "image/png": "[encoded data removed]",
      "text/plain": [
       "<Figure size 720x360 with 2 Axes>"
      ]
     },
     "metadata": {
      "needs_background": "light"
     },
     "output_type": "display_data"
    },
    {
     "data": {
      "application/javascript": [
       "\n",
       "            setTimeout(function() {\n",
       "                var nbb_cell_id = 21;\n",
       "                var nbb_unformatted_code = \"labels = clst.labels_\\n\\nplot_cluster_results(df_2, labels)\\nplt.legend().remove()\\nplt.show()\";\n",
       "                var nbb_formatted_code = \"labels = clst.labels_\\n\\nplot_cluster_results(df_2, labels)\\nplt.legend().remove()\\nplt.show()\";\n",
       "                var nbb_cells = Jupyter.notebook.get_cells();\n",
       "                for (var i = 0; i < nbb_cells.length; ++i) {\n",
       "                    if (nbb_cells[i].input_prompt_number == nbb_cell_id) {\n",
       "                        if (nbb_cells[i].get_text() == nbb_unformatted_code) {\n",
       "                             nbb_cells[i].set_text(nbb_formatted_code);\n",
       "                        }\n",
       "                        break;\n",
       "                    }\n",
       "                }\n",
       "            }, 500);\n",
       "            "
      ],
      "text/plain": [
       "<IPython.core.display.Javascript object>"
      ]
     },
     "metadata": {},
     "output_type": "display_data"
    }
   ],
   "source": [
    "labels = clst.labels_\n",
    "\n",
    "plot_cluster_results(df_2, labels)\n",
    "plt.legend().remove()\n",
    "plt.show()"
   ]
  },
  {
   "cell_type": "markdown",
   "metadata": {},
   "source": [
    "`df_3`"
   ]
  },
  {
   "cell_type": "code",
   "execution_count": 22,
   "metadata": {},
   "outputs": [
    {
     "data": {
      "text/html": [
       "<div>\n",
       "<style scoped>\n",
       "    .dataframe tbody tr th:only-of-type {\n",
       "        vertical-align: middle;\n",
       "    }\n",
       "\n",
       "    .dataframe tbody tr th {\n",
       "        vertical-align: top;\n",
       "    }\n",
       "\n",
       "    .dataframe thead th {\n",
       "        text-align: right;\n",
       "    }\n",
       "</style>\n",
       "<table border=\"1\" class=\"dataframe\">\n",
       "  <thead>\n",
       "    <tr style=\"text-align: right;\">\n",
       "      <th></th>\n",
       "      <th>q1</th>\n",
       "      <th>q2</th>\n",
       "      <th>q3</th>\n",
       "      <th>q4</th>\n",
       "      <th>q5</th>\n",
       "    </tr>\n",
       "  </thead>\n",
       "  <tbody>\n",
       "    <tr>\n",
       "      <th>0</th>\n",
       "      <td>0</td>\n",
       "      <td>0</td>\n",
       "      <td>0</td>\n",
       "      <td>1</td>\n",
       "      <td>0</td>\n",
       "    </tr>\n",
       "    <tr>\n",
       "      <th>1</th>\n",
       "      <td>1</td>\n",
       "      <td>0</td>\n",
       "      <td>1</td>\n",
       "      <td>1</td>\n",
       "      <td>0</td>\n",
       "    </tr>\n",
       "    <tr>\n",
       "      <th>2</th>\n",
       "      <td>0</td>\n",
       "      <td>0</td>\n",
       "      <td>0</td>\n",
       "      <td>1</td>\n",
       "      <td>1</td>\n",
       "    </tr>\n",
       "  </tbody>\n",
       "</table>\n",
       "</div>"
      ],
      "text/plain": [
       "   q1  q2  q3  q4  q5\n",
       "0   0   0   0   1   0\n",
       "1   1   0   1   1   0\n",
       "2   0   0   0   1   1"
      ]
     },
     "execution_count": 22,
     "metadata": {},
     "output_type": "execute_result"
    },
    {
     "data": {
      "application/javascript": [
       "\n",
       "            setTimeout(function() {\n",
       "                var nbb_cell_id = 22;\n",
       "                var nbb_unformatted_code = \"df_3.head(3)\";\n",
       "                var nbb_formatted_code = \"df_3.head(3)\";\n",
       "                var nbb_cells = Jupyter.notebook.get_cells();\n",
       "                for (var i = 0; i < nbb_cells.length; ++i) {\n",
       "                    if (nbb_cells[i].input_prompt_number == nbb_cell_id) {\n",
       "                        if (nbb_cells[i].get_text() == nbb_unformatted_code) {\n",
       "                             nbb_cells[i].set_text(nbb_formatted_code);\n",
       "                        }\n",
       "                        break;\n",
       "                    }\n",
       "                }\n",
       "            }, 500);\n",
       "            "
      ],
      "text/plain": [
       "<IPython.core.display.Javascript object>"
      ]
     },
     "metadata": {},
     "output_type": "display_data"
    }
   ],
   "source": [
    "df_3.head(3)"
   ]
  },
  {
   "cell_type": "code",
   "execution_count": 23,
   "metadata": {},
   "outputs": [
    {
     "data": {
      "application/javascript": [
       "\n",
       "            setTimeout(function() {\n",
       "                var nbb_cell_id = 23;\n",
       "                var nbb_unformatted_code = \"# Nope\";\n",
       "                var nbb_formatted_code = \"# Nope\";\n",
       "                var nbb_cells = Jupyter.notebook.get_cells();\n",
       "                for (var i = 0; i < nbb_cells.length; ++i) {\n",
       "                    if (nbb_cells[i].input_prompt_number == nbb_cell_id) {\n",
       "                        if (nbb_cells[i].get_text() == nbb_unformatted_code) {\n",
       "                             nbb_cells[i].set_text(nbb_formatted_code);\n",
       "                        }\n",
       "                        break;\n",
       "                    }\n",
       "                }\n",
       "            }, 500);\n",
       "            "
      ],
      "text/plain": [
       "<IPython.core.display.Javascript object>"
      ]
     },
     "metadata": {},
     "output_type": "display_data"
    }
   ],
   "source": [
    "# Nope"
   ]
  },
  {
   "cell_type": "markdown",
   "metadata": {},
   "source": [
    "`df_4`"
   ]
  },
  {
   "cell_type": "code",
   "execution_count": 24,
   "metadata": {},
   "outputs": [
    {
     "data": {
      "text/html": [
       "<div>\n",
       "<style scoped>\n",
       "    .dataframe tbody tr th:only-of-type {\n",
       "        vertical-align: middle;\n",
       "    }\n",
       "\n",
       "    .dataframe tbody tr th {\n",
       "        vertical-align: top;\n",
       "    }\n",
       "\n",
       "    .dataframe thead th {\n",
       "        text-align: right;\n",
       "    }\n",
       "</style>\n",
       "<table border=\"1\" class=\"dataframe\">\n",
       "  <thead>\n",
       "    <tr style=\"text-align: right;\">\n",
       "      <th></th>\n",
       "      <th>continent</th>\n",
       "      <th>dept</th>\n",
       "      <th>company</th>\n",
       "    </tr>\n",
       "  </thead>\n",
       "  <tbody>\n",
       "    <tr>\n",
       "      <th>0</th>\n",
       "      <td>Europe</td>\n",
       "      <td>IT</td>\n",
       "      <td>UpDog</td>\n",
       "    </tr>\n",
       "    <tr>\n",
       "      <th>1</th>\n",
       "      <td>South America</td>\n",
       "      <td>IT</td>\n",
       "      <td>UpDog</td>\n",
       "    </tr>\n",
       "    <tr>\n",
       "      <th>2</th>\n",
       "      <td>Africa</td>\n",
       "      <td>IT</td>\n",
       "      <td>Innovato</td>\n",
       "    </tr>\n",
       "  </tbody>\n",
       "</table>\n",
       "</div>"
      ],
      "text/plain": [
       "       continent dept   company\n",
       "0         Europe   IT     UpDog\n",
       "1  South America   IT     UpDog\n",
       "2         Africa   IT  Innovato"
      ]
     },
     "execution_count": 24,
     "metadata": {},
     "output_type": "execute_result"
    },
    {
     "data": {
      "application/javascript": [
       "\n",
       "            setTimeout(function() {\n",
       "                var nbb_cell_id = 24;\n",
       "                var nbb_unformatted_code = \"df_4.head(3)\";\n",
       "                var nbb_formatted_code = \"df_4.head(3)\";\n",
       "                var nbb_cells = Jupyter.notebook.get_cells();\n",
       "                for (var i = 0; i < nbb_cells.length; ++i) {\n",
       "                    if (nbb_cells[i].input_prompt_number == nbb_cell_id) {\n",
       "                        if (nbb_cells[i].get_text() == nbb_unformatted_code) {\n",
       "                             nbb_cells[i].set_text(nbb_formatted_code);\n",
       "                        }\n",
       "                        break;\n",
       "                    }\n",
       "                }\n",
       "            }, 500);\n",
       "            "
      ],
      "text/plain": [
       "<IPython.core.display.Javascript object>"
      ]
     },
     "metadata": {},
     "output_type": "display_data"
    }
   ],
   "source": [
    "df_4.head(3)"
   ]
  },
  {
   "cell_type": "code",
   "execution_count": 25,
   "metadata": {},
   "outputs": [
    {
     "data": {
      "application/javascript": [
       "\n",
       "            setTimeout(function() {\n",
       "                var nbb_cell_id = 25;\n",
       "                var nbb_unformatted_code = \"# Nope\";\n",
       "                var nbb_formatted_code = \"# Nope\";\n",
       "                var nbb_cells = Jupyter.notebook.get_cells();\n",
       "                for (var i = 0; i < nbb_cells.length; ++i) {\n",
       "                    if (nbb_cells[i].input_prompt_number == nbb_cell_id) {\n",
       "                        if (nbb_cells[i].get_text() == nbb_unformatted_code) {\n",
       "                             nbb_cells[i].set_text(nbb_formatted_code);\n",
       "                        }\n",
       "                        break;\n",
       "                    }\n",
       "                }\n",
       "            }, 500);\n",
       "            "
      ],
      "text/plain": [
       "<IPython.core.display.Javascript object>"
      ]
     },
     "metadata": {},
     "output_type": "display_data"
    }
   ],
   "source": [
    "# Nope"
   ]
  },
  {
   "cell_type": "markdown",
   "metadata": {},
   "source": [
    "`df_5`"
   ]
  },
  {
   "cell_type": "code",
   "execution_count": 26,
   "metadata": {},
   "outputs": [
    {
     "data": {
      "text/html": [
       "<div>\n",
       "<style scoped>\n",
       "    .dataframe tbody tr th:only-of-type {\n",
       "        vertical-align: middle;\n",
       "    }\n",
       "\n",
       "    .dataframe tbody tr th {\n",
       "        vertical-align: top;\n",
       "    }\n",
       "\n",
       "    .dataframe thead th {\n",
       "        text-align: right;\n",
       "    }\n",
       "</style>\n",
       "<table border=\"1\" class=\"dataframe\">\n",
       "  <thead>\n",
       "    <tr style=\"text-align: right;\">\n",
       "      <th></th>\n",
       "      <th>x1</th>\n",
       "      <th>x2</th>\n",
       "      <th>q1</th>\n",
       "      <th>q2</th>\n",
       "      <th>q3</th>\n",
       "      <th>q4</th>\n",
       "      <th>q5</th>\n",
       "      <th>continent</th>\n",
       "      <th>dept</th>\n",
       "      <th>company</th>\n",
       "    </tr>\n",
       "  </thead>\n",
       "  <tbody>\n",
       "    <tr>\n",
       "      <th>0</th>\n",
       "      <td>0.828952</td>\n",
       "      <td>-1.287727</td>\n",
       "      <td>0</td>\n",
       "      <td>0</td>\n",
       "      <td>0</td>\n",
       "      <td>1</td>\n",
       "      <td>0</td>\n",
       "      <td>Europe</td>\n",
       "      <td>IT</td>\n",
       "      <td>UpDog</td>\n",
       "    </tr>\n",
       "    <tr>\n",
       "      <th>1</th>\n",
       "      <td>-2.068668</td>\n",
       "      <td>-0.025076</td>\n",
       "      <td>1</td>\n",
       "      <td>0</td>\n",
       "      <td>1</td>\n",
       "      <td>1</td>\n",
       "      <td>0</td>\n",
       "      <td>South America</td>\n",
       "      <td>IT</td>\n",
       "      <td>UpDog</td>\n",
       "    </tr>\n",
       "    <tr>\n",
       "      <th>2</th>\n",
       "      <td>-0.466015</td>\n",
       "      <td>-0.515344</td>\n",
       "      <td>0</td>\n",
       "      <td>0</td>\n",
       "      <td>0</td>\n",
       "      <td>1</td>\n",
       "      <td>1</td>\n",
       "      <td>Africa</td>\n",
       "      <td>IT</td>\n",
       "      <td>Innovato</td>\n",
       "    </tr>\n",
       "  </tbody>\n",
       "</table>\n",
       "</div>"
      ],
      "text/plain": [
       "         x1        x2  q1  q2  q3  q4  q5      continent dept   company\n",
       "0  0.828952 -1.287727   0   0   0   1   0         Europe   IT     UpDog\n",
       "1 -2.068668 -0.025076   1   0   1   1   0  South America   IT     UpDog\n",
       "2 -0.466015 -0.515344   0   0   0   1   1         Africa   IT  Innovato"
      ]
     },
     "execution_count": 26,
     "metadata": {},
     "output_type": "execute_result"
    },
    {
     "data": {
      "application/javascript": [
       "\n",
       "            setTimeout(function() {\n",
       "                var nbb_cell_id = 26;\n",
       "                var nbb_unformatted_code = \"df_5.head(3)\";\n",
       "                var nbb_formatted_code = \"df_5.head(3)\";\n",
       "                var nbb_cells = Jupyter.notebook.get_cells();\n",
       "                for (var i = 0; i < nbb_cells.length; ++i) {\n",
       "                    if (nbb_cells[i].input_prompt_number == nbb_cell_id) {\n",
       "                        if (nbb_cells[i].get_text() == nbb_unformatted_code) {\n",
       "                             nbb_cells[i].set_text(nbb_formatted_code);\n",
       "                        }\n",
       "                        break;\n",
       "                    }\n",
       "                }\n",
       "            }, 500);\n",
       "            "
      ],
      "text/plain": [
       "<IPython.core.display.Javascript object>"
      ]
     },
     "metadata": {},
     "output_type": "display_data"
    }
   ],
   "source": [
    "df_5.head(3)"
   ]
  },
  {
   "cell_type": "code",
   "execution_count": 27,
   "metadata": {},
   "outputs": [
    {
     "data": {
      "application/javascript": [
       "\n",
       "            setTimeout(function() {\n",
       "                var nbb_cell_id = 27;\n",
       "                var nbb_unformatted_code = \"# Nope\";\n",
       "                var nbb_formatted_code = \"# Nope\";\n",
       "                var nbb_cells = Jupyter.notebook.get_cells();\n",
       "                for (var i = 0; i < nbb_cells.length; ++i) {\n",
       "                    if (nbb_cells[i].input_prompt_number == nbb_cell_id) {\n",
       "                        if (nbb_cells[i].get_text() == nbb_unformatted_code) {\n",
       "                             nbb_cells[i].set_text(nbb_formatted_code);\n",
       "                        }\n",
       "                        break;\n",
       "                    }\n",
       "                }\n",
       "            }, 500);\n",
       "            "
      ],
      "text/plain": [
       "<IPython.core.display.Javascript object>"
      ]
     },
     "metadata": {},
     "output_type": "display_data"
    }
   ],
   "source": [
    "# Nope"
   ]
  },
  {
   "cell_type": "code",
   "execution_count": null,
   "metadata": {},
   "outputs": [],
   "source": []
  },
  {
   "cell_type": "markdown",
   "metadata": {},
   "source": [
    "## kmedoids\n",
    "\n",
    "[back to top](#Clustering-Algorithms)"
   ]
  },
  {
   "cell_type": "code",
   "execution_count": 28,
   "metadata": {},
   "outputs": [
    {
     "data": {
      "application/javascript": [
       "\n",
       "            setTimeout(function() {\n",
       "                var nbb_cell_id = 28;\n",
       "                var nbb_unformatted_code = \"# reset data for section\\ndf_1, df_2 = make_df_1_2()\\ndf_3 = make_df_3()\\ndf_4 = make_df_4()\\ndf_5 = make_df_5()\";\n",
       "                var nbb_formatted_code = \"# reset data for section\\ndf_1, df_2 = make_df_1_2()\\ndf_3 = make_df_3()\\ndf_4 = make_df_4()\\ndf_5 = make_df_5()\";\n",
       "                var nbb_cells = Jupyter.notebook.get_cells();\n",
       "                for (var i = 0; i < nbb_cells.length; ++i) {\n",
       "                    if (nbb_cells[i].input_prompt_number == nbb_cell_id) {\n",
       "                        if (nbb_cells[i].get_text() == nbb_unformatted_code) {\n",
       "                             nbb_cells[i].set_text(nbb_formatted_code);\n",
       "                        }\n",
       "                        break;\n",
       "                    }\n",
       "                }\n",
       "            }, 500);\n",
       "            "
      ],
      "text/plain": [
       "<IPython.core.display.Javascript object>"
      ]
     },
     "metadata": {},
     "output_type": "display_data"
    }
   ],
   "source": [
    "# reset data for section\n",
    "df_1, df_2 = make_df_1_2()\n",
    "df_3 = make_df_3()\n",
    "df_4 = make_df_4()\n",
    "df_5 = make_df_5()"
   ]
  },
  {
   "cell_type": "markdown",
   "metadata": {},
   "source": [
    "`df_1`"
   ]
  },
  {
   "cell_type": "code",
   "execution_count": 29,
   "metadata": {},
   "outputs": [
    {
     "data": {
      "text/html": [
       "<div>\n",
       "<style scoped>\n",
       "    .dataframe tbody tr th:only-of-type {\n",
       "        vertical-align: middle;\n",
       "    }\n",
       "\n",
       "    .dataframe tbody tr th {\n",
       "        vertical-align: top;\n",
       "    }\n",
       "\n",
       "    .dataframe thead th {\n",
       "        text-align: right;\n",
       "    }\n",
       "</style>\n",
       "<table border=\"1\" class=\"dataframe\">\n",
       "  <thead>\n",
       "    <tr style=\"text-align: right;\">\n",
       "      <th></th>\n",
       "      <th>x1</th>\n",
       "      <th>x2</th>\n",
       "    </tr>\n",
       "  </thead>\n",
       "  <tbody>\n",
       "    <tr>\n",
       "      <th>0</th>\n",
       "      <td>0.828952</td>\n",
       "      <td>-1.287727</td>\n",
       "    </tr>\n",
       "    <tr>\n",
       "      <th>1</th>\n",
       "      <td>-2.068668</td>\n",
       "      <td>-0.025076</td>\n",
       "    </tr>\n",
       "    <tr>\n",
       "      <th>2</th>\n",
       "      <td>-0.466015</td>\n",
       "      <td>-0.515344</td>\n",
       "    </tr>\n",
       "  </tbody>\n",
       "</table>\n",
       "</div>"
      ],
      "text/plain": [
       "         x1        x2\n",
       "0  0.828952 -1.287727\n",
       "1 -2.068668 -0.025076\n",
       "2 -0.466015 -0.515344"
      ]
     },
     "execution_count": 29,
     "metadata": {},
     "output_type": "execute_result"
    },
    {
     "data": {
      "application/javascript": [
       "\n",
       "            setTimeout(function() {\n",
       "                var nbb_cell_id = 29;\n",
       "                var nbb_unformatted_code = \"df_1.head(3)\";\n",
       "                var nbb_formatted_code = \"df_1.head(3)\";\n",
       "                var nbb_cells = Jupyter.notebook.get_cells();\n",
       "                for (var i = 0; i < nbb_cells.length; ++i) {\n",
       "                    if (nbb_cells[i].input_prompt_number == nbb_cell_id) {\n",
       "                        if (nbb_cells[i].get_text() == nbb_unformatted_code) {\n",
       "                             nbb_cells[i].set_text(nbb_formatted_code);\n",
       "                        }\n",
       "                        break;\n",
       "                    }\n",
       "                }\n",
       "            }, 500);\n",
       "            "
      ],
      "text/plain": [
       "<IPython.core.display.Javascript object>"
      ]
     },
     "metadata": {},
     "output_type": "display_data"
    }
   ],
   "source": [
    "df_1.head(3)"
   ]
  },
  {
   "cell_type": "code",
   "execution_count": null,
   "metadata": {},
   "outputs": [],
   "source": []
  },
  {
   "cell_type": "code",
   "execution_count": 30,
   "metadata": {},
   "outputs": [
    {
     "ename": "NameError",
     "evalue": "name '_____' is not defined",
     "output_type": "error",
     "traceback": [
      "\u001b[1;31m---------------------------------------------------------------------------\u001b[0m",
      "\u001b[1;31mNameError\u001b[0m                                 Traceback (most recent call last)",
      "\u001b[1;32m<ipython-input-30-350f9f96a12f>\u001b[0m in \u001b[0;36m<module>\u001b[1;34m\u001b[0m\n\u001b[1;32m----> 1\u001b[1;33m \u001b[0mlabels\u001b[0m \u001b[1;33m=\u001b[0m \u001b[0m_____\u001b[0m\u001b[1;33m\u001b[0m\u001b[1;33m\u001b[0m\u001b[0m\n\u001b[0m\u001b[0;32m      2\u001b[0m \u001b[1;33m\u001b[0m\u001b[0m\n\u001b[0;32m      3\u001b[0m \u001b[0mplot_cluster_results\u001b[0m\u001b[1;33m(\u001b[0m\u001b[0mdf_1\u001b[0m\u001b[1;33m,\u001b[0m \u001b[0mlabels\u001b[0m\u001b[1;33m)\u001b[0m\u001b[1;33m\u001b[0m\u001b[1;33m\u001b[0m\u001b[0m\n\u001b[0;32m      4\u001b[0m \u001b[0mplt\u001b[0m\u001b[1;33m.\u001b[0m\u001b[0mlegend\u001b[0m\u001b[1;33m(\u001b[0m\u001b[1;33m)\u001b[0m\u001b[1;33m.\u001b[0m\u001b[0mremove\u001b[0m\u001b[1;33m(\u001b[0m\u001b[1;33m)\u001b[0m\u001b[1;33m\u001b[0m\u001b[1;33m\u001b[0m\u001b[0m\n\u001b[0;32m      5\u001b[0m \u001b[0mplt\u001b[0m\u001b[1;33m.\u001b[0m\u001b[0mshow\u001b[0m\u001b[1;33m(\u001b[0m\u001b[1;33m)\u001b[0m\u001b[1;33m\u001b[0m\u001b[1;33m\u001b[0m\u001b[0m\n",
      "\u001b[1;31mNameError\u001b[0m: name '_____' is not defined"
     ]
    },
    {
     "data": {
      "application/javascript": [
       "\n",
       "            setTimeout(function() {\n",
       "                var nbb_cell_id = 30;\n",
       "                var nbb_unformatted_code = \"labels = _____\\n\\nplot_cluster_results(df_1, labels)\\nplt.legend().remove()\\nplt.show()\";\n",
       "                var nbb_formatted_code = \"labels = _____\\n\\nplot_cluster_results(df_1, labels)\\nplt.legend().remove()\\nplt.show()\";\n",
       "                var nbb_cells = Jupyter.notebook.get_cells();\n",
       "                for (var i = 0; i < nbb_cells.length; ++i) {\n",
       "                    if (nbb_cells[i].input_prompt_number == nbb_cell_id) {\n",
       "                        if (nbb_cells[i].get_text() == nbb_unformatted_code) {\n",
       "                             nbb_cells[i].set_text(nbb_formatted_code);\n",
       "                        }\n",
       "                        break;\n",
       "                    }\n",
       "                }\n",
       "            }, 500);\n",
       "            "
      ],
      "text/plain": [
       "<IPython.core.display.Javascript object>"
      ]
     },
     "metadata": {},
     "output_type": "display_data"
    }
   ],
   "source": [
    "labels = _____\n",
    "\n",
    "plot_cluster_results(df_1, labels)\n",
    "plt.legend().remove()\n",
    "plt.show()"
   ]
  },
  {
   "cell_type": "markdown",
   "metadata": {},
   "source": [
    "`df_2`"
   ]
  },
  {
   "cell_type": "code",
   "execution_count": null,
   "metadata": {},
   "outputs": [],
   "source": [
    "df_2.head(3)"
   ]
  },
  {
   "cell_type": "code",
   "execution_count": null,
   "metadata": {},
   "outputs": [],
   "source": []
  },
  {
   "cell_type": "code",
   "execution_count": null,
   "metadata": {},
   "outputs": [],
   "source": [
    "labels = _____\n",
    "\n",
    "plot_cluster_results(df_2, labels)\n",
    "plt.legend().remove()\n",
    "plt.show()"
   ]
  },
  {
   "cell_type": "markdown",
   "metadata": {},
   "source": [
    "`df_3`"
   ]
  },
  {
   "cell_type": "code",
   "execution_count": null,
   "metadata": {},
   "outputs": [],
   "source": [
    "df_3.head(3)"
   ]
  },
  {
   "cell_type": "code",
   "execution_count": null,
   "metadata": {},
   "outputs": [],
   "source": []
  },
  {
   "cell_type": "markdown",
   "metadata": {},
   "source": [
    "`df_4`"
   ]
  },
  {
   "cell_type": "code",
   "execution_count": null,
   "metadata": {},
   "outputs": [],
   "source": [
    "df_4.head(3)"
   ]
  },
  {
   "cell_type": "code",
   "execution_count": null,
   "metadata": {},
   "outputs": [],
   "source": []
  },
  {
   "cell_type": "markdown",
   "metadata": {},
   "source": [
    "`df_5`"
   ]
  },
  {
   "cell_type": "code",
   "execution_count": null,
   "metadata": {},
   "outputs": [],
   "source": [
    "df_5.head(3)"
   ]
  },
  {
   "cell_type": "code",
   "execution_count": null,
   "metadata": {},
   "outputs": [],
   "source": []
  },
  {
   "cell_type": "markdown",
   "metadata": {},
   "source": [
    "## AgglomerativeClustering\n",
    "\n",
    "[back to top](#Clustering-Algorithms)"
   ]
  },
  {
   "cell_type": "code",
   "execution_count": null,
   "metadata": {},
   "outputs": [],
   "source": [
    "# reset data for section\n",
    "df_1, df_2 = make_df_1_2()\n",
    "df_3 = make_df_3()\n",
    "df_4 = make_df_4()\n",
    "df_5 = make_df_5()"
   ]
  },
  {
   "cell_type": "markdown",
   "metadata": {},
   "source": [
    "`df_1`"
   ]
  },
  {
   "cell_type": "code",
   "execution_count": null,
   "metadata": {},
   "outputs": [],
   "source": [
    "df_1.head(3)"
   ]
  },
  {
   "cell_type": "code",
   "execution_count": null,
   "metadata": {},
   "outputs": [],
   "source": []
  },
  {
   "cell_type": "code",
   "execution_count": null,
   "metadata": {},
   "outputs": [],
   "source": [
    "labels = _____\n",
    "\n",
    "plot_cluster_results(df_1, labels)\n",
    "plt.legend().remove()\n",
    "plt.show()"
   ]
  },
  {
   "cell_type": "markdown",
   "metadata": {},
   "source": [
    "`df_2`"
   ]
  },
  {
   "cell_type": "code",
   "execution_count": null,
   "metadata": {},
   "outputs": [],
   "source": [
    "df_2.head(3)"
   ]
  },
  {
   "cell_type": "code",
   "execution_count": null,
   "metadata": {},
   "outputs": [],
   "source": []
  },
  {
   "cell_type": "code",
   "execution_count": null,
   "metadata": {},
   "outputs": [],
   "source": [
    "labels = _____\n",
    "\n",
    "plot_cluster_results(df_2, labels)\n",
    "plt.legend().remove()\n",
    "plt.show()"
   ]
  },
  {
   "cell_type": "markdown",
   "metadata": {},
   "source": [
    "`df_3`"
   ]
  },
  {
   "cell_type": "code",
   "execution_count": null,
   "metadata": {},
   "outputs": [],
   "source": [
    "df_3.head(3)"
   ]
  },
  {
   "cell_type": "code",
   "execution_count": null,
   "metadata": {},
   "outputs": [],
   "source": []
  },
  {
   "cell_type": "markdown",
   "metadata": {},
   "source": [
    "`df_4`"
   ]
  },
  {
   "cell_type": "code",
   "execution_count": null,
   "metadata": {},
   "outputs": [],
   "source": [
    "df_4.head(3)"
   ]
  },
  {
   "cell_type": "code",
   "execution_count": null,
   "metadata": {},
   "outputs": [],
   "source": []
  },
  {
   "cell_type": "markdown",
   "metadata": {},
   "source": [
    "`df_5`"
   ]
  },
  {
   "cell_type": "code",
   "execution_count": null,
   "metadata": {},
   "outputs": [],
   "source": [
    "df_5.head(3)"
   ]
  },
  {
   "cell_type": "code",
   "execution_count": null,
   "metadata": {},
   "outputs": [],
   "source": []
  },
  {
   "cell_type": "markdown",
   "metadata": {},
   "source": [
    "## DBSCAN\n",
    "\n",
    "[back to top](#Clustering-Algorithms)"
   ]
  },
  {
   "cell_type": "code",
   "execution_count": null,
   "metadata": {},
   "outputs": [],
   "source": [
    "# reset data for section\n",
    "df_1, df_2 = make_df_1_2()\n",
    "df_3 = make_df_3()\n",
    "df_4 = make_df_4()\n",
    "df_5 = make_df_5()"
   ]
  },
  {
   "cell_type": "markdown",
   "metadata": {},
   "source": [
    "`df_1`"
   ]
  },
  {
   "cell_type": "code",
   "execution_count": null,
   "metadata": {},
   "outputs": [],
   "source": [
    "df_1.head(3)"
   ]
  },
  {
   "cell_type": "code",
   "execution_count": null,
   "metadata": {},
   "outputs": [],
   "source": []
  },
  {
   "cell_type": "code",
   "execution_count": null,
   "metadata": {},
   "outputs": [],
   "source": [
    "labels = _____\n",
    "\n",
    "plot_cluster_results(df_1, labels)\n",
    "plt.legend().remove()\n",
    "plt.show()"
   ]
  },
  {
   "cell_type": "markdown",
   "metadata": {},
   "source": [
    "`df_2`"
   ]
  },
  {
   "cell_type": "code",
   "execution_count": null,
   "metadata": {},
   "outputs": [],
   "source": [
    "df_2.head(3)"
   ]
  },
  {
   "cell_type": "code",
   "execution_count": null,
   "metadata": {},
   "outputs": [],
   "source": []
  },
  {
   "cell_type": "code",
   "execution_count": null,
   "metadata": {},
   "outputs": [],
   "source": [
    "labels = _____\n",
    "\n",
    "plot_cluster_results(df_2, labels)\n",
    "plt.legend().remove()\n",
    "plt.show()"
   ]
  },
  {
   "cell_type": "markdown",
   "metadata": {},
   "source": [
    "`df_3`"
   ]
  },
  {
   "cell_type": "code",
   "execution_count": null,
   "metadata": {},
   "outputs": [],
   "source": [
    "df_3.head(3)"
   ]
  },
  {
   "cell_type": "code",
   "execution_count": null,
   "metadata": {},
   "outputs": [],
   "source": []
  },
  {
   "cell_type": "markdown",
   "metadata": {},
   "source": [
    "`df_4`"
   ]
  },
  {
   "cell_type": "code",
   "execution_count": null,
   "metadata": {},
   "outputs": [],
   "source": [
    "df_4.head(3)"
   ]
  },
  {
   "cell_type": "code",
   "execution_count": null,
   "metadata": {},
   "outputs": [],
   "source": []
  },
  {
   "cell_type": "markdown",
   "metadata": {},
   "source": [
    "`df_5`"
   ]
  },
  {
   "cell_type": "code",
   "execution_count": null,
   "metadata": {},
   "outputs": [],
   "source": [
    "df_5.head(3)"
   ]
  },
  {
   "cell_type": "code",
   "execution_count": null,
   "metadata": {},
   "outputs": [],
   "source": []
  },
  {
   "cell_type": "markdown",
   "metadata": {},
   "source": [
    "## GaussianMixture\n",
    "\n",
    "[back to top](#Clustering-Algorithms)"
   ]
  },
  {
   "cell_type": "code",
   "execution_count": null,
   "metadata": {},
   "outputs": [],
   "source": [
    "# reset data for section\n",
    "df_1, df_2 = make_df_1_2()\n",
    "df_3 = make_df_3()\n",
    "df_4 = make_df_4()\n",
    "df_5 = make_df_5()"
   ]
  },
  {
   "cell_type": "markdown",
   "metadata": {},
   "source": [
    "`df_1`"
   ]
  },
  {
   "cell_type": "code",
   "execution_count": null,
   "metadata": {},
   "outputs": [],
   "source": [
    "df_1.head(3)"
   ]
  },
  {
   "cell_type": "code",
   "execution_count": null,
   "metadata": {},
   "outputs": [],
   "source": []
  },
  {
   "cell_type": "code",
   "execution_count": null,
   "metadata": {},
   "outputs": [],
   "source": [
    "labels = _____\n",
    "\n",
    "plot_cluster_results(df_1, labels)\n",
    "plt.legend().remove()\n",
    "plt.show()"
   ]
  },
  {
   "cell_type": "markdown",
   "metadata": {},
   "source": [
    "`df_2`"
   ]
  },
  {
   "cell_type": "code",
   "execution_count": null,
   "metadata": {},
   "outputs": [],
   "source": [
    "df_2.head(3)"
   ]
  },
  {
   "cell_type": "code",
   "execution_count": null,
   "metadata": {},
   "outputs": [],
   "source": []
  },
  {
   "cell_type": "code",
   "execution_count": null,
   "metadata": {},
   "outputs": [],
   "source": [
    "labels = _____\n",
    "\n",
    "plot_cluster_results(df_2, labels)\n",
    "plt.legend().remove()\n",
    "plt.show()"
   ]
  },
  {
   "cell_type": "markdown",
   "metadata": {},
   "source": [
    "`df_3`"
   ]
  },
  {
   "cell_type": "code",
   "execution_count": null,
   "metadata": {},
   "outputs": [],
   "source": [
    "df_3.head(3)"
   ]
  },
  {
   "cell_type": "code",
   "execution_count": null,
   "metadata": {},
   "outputs": [],
   "source": []
  },
  {
   "cell_type": "markdown",
   "metadata": {},
   "source": [
    "`df_4`"
   ]
  },
  {
   "cell_type": "code",
   "execution_count": null,
   "metadata": {},
   "outputs": [],
   "source": [
    "df_4.head(3)"
   ]
  },
  {
   "cell_type": "code",
   "execution_count": null,
   "metadata": {},
   "outputs": [],
   "source": []
  },
  {
   "cell_type": "markdown",
   "metadata": {},
   "source": [
    "`df_5`"
   ]
  },
  {
   "cell_type": "code",
   "execution_count": null,
   "metadata": {},
   "outputs": [],
   "source": [
    "df_5.head(3)"
   ]
  },
  {
   "cell_type": "code",
   "execution_count": null,
   "metadata": {},
   "outputs": [],
   "source": []
  },
  {
   "cell_type": "markdown",
   "metadata": {},
   "source": [
    "## MeanShift\n",
    "\n",
    "[back to top](#Clustering-Algorithms)"
   ]
  },
  {
   "cell_type": "code",
   "execution_count": null,
   "metadata": {},
   "outputs": [],
   "source": [
    "# reset data for section\n",
    "df_1, df_2 = make_df_1_2()\n",
    "df_3 = make_df_3()\n",
    "df_4 = make_df_4()\n",
    "df_5 = make_df_5()"
   ]
  },
  {
   "cell_type": "markdown",
   "metadata": {},
   "source": [
    "`df_1`"
   ]
  },
  {
   "cell_type": "code",
   "execution_count": null,
   "metadata": {},
   "outputs": [],
   "source": [
    "df_1.head(3)"
   ]
  },
  {
   "cell_type": "code",
   "execution_count": null,
   "metadata": {},
   "outputs": [],
   "source": []
  },
  {
   "cell_type": "code",
   "execution_count": null,
   "metadata": {},
   "outputs": [],
   "source": [
    "labels = _____\n",
    "\n",
    "plot_cluster_results(df_1, labels)\n",
    "plt.legend().remove()\n",
    "plt.show()"
   ]
  },
  {
   "cell_type": "markdown",
   "metadata": {},
   "source": [
    "`df_2`"
   ]
  },
  {
   "cell_type": "code",
   "execution_count": null,
   "metadata": {},
   "outputs": [],
   "source": [
    "df_2.head(3)"
   ]
  },
  {
   "cell_type": "code",
   "execution_count": null,
   "metadata": {},
   "outputs": [],
   "source": []
  },
  {
   "cell_type": "code",
   "execution_count": null,
   "metadata": {},
   "outputs": [],
   "source": [
    "labels = _____\n",
    "\n",
    "plot_cluster_results(df_2, labels)\n",
    "plt.legend().remove()\n",
    "plt.show()"
   ]
  },
  {
   "cell_type": "markdown",
   "metadata": {},
   "source": [
    "`df_3`"
   ]
  },
  {
   "cell_type": "code",
   "execution_count": null,
   "metadata": {},
   "outputs": [],
   "source": [
    "df_3.head(3)"
   ]
  },
  {
   "cell_type": "code",
   "execution_count": null,
   "metadata": {},
   "outputs": [],
   "source": []
  },
  {
   "cell_type": "markdown",
   "metadata": {},
   "source": [
    "`df_4`"
   ]
  },
  {
   "cell_type": "code",
   "execution_count": null,
   "metadata": {},
   "outputs": [],
   "source": [
    "df_4.head(3)"
   ]
  },
  {
   "cell_type": "code",
   "execution_count": null,
   "metadata": {},
   "outputs": [],
   "source": []
  },
  {
   "cell_type": "markdown",
   "metadata": {},
   "source": [
    "`df_5`"
   ]
  },
  {
   "cell_type": "code",
   "execution_count": null,
   "metadata": {},
   "outputs": [],
   "source": [
    "df_5.head(3)"
   ]
  },
  {
   "cell_type": "code",
   "execution_count": null,
   "metadata": {},
   "outputs": [],
   "source": []
  },
  {
   "cell_type": "markdown",
   "metadata": {},
   "source": [
    "## AffinityPropagation\n",
    "\n",
    "[back to top](#Clustering-Algorithms)"
   ]
  },
  {
   "cell_type": "code",
   "execution_count": 31,
   "metadata": {},
   "outputs": [
    {
     "data": {
      "application/javascript": [
       "\n",
       "            setTimeout(function() {\n",
       "                var nbb_cell_id = 31;\n",
       "                var nbb_unformatted_code = \"# reset data for section\\ndf_1, df_2 = make_df_1_2()\\ndf_3 = make_df_3()\\ndf_4 = make_df_4()\\ndf_5 = make_df_5()\";\n",
       "                var nbb_formatted_code = \"# reset data for section\\ndf_1, df_2 = make_df_1_2()\\ndf_3 = make_df_3()\\ndf_4 = make_df_4()\\ndf_5 = make_df_5()\";\n",
       "                var nbb_cells = Jupyter.notebook.get_cells();\n",
       "                for (var i = 0; i < nbb_cells.length; ++i) {\n",
       "                    if (nbb_cells[i].input_prompt_number == nbb_cell_id) {\n",
       "                        if (nbb_cells[i].get_text() == nbb_unformatted_code) {\n",
       "                             nbb_cells[i].set_text(nbb_formatted_code);\n",
       "                        }\n",
       "                        break;\n",
       "                    }\n",
       "                }\n",
       "            }, 500);\n",
       "            "
      ],
      "text/plain": [
       "<IPython.core.display.Javascript object>"
      ]
     },
     "metadata": {},
     "output_type": "display_data"
    }
   ],
   "source": [
    "# reset data for section\n",
    "df_1, df_2 = make_df_1_2()\n",
    "df_3 = make_df_3()\n",
    "df_4 = make_df_4()\n",
    "df_5 = make_df_5()"
   ]
  },
  {
   "cell_type": "markdown",
   "metadata": {},
   "source": [
    "`df_1`"
   ]
  },
  {
   "cell_type": "code",
   "execution_count": 32,
   "metadata": {},
   "outputs": [
    {
     "data": {
      "text/html": [
       "<div>\n",
       "<style scoped>\n",
       "    .dataframe tbody tr th:only-of-type {\n",
       "        vertical-align: middle;\n",
       "    }\n",
       "\n",
       "    .dataframe tbody tr th {\n",
       "        vertical-align: top;\n",
       "    }\n",
       "\n",
       "    .dataframe thead th {\n",
       "        text-align: right;\n",
       "    }\n",
       "</style>\n",
       "<table border=\"1\" class=\"dataframe\">\n",
       "  <thead>\n",
       "    <tr style=\"text-align: right;\">\n",
       "      <th></th>\n",
       "      <th>x1</th>\n",
       "      <th>x2</th>\n",
       "    </tr>\n",
       "  </thead>\n",
       "  <tbody>\n",
       "    <tr>\n",
       "      <th>0</th>\n",
       "      <td>0.828952</td>\n",
       "      <td>-1.287727</td>\n",
       "    </tr>\n",
       "    <tr>\n",
       "      <th>1</th>\n",
       "      <td>-2.068668</td>\n",
       "      <td>-0.025076</td>\n",
       "    </tr>\n",
       "    <tr>\n",
       "      <th>2</th>\n",
       "      <td>-0.466015</td>\n",
       "      <td>-0.515344</td>\n",
       "    </tr>\n",
       "  </tbody>\n",
       "</table>\n",
       "</div>"
      ],
      "text/plain": [
       "         x1        x2\n",
       "0  0.828952 -1.287727\n",
       "1 -2.068668 -0.025076\n",
       "2 -0.466015 -0.515344"
      ]
     },
     "execution_count": 32,
     "metadata": {},
     "output_type": "execute_result"
    },
    {
     "data": {
      "application/javascript": [
       "\n",
       "            setTimeout(function() {\n",
       "                var nbb_cell_id = 32;\n",
       "                var nbb_unformatted_code = \"df_1.head(3)\";\n",
       "                var nbb_formatted_code = \"df_1.head(3)\";\n",
       "                var nbb_cells = Jupyter.notebook.get_cells();\n",
       "                for (var i = 0; i < nbb_cells.length; ++i) {\n",
       "                    if (nbb_cells[i].input_prompt_number == nbb_cell_id) {\n",
       "                        if (nbb_cells[i].get_text() == nbb_unformatted_code) {\n",
       "                             nbb_cells[i].set_text(nbb_formatted_code);\n",
       "                        }\n",
       "                        break;\n",
       "                    }\n",
       "                }\n",
       "            }, 500);\n",
       "            "
      ],
      "text/plain": [
       "<IPython.core.display.Javascript object>"
      ]
     },
     "metadata": {},
     "output_type": "display_data"
    }
   ],
   "source": [
    "df_1.head(3)"
   ]
  },
  {
   "cell_type": "code",
   "execution_count": 33,
   "metadata": {},
   "outputs": [
    {
     "data": {
      "text/plain": [
       "AffinityPropagation(affinity='euclidean', convergence_iter=15, copy=True,\n",
       "                    damping=0.5, max_iter=200, preference=-7, verbose=False)"
      ]
     },
     "execution_count": 33,
     "metadata": {},
     "output_type": "execute_result"
    },
    {
     "data": {
      "application/javascript": [
       "\n",
       "            setTimeout(function() {\n",
       "                var nbb_cell_id = 33;\n",
       "                var nbb_unformatted_code = \"# Downsampling because its slow to fit to 5000 records\\ndf_sample = df_1.sample(500, random_state=42)\\n\\nclst = AffinityPropagation(preference=-7)\\nclst.fit(df_sample)\";\n",
       "                var nbb_formatted_code = \"# Downsampling because its slow to fit to 5000 records\\ndf_sample = df_1.sample(500, random_state=42)\\n\\nclst = AffinityPropagation(preference=-7)\\nclst.fit(df_sample)\";\n",
       "                var nbb_cells = Jupyter.notebook.get_cells();\n",
       "                for (var i = 0; i < nbb_cells.length; ++i) {\n",
       "                    if (nbb_cells[i].input_prompt_number == nbb_cell_id) {\n",
       "                        if (nbb_cells[i].get_text() == nbb_unformatted_code) {\n",
       "                             nbb_cells[i].set_text(nbb_formatted_code);\n",
       "                        }\n",
       "                        break;\n",
       "                    }\n",
       "                }\n",
       "            }, 500);\n",
       "            "
      ],
      "text/plain": [
       "<IPython.core.display.Javascript object>"
      ]
     },
     "metadata": {},
     "output_type": "display_data"
    }
   ],
   "source": [
    "# Downsampling because its slow to fit to 5000 records\n",
    "df_sample = df_1.sample(500, random_state=42)\n",
    "\n",
    "clst = AffinityPropagation(preference=-7)\n",
    "clst.fit(df_sample)"
   ]
  },
  {
   "cell_type": "code",
   "execution_count": 34,
   "metadata": {},
   "outputs": [
    {
     "data": {
      "text/html": [
       "<div>\n",
       "<style scoped>\n",
       "    .dataframe tbody tr th:only-of-type {\n",
       "        vertical-align: middle;\n",
       "    }\n",
       "\n",
       "    .dataframe tbody tr th {\n",
       "        vertical-align: top;\n",
       "    }\n",
       "\n",
       "    .dataframe thead th {\n",
       "        text-align: right;\n",
       "    }\n",
       "</style>\n",
       "<table border=\"1\" class=\"dataframe\">\n",
       "  <thead>\n",
       "    <tr style=\"text-align: right;\">\n",
       "      <th></th>\n",
       "      <th>x1</th>\n",
       "      <th>x2</th>\n",
       "    </tr>\n",
       "  </thead>\n",
       "  <tbody>\n",
       "    <tr>\n",
       "      <th>4615</th>\n",
       "      <td>0.700956</td>\n",
       "      <td>1.381985</td>\n",
       "    </tr>\n",
       "    <tr>\n",
       "      <th>3570</th>\n",
       "      <td>0.722910</td>\n",
       "      <td>-1.533595</td>\n",
       "    </tr>\n",
       "    <tr>\n",
       "      <th>4077</th>\n",
       "      <td>0.728771</td>\n",
       "      <td>0.747977</td>\n",
       "    </tr>\n",
       "    <tr>\n",
       "      <th>2727</th>\n",
       "      <td>-0.233554</td>\n",
       "      <td>-0.699712</td>\n",
       "    </tr>\n",
       "    <tr>\n",
       "      <th>4605</th>\n",
       "      <td>-1.833158</td>\n",
       "      <td>0.186318</td>\n",
       "    </tr>\n",
       "  </tbody>\n",
       "</table>\n",
       "</div>"
      ],
      "text/plain": [
       "            x1        x2\n",
       "4615  0.700956  1.381985\n",
       "3570  0.722910 -1.533595\n",
       "4077  0.728771  0.747977\n",
       "2727 -0.233554 -0.699712\n",
       "4605 -1.833158  0.186318"
      ]
     },
     "execution_count": 34,
     "metadata": {},
     "output_type": "execute_result"
    },
    {
     "data": {
      "application/javascript": [
       "\n",
       "            setTimeout(function() {\n",
       "                var nbb_cell_id = 34;\n",
       "                var nbb_unformatted_code = \"df_sample.iloc[clst.cluster_centers_indices_, :]\";\n",
       "                var nbb_formatted_code = \"df_sample.iloc[clst.cluster_centers_indices_, :]\";\n",
       "                var nbb_cells = Jupyter.notebook.get_cells();\n",
       "                for (var i = 0; i < nbb_cells.length; ++i) {\n",
       "                    if (nbb_cells[i].input_prompt_number == nbb_cell_id) {\n",
       "                        if (nbb_cells[i].get_text() == nbb_unformatted_code) {\n",
       "                             nbb_cells[i].set_text(nbb_formatted_code);\n",
       "                        }\n",
       "                        break;\n",
       "                    }\n",
       "                }\n",
       "            }, 500);\n",
       "            "
      ],
      "text/plain": [
       "<IPython.core.display.Javascript object>"
      ]
     },
     "metadata": {},
     "output_type": "display_data"
    }
   ],
   "source": [
    "df_sample.iloc[clst.cluster_centers_indices_, :]"
   ]
  },
  {
   "cell_type": "code",
   "execution_count": 35,
   "metadata": {},
   "outputs": [
    {
     "data": {
      "image/png": "[encoded data removed]",
      "text/plain": [
       "<Figure size 720x360 with 2 Axes>"
      ]
     },
     "metadata": {
      "needs_background": "light"
     },
     "output_type": "display_data"
    },
    {
     "data": {
      "application/javascript": [
       "\n",
       "            setTimeout(function() {\n",
       "                var nbb_cell_id = 35;\n",
       "                var nbb_unformatted_code = \"labels = clst.labels_\\n\\nplot_cluster_results(df_sample, labels)\\nplt.legend().remove()\\nplt.show()\";\n",
       "                var nbb_formatted_code = \"labels = clst.labels_\\n\\nplot_cluster_results(df_sample, labels)\\nplt.legend().remove()\\nplt.show()\";\n",
       "                var nbb_cells = Jupyter.notebook.get_cells();\n",
       "                for (var i = 0; i < nbb_cells.length; ++i) {\n",
       "                    if (nbb_cells[i].input_prompt_number == nbb_cell_id) {\n",
       "                        if (nbb_cells[i].get_text() == nbb_unformatted_code) {\n",
       "                             nbb_cells[i].set_text(nbb_formatted_code);\n",
       "                        }\n",
       "                        break;\n",
       "                    }\n",
       "                }\n",
       "            }, 500);\n",
       "            "
      ],
      "text/plain": [
       "<IPython.core.display.Javascript object>"
      ]
     },
     "metadata": {},
     "output_type": "display_data"
    }
   ],
   "source": [
    "labels = clst.labels_\n",
    "\n",
    "plot_cluster_results(df_sample, labels)\n",
    "plt.legend().remove()\n",
    "plt.show()"
   ]
  },
  {
   "cell_type": "markdown",
   "metadata": {},
   "source": [
    "`df_2`"
   ]
  },
  {
   "cell_type": "code",
   "execution_count": 36,
   "metadata": {},
   "outputs": [
    {
     "data": {
      "text/html": [
       "<div>\n",
       "<style scoped>\n",
       "    .dataframe tbody tr th:only-of-type {\n",
       "        vertical-align: middle;\n",
       "    }\n",
       "\n",
       "    .dataframe tbody tr th {\n",
       "        vertical-align: top;\n",
       "    }\n",
       "\n",
       "    .dataframe thead th {\n",
       "        text-align: right;\n",
       "    }\n",
       "</style>\n",
       "<table border=\"1\" class=\"dataframe\">\n",
       "  <thead>\n",
       "    <tr style=\"text-align: right;\">\n",
       "      <th></th>\n",
       "      <th>x1</th>\n",
       "      <th>x2</th>\n",
       "    </tr>\n",
       "  </thead>\n",
       "  <tbody>\n",
       "    <tr>\n",
       "      <th>0</th>\n",
       "      <td>0.081766</td>\n",
       "      <td>-0.216337</td>\n",
       "    </tr>\n",
       "    <tr>\n",
       "      <th>1</th>\n",
       "      <td>1.368599</td>\n",
       "      <td>1.401082</td>\n",
       "    </tr>\n",
       "    <tr>\n",
       "      <th>2</th>\n",
       "      <td>1.612872</td>\n",
       "      <td>1.564719</td>\n",
       "    </tr>\n",
       "  </tbody>\n",
       "</table>\n",
       "</div>"
      ],
      "text/plain": [
       "         x1        x2\n",
       "0  0.081766 -0.216337\n",
       "1  1.368599  1.401082\n",
       "2  1.612872  1.564719"
      ]
     },
     "execution_count": 36,
     "metadata": {},
     "output_type": "execute_result"
    },
    {
     "data": {
      "application/javascript": [
       "\n",
       "            setTimeout(function() {\n",
       "                var nbb_cell_id = 36;\n",
       "                var nbb_unformatted_code = \"df_2.head(3)\";\n",
       "                var nbb_formatted_code = \"df_2.head(3)\";\n",
       "                var nbb_cells = Jupyter.notebook.get_cells();\n",
       "                for (var i = 0; i < nbb_cells.length; ++i) {\n",
       "                    if (nbb_cells[i].input_prompt_number == nbb_cell_id) {\n",
       "                        if (nbb_cells[i].get_text() == nbb_unformatted_code) {\n",
       "                             nbb_cells[i].set_text(nbb_formatted_code);\n",
       "                        }\n",
       "                        break;\n",
       "                    }\n",
       "                }\n",
       "            }, 500);\n",
       "            "
      ],
      "text/plain": [
       "<IPython.core.display.Javascript object>"
      ]
     },
     "metadata": {},
     "output_type": "display_data"
    }
   ],
   "source": [
    "df_2.head(3)"
   ]
  },
  {
   "cell_type": "code",
   "execution_count": 37,
   "metadata": {},
   "outputs": [
    {
     "data": {
      "text/plain": [
       "AffinityPropagation(affinity='euclidean', convergence_iter=15, copy=True,\n",
       "                    damping=0.5, max_iter=200, preference=None, verbose=False)"
      ]
     },
     "execution_count": 37,
     "metadata": {},
     "output_type": "execute_result"
    },
    {
     "data": {
      "application/javascript": [
       "\n",
       "            setTimeout(function() {\n",
       "                var nbb_cell_id = 37;\n",
       "                var nbb_unformatted_code = \"# Downsampling because its slow to fit to 5000 records\\ndf_sample = df_2.sample(500, random_state=42)\\n\\nclst = AffinityPropagation()\\nclst.fit(df_sample)\";\n",
       "                var nbb_formatted_code = \"# Downsampling because its slow to fit to 5000 records\\ndf_sample = df_2.sample(500, random_state=42)\\n\\nclst = AffinityPropagation()\\nclst.fit(df_sample)\";\n",
       "                var nbb_cells = Jupyter.notebook.get_cells();\n",
       "                for (var i = 0; i < nbb_cells.length; ++i) {\n",
       "                    if (nbb_cells[i].input_prompt_number == nbb_cell_id) {\n",
       "                        if (nbb_cells[i].get_text() == nbb_unformatted_code) {\n",
       "                             nbb_cells[i].set_text(nbb_formatted_code);\n",
       "                        }\n",
       "                        break;\n",
       "                    }\n",
       "                }\n",
       "            }, 500);\n",
       "            "
      ],
      "text/plain": [
       "<IPython.core.display.Javascript object>"
      ]
     },
     "metadata": {},
     "output_type": "display_data"
    }
   ],
   "source": [
    "# Downsampling because its slow to fit to 5000 records\n",
    "df_sample = df_2.sample(500, random_state=42)\n",
    "\n",
    "clst = AffinityPropagation()\n",
    "clst.fit(df_sample)"
   ]
  },
  {
   "cell_type": "code",
   "execution_count": 38,
   "metadata": {
    "scrolled": true
   },
   "outputs": [
    {
     "data": {
      "text/html": [
       "<div>\n",
       "<style scoped>\n",
       "    .dataframe tbody tr th:only-of-type {\n",
       "        vertical-align: middle;\n",
       "    }\n",
       "\n",
       "    .dataframe tbody tr th {\n",
       "        vertical-align: top;\n",
       "    }\n",
       "\n",
       "    .dataframe thead th {\n",
       "        text-align: right;\n",
       "    }\n",
       "</style>\n",
       "<table border=\"1\" class=\"dataframe\">\n",
       "  <thead>\n",
       "    <tr style=\"text-align: right;\">\n",
       "      <th></th>\n",
       "      <th>x1</th>\n",
       "      <th>x2</th>\n",
       "    </tr>\n",
       "  </thead>\n",
       "  <tbody>\n",
       "    <tr>\n",
       "      <th>1117</th>\n",
       "      <td>-0.094717</td>\n",
       "      <td>-0.417416</td>\n",
       "    </tr>\n",
       "    <tr>\n",
       "      <th>3906</th>\n",
       "      <td>1.228448</td>\n",
       "      <td>0.646609</td>\n",
       "    </tr>\n",
       "    <tr>\n",
       "      <th>3682</th>\n",
       "      <td>-1.211046</td>\n",
       "      <td>-0.251793</td>\n",
       "    </tr>\n",
       "    <tr>\n",
       "      <th>4256</th>\n",
       "      <td>0.939135</td>\n",
       "      <td>1.608963</td>\n",
       "    </tr>\n",
       "    <tr>\n",
       "      <th>3557</th>\n",
       "      <td>0.025241</td>\n",
       "      <td>-1.574433</td>\n",
       "    </tr>\n",
       "    <tr>\n",
       "      <th>472</th>\n",
       "      <td>-0.391523</td>\n",
       "      <td>-0.205813</td>\n",
       "    </tr>\n",
       "    <tr>\n",
       "      <th>33</th>\n",
       "      <td>-0.452011</td>\n",
       "      <td>-1.521055</td>\n",
       "    </tr>\n",
       "    <tr>\n",
       "      <th>3918</th>\n",
       "      <td>-1.663386</td>\n",
       "      <td>-0.494168</td>\n",
       "    </tr>\n",
       "    <tr>\n",
       "      <th>1550</th>\n",
       "      <td>1.092605</td>\n",
       "      <td>1.310957</td>\n",
       "    </tr>\n",
       "    <tr>\n",
       "      <th>2809</th>\n",
       "      <td>-0.834063</td>\n",
       "      <td>-1.424049</td>\n",
       "    </tr>\n",
       "    <tr>\n",
       "      <th>1235</th>\n",
       "      <td>-0.301236</td>\n",
       "      <td>-1.132928</td>\n",
       "    </tr>\n",
       "    <tr>\n",
       "      <th>4679</th>\n",
       "      <td>1.521295</td>\n",
       "      <td>1.456114</td>\n",
       "    </tr>\n",
       "    <tr>\n",
       "      <th>3347</th>\n",
       "      <td>-1.211250</td>\n",
       "      <td>-0.646141</td>\n",
       "    </tr>\n",
       "    <tr>\n",
       "      <th>3928</th>\n",
       "      <td>0.798948</td>\n",
       "      <td>0.507098</td>\n",
       "    </tr>\n",
       "  </tbody>\n",
       "</table>\n",
       "</div>"
      ],
      "text/plain": [
       "            x1        x2\n",
       "1117 -0.094717 -0.417416\n",
       "3906  1.228448  0.646609\n",
       "3682 -1.211046 -0.251793\n",
       "4256  0.939135  1.608963\n",
       "3557  0.025241 -1.574433\n",
       "472  -0.391523 -0.205813\n",
       "33   -0.452011 -1.521055\n",
       "3918 -1.663386 -0.494168\n",
       "1550  1.092605  1.310957\n",
       "2809 -0.834063 -1.424049\n",
       "1235 -0.301236 -1.132928\n",
       "4679  1.521295  1.456114\n",
       "3347 -1.211250 -0.646141\n",
       "3928  0.798948  0.507098"
      ]
     },
     "execution_count": 38,
     "metadata": {},
     "output_type": "execute_result"
    },
    {
     "data": {
      "application/javascript": [
       "\n",
       "            setTimeout(function() {\n",
       "                var nbb_cell_id = 38;\n",
       "                var nbb_unformatted_code = \"df_sample.iloc[clst.cluster_centers_indices_, :]\";\n",
       "                var nbb_formatted_code = \"df_sample.iloc[clst.cluster_centers_indices_, :]\";\n",
       "                var nbb_cells = Jupyter.notebook.get_cells();\n",
       "                for (var i = 0; i < nbb_cells.length; ++i) {\n",
       "                    if (nbb_cells[i].input_prompt_number == nbb_cell_id) {\n",
       "                        if (nbb_cells[i].get_text() == nbb_unformatted_code) {\n",
       "                             nbb_cells[i].set_text(nbb_formatted_code);\n",
       "                        }\n",
       "                        break;\n",
       "                    }\n",
       "                }\n",
       "            }, 500);\n",
       "            "
      ],
      "text/plain": [
       "<IPython.core.display.Javascript object>"
      ]
     },
     "metadata": {},
     "output_type": "display_data"
    }
   ],
   "source": [
    "df_sample.iloc[clst.cluster_centers_indices_, :]"
   ]
  },
  {
   "cell_type": "code",
   "execution_count": 39,
   "metadata": {},
   "outputs": [
    {
     "data": {
      "image/png": "[encoded data removed]",
      "text/plain": [
       "<Figure size 720x360 with 2 Axes>"
      ]
     },
     "metadata": {
      "needs_background": "light"
     },
     "output_type": "display_data"
    },
    {
     "data": {
      "application/javascript": [
       "\n",
       "            setTimeout(function() {\n",
       "                var nbb_cell_id = 39;\n",
       "                var nbb_unformatted_code = \"labels = clst.labels_\\n\\nplot_cluster_results(df_sample, labels)\\nplt.legend().remove()\\nplt.show()\";\n",
       "                var nbb_formatted_code = \"labels = clst.labels_\\n\\nplot_cluster_results(df_sample, labels)\\nplt.legend().remove()\\nplt.show()\";\n",
       "                var nbb_cells = Jupyter.notebook.get_cells();\n",
       "                for (var i = 0; i < nbb_cells.length; ++i) {\n",
       "                    if (nbb_cells[i].input_prompt_number == nbb_cell_id) {\n",
       "                        if (nbb_cells[i].get_text() == nbb_unformatted_code) {\n",
       "                             nbb_cells[i].set_text(nbb_formatted_code);\n",
       "                        }\n",
       "                        break;\n",
       "                    }\n",
       "                }\n",
       "            }, 500);\n",
       "            "
      ],
      "text/plain": [
       "<IPython.core.display.Javascript object>"
      ]
     },
     "metadata": {},
     "output_type": "display_data"
    }
   ],
   "source": [
    "labels = clst.labels_\n",
    "\n",
    "plot_cluster_results(df_sample, labels)\n",
    "plt.legend().remove()\n",
    "plt.show()"
   ]
  },
  {
   "cell_type": "markdown",
   "metadata": {},
   "source": [
    "`df_3`"
   ]
  },
  {
   "cell_type": "code",
   "execution_count": 40,
   "metadata": {},
   "outputs": [
    {
     "data": {
      "text/html": [
       "<div>\n",
       "<style scoped>\n",
       "    .dataframe tbody tr th:only-of-type {\n",
       "        vertical-align: middle;\n",
       "    }\n",
       "\n",
       "    .dataframe tbody tr th {\n",
       "        vertical-align: top;\n",
       "    }\n",
       "\n",
       "    .dataframe thead th {\n",
       "        text-align: right;\n",
       "    }\n",
       "</style>\n",
       "<table border=\"1\" class=\"dataframe\">\n",
       "  <thead>\n",
       "    <tr style=\"text-align: right;\">\n",
       "      <th></th>\n",
       "      <th>q1</th>\n",
       "      <th>q2</th>\n",
       "      <th>q3</th>\n",
       "      <th>q4</th>\n",
       "      <th>q5</th>\n",
       "    </tr>\n",
       "  </thead>\n",
       "  <tbody>\n",
       "    <tr>\n",
       "      <th>0</th>\n",
       "      <td>0</td>\n",
       "      <td>0</td>\n",
       "      <td>0</td>\n",
       "      <td>1</td>\n",
       "      <td>0</td>\n",
       "    </tr>\n",
       "    <tr>\n",
       "      <th>1</th>\n",
       "      <td>1</td>\n",
       "      <td>0</td>\n",
       "      <td>1</td>\n",
       "      <td>1</td>\n",
       "      <td>0</td>\n",
       "    </tr>\n",
       "    <tr>\n",
       "      <th>2</th>\n",
       "      <td>0</td>\n",
       "      <td>0</td>\n",
       "      <td>0</td>\n",
       "      <td>1</td>\n",
       "      <td>1</td>\n",
       "    </tr>\n",
       "  </tbody>\n",
       "</table>\n",
       "</div>"
      ],
      "text/plain": [
       "   q1  q2  q3  q4  q5\n",
       "0   0   0   0   1   0\n",
       "1   1   0   1   1   0\n",
       "2   0   0   0   1   1"
      ]
     },
     "execution_count": 40,
     "metadata": {},
     "output_type": "execute_result"
    },
    {
     "data": {
      "application/javascript": [
       "\n",
       "            setTimeout(function() {\n",
       "                var nbb_cell_id = 40;\n",
       "                var nbb_unformatted_code = \"df_3.head(3)\";\n",
       "                var nbb_formatted_code = \"df_3.head(3)\";\n",
       "                var nbb_cells = Jupyter.notebook.get_cells();\n",
       "                for (var i = 0; i < nbb_cells.length; ++i) {\n",
       "                    if (nbb_cells[i].input_prompt_number == nbb_cell_id) {\n",
       "                        if (nbb_cells[i].get_text() == nbb_unformatted_code) {\n",
       "                             nbb_cells[i].set_text(nbb_formatted_code);\n",
       "                        }\n",
       "                        break;\n",
       "                    }\n",
       "                }\n",
       "            }, 500);\n",
       "            "
      ],
      "text/plain": [
       "<IPython.core.display.Javascript object>"
      ]
     },
     "metadata": {},
     "output_type": "display_data"
    }
   ],
   "source": [
    "df_3.head(3)"
   ]
  },
  {
   "cell_type": "code",
   "execution_count": 41,
   "metadata": {},
   "outputs": [
    {
     "data": {
      "text/plain": [
       "AffinityPropagation(affinity='precomputed', convergence_iter=15, copy=True,\n",
       "                    damping=0.5, max_iter=10000, preference=-3.0,\n",
       "                    verbose=False)"
      ]
     },
     "execution_count": 41,
     "metadata": {},
     "output_type": "execute_result"
    },
    {
     "data": {
      "application/javascript": [
       "\n",
       "            setTimeout(function() {\n",
       "                var nbb_cell_id = 41;\n",
       "                var nbb_unformatted_code = \"# Downsampling because its slow to fit to 5000 records\\n# Could not get algo to converge using a sample of 500\\n# Could not get algo to converge using a sample of 150\\ndf_sample = df_3.sample(100, random_state=42)\\n\\ndist_mat = squareform(pdist(df_sample, metric=\\\"hamming\\\"))\\naffinity_mat = -dist_mat\\n\\nclst = AffinityPropagation(\\n    affinity=\\\"precomputed\\\", preference=affinity_mat.min() * 3, max_iter=10000,\\n)\\nclst.fit(affinity_mat)\";\n",
       "                var nbb_formatted_code = \"# Downsampling because its slow to fit to 5000 records\\n# Could not get algo to converge using a sample of 500\\n# Could not get algo to converge using a sample of 150\\ndf_sample = df_3.sample(100, random_state=42)\\n\\ndist_mat = squareform(pdist(df_sample, metric=\\\"hamming\\\"))\\naffinity_mat = -dist_mat\\n\\nclst = AffinityPropagation(\\n    affinity=\\\"precomputed\\\", preference=affinity_mat.min() * 3, max_iter=10000,\\n)\\nclst.fit(affinity_mat)\";\n",
       "                var nbb_cells = Jupyter.notebook.get_cells();\n",
       "                for (var i = 0; i < nbb_cells.length; ++i) {\n",
       "                    if (nbb_cells[i].input_prompt_number == nbb_cell_id) {\n",
       "                        if (nbb_cells[i].get_text() == nbb_unformatted_code) {\n",
       "                             nbb_cells[i].set_text(nbb_formatted_code);\n",
       "                        }\n",
       "                        break;\n",
       "                    }\n",
       "                }\n",
       "            }, 500);\n",
       "            "
      ],
      "text/plain": [
       "<IPython.core.display.Javascript object>"
      ]
     },
     "metadata": {},
     "output_type": "display_data"
    }
   ],
   "source": [
    "# Downsampling because its slow to fit to 5000 records\n",
    "# Could not get algo to converge using a sample of 500\n",
    "# Could not get algo to converge using a sample of 150\n",
    "df_sample = df_3.sample(100, random_state=42)\n",
    "\n",
    "dist_mat = squareform(pdist(df_sample, metric=\"hamming\"))\n",
    "affinity_mat = -dist_mat\n",
    "\n",
    "clst = AffinityPropagation(\n",
    "    affinity=\"precomputed\", preference=affinity_mat.min() * 3, max_iter=10000,\n",
    ")\n",
    "clst.fit(affinity_mat)"
   ]
  },
  {
   "cell_type": "code",
   "execution_count": 42,
   "metadata": {},
   "outputs": [
    {
     "data": {
      "text/html": [
       "<div>\n",
       "<style scoped>\n",
       "    .dataframe tbody tr th:only-of-type {\n",
       "        vertical-align: middle;\n",
       "    }\n",
       "\n",
       "    .dataframe tbody tr th {\n",
       "        vertical-align: top;\n",
       "    }\n",
       "\n",
       "    .dataframe thead th {\n",
       "        text-align: right;\n",
       "    }\n",
       "</style>\n",
       "<table border=\"1\" class=\"dataframe\">\n",
       "  <thead>\n",
       "    <tr style=\"text-align: right;\">\n",
       "      <th></th>\n",
       "      <th>q1</th>\n",
       "      <th>q2</th>\n",
       "      <th>q3</th>\n",
       "      <th>q4</th>\n",
       "      <th>q5</th>\n",
       "    </tr>\n",
       "  </thead>\n",
       "  <tbody>\n",
       "    <tr>\n",
       "      <th>3351</th>\n",
       "      <td>1</td>\n",
       "      <td>1</td>\n",
       "      <td>1</td>\n",
       "      <td>1</td>\n",
       "      <td>0</td>\n",
       "    </tr>\n",
       "    <tr>\n",
       "      <th>2515</th>\n",
       "      <td>1</td>\n",
       "      <td>0</td>\n",
       "      <td>0</td>\n",
       "      <td>0</td>\n",
       "      <td>0</td>\n",
       "    </tr>\n",
       "    <tr>\n",
       "      <th>3161</th>\n",
       "      <td>0</td>\n",
       "      <td>1</td>\n",
       "      <td>0</td>\n",
       "      <td>1</td>\n",
       "      <td>1</td>\n",
       "    </tr>\n",
       "    <tr>\n",
       "      <th>4183</th>\n",
       "      <td>0</td>\n",
       "      <td>0</td>\n",
       "      <td>1</td>\n",
       "      <td>1</td>\n",
       "      <td>0</td>\n",
       "    </tr>\n",
       "  </tbody>\n",
       "</table>\n",
       "</div>"
      ],
      "text/plain": [
       "      q1  q2  q3  q4  q5\n",
       "3351   1   1   1   1   0\n",
       "2515   1   0   0   0   0\n",
       "3161   0   1   0   1   1\n",
       "4183   0   0   1   1   0"
      ]
     },
     "execution_count": 42,
     "metadata": {},
     "output_type": "execute_result"
    },
    {
     "data": {
      "application/javascript": [
       "\n",
       "            setTimeout(function() {\n",
       "                var nbb_cell_id = 42;\n",
       "                var nbb_unformatted_code = \"df_sample.iloc[clst.cluster_centers_indices_, :]\";\n",
       "                var nbb_formatted_code = \"df_sample.iloc[clst.cluster_centers_indices_, :]\";\n",
       "                var nbb_cells = Jupyter.notebook.get_cells();\n",
       "                for (var i = 0; i < nbb_cells.length; ++i) {\n",
       "                    if (nbb_cells[i].input_prompt_number == nbb_cell_id) {\n",
       "                        if (nbb_cells[i].get_text() == nbb_unformatted_code) {\n",
       "                             nbb_cells[i].set_text(nbb_formatted_code);\n",
       "                        }\n",
       "                        break;\n",
       "                    }\n",
       "                }\n",
       "            }, 500);\n",
       "            "
      ],
      "text/plain": [
       "<IPython.core.display.Javascript object>"
      ]
     },
     "metadata": {},
     "output_type": "display_data"
    }
   ],
   "source": [
    "df_sample.iloc[clst.cluster_centers_indices_, :]"
   ]
  },
  {
   "cell_type": "code",
   "execution_count": 43,
   "metadata": {
    "scrolled": true
   },
   "outputs": [
    {
     "data": {
      "application/javascript": [
       "\n",
       "            setTimeout(function() {\n",
       "                var nbb_cell_id = 43;\n",
       "                var nbb_unformatted_code = \"# pip install scikit-learn --upgrade\";\n",
       "                var nbb_formatted_code = \"# pip install scikit-learn --upgrade\";\n",
       "                var nbb_cells = Jupyter.notebook.get_cells();\n",
       "                for (var i = 0; i < nbb_cells.length; ++i) {\n",
       "                    if (nbb_cells[i].input_prompt_number == nbb_cell_id) {\n",
       "                        if (nbb_cells[i].get_text() == nbb_unformatted_code) {\n",
       "                             nbb_cells[i].set_text(nbb_formatted_code);\n",
       "                        }\n",
       "                        break;\n",
       "                    }\n",
       "                }\n",
       "            }, 500);\n",
       "            "
      ],
      "text/plain": [
       "<IPython.core.display.Javascript object>"
      ]
     },
     "metadata": {},
     "output_type": "display_data"
    }
   ],
   "source": [
    "# pip install scikit-learn --upgrade"
   ]
  },
  {
   "cell_type": "code",
   "execution_count": 44,
   "metadata": {},
   "outputs": [
    {
     "data": {
      "text/plain": [
       "'0.22.1'"
      ]
     },
     "execution_count": 44,
     "metadata": {},
     "output_type": "execute_result"
    },
    {
     "data": {
      "application/javascript": [
       "\n",
       "            setTimeout(function() {\n",
       "                var nbb_cell_id = 44;\n",
       "                var nbb_unformatted_code = \"import sklearn\\n\\nsklearn.__version__\";\n",
       "                var nbb_formatted_code = \"import sklearn\\n\\nsklearn.__version__\";\n",
       "                var nbb_cells = Jupyter.notebook.get_cells();\n",
       "                for (var i = 0; i < nbb_cells.length; ++i) {\n",
       "                    if (nbb_cells[i].input_prompt_number == nbb_cell_id) {\n",
       "                        if (nbb_cells[i].get_text() == nbb_unformatted_code) {\n",
       "                             nbb_cells[i].set_text(nbb_formatted_code);\n",
       "                        }\n",
       "                        break;\n",
       "                    }\n",
       "                }\n",
       "            }, 500);\n",
       "            "
      ],
      "text/plain": [
       "<IPython.core.display.Javascript object>"
      ]
     },
     "metadata": {},
     "output_type": "display_data"
    }
   ],
   "source": [
    "import sklearn\n",
    "\n",
    "sklearn.__version__\n"
   ]
  },
  {
   "cell_type": "code",
   "execution_count": null,
   "metadata": {
    "scrolled": true
   },
   "outputs": [],
   "source": [
    "labels = clst.labels_\n",
    "uniq_labels = sorted(np.unique(labels))\n",
    "\n",
    "for label in uniq_labels:\n",
    "    df_i = df_sample[labels == label]\n",
    "\n",
    "    print(f\"Cluster {label} co-occuring True answers\")\n",
    "    co_occur = df_i.T.dot(df_i)\n",
    "    display(co_occur.style.background_gradient())"
   ]
  },
  {
   "cell_type": "markdown",
   "metadata": {},
   "source": [
    "`df_4`"
   ]
  },
  {
   "cell_type": "code",
   "execution_count": 45,
   "metadata": {},
   "outputs": [
    {
     "data": {
      "text/html": [
       "<div>\n",
       "<style scoped>\n",
       "    .dataframe tbody tr th:only-of-type {\n",
       "        vertical-align: middle;\n",
       "    }\n",
       "\n",
       "    .dataframe tbody tr th {\n",
       "        vertical-align: top;\n",
       "    }\n",
       "\n",
       "    .dataframe thead th {\n",
       "        text-align: right;\n",
       "    }\n",
       "</style>\n",
       "<table border=\"1\" class=\"dataframe\">\n",
       "  <thead>\n",
       "    <tr style=\"text-align: right;\">\n",
       "      <th></th>\n",
       "      <th>continent</th>\n",
       "      <th>dept</th>\n",
       "      <th>company</th>\n",
       "    </tr>\n",
       "  </thead>\n",
       "  <tbody>\n",
       "    <tr>\n",
       "      <th>0</th>\n",
       "      <td>Europe</td>\n",
       "      <td>IT</td>\n",
       "      <td>UpDog</td>\n",
       "    </tr>\n",
       "    <tr>\n",
       "      <th>1</th>\n",
       "      <td>South America</td>\n",
       "      <td>IT</td>\n",
       "      <td>UpDog</td>\n",
       "    </tr>\n",
       "    <tr>\n",
       "      <th>2</th>\n",
       "      <td>Africa</td>\n",
       "      <td>IT</td>\n",
       "      <td>Innovato</td>\n",
       "    </tr>\n",
       "  </tbody>\n",
       "</table>\n",
       "</div>"
      ],
      "text/plain": [
       "       continent dept   company\n",
       "0         Europe   IT     UpDog\n",
       "1  South America   IT     UpDog\n",
       "2         Africa   IT  Innovato"
      ]
     },
     "execution_count": 45,
     "metadata": {},
     "output_type": "execute_result"
    },
    {
     "data": {
      "application/javascript": [
       "\n",
       "            setTimeout(function() {\n",
       "                var nbb_cell_id = 45;\n",
       "                var nbb_unformatted_code = \"df_4.head(3)\";\n",
       "                var nbb_formatted_code = \"df_4.head(3)\";\n",
       "                var nbb_cells = Jupyter.notebook.get_cells();\n",
       "                for (var i = 0; i < nbb_cells.length; ++i) {\n",
       "                    if (nbb_cells[i].input_prompt_number == nbb_cell_id) {\n",
       "                        if (nbb_cells[i].get_text() == nbb_unformatted_code) {\n",
       "                             nbb_cells[i].set_text(nbb_formatted_code);\n",
       "                        }\n",
       "                        break;\n",
       "                    }\n",
       "                }\n",
       "            }, 500);\n",
       "            "
      ],
      "text/plain": [
       "<IPython.core.display.Javascript object>"
      ]
     },
     "metadata": {},
     "output_type": "display_data"
    }
   ],
   "source": [
    "df_4.head(3)"
   ]
  },
  {
   "cell_type": "code",
   "execution_count": 49,
   "metadata": {},
   "outputs": [
    {
     "data": {
      "text/plain": [
       "AffinityPropagation(affinity='precomputed', convergence_iter=15, copy=True,\n",
       "                    damping=0.5, max_iter=200, preference=-4.0, verbose=False)"
      ]
     },
     "execution_count": 49,
     "metadata": {},
     "output_type": "execute_result"
    },
    {
     "data": {
      "application/javascript": [
       "\n",
       "            setTimeout(function() {\n",
       "                var nbb_cell_id = 49;\n",
       "                var nbb_unformatted_code = \"# Downsampling because its slow to fit to 5000 records\\n# Could not get algo to converge using a sample of 500\\n# Could not get algo to converge using a sample of 150\\ndf_sample = df_4.sample(100, random_state=42)\\ndf_sample_dummies = pd.get_dummies(df_sample)\\n\\ndist_mat = squareform(pdist(df_sample_dummies, metric=\\\"dice\\\"))\\naffinity_mat = -dist_mat\\n\\nclst = AffinityPropagation(\\n    affinity=\\\"precomputed\\\", preference=affinity_mat.min() * 4,\\n)\\nclst.fit(affinity_mat)\";\n",
       "                var nbb_formatted_code = \"# Downsampling because its slow to fit to 5000 records\\n# Could not get algo to converge using a sample of 500\\n# Could not get algo to converge using a sample of 150\\ndf_sample = df_4.sample(100, random_state=42)\\ndf_sample_dummies = pd.get_dummies(df_sample)\\n\\ndist_mat = squareform(pdist(df_sample_dummies, metric=\\\"dice\\\"))\\naffinity_mat = -dist_mat\\n\\nclst = AffinityPropagation(affinity=\\\"precomputed\\\", preference=affinity_mat.min() * 4,)\\nclst.fit(affinity_mat)\";\n",
       "                var nbb_cells = Jupyter.notebook.get_cells();\n",
       "                for (var i = 0; i < nbb_cells.length; ++i) {\n",
       "                    if (nbb_cells[i].input_prompt_number == nbb_cell_id) {\n",
       "                        if (nbb_cells[i].get_text() == nbb_unformatted_code) {\n",
       "                             nbb_cells[i].set_text(nbb_formatted_code);\n",
       "                        }\n",
       "                        break;\n",
       "                    }\n",
       "                }\n",
       "            }, 500);\n",
       "            "
      ],
      "text/plain": [
       "<IPython.core.display.Javascript object>"
      ]
     },
     "metadata": {},
     "output_type": "display_data"
    }
   ],
   "source": [
    "# Downsampling because its slow to fit to 5000 records\n",
    "# Could not get algo to converge using a sample of 500\n",
    "# Could not get algo to converge using a sample of 150\n",
    "df_sample = df_4.sample(100, random_state=42)\n",
    "df_sample_dummies = pd.get_dummies(df_sample)\n",
    "\n",
    "dist_mat = squareform(pdist(df_sample_dummies, metric=\"dice\"))\n",
    "affinity_mat = -dist_mat\n",
    "\n",
    "clst = AffinityPropagation(affinity=\"precomputed\", preference=affinity_mat.min() * 4,)\n",
    "clst.fit(affinity_mat)"
   ]
  },
  {
   "cell_type": "code",
   "execution_count": 50,
   "metadata": {},
   "outputs": [
    {
     "data": {
      "text/html": [
       "<div>\n",
       "<style scoped>\n",
       "    .dataframe tbody tr th:only-of-type {\n",
       "        vertical-align: middle;\n",
       "    }\n",
       "\n",
       "    .dataframe tbody tr th {\n",
       "        vertical-align: top;\n",
       "    }\n",
       "\n",
       "    .dataframe thead th {\n",
       "        text-align: right;\n",
       "    }\n",
       "</style>\n",
       "<table border=\"1\" class=\"dataframe\">\n",
       "  <thead>\n",
       "    <tr style=\"text-align: right;\">\n",
       "      <th></th>\n",
       "      <th>continent</th>\n",
       "      <th>dept</th>\n",
       "      <th>company</th>\n",
       "    </tr>\n",
       "  </thead>\n",
       "  <tbody>\n",
       "    <tr>\n",
       "      <th>4121</th>\n",
       "      <td>Europe</td>\n",
       "      <td>Accounting</td>\n",
       "      <td>Rop</td>\n",
       "    </tr>\n",
       "    <tr>\n",
       "      <th>1413</th>\n",
       "      <td>South America</td>\n",
       "      <td>Marketing</td>\n",
       "      <td>UpDog</td>\n",
       "    </tr>\n",
       "    <tr>\n",
       "      <th>157</th>\n",
       "      <td>Asia</td>\n",
       "      <td>IT</td>\n",
       "      <td>Innovato</td>\n",
       "    </tr>\n",
       "    <tr>\n",
       "      <th>4740</th>\n",
       "      <td>Africa</td>\n",
       "      <td>Sales</td>\n",
       "      <td>Innovato</td>\n",
       "    </tr>\n",
       "  </tbody>\n",
       "</table>\n",
       "</div>"
      ],
      "text/plain": [
       "          continent        dept   company\n",
       "4121         Europe  Accounting       Rop\n",
       "1413  South America   Marketing     UpDog\n",
       "157            Asia          IT  Innovato\n",
       "4740         Africa       Sales  Innovato"
      ]
     },
     "execution_count": 50,
     "metadata": {},
     "output_type": "execute_result"
    },
    {
     "data": {
      "application/javascript": [
       "\n",
       "            setTimeout(function() {\n",
       "                var nbb_cell_id = 50;\n",
       "                var nbb_unformatted_code = \"df_sample.iloc[clst.cluster_centers_indices_, :]\";\n",
       "                var nbb_formatted_code = \"df_sample.iloc[clst.cluster_centers_indices_, :]\";\n",
       "                var nbb_cells = Jupyter.notebook.get_cells();\n",
       "                for (var i = 0; i < nbb_cells.length; ++i) {\n",
       "                    if (nbb_cells[i].input_prompt_number == nbb_cell_id) {\n",
       "                        if (nbb_cells[i].get_text() == nbb_unformatted_code) {\n",
       "                             nbb_cells[i].set_text(nbb_formatted_code);\n",
       "                        }\n",
       "                        break;\n",
       "                    }\n",
       "                }\n",
       "            }, 500);\n",
       "            "
      ],
      "text/plain": [
       "<IPython.core.display.Javascript object>"
      ]
     },
     "metadata": {},
     "output_type": "display_data"
    }
   ],
   "source": [
    "df_sample.iloc[clst.cluster_centers_indices_, :]"
   ]
  },
  {
   "cell_type": "code",
   "execution_count": 51,
   "metadata": {
    "scrolled": true
   },
   "outputs": [
    {
     "name": "stdout",
     "output_type": "stream",
     "text": [
      "Cluster 0 co-occuring categories\n"
     ]
    },
    {
     "data": {
      "text/html": [
       "<style  type=\"text/css\" >\n",
       "    #T_d2e26398_04c0_11eb_8337_7085c2a9ca7arow0_col0 {\n",
       "            background-color:  #2685bb;\n",
       "            color:  #000000;\n",
       "        }    #T_d2e26398_04c0_11eb_8337_7085c2a9ca7arow0_col1 {\n",
       "            background-color:  #fff7fb;\n",
       "            color:  #000000;\n",
       "        }    #T_d2e26398_04c0_11eb_8337_7085c2a9ca7arow0_col2 {\n",
       "            background-color:  #b4c4df;\n",
       "            color:  #000000;\n",
       "        }    #T_d2e26398_04c0_11eb_8337_7085c2a9ca7arow0_col3 {\n",
       "            background-color:  #fff7fb;\n",
       "            color:  #000000;\n",
       "        }    #T_d2e26398_04c0_11eb_8337_7085c2a9ca7arow1_col0 {\n",
       "            background-color:  #b4c4df;\n",
       "            color:  #000000;\n",
       "        }    #T_d2e26398_04c0_11eb_8337_7085c2a9ca7arow1_col1 {\n",
       "            background-color:  #fff7fb;\n",
       "            color:  #000000;\n",
       "        }    #T_d2e26398_04c0_11eb_8337_7085c2a9ca7arow1_col2 {\n",
       "            background-color:  #fff7fb;\n",
       "            color:  #000000;\n",
       "        }    #T_d2e26398_04c0_11eb_8337_7085c2a9ca7arow1_col3 {\n",
       "            background-color:  #fff7fb;\n",
       "            color:  #000000;\n",
       "        }    #T_d2e26398_04c0_11eb_8337_7085c2a9ca7arow2_col0 {\n",
       "            background-color:  #023858;\n",
       "            color:  #f1f1f1;\n",
       "        }    #T_d2e26398_04c0_11eb_8337_7085c2a9ca7arow2_col1 {\n",
       "            background-color:  #fff7fb;\n",
       "            color:  #000000;\n",
       "        }    #T_d2e26398_04c0_11eb_8337_7085c2a9ca7arow2_col2 {\n",
       "            background-color:  #fff7fb;\n",
       "            color:  #000000;\n",
       "        }    #T_d2e26398_04c0_11eb_8337_7085c2a9ca7arow2_col3 {\n",
       "            background-color:  #2685bb;\n",
       "            color:  #000000;\n",
       "        }    #T_d2e26398_04c0_11eb_8337_7085c2a9ca7arow3_col0 {\n",
       "            background-color:  #b4c4df;\n",
       "            color:  #000000;\n",
       "        }    #T_d2e26398_04c0_11eb_8337_7085c2a9ca7arow3_col1 {\n",
       "            background-color:  #023858;\n",
       "            color:  #f1f1f1;\n",
       "        }    #T_d2e26398_04c0_11eb_8337_7085c2a9ca7arow3_col2 {\n",
       "            background-color:  #2685bb;\n",
       "            color:  #000000;\n",
       "        }    #T_d2e26398_04c0_11eb_8337_7085c2a9ca7arow3_col3 {\n",
       "            background-color:  #023858;\n",
       "            color:  #f1f1f1;\n",
       "        }    #T_d2e26398_04c0_11eb_8337_7085c2a9ca7arow4_col0 {\n",
       "            background-color:  #2685bb;\n",
       "            color:  #000000;\n",
       "        }    #T_d2e26398_04c0_11eb_8337_7085c2a9ca7arow4_col1 {\n",
       "            background-color:  #fff7fb;\n",
       "            color:  #000000;\n",
       "        }    #T_d2e26398_04c0_11eb_8337_7085c2a9ca7arow4_col2 {\n",
       "            background-color:  #fff7fb;\n",
       "            color:  #000000;\n",
       "        }    #T_d2e26398_04c0_11eb_8337_7085c2a9ca7arow4_col3 {\n",
       "            background-color:  #fff7fb;\n",
       "            color:  #000000;\n",
       "        }    #T_d2e26398_04c0_11eb_8337_7085c2a9ca7arow5_col0 {\n",
       "            background-color:  #b4c4df;\n",
       "            color:  #000000;\n",
       "        }    #T_d2e26398_04c0_11eb_8337_7085c2a9ca7arow5_col1 {\n",
       "            background-color:  #fff7fb;\n",
       "            color:  #000000;\n",
       "        }    #T_d2e26398_04c0_11eb_8337_7085c2a9ca7arow5_col2 {\n",
       "            background-color:  #fff7fb;\n",
       "            color:  #000000;\n",
       "        }    #T_d2e26398_04c0_11eb_8337_7085c2a9ca7arow5_col3 {\n",
       "            background-color:  #fff7fb;\n",
       "            color:  #000000;\n",
       "        }    #T_d2e26398_04c0_11eb_8337_7085c2a9ca7arow6_col0 {\n",
       "            background-color:  #2685bb;\n",
       "            color:  #000000;\n",
       "        }    #T_d2e26398_04c0_11eb_8337_7085c2a9ca7arow6_col1 {\n",
       "            background-color:  #b4c4df;\n",
       "            color:  #000000;\n",
       "        }    #T_d2e26398_04c0_11eb_8337_7085c2a9ca7arow6_col2 {\n",
       "            background-color:  #fff7fb;\n",
       "            color:  #000000;\n",
       "        }    #T_d2e26398_04c0_11eb_8337_7085c2a9ca7arow6_col3 {\n",
       "            background-color:  #fff7fb;\n",
       "            color:  #000000;\n",
       "        }</style><table id=\"T_d2e26398_04c0_11eb_8337_7085c2a9ca7a\" ><thead>    <tr>        <th class=\"blank\" ></th>        <th class=\"index_name level0\" >dept</th>        <th class=\"col_heading level0 col0\" >Accounting</th>        <th class=\"col_heading level0 col1\" >IT</th>        <th class=\"col_heading level0 col2\" >Marketing</th>        <th class=\"col_heading level0 col3\" >Sales</th>    </tr>    <tr>        <th class=\"index_name level0\" >company</th>        <th class=\"index_name level1\" >continent</th>        <th class=\"blank\" ></th>        <th class=\"blank\" ></th>        <th class=\"blank\" ></th>        <th class=\"blank\" ></th>    </tr></thead><tbody>\n",
       "                <tr>\n",
       "                        <th id=\"T_d2e26398_04c0_11eb_8337_7085c2a9ca7alevel0_row0\" class=\"row_heading level0 row0\" >Innovato</th>\n",
       "                        <th id=\"T_d2e26398_04c0_11eb_8337_7085c2a9ca7alevel1_row0\" class=\"row_heading level1 row0\" >Europe</th>\n",
       "                        <td id=\"T_d2e26398_04c0_11eb_8337_7085c2a9ca7arow0_col0\" class=\"data row0 col0\" >2</td>\n",
       "                        <td id=\"T_d2e26398_04c0_11eb_8337_7085c2a9ca7arow0_col1\" class=\"data row0 col1\" >0</td>\n",
       "                        <td id=\"T_d2e26398_04c0_11eb_8337_7085c2a9ca7arow0_col2\" class=\"data row0 col2\" >1</td>\n",
       "                        <td id=\"T_d2e26398_04c0_11eb_8337_7085c2a9ca7arow0_col3\" class=\"data row0 col3\" >0</td>\n",
       "            </tr>\n",
       "            <tr>\n",
       "                        <th id=\"T_d2e26398_04c0_11eb_8337_7085c2a9ca7alevel0_row1\" class=\"row_heading level0 row1\" rowspan=4>Rop</th>\n",
       "                        <th id=\"T_d2e26398_04c0_11eb_8337_7085c2a9ca7alevel1_row1\" class=\"row_heading level1 row1\" >Africa</th>\n",
       "                        <td id=\"T_d2e26398_04c0_11eb_8337_7085c2a9ca7arow1_col0\" class=\"data row1 col0\" >1</td>\n",
       "                        <td id=\"T_d2e26398_04c0_11eb_8337_7085c2a9ca7arow1_col1\" class=\"data row1 col1\" >0</td>\n",
       "                        <td id=\"T_d2e26398_04c0_11eb_8337_7085c2a9ca7arow1_col2\" class=\"data row1 col2\" >0</td>\n",
       "                        <td id=\"T_d2e26398_04c0_11eb_8337_7085c2a9ca7arow1_col3\" class=\"data row1 col3\" >0</td>\n",
       "            </tr>\n",
       "            <tr>\n",
       "                                <th id=\"T_d2e26398_04c0_11eb_8337_7085c2a9ca7alevel1_row2\" class=\"row_heading level1 row2\" >Asia</th>\n",
       "                        <td id=\"T_d2e26398_04c0_11eb_8337_7085c2a9ca7arow2_col0\" class=\"data row2 col0\" >3</td>\n",
       "                        <td id=\"T_d2e26398_04c0_11eb_8337_7085c2a9ca7arow2_col1\" class=\"data row2 col1\" >0</td>\n",
       "                        <td id=\"T_d2e26398_04c0_11eb_8337_7085c2a9ca7arow2_col2\" class=\"data row2 col2\" >0</td>\n",
       "                        <td id=\"T_d2e26398_04c0_11eb_8337_7085c2a9ca7arow2_col3\" class=\"data row2 col3\" >2</td>\n",
       "            </tr>\n",
       "            <tr>\n",
       "                                <th id=\"T_d2e26398_04c0_11eb_8337_7085c2a9ca7alevel1_row3\" class=\"row_heading level1 row3\" >Europe</th>\n",
       "                        <td id=\"T_d2e26398_04c0_11eb_8337_7085c2a9ca7arow3_col0\" class=\"data row3 col0\" >1</td>\n",
       "                        <td id=\"T_d2e26398_04c0_11eb_8337_7085c2a9ca7arow3_col1\" class=\"data row3 col1\" >3</td>\n",
       "                        <td id=\"T_d2e26398_04c0_11eb_8337_7085c2a9ca7arow3_col2\" class=\"data row3 col2\" >2</td>\n",
       "                        <td id=\"T_d2e26398_04c0_11eb_8337_7085c2a9ca7arow3_col3\" class=\"data row3 col3\" >3</td>\n",
       "            </tr>\n",
       "            <tr>\n",
       "                                <th id=\"T_d2e26398_04c0_11eb_8337_7085c2a9ca7alevel1_row4\" class=\"row_heading level1 row4\" >South America</th>\n",
       "                        <td id=\"T_d2e26398_04c0_11eb_8337_7085c2a9ca7arow4_col0\" class=\"data row4 col0\" >2</td>\n",
       "                        <td id=\"T_d2e26398_04c0_11eb_8337_7085c2a9ca7arow4_col1\" class=\"data row4 col1\" >0</td>\n",
       "                        <td id=\"T_d2e26398_04c0_11eb_8337_7085c2a9ca7arow4_col2\" class=\"data row4 col2\" >0</td>\n",
       "                        <td id=\"T_d2e26398_04c0_11eb_8337_7085c2a9ca7arow4_col3\" class=\"data row4 col3\" >0</td>\n",
       "            </tr>\n",
       "            <tr>\n",
       "                        <th id=\"T_d2e26398_04c0_11eb_8337_7085c2a9ca7alevel0_row5\" class=\"row_heading level0 row5\" rowspan=2>UpDog</th>\n",
       "                        <th id=\"T_d2e26398_04c0_11eb_8337_7085c2a9ca7alevel1_row5\" class=\"row_heading level1 row5\" >Asia</th>\n",
       "                        <td id=\"T_d2e26398_04c0_11eb_8337_7085c2a9ca7arow5_col0\" class=\"data row5 col0\" >1</td>\n",
       "                        <td id=\"T_d2e26398_04c0_11eb_8337_7085c2a9ca7arow5_col1\" class=\"data row5 col1\" >0</td>\n",
       "                        <td id=\"T_d2e26398_04c0_11eb_8337_7085c2a9ca7arow5_col2\" class=\"data row5 col2\" >0</td>\n",
       "                        <td id=\"T_d2e26398_04c0_11eb_8337_7085c2a9ca7arow5_col3\" class=\"data row5 col3\" >0</td>\n",
       "            </tr>\n",
       "            <tr>\n",
       "                                <th id=\"T_d2e26398_04c0_11eb_8337_7085c2a9ca7alevel1_row6\" class=\"row_heading level1 row6\" >Europe</th>\n",
       "                        <td id=\"T_d2e26398_04c0_11eb_8337_7085c2a9ca7arow6_col0\" class=\"data row6 col0\" >2</td>\n",
       "                        <td id=\"T_d2e26398_04c0_11eb_8337_7085c2a9ca7arow6_col1\" class=\"data row6 col1\" >1</td>\n",
       "                        <td id=\"T_d2e26398_04c0_11eb_8337_7085c2a9ca7arow6_col2\" class=\"data row6 col2\" >0</td>\n",
       "                        <td id=\"T_d2e26398_04c0_11eb_8337_7085c2a9ca7arow6_col3\" class=\"data row6 col3\" >0</td>\n",
       "            </tr>\n",
       "    </tbody></table>"
      ],
      "text/plain": [
       "<pandas.io.formats.style.Styler at 0x12f3dc0b288>"
      ]
     },
     "metadata": {},
     "output_type": "display_data"
    },
    {
     "name": "stdout",
     "output_type": "stream",
     "text": [
      "Cluster 1 co-occuring categories\n"
     ]
    },
    {
     "data": {
      "text/html": [
       "<style  type=\"text/css\" >\n",
       "    #T_d2ec6ed8_04c0_11eb_be26_7085c2a9ca7arow0_col0 {\n",
       "            background-color:  #dbdaeb;\n",
       "            color:  #000000;\n",
       "        }    #T_d2ec6ed8_04c0_11eb_be26_7085c2a9ca7arow0_col1 {\n",
       "            background-color:  #fff7fb;\n",
       "            color:  #000000;\n",
       "        }    #T_d2ec6ed8_04c0_11eb_be26_7085c2a9ca7arow0_col2 {\n",
       "            background-color:  #fff7fb;\n",
       "            color:  #000000;\n",
       "        }    #T_d2ec6ed8_04c0_11eb_be26_7085c2a9ca7arow0_col3 {\n",
       "            background-color:  #fff7fb;\n",
       "            color:  #000000;\n",
       "        }    #T_d2ec6ed8_04c0_11eb_be26_7085c2a9ca7arow1_col0 {\n",
       "            background-color:  #fff7fb;\n",
       "            color:  #000000;\n",
       "        }    #T_d2ec6ed8_04c0_11eb_be26_7085c2a9ca7arow1_col1 {\n",
       "            background-color:  #fff7fb;\n",
       "            color:  #000000;\n",
       "        }    #T_d2ec6ed8_04c0_11eb_be26_7085c2a9ca7arow1_col2 {\n",
       "            background-color:  #dbdaeb;\n",
       "            color:  #000000;\n",
       "        }    #T_d2ec6ed8_04c0_11eb_be26_7085c2a9ca7arow1_col3 {\n",
       "            background-color:  #fff7fb;\n",
       "            color:  #000000;\n",
       "        }    #T_d2ec6ed8_04c0_11eb_be26_7085c2a9ca7arow2_col0 {\n",
       "            background-color:  #fff7fb;\n",
       "            color:  #000000;\n",
       "        }    #T_d2ec6ed8_04c0_11eb_be26_7085c2a9ca7arow2_col1 {\n",
       "            background-color:  #fff7fb;\n",
       "            color:  #000000;\n",
       "        }    #T_d2ec6ed8_04c0_11eb_be26_7085c2a9ca7arow2_col2 {\n",
       "            background-color:  #9cb9d9;\n",
       "            color:  #000000;\n",
       "        }    #T_d2ec6ed8_04c0_11eb_be26_7085c2a9ca7arow2_col3 {\n",
       "            background-color:  #9cb9d9;\n",
       "            color:  #000000;\n",
       "        }    #T_d2ec6ed8_04c0_11eb_be26_7085c2a9ca7arow3_col0 {\n",
       "            background-color:  #fff7fb;\n",
       "            color:  #000000;\n",
       "        }    #T_d2ec6ed8_04c0_11eb_be26_7085c2a9ca7arow3_col1 {\n",
       "            background-color:  #fff7fb;\n",
       "            color:  #000000;\n",
       "        }    #T_d2ec6ed8_04c0_11eb_be26_7085c2a9ca7arow3_col2 {\n",
       "            background-color:  #9cb9d9;\n",
       "            color:  #000000;\n",
       "        }    #T_d2ec6ed8_04c0_11eb_be26_7085c2a9ca7arow3_col3 {\n",
       "            background-color:  #fff7fb;\n",
       "            color:  #000000;\n",
       "        }    #T_d2ec6ed8_04c0_11eb_be26_7085c2a9ca7arow4_col0 {\n",
       "            background-color:  #dbdaeb;\n",
       "            color:  #000000;\n",
       "        }    #T_d2ec6ed8_04c0_11eb_be26_7085c2a9ca7arow4_col1 {\n",
       "            background-color:  #fff7fb;\n",
       "            color:  #000000;\n",
       "        }    #T_d2ec6ed8_04c0_11eb_be26_7085c2a9ca7arow4_col2 {\n",
       "            background-color:  #9cb9d9;\n",
       "            color:  #000000;\n",
       "        }    #T_d2ec6ed8_04c0_11eb_be26_7085c2a9ca7arow4_col3 {\n",
       "            background-color:  #fff7fb;\n",
       "            color:  #000000;\n",
       "        }    #T_d2ec6ed8_04c0_11eb_be26_7085c2a9ca7arow5_col0 {\n",
       "            background-color:  #fff7fb;\n",
       "            color:  #000000;\n",
       "        }    #T_d2ec6ed8_04c0_11eb_be26_7085c2a9ca7arow5_col1 {\n",
       "            background-color:  #4295c3;\n",
       "            color:  #000000;\n",
       "        }    #T_d2ec6ed8_04c0_11eb_be26_7085c2a9ca7arow5_col2 {\n",
       "            background-color:  #dbdaeb;\n",
       "            color:  #000000;\n",
       "        }    #T_d2ec6ed8_04c0_11eb_be26_7085c2a9ca7arow5_col3 {\n",
       "            background-color:  #fff7fb;\n",
       "            color:  #000000;\n",
       "        }    #T_d2ec6ed8_04c0_11eb_be26_7085c2a9ca7arow6_col0 {\n",
       "            background-color:  #9cb9d9;\n",
       "            color:  #000000;\n",
       "        }    #T_d2ec6ed8_04c0_11eb_be26_7085c2a9ca7arow6_col1 {\n",
       "            background-color:  #4295c3;\n",
       "            color:  #000000;\n",
       "        }    #T_d2ec6ed8_04c0_11eb_be26_7085c2a9ca7arow6_col2 {\n",
       "            background-color:  #4295c3;\n",
       "            color:  #000000;\n",
       "        }    #T_d2ec6ed8_04c0_11eb_be26_7085c2a9ca7arow6_col3 {\n",
       "            background-color:  #023858;\n",
       "            color:  #f1f1f1;\n",
       "        }</style><table id=\"T_d2ec6ed8_04c0_11eb_be26_7085c2a9ca7a\" ><thead>    <tr>        <th class=\"blank\" ></th>        <th class=\"index_name level0\" >dept</th>        <th class=\"col_heading level0 col0\" >Accounting</th>        <th class=\"col_heading level0 col1\" >IT</th>        <th class=\"col_heading level0 col2\" >Marketing</th>        <th class=\"col_heading level0 col3\" >Sales</th>    </tr>    <tr>        <th class=\"index_name level0\" >company</th>        <th class=\"index_name level1\" >continent</th>        <th class=\"blank\" ></th>        <th class=\"blank\" ></th>        <th class=\"blank\" ></th>        <th class=\"blank\" ></th>    </tr></thead><tbody>\n",
       "                <tr>\n",
       "                        <th id=\"T_d2ec6ed8_04c0_11eb_be26_7085c2a9ca7alevel0_row0\" class=\"row_heading level0 row0\" >Innovato</th>\n",
       "                        <th id=\"T_d2ec6ed8_04c0_11eb_be26_7085c2a9ca7alevel1_row0\" class=\"row_heading level1 row0\" >South America</th>\n",
       "                        <td id=\"T_d2ec6ed8_04c0_11eb_be26_7085c2a9ca7arow0_col0\" class=\"data row0 col0\" >1</td>\n",
       "                        <td id=\"T_d2ec6ed8_04c0_11eb_be26_7085c2a9ca7arow0_col1\" class=\"data row0 col1\" >0</td>\n",
       "                        <td id=\"T_d2ec6ed8_04c0_11eb_be26_7085c2a9ca7arow0_col2\" class=\"data row0 col2\" >0</td>\n",
       "                        <td id=\"T_d2ec6ed8_04c0_11eb_be26_7085c2a9ca7arow0_col3\" class=\"data row0 col3\" >0</td>\n",
       "            </tr>\n",
       "            <tr>\n",
       "                        <th id=\"T_d2ec6ed8_04c0_11eb_be26_7085c2a9ca7alevel0_row1\" class=\"row_heading level0 row1\" rowspan=2>Rop</th>\n",
       "                        <th id=\"T_d2ec6ed8_04c0_11eb_be26_7085c2a9ca7alevel1_row1\" class=\"row_heading level1 row1\" >Asia</th>\n",
       "                        <td id=\"T_d2ec6ed8_04c0_11eb_be26_7085c2a9ca7arow1_col0\" class=\"data row1 col0\" >0</td>\n",
       "                        <td id=\"T_d2ec6ed8_04c0_11eb_be26_7085c2a9ca7arow1_col1\" class=\"data row1 col1\" >0</td>\n",
       "                        <td id=\"T_d2ec6ed8_04c0_11eb_be26_7085c2a9ca7arow1_col2\" class=\"data row1 col2\" >1</td>\n",
       "                        <td id=\"T_d2ec6ed8_04c0_11eb_be26_7085c2a9ca7arow1_col3\" class=\"data row1 col3\" >0</td>\n",
       "            </tr>\n",
       "            <tr>\n",
       "                                <th id=\"T_d2ec6ed8_04c0_11eb_be26_7085c2a9ca7alevel1_row2\" class=\"row_heading level1 row2\" >South America</th>\n",
       "                        <td id=\"T_d2ec6ed8_04c0_11eb_be26_7085c2a9ca7arow2_col0\" class=\"data row2 col0\" >0</td>\n",
       "                        <td id=\"T_d2ec6ed8_04c0_11eb_be26_7085c2a9ca7arow2_col1\" class=\"data row2 col1\" >0</td>\n",
       "                        <td id=\"T_d2ec6ed8_04c0_11eb_be26_7085c2a9ca7arow2_col2\" class=\"data row2 col2\" >2</td>\n",
       "                        <td id=\"T_d2ec6ed8_04c0_11eb_be26_7085c2a9ca7arow2_col3\" class=\"data row2 col3\" >2</td>\n",
       "            </tr>\n",
       "            <tr>\n",
       "                        <th id=\"T_d2ec6ed8_04c0_11eb_be26_7085c2a9ca7alevel0_row3\" class=\"row_heading level0 row3\" rowspan=4>UpDog</th>\n",
       "                        <th id=\"T_d2ec6ed8_04c0_11eb_be26_7085c2a9ca7alevel1_row3\" class=\"row_heading level1 row3\" >Africa</th>\n",
       "                        <td id=\"T_d2ec6ed8_04c0_11eb_be26_7085c2a9ca7arow3_col0\" class=\"data row3 col0\" >0</td>\n",
       "                        <td id=\"T_d2ec6ed8_04c0_11eb_be26_7085c2a9ca7arow3_col1\" class=\"data row3 col1\" >0</td>\n",
       "                        <td id=\"T_d2ec6ed8_04c0_11eb_be26_7085c2a9ca7arow3_col2\" class=\"data row3 col2\" >2</td>\n",
       "                        <td id=\"T_d2ec6ed8_04c0_11eb_be26_7085c2a9ca7arow3_col3\" class=\"data row3 col3\" >0</td>\n",
       "            </tr>\n",
       "            <tr>\n",
       "                                <th id=\"T_d2ec6ed8_04c0_11eb_be26_7085c2a9ca7alevel1_row4\" class=\"row_heading level1 row4\" >Asia</th>\n",
       "                        <td id=\"T_d2ec6ed8_04c0_11eb_be26_7085c2a9ca7arow4_col0\" class=\"data row4 col0\" >1</td>\n",
       "                        <td id=\"T_d2ec6ed8_04c0_11eb_be26_7085c2a9ca7arow4_col1\" class=\"data row4 col1\" >0</td>\n",
       "                        <td id=\"T_d2ec6ed8_04c0_11eb_be26_7085c2a9ca7arow4_col2\" class=\"data row4 col2\" >2</td>\n",
       "                        <td id=\"T_d2ec6ed8_04c0_11eb_be26_7085c2a9ca7arow4_col3\" class=\"data row4 col3\" >0</td>\n",
       "            </tr>\n",
       "            <tr>\n",
       "                                <th id=\"T_d2ec6ed8_04c0_11eb_be26_7085c2a9ca7alevel1_row5\" class=\"row_heading level1 row5\" >Europe</th>\n",
       "                        <td id=\"T_d2ec6ed8_04c0_11eb_be26_7085c2a9ca7arow5_col0\" class=\"data row5 col0\" >0</td>\n",
       "                        <td id=\"T_d2ec6ed8_04c0_11eb_be26_7085c2a9ca7arow5_col1\" class=\"data row5 col1\" >3</td>\n",
       "                        <td id=\"T_d2ec6ed8_04c0_11eb_be26_7085c2a9ca7arow5_col2\" class=\"data row5 col2\" >1</td>\n",
       "                        <td id=\"T_d2ec6ed8_04c0_11eb_be26_7085c2a9ca7arow5_col3\" class=\"data row5 col3\" >0</td>\n",
       "            </tr>\n",
       "            <tr>\n",
       "                                <th id=\"T_d2ec6ed8_04c0_11eb_be26_7085c2a9ca7alevel1_row6\" class=\"row_heading level1 row6\" >South America</th>\n",
       "                        <td id=\"T_d2ec6ed8_04c0_11eb_be26_7085c2a9ca7arow6_col0\" class=\"data row6 col0\" >2</td>\n",
       "                        <td id=\"T_d2ec6ed8_04c0_11eb_be26_7085c2a9ca7arow6_col1\" class=\"data row6 col1\" >3</td>\n",
       "                        <td id=\"T_d2ec6ed8_04c0_11eb_be26_7085c2a9ca7arow6_col2\" class=\"data row6 col2\" >3</td>\n",
       "                        <td id=\"T_d2ec6ed8_04c0_11eb_be26_7085c2a9ca7arow6_col3\" class=\"data row6 col3\" >5</td>\n",
       "            </tr>\n",
       "    </tbody></table>"
      ],
      "text/plain": [
       "<pandas.io.formats.style.Styler at 0x12f3bab2c48>"
      ]
     },
     "metadata": {},
     "output_type": "display_data"
    },
    {
     "name": "stdout",
     "output_type": "stream",
     "text": [
      "Cluster 2 co-occuring categories\n"
     ]
    },
    {
     "data": {
      "text/html": [
       "<style  type=\"text/css\" >\n",
       "    #T_d2f715ee_04c0_11eb_a0a1_7085c2a9ca7arow0_col0 {\n",
       "            background-color:  #fff7fb;\n",
       "            color:  #000000;\n",
       "        }    #T_d2f715ee_04c0_11eb_a0a1_7085c2a9ca7arow0_col1 {\n",
       "            background-color:  #dbdaeb;\n",
       "            color:  #000000;\n",
       "        }    #T_d2f715ee_04c0_11eb_a0a1_7085c2a9ca7arow0_col2 {\n",
       "            background-color:  #fff7fb;\n",
       "            color:  #000000;\n",
       "        }    #T_d2f715ee_04c0_11eb_a0a1_7085c2a9ca7arow0_col3 {\n",
       "            background-color:  #fff7fb;\n",
       "            color:  #000000;\n",
       "        }    #T_d2f715ee_04c0_11eb_a0a1_7085c2a9ca7arow1_col0 {\n",
       "            background-color:  #023858;\n",
       "            color:  #f1f1f1;\n",
       "        }    #T_d2f715ee_04c0_11eb_a0a1_7085c2a9ca7arow1_col1 {\n",
       "            background-color:  #4295c3;\n",
       "            color:  #000000;\n",
       "        }    #T_d2f715ee_04c0_11eb_a0a1_7085c2a9ca7arow1_col2 {\n",
       "            background-color:  #4295c3;\n",
       "            color:  #000000;\n",
       "        }    #T_d2f715ee_04c0_11eb_a0a1_7085c2a9ca7arow1_col3 {\n",
       "            background-color:  #9cb9d9;\n",
       "            color:  #000000;\n",
       "        }    #T_d2f715ee_04c0_11eb_a0a1_7085c2a9ca7arow2_col0 {\n",
       "            background-color:  #fff7fb;\n",
       "            color:  #000000;\n",
       "        }    #T_d2f715ee_04c0_11eb_a0a1_7085c2a9ca7arow2_col1 {\n",
       "            background-color:  #dbdaeb;\n",
       "            color:  #000000;\n",
       "        }    #T_d2f715ee_04c0_11eb_a0a1_7085c2a9ca7arow2_col2 {\n",
       "            background-color:  #fff7fb;\n",
       "            color:  #000000;\n",
       "        }    #T_d2f715ee_04c0_11eb_a0a1_7085c2a9ca7arow2_col3 {\n",
       "            background-color:  #fff7fb;\n",
       "            color:  #000000;\n",
       "        }    #T_d2f715ee_04c0_11eb_a0a1_7085c2a9ca7arow3_col0 {\n",
       "            background-color:  #fff7fb;\n",
       "            color:  #000000;\n",
       "        }    #T_d2f715ee_04c0_11eb_a0a1_7085c2a9ca7arow3_col1 {\n",
       "            background-color:  #dbdaeb;\n",
       "            color:  #000000;\n",
       "        }    #T_d2f715ee_04c0_11eb_a0a1_7085c2a9ca7arow3_col2 {\n",
       "            background-color:  #fff7fb;\n",
       "            color:  #000000;\n",
       "        }    #T_d2f715ee_04c0_11eb_a0a1_7085c2a9ca7arow3_col3 {\n",
       "            background-color:  #fff7fb;\n",
       "            color:  #000000;\n",
       "        }    #T_d2f715ee_04c0_11eb_a0a1_7085c2a9ca7arow4_col0 {\n",
       "            background-color:  #fff7fb;\n",
       "            color:  #000000;\n",
       "        }    #T_d2f715ee_04c0_11eb_a0a1_7085c2a9ca7arow4_col1 {\n",
       "            background-color:  #9cb9d9;\n",
       "            color:  #000000;\n",
       "        }    #T_d2f715ee_04c0_11eb_a0a1_7085c2a9ca7arow4_col2 {\n",
       "            background-color:  #fff7fb;\n",
       "            color:  #000000;\n",
       "        }    #T_d2f715ee_04c0_11eb_a0a1_7085c2a9ca7arow4_col3 {\n",
       "            background-color:  #fff7fb;\n",
       "            color:  #000000;\n",
       "        }    #T_d2f715ee_04c0_11eb_a0a1_7085c2a9ca7arow5_col0 {\n",
       "            background-color:  #fff7fb;\n",
       "            color:  #000000;\n",
       "        }    #T_d2f715ee_04c0_11eb_a0a1_7085c2a9ca7arow5_col1 {\n",
       "            background-color:  #dbdaeb;\n",
       "            color:  #000000;\n",
       "        }    #T_d2f715ee_04c0_11eb_a0a1_7085c2a9ca7arow5_col2 {\n",
       "            background-color:  #fff7fb;\n",
       "            color:  #000000;\n",
       "        }    #T_d2f715ee_04c0_11eb_a0a1_7085c2a9ca7arow5_col3 {\n",
       "            background-color:  #fff7fb;\n",
       "            color:  #000000;\n",
       "        }    #T_d2f715ee_04c0_11eb_a0a1_7085c2a9ca7arow6_col0 {\n",
       "            background-color:  #fff7fb;\n",
       "            color:  #000000;\n",
       "        }    #T_d2f715ee_04c0_11eb_a0a1_7085c2a9ca7arow6_col1 {\n",
       "            background-color:  #dbdaeb;\n",
       "            color:  #000000;\n",
       "        }    #T_d2f715ee_04c0_11eb_a0a1_7085c2a9ca7arow6_col2 {\n",
       "            background-color:  #fff7fb;\n",
       "            color:  #000000;\n",
       "        }    #T_d2f715ee_04c0_11eb_a0a1_7085c2a9ca7arow6_col3 {\n",
       "            background-color:  #fff7fb;\n",
       "            color:  #000000;\n",
       "        }</style><table id=\"T_d2f715ee_04c0_11eb_a0a1_7085c2a9ca7a\" ><thead>    <tr>        <th class=\"blank\" ></th>        <th class=\"index_name level0\" >dept</th>        <th class=\"col_heading level0 col0\" >Accounting</th>        <th class=\"col_heading level0 col1\" >IT</th>        <th class=\"col_heading level0 col2\" >Marketing</th>        <th class=\"col_heading level0 col3\" >Sales</th>    </tr>    <tr>        <th class=\"index_name level0\" >company</th>        <th class=\"index_name level1\" >continent</th>        <th class=\"blank\" ></th>        <th class=\"blank\" ></th>        <th class=\"blank\" ></th>        <th class=\"blank\" ></th>    </tr></thead><tbody>\n",
       "                <tr>\n",
       "                        <th id=\"T_d2f715ee_04c0_11eb_a0a1_7085c2a9ca7alevel0_row0\" class=\"row_heading level0 row0\" rowspan=3>Innovato</th>\n",
       "                        <th id=\"T_d2f715ee_04c0_11eb_a0a1_7085c2a9ca7alevel1_row0\" class=\"row_heading level1 row0\" >Africa</th>\n",
       "                        <td id=\"T_d2f715ee_04c0_11eb_a0a1_7085c2a9ca7arow0_col0\" class=\"data row0 col0\" >0</td>\n",
       "                        <td id=\"T_d2f715ee_04c0_11eb_a0a1_7085c2a9ca7arow0_col1\" class=\"data row0 col1\" >1</td>\n",
       "                        <td id=\"T_d2f715ee_04c0_11eb_a0a1_7085c2a9ca7arow0_col2\" class=\"data row0 col2\" >0</td>\n",
       "                        <td id=\"T_d2f715ee_04c0_11eb_a0a1_7085c2a9ca7arow0_col3\" class=\"data row0 col3\" >0</td>\n",
       "            </tr>\n",
       "            <tr>\n",
       "                                <th id=\"T_d2f715ee_04c0_11eb_a0a1_7085c2a9ca7alevel1_row1\" class=\"row_heading level1 row1\" >Asia</th>\n",
       "                        <td id=\"T_d2f715ee_04c0_11eb_a0a1_7085c2a9ca7arow1_col0\" class=\"data row1 col0\" >5</td>\n",
       "                        <td id=\"T_d2f715ee_04c0_11eb_a0a1_7085c2a9ca7arow1_col1\" class=\"data row1 col1\" >3</td>\n",
       "                        <td id=\"T_d2f715ee_04c0_11eb_a0a1_7085c2a9ca7arow1_col2\" class=\"data row1 col2\" >3</td>\n",
       "                        <td id=\"T_d2f715ee_04c0_11eb_a0a1_7085c2a9ca7arow1_col3\" class=\"data row1 col3\" >2</td>\n",
       "            </tr>\n",
       "            <tr>\n",
       "                                <th id=\"T_d2f715ee_04c0_11eb_a0a1_7085c2a9ca7alevel1_row2\" class=\"row_heading level1 row2\" >Europe</th>\n",
       "                        <td id=\"T_d2f715ee_04c0_11eb_a0a1_7085c2a9ca7arow2_col0\" class=\"data row2 col0\" >0</td>\n",
       "                        <td id=\"T_d2f715ee_04c0_11eb_a0a1_7085c2a9ca7arow2_col1\" class=\"data row2 col1\" >1</td>\n",
       "                        <td id=\"T_d2f715ee_04c0_11eb_a0a1_7085c2a9ca7arow2_col2\" class=\"data row2 col2\" >0</td>\n",
       "                        <td id=\"T_d2f715ee_04c0_11eb_a0a1_7085c2a9ca7arow2_col3\" class=\"data row2 col3\" >0</td>\n",
       "            </tr>\n",
       "            <tr>\n",
       "                        <th id=\"T_d2f715ee_04c0_11eb_a0a1_7085c2a9ca7alevel0_row3\" class=\"row_heading level0 row3\" rowspan=2>Rop</th>\n",
       "                        <th id=\"T_d2f715ee_04c0_11eb_a0a1_7085c2a9ca7alevel1_row3\" class=\"row_heading level1 row3\" >Africa</th>\n",
       "                        <td id=\"T_d2f715ee_04c0_11eb_a0a1_7085c2a9ca7arow3_col0\" class=\"data row3 col0\" >0</td>\n",
       "                        <td id=\"T_d2f715ee_04c0_11eb_a0a1_7085c2a9ca7arow3_col1\" class=\"data row3 col1\" >1</td>\n",
       "                        <td id=\"T_d2f715ee_04c0_11eb_a0a1_7085c2a9ca7arow3_col2\" class=\"data row3 col2\" >0</td>\n",
       "                        <td id=\"T_d2f715ee_04c0_11eb_a0a1_7085c2a9ca7arow3_col3\" class=\"data row3 col3\" >0</td>\n",
       "            </tr>\n",
       "            <tr>\n",
       "                                <th id=\"T_d2f715ee_04c0_11eb_a0a1_7085c2a9ca7alevel1_row4\" class=\"row_heading level1 row4\" >Asia</th>\n",
       "                        <td id=\"T_d2f715ee_04c0_11eb_a0a1_7085c2a9ca7arow4_col0\" class=\"data row4 col0\" >0</td>\n",
       "                        <td id=\"T_d2f715ee_04c0_11eb_a0a1_7085c2a9ca7arow4_col1\" class=\"data row4 col1\" >2</td>\n",
       "                        <td id=\"T_d2f715ee_04c0_11eb_a0a1_7085c2a9ca7arow4_col2\" class=\"data row4 col2\" >0</td>\n",
       "                        <td id=\"T_d2f715ee_04c0_11eb_a0a1_7085c2a9ca7arow4_col3\" class=\"data row4 col3\" >0</td>\n",
       "            </tr>\n",
       "            <tr>\n",
       "                        <th id=\"T_d2f715ee_04c0_11eb_a0a1_7085c2a9ca7alevel0_row5\" class=\"row_heading level0 row5\" rowspan=2>UpDog</th>\n",
       "                        <th id=\"T_d2f715ee_04c0_11eb_a0a1_7085c2a9ca7alevel1_row5\" class=\"row_heading level1 row5\" >Asia</th>\n",
       "                        <td id=\"T_d2f715ee_04c0_11eb_a0a1_7085c2a9ca7arow5_col0\" class=\"data row5 col0\" >0</td>\n",
       "                        <td id=\"T_d2f715ee_04c0_11eb_a0a1_7085c2a9ca7arow5_col1\" class=\"data row5 col1\" >1</td>\n",
       "                        <td id=\"T_d2f715ee_04c0_11eb_a0a1_7085c2a9ca7arow5_col2\" class=\"data row5 col2\" >0</td>\n",
       "                        <td id=\"T_d2f715ee_04c0_11eb_a0a1_7085c2a9ca7arow5_col3\" class=\"data row5 col3\" >0</td>\n",
       "            </tr>\n",
       "            <tr>\n",
       "                                <th id=\"T_d2f715ee_04c0_11eb_a0a1_7085c2a9ca7alevel1_row6\" class=\"row_heading level1 row6\" >Europe</th>\n",
       "                        <td id=\"T_d2f715ee_04c0_11eb_a0a1_7085c2a9ca7arow6_col0\" class=\"data row6 col0\" >0</td>\n",
       "                        <td id=\"T_d2f715ee_04c0_11eb_a0a1_7085c2a9ca7arow6_col1\" class=\"data row6 col1\" >1</td>\n",
       "                        <td id=\"T_d2f715ee_04c0_11eb_a0a1_7085c2a9ca7arow6_col2\" class=\"data row6 col2\" >0</td>\n",
       "                        <td id=\"T_d2f715ee_04c0_11eb_a0a1_7085c2a9ca7arow6_col3\" class=\"data row6 col3\" >0</td>\n",
       "            </tr>\n",
       "    </tbody></table>"
      ],
      "text/plain": [
       "<pandas.io.formats.style.Styler at 0x12f3b983248>"
      ]
     },
     "metadata": {},
     "output_type": "display_data"
    },
    {
     "name": "stdout",
     "output_type": "stream",
     "text": [
      "Cluster 3 co-occuring categories\n"
     ]
    },
    {
     "data": {
      "text/html": [
       "<style  type=\"text/css\" >\n",
       "    #T_d2ffd6d4_04c0_11eb_8643_7085c2a9ca7arow0_col0 {\n",
       "            background-color:  #023858;\n",
       "            color:  #f1f1f1;\n",
       "        }    #T_d2ffd6d4_04c0_11eb_8643_7085c2a9ca7arow0_col1 {\n",
       "            background-color:  #d0d1e6;\n",
       "            color:  #000000;\n",
       "        }    #T_d2ffd6d4_04c0_11eb_8643_7085c2a9ca7arow0_col2 {\n",
       "            background-color:  #358fc0;\n",
       "            color:  #000000;\n",
       "        }    #T_d2ffd6d4_04c0_11eb_8643_7085c2a9ca7arow0_col3 {\n",
       "            background-color:  #056faf;\n",
       "            color:  #f1f1f1;\n",
       "        }    #T_d2ffd6d4_04c0_11eb_8643_7085c2a9ca7arow1_col0 {\n",
       "            background-color:  #fff7fb;\n",
       "            color:  #000000;\n",
       "        }    #T_d2ffd6d4_04c0_11eb_8643_7085c2a9ca7arow1_col1 {\n",
       "            background-color:  #fff7fb;\n",
       "            color:  #000000;\n",
       "        }    #T_d2ffd6d4_04c0_11eb_8643_7085c2a9ca7arow1_col2 {\n",
       "            background-color:  #fff7fb;\n",
       "            color:  #000000;\n",
       "        }    #T_d2ffd6d4_04c0_11eb_8643_7085c2a9ca7arow1_col3 {\n",
       "            background-color:  #ece7f2;\n",
       "            color:  #000000;\n",
       "        }    #T_d2ffd6d4_04c0_11eb_8643_7085c2a9ca7arow2_col0 {\n",
       "            background-color:  #fff7fb;\n",
       "            color:  #000000;\n",
       "        }    #T_d2ffd6d4_04c0_11eb_8643_7085c2a9ca7arow2_col1 {\n",
       "            background-color:  #ece7f2;\n",
       "            color:  #000000;\n",
       "        }    #T_d2ffd6d4_04c0_11eb_8643_7085c2a9ca7arow2_col2 {\n",
       "            background-color:  #fff7fb;\n",
       "            color:  #000000;\n",
       "        }    #T_d2ffd6d4_04c0_11eb_8643_7085c2a9ca7arow2_col3 {\n",
       "            background-color:  #d0d1e6;\n",
       "            color:  #000000;\n",
       "        }    #T_d2ffd6d4_04c0_11eb_8643_7085c2a9ca7arow3_col0 {\n",
       "            background-color:  #fff7fb;\n",
       "            color:  #000000;\n",
       "        }    #T_d2ffd6d4_04c0_11eb_8643_7085c2a9ca7arow3_col1 {\n",
       "            background-color:  #fff7fb;\n",
       "            color:  #000000;\n",
       "        }    #T_d2ffd6d4_04c0_11eb_8643_7085c2a9ca7arow3_col2 {\n",
       "            background-color:  #fff7fb;\n",
       "            color:  #000000;\n",
       "        }    #T_d2ffd6d4_04c0_11eb_8643_7085c2a9ca7arow3_col3 {\n",
       "            background-color:  #ece7f2;\n",
       "            color:  #000000;\n",
       "        }    #T_d2ffd6d4_04c0_11eb_8643_7085c2a9ca7arow4_col0 {\n",
       "            background-color:  #fff7fb;\n",
       "            color:  #000000;\n",
       "        }    #T_d2ffd6d4_04c0_11eb_8643_7085c2a9ca7arow4_col1 {\n",
       "            background-color:  #fff7fb;\n",
       "            color:  #000000;\n",
       "        }    #T_d2ffd6d4_04c0_11eb_8643_7085c2a9ca7arow4_col2 {\n",
       "            background-color:  #fff7fb;\n",
       "            color:  #000000;\n",
       "        }    #T_d2ffd6d4_04c0_11eb_8643_7085c2a9ca7arow4_col3 {\n",
       "            background-color:  #ece7f2;\n",
       "            color:  #000000;\n",
       "        }    #T_d2ffd6d4_04c0_11eb_8643_7085c2a9ca7arow5_col0 {\n",
       "            background-color:  #fff7fb;\n",
       "            color:  #000000;\n",
       "        }    #T_d2ffd6d4_04c0_11eb_8643_7085c2a9ca7arow5_col1 {\n",
       "            background-color:  #fff7fb;\n",
       "            color:  #000000;\n",
       "        }    #T_d2ffd6d4_04c0_11eb_8643_7085c2a9ca7arow5_col2 {\n",
       "            background-color:  #fff7fb;\n",
       "            color:  #000000;\n",
       "        }    #T_d2ffd6d4_04c0_11eb_8643_7085c2a9ca7arow5_col3 {\n",
       "            background-color:  #ece7f2;\n",
       "            color:  #000000;\n",
       "        }</style><table id=\"T_d2ffd6d4_04c0_11eb_8643_7085c2a9ca7a\" ><thead>    <tr>        <th class=\"blank\" ></th>        <th class=\"index_name level0\" >dept</th>        <th class=\"col_heading level0 col0\" >Accounting</th>        <th class=\"col_heading level0 col1\" >IT</th>        <th class=\"col_heading level0 col2\" >Marketing</th>        <th class=\"col_heading level0 col3\" >Sales</th>    </tr>    <tr>        <th class=\"index_name level0\" >company</th>        <th class=\"index_name level1\" >continent</th>        <th class=\"blank\" ></th>        <th class=\"blank\" ></th>        <th class=\"blank\" ></th>        <th class=\"blank\" ></th>    </tr></thead><tbody>\n",
       "                <tr>\n",
       "                        <th id=\"T_d2ffd6d4_04c0_11eb_8643_7085c2a9ca7alevel0_row0\" class=\"row_heading level0 row0\" rowspan=2>Innovato</th>\n",
       "                        <th id=\"T_d2ffd6d4_04c0_11eb_8643_7085c2a9ca7alevel1_row0\" class=\"row_heading level1 row0\" >Africa</th>\n",
       "                        <td id=\"T_d2ffd6d4_04c0_11eb_8643_7085c2a9ca7arow0_col0\" class=\"data row0 col0\" >8</td>\n",
       "                        <td id=\"T_d2ffd6d4_04c0_11eb_8643_7085c2a9ca7arow0_col1\" class=\"data row0 col1\" >2</td>\n",
       "                        <td id=\"T_d2ffd6d4_04c0_11eb_8643_7085c2a9ca7arow0_col2\" class=\"data row0 col2\" >5</td>\n",
       "                        <td id=\"T_d2ffd6d4_04c0_11eb_8643_7085c2a9ca7arow0_col3\" class=\"data row0 col3\" >6</td>\n",
       "            </tr>\n",
       "            <tr>\n",
       "                                <th id=\"T_d2ffd6d4_04c0_11eb_8643_7085c2a9ca7alevel1_row1\" class=\"row_heading level1 row1\" >Asia</th>\n",
       "                        <td id=\"T_d2ffd6d4_04c0_11eb_8643_7085c2a9ca7arow1_col0\" class=\"data row1 col0\" >0</td>\n",
       "                        <td id=\"T_d2ffd6d4_04c0_11eb_8643_7085c2a9ca7arow1_col1\" class=\"data row1 col1\" >0</td>\n",
       "                        <td id=\"T_d2ffd6d4_04c0_11eb_8643_7085c2a9ca7arow1_col2\" class=\"data row1 col2\" >0</td>\n",
       "                        <td id=\"T_d2ffd6d4_04c0_11eb_8643_7085c2a9ca7arow1_col3\" class=\"data row1 col3\" >1</td>\n",
       "            </tr>\n",
       "            <tr>\n",
       "                        <th id=\"T_d2ffd6d4_04c0_11eb_8643_7085c2a9ca7alevel0_row2\" class=\"row_heading level0 row2\" >Rop</th>\n",
       "                        <th id=\"T_d2ffd6d4_04c0_11eb_8643_7085c2a9ca7alevel1_row2\" class=\"row_heading level1 row2\" >Africa</th>\n",
       "                        <td id=\"T_d2ffd6d4_04c0_11eb_8643_7085c2a9ca7arow2_col0\" class=\"data row2 col0\" >0</td>\n",
       "                        <td id=\"T_d2ffd6d4_04c0_11eb_8643_7085c2a9ca7arow2_col1\" class=\"data row2 col1\" >1</td>\n",
       "                        <td id=\"T_d2ffd6d4_04c0_11eb_8643_7085c2a9ca7arow2_col2\" class=\"data row2 col2\" >0</td>\n",
       "                        <td id=\"T_d2ffd6d4_04c0_11eb_8643_7085c2a9ca7arow2_col3\" class=\"data row2 col3\" >2</td>\n",
       "            </tr>\n",
       "            <tr>\n",
       "                        <th id=\"T_d2ffd6d4_04c0_11eb_8643_7085c2a9ca7alevel0_row3\" class=\"row_heading level0 row3\" rowspan=3>UpDog</th>\n",
       "                        <th id=\"T_d2ffd6d4_04c0_11eb_8643_7085c2a9ca7alevel1_row3\" class=\"row_heading level1 row3\" >Africa</th>\n",
       "                        <td id=\"T_d2ffd6d4_04c0_11eb_8643_7085c2a9ca7arow3_col0\" class=\"data row3 col0\" >0</td>\n",
       "                        <td id=\"T_d2ffd6d4_04c0_11eb_8643_7085c2a9ca7arow3_col1\" class=\"data row3 col1\" >0</td>\n",
       "                        <td id=\"T_d2ffd6d4_04c0_11eb_8643_7085c2a9ca7arow3_col2\" class=\"data row3 col2\" >0</td>\n",
       "                        <td id=\"T_d2ffd6d4_04c0_11eb_8643_7085c2a9ca7arow3_col3\" class=\"data row3 col3\" >1</td>\n",
       "            </tr>\n",
       "            <tr>\n",
       "                                <th id=\"T_d2ffd6d4_04c0_11eb_8643_7085c2a9ca7alevel1_row4\" class=\"row_heading level1 row4\" >Asia</th>\n",
       "                        <td id=\"T_d2ffd6d4_04c0_11eb_8643_7085c2a9ca7arow4_col0\" class=\"data row4 col0\" >0</td>\n",
       "                        <td id=\"T_d2ffd6d4_04c0_11eb_8643_7085c2a9ca7arow4_col1\" class=\"data row4 col1\" >0</td>\n",
       "                        <td id=\"T_d2ffd6d4_04c0_11eb_8643_7085c2a9ca7arow4_col2\" class=\"data row4 col2\" >0</td>\n",
       "                        <td id=\"T_d2ffd6d4_04c0_11eb_8643_7085c2a9ca7arow4_col3\" class=\"data row4 col3\" >1</td>\n",
       "            </tr>\n",
       "            <tr>\n",
       "                                <th id=\"T_d2ffd6d4_04c0_11eb_8643_7085c2a9ca7alevel1_row5\" class=\"row_heading level1 row5\" >Europe</th>\n",
       "                        <td id=\"T_d2ffd6d4_04c0_11eb_8643_7085c2a9ca7arow5_col0\" class=\"data row5 col0\" >0</td>\n",
       "                        <td id=\"T_d2ffd6d4_04c0_11eb_8643_7085c2a9ca7arow5_col1\" class=\"data row5 col1\" >0</td>\n",
       "                        <td id=\"T_d2ffd6d4_04c0_11eb_8643_7085c2a9ca7arow5_col2\" class=\"data row5 col2\" >0</td>\n",
       "                        <td id=\"T_d2ffd6d4_04c0_11eb_8643_7085c2a9ca7arow5_col3\" class=\"data row5 col3\" >1</td>\n",
       "            </tr>\n",
       "    </tbody></table>"
      ],
      "text/plain": [
       "<pandas.io.formats.style.Styler at 0x12f3baab648>"
      ]
     },
     "metadata": {},
     "output_type": "display_data"
    },
    {
     "data": {
      "application/javascript": [
       "\n",
       "            setTimeout(function() {\n",
       "                var nbb_cell_id = 51;\n",
       "                var nbb_unformatted_code = \"labels = clst.labels_\\nuniq_labels = sorted(np.unique(labels))\\n\\nfor label in uniq_labels:\\n    df_i = df_sample[labels == label]\\n\\n    print(f\\\"Cluster {label} co-occuring categories\\\")\\n    crosstab = pd.crosstab([df_i[\\\"company\\\"], df_i[\\\"continent\\\"]], df_i[\\\"dept\\\"])\\n    display(crosstab.style.background_gradient(axis=None))\";\n",
       "                var nbb_formatted_code = \"labels = clst.labels_\\nuniq_labels = sorted(np.unique(labels))\\n\\nfor label in uniq_labels:\\n    df_i = df_sample[labels == label]\\n\\n    print(f\\\"Cluster {label} co-occuring categories\\\")\\n    crosstab = pd.crosstab([df_i[\\\"company\\\"], df_i[\\\"continent\\\"]], df_i[\\\"dept\\\"])\\n    display(crosstab.style.background_gradient(axis=None))\";\n",
       "                var nbb_cells = Jupyter.notebook.get_cells();\n",
       "                for (var i = 0; i < nbb_cells.length; ++i) {\n",
       "                    if (nbb_cells[i].input_prompt_number == nbb_cell_id) {\n",
       "                        if (nbb_cells[i].get_text() == nbb_unformatted_code) {\n",
       "                             nbb_cells[i].set_text(nbb_formatted_code);\n",
       "                        }\n",
       "                        break;\n",
       "                    }\n",
       "                }\n",
       "            }, 500);\n",
       "            "
      ],
      "text/plain": [
       "<IPython.core.display.Javascript object>"
      ]
     },
     "metadata": {},
     "output_type": "display_data"
    }
   ],
   "source": [
    "labels = clst.labels_\n",
    "uniq_labels = sorted(np.unique(labels))\n",
    "\n",
    "for label in uniq_labels:\n",
    "    df_i = df_sample[labels == label]\n",
    "\n",
    "    print(f\"Cluster {label} co-occuring categories\")\n",
    "    crosstab = pd.crosstab([df_i[\"company\"], df_i[\"continent\"]], df_i[\"dept\"])\n",
    "    display(crosstab.style.background_gradient(axis=None))"
   ]
  },
  {
   "cell_type": "markdown",
   "metadata": {},
   "source": [
    "`df_5`"
   ]
  },
  {
   "cell_type": "code",
   "execution_count": 52,
   "metadata": {},
   "outputs": [
    {
     "data": {
      "text/html": [
       "<div>\n",
       "<style scoped>\n",
       "    .dataframe tbody tr th:only-of-type {\n",
       "        vertical-align: middle;\n",
       "    }\n",
       "\n",
       "    .dataframe tbody tr th {\n",
       "        vertical-align: top;\n",
       "    }\n",
       "\n",
       "    .dataframe thead th {\n",
       "        text-align: right;\n",
       "    }\n",
       "</style>\n",
       "<table border=\"1\" class=\"dataframe\">\n",
       "  <thead>\n",
       "    <tr style=\"text-align: right;\">\n",
       "      <th></th>\n",
       "      <th>x1</th>\n",
       "      <th>x2</th>\n",
       "      <th>q1</th>\n",
       "      <th>q2</th>\n",
       "      <th>q3</th>\n",
       "      <th>q4</th>\n",
       "      <th>q5</th>\n",
       "      <th>continent</th>\n",
       "      <th>dept</th>\n",
       "      <th>company</th>\n",
       "    </tr>\n",
       "  </thead>\n",
       "  <tbody>\n",
       "    <tr>\n",
       "      <th>0</th>\n",
       "      <td>0.828952</td>\n",
       "      <td>-1.287727</td>\n",
       "      <td>0</td>\n",
       "      <td>0</td>\n",
       "      <td>0</td>\n",
       "      <td>1</td>\n",
       "      <td>0</td>\n",
       "      <td>Europe</td>\n",
       "      <td>IT</td>\n",
       "      <td>UpDog</td>\n",
       "    </tr>\n",
       "    <tr>\n",
       "      <th>1</th>\n",
       "      <td>-2.068668</td>\n",
       "      <td>-0.025076</td>\n",
       "      <td>1</td>\n",
       "      <td>0</td>\n",
       "      <td>1</td>\n",
       "      <td>1</td>\n",
       "      <td>0</td>\n",
       "      <td>South America</td>\n",
       "      <td>IT</td>\n",
       "      <td>UpDog</td>\n",
       "    </tr>\n",
       "    <tr>\n",
       "      <th>2</th>\n",
       "      <td>-0.466015</td>\n",
       "      <td>-0.515344</td>\n",
       "      <td>0</td>\n",
       "      <td>0</td>\n",
       "      <td>0</td>\n",
       "      <td>1</td>\n",
       "      <td>1</td>\n",
       "      <td>Africa</td>\n",
       "      <td>IT</td>\n",
       "      <td>Innovato</td>\n",
       "    </tr>\n",
       "  </tbody>\n",
       "</table>\n",
       "</div>"
      ],
      "text/plain": [
       "         x1        x2  q1  q2  q3  q4  q5      continent dept   company\n",
       "0  0.828952 -1.287727   0   0   0   1   0         Europe   IT     UpDog\n",
       "1 -2.068668 -0.025076   1   0   1   1   0  South America   IT     UpDog\n",
       "2 -0.466015 -0.515344   0   0   0   1   1         Africa   IT  Innovato"
      ]
     },
     "execution_count": 52,
     "metadata": {},
     "output_type": "execute_result"
    },
    {
     "data": {
      "application/javascript": [
       "\n",
       "            setTimeout(function() {\n",
       "                var nbb_cell_id = 52;\n",
       "                var nbb_unformatted_code = \"df_5.head(3)\";\n",
       "                var nbb_formatted_code = \"df_5.head(3)\";\n",
       "                var nbb_cells = Jupyter.notebook.get_cells();\n",
       "                for (var i = 0; i < nbb_cells.length; ++i) {\n",
       "                    if (nbb_cells[i].input_prompt_number == nbb_cell_id) {\n",
       "                        if (nbb_cells[i].get_text() == nbb_unformatted_code) {\n",
       "                             nbb_cells[i].set_text(nbb_formatted_code);\n",
       "                        }\n",
       "                        break;\n",
       "                    }\n",
       "                }\n",
       "            }, 500);\n",
       "            "
      ],
      "text/plain": [
       "<IPython.core.display.Javascript object>"
      ]
     },
     "metadata": {},
     "output_type": "display_data"
    }
   ],
   "source": [
    "df_5.head(3)"
   ]
  },
  {
   "cell_type": "code",
   "execution_count": 54,
   "metadata": {},
   "outputs": [
    {
     "data": {
      "text/plain": [
       "AffinityPropagation(affinity='precomputed', convergence_iter=15, copy=True,\n",
       "                    damping=0.5, max_iter=5000, preference=-4.7333866357803345,\n",
       "                    verbose=False)"
      ]
     },
     "execution_count": 54,
     "metadata": {},
     "output_type": "execute_result"
    },
    {
     "data": {
      "application/javascript": [
       "\n",
       "            setTimeout(function() {\n",
       "                var nbb_cell_id = 54;\n",
       "                var nbb_unformatted_code = \"# Computing a distance matrix of 5000 * 5000 is a lot\\ndf_sample = df_5.sample(500, random_state=42)\\ndist_mat = gower_matrix(df_sample)\\n\\naffinity_mat = -dist_mat\\n\\nclst = AffinityPropagation(\\n    affinity=\\\"precomputed\\\",\\n    preference=affinity_mat.min() * 5,\\n    max_iter=5000,\\n)\\nclst.fit(affinity_mat)\";\n",
       "                var nbb_formatted_code = \"# Computing a distance matrix of 5000 * 5000 is a lot\\ndf_sample = df_5.sample(500, random_state=42)\\ndist_mat = gower_matrix(df_sample)\\n\\naffinity_mat = -dist_mat\\n\\nclst = AffinityPropagation(\\n    affinity=\\\"precomputed\\\", preference=affinity_mat.min() * 5, max_iter=5000,\\n)\\nclst.fit(affinity_mat)\";\n",
       "                var nbb_cells = Jupyter.notebook.get_cells();\n",
       "                for (var i = 0; i < nbb_cells.length; ++i) {\n",
       "                    if (nbb_cells[i].input_prompt_number == nbb_cell_id) {\n",
       "                        if (nbb_cells[i].get_text() == nbb_unformatted_code) {\n",
       "                             nbb_cells[i].set_text(nbb_formatted_code);\n",
       "                        }\n",
       "                        break;\n",
       "                    }\n",
       "                }\n",
       "            }, 500);\n",
       "            "
      ],
      "text/plain": [
       "<IPython.core.display.Javascript object>"
      ]
     },
     "metadata": {},
     "output_type": "display_data"
    }
   ],
   "source": [
    "# Computing a distance matrix of 5000 * 5000 is a lot\n",
    "df_sample = df_5.sample(500, random_state=42)\n",
    "dist_mat = gower_matrix(df_sample)\n",
    "\n",
    "affinity_mat = -dist_mat\n",
    "\n",
    "clst = AffinityPropagation(\n",
    "    affinity=\"precomputed\", preference=affinity_mat.min() * 5, max_iter=5000,\n",
    ")\n",
    "clst.fit(affinity_mat)"
   ]
  },
  {
   "cell_type": "code",
   "execution_count": 55,
   "metadata": {},
   "outputs": [
    {
     "data": {
      "text/html": [
       "<div>\n",
       "<style scoped>\n",
       "    .dataframe tbody tr th:only-of-type {\n",
       "        vertical-align: middle;\n",
       "    }\n",
       "\n",
       "    .dataframe tbody tr th {\n",
       "        vertical-align: top;\n",
       "    }\n",
       "\n",
       "    .dataframe thead th {\n",
       "        text-align: right;\n",
       "    }\n",
       "</style>\n",
       "<table border=\"1\" class=\"dataframe\">\n",
       "  <thead>\n",
       "    <tr style=\"text-align: right;\">\n",
       "      <th></th>\n",
       "      <th>x1</th>\n",
       "      <th>x2</th>\n",
       "      <th>q1</th>\n",
       "      <th>q2</th>\n",
       "      <th>q3</th>\n",
       "      <th>q4</th>\n",
       "      <th>q5</th>\n",
       "      <th>continent</th>\n",
       "      <th>dept</th>\n",
       "      <th>company</th>\n",
       "    </tr>\n",
       "  </thead>\n",
       "  <tbody>\n",
       "    <tr>\n",
       "      <th>3181</th>\n",
       "      <td>0.772538</td>\n",
       "      <td>0.650680</td>\n",
       "      <td>0</td>\n",
       "      <td>1</td>\n",
       "      <td>1</td>\n",
       "      <td>1</td>\n",
       "      <td>0</td>\n",
       "      <td>Europe</td>\n",
       "      <td>Marketing</td>\n",
       "      <td>UpDog</td>\n",
       "    </tr>\n",
       "    <tr>\n",
       "      <th>3525</th>\n",
       "      <td>0.541429</td>\n",
       "      <td>0.586474</td>\n",
       "      <td>0</td>\n",
       "      <td>1</td>\n",
       "      <td>0</td>\n",
       "      <td>1</td>\n",
       "      <td>0</td>\n",
       "      <td>Africa</td>\n",
       "      <td>Sales</td>\n",
       "      <td>Innovato</td>\n",
       "    </tr>\n",
       "    <tr>\n",
       "      <th>4595</th>\n",
       "      <td>0.456863</td>\n",
       "      <td>0.446442</td>\n",
       "      <td>1</td>\n",
       "      <td>1</td>\n",
       "      <td>0</td>\n",
       "      <td>1</td>\n",
       "      <td>0</td>\n",
       "      <td>South America</td>\n",
       "      <td>Marketing</td>\n",
       "      <td>UpDog</td>\n",
       "    </tr>\n",
       "    <tr>\n",
       "      <th>4264</th>\n",
       "      <td>0.482000</td>\n",
       "      <td>1.269947</td>\n",
       "      <td>0</td>\n",
       "      <td>0</td>\n",
       "      <td>1</td>\n",
       "      <td>0</td>\n",
       "      <td>1</td>\n",
       "      <td>Africa</td>\n",
       "      <td>IT</td>\n",
       "      <td>Innovato</td>\n",
       "    </tr>\n",
       "    <tr>\n",
       "      <th>3106</th>\n",
       "      <td>0.630786</td>\n",
       "      <td>0.866244</td>\n",
       "      <td>1</td>\n",
       "      <td>0</td>\n",
       "      <td>1</td>\n",
       "      <td>1</td>\n",
       "      <td>0</td>\n",
       "      <td>Asia</td>\n",
       "      <td>IT</td>\n",
       "      <td>Innovato</td>\n",
       "    </tr>\n",
       "    <tr>\n",
       "      <th>2836</th>\n",
       "      <td>0.824800</td>\n",
       "      <td>0.685079</td>\n",
       "      <td>1</td>\n",
       "      <td>1</td>\n",
       "      <td>1</td>\n",
       "      <td>1</td>\n",
       "      <td>0</td>\n",
       "      <td>Asia</td>\n",
       "      <td>Sales</td>\n",
       "      <td>Rop</td>\n",
       "    </tr>\n",
       "    <tr>\n",
       "      <th>2053</th>\n",
       "      <td>-0.234409</td>\n",
       "      <td>-0.630190</td>\n",
       "      <td>1</td>\n",
       "      <td>0</td>\n",
       "      <td>1</td>\n",
       "      <td>0</td>\n",
       "      <td>0</td>\n",
       "      <td>South America</td>\n",
       "      <td>Accounting</td>\n",
       "      <td>Rop</td>\n",
       "    </tr>\n",
       "    <tr>\n",
       "      <th>4686</th>\n",
       "      <td>-0.237691</td>\n",
       "      <td>-0.570702</td>\n",
       "      <td>0</td>\n",
       "      <td>0</td>\n",
       "      <td>0</td>\n",
       "      <td>0</td>\n",
       "      <td>0</td>\n",
       "      <td>Europe</td>\n",
       "      <td>IT</td>\n",
       "      <td>UpDog</td>\n",
       "    </tr>\n",
       "    <tr>\n",
       "      <th>889</th>\n",
       "      <td>-0.304057</td>\n",
       "      <td>-0.434887</td>\n",
       "      <td>0</td>\n",
       "      <td>0</td>\n",
       "      <td>0</td>\n",
       "      <td>1</td>\n",
       "      <td>1</td>\n",
       "      <td>Africa</td>\n",
       "      <td>Accounting</td>\n",
       "      <td>Rop</td>\n",
       "    </tr>\n",
       "  </tbody>\n",
       "</table>\n",
       "</div>"
      ],
      "text/plain": [
       "            x1        x2  q1  q2  q3  q4  q5      continent        dept  \\\n",
       "3181  0.772538  0.650680   0   1   1   1   0         Europe   Marketing   \n",
       "3525  0.541429  0.586474   0   1   0   1   0         Africa       Sales   \n",
       "4595  0.456863  0.446442   1   1   0   1   0  South America   Marketing   \n",
       "4264  0.482000  1.269947   0   0   1   0   1         Africa          IT   \n",
       "3106  0.630786  0.866244   1   0   1   1   0           Asia          IT   \n",
       "2836  0.824800  0.685079   1   1   1   1   0           Asia       Sales   \n",
       "2053 -0.234409 -0.630190   1   0   1   0   0  South America  Accounting   \n",
       "4686 -0.237691 -0.570702   0   0   0   0   0         Europe          IT   \n",
       "889  -0.304057 -0.434887   0   0   0   1   1         Africa  Accounting   \n",
       "\n",
       "       company  \n",
       "3181     UpDog  \n",
       "3525  Innovato  \n",
       "4595     UpDog  \n",
       "4264  Innovato  \n",
       "3106  Innovato  \n",
       "2836       Rop  \n",
       "2053       Rop  \n",
       "4686     UpDog  \n",
       "889        Rop  "
      ]
     },
     "execution_count": 55,
     "metadata": {},
     "output_type": "execute_result"
    },
    {
     "data": {
      "application/javascript": [
       "\n",
       "            setTimeout(function() {\n",
       "                var nbb_cell_id = 55;\n",
       "                var nbb_unformatted_code = \"df_sample.iloc[clst.cluster_centers_indices_, :]\";\n",
       "                var nbb_formatted_code = \"df_sample.iloc[clst.cluster_centers_indices_, :]\";\n",
       "                var nbb_cells = Jupyter.notebook.get_cells();\n",
       "                for (var i = 0; i < nbb_cells.length; ++i) {\n",
       "                    if (nbb_cells[i].input_prompt_number == nbb_cell_id) {\n",
       "                        if (nbb_cells[i].get_text() == nbb_unformatted_code) {\n",
       "                             nbb_cells[i].set_text(nbb_formatted_code);\n",
       "                        }\n",
       "                        break;\n",
       "                    }\n",
       "                }\n",
       "            }, 500);\n",
       "            "
      ],
      "text/plain": [
       "<IPython.core.display.Javascript object>"
      ]
     },
     "metadata": {},
     "output_type": "display_data"
    }
   ],
   "source": [
    "df_sample.iloc[clst.cluster_centers_indices_, :]"
   ]
  },
  {
   "cell_type": "code",
   "execution_count": null,
   "metadata": {},
   "outputs": [],
   "source": []
  },
  {
   "cell_type": "code",
   "execution_count": null,
   "metadata": {},
   "outputs": [],
   "source": []
  },
  {
   "cell_type": "code",
   "execution_count": null,
   "metadata": {},
   "outputs": [],
   "source": []
  }
 ],
 "metadata": {
  "kernelspec": {
   "display_name": "Python 3",
   "language": "python",
   "name": "python3"
  },
  "language_info": {
   "codemirror_mode": {
    "name": "ipython",
    "version": 3
   },
   "file_extension": ".py",
   "mimetype": "text/x-python",
   "name": "python",
   "nbconvert_exporter": "python",
   "pygments_lexer": "ipython3",
   "version": "3.7.6"
  }
 },
 "nbformat": 4,
 "nbformat_minor": 2
}
