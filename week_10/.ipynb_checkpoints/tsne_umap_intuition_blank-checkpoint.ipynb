{
 "cells": [
  {
   "cell_type": "code",
   "execution_count": null,
   "metadata": {},
   "outputs": [],
   "source": [
    "%reload_ext nb_black"
   ]
  },
  {
   "cell_type": "code",
   "execution_count": null,
   "metadata": {},
   "outputs": [],
   "source": [
    "import pandas as pd\n",
    "import numpy as np\n",
    "\n",
    "from scipy.spatial.distance import pdist, squareform\n",
    "\n",
    "from sklearn.datasets import make_blobs\n",
    "from sklearn.manifold import TSNE\n",
    "\n",
    "import seaborn as sns\n",
    "import matplotlib.pyplot as plt\n",
    "\n",
    "%matplotlib inline"
   ]
  },
  {
   "cell_type": "markdown",
   "metadata": {},
   "source": [
    "Helper functions"
   ]
  },
  {
   "cell_type": "code",
   "execution_count": null,
   "metadata": {},
   "outputs": [],
   "source": [
    "def min_max_scale(x):\n",
    "    \"\"\"Does same thing as sklearn.preprocessing.MinMaxScaler().fit_transform(x)\"\"\"\n",
    "    return (x - x.min()) / (x.max() - x.min())\n",
    "\n",
    "\n",
    "def calc_dist_df(X, metric=\"euclidean\"):\n",
    "    \"\"\"Calc square distance matrix with pdist and convert to a dataframe\"\"\"\n",
    "    dist_mat = squareform(pdist(X, metric=metric))\n",
    "    dist_df = pd.DataFrame(dist_mat, index=X.index, columns=X.index)\n",
    "\n",
    "    return dist_df\n",
    "\n",
    "\n",
    "def plot_dist_compare(X_hi_d, X_lo_d):\n",
    "    \"\"\"Given 2 input data samples, plot heatmaps of their distance matrices side by side\"\"\"\n",
    "    dist_df_hi_d = calc_dist_df(X_hi_d)\n",
    "    dist_df_lo_d = calc_dist_df(X_lo_d)\n",
    "\n",
    "    fig, axes = plt.subplots(1, 2, figsize=(10, 5))\n",
    "\n",
    "    sns.heatmap(dist_df_hi_d, ax=axes[0], cbar=False)\n",
    "    axes[0].set_title(\"High-d\")\n",
    "\n",
    "    sns.heatmap(dist_df_lo_d, ax=axes[1], cbar=False)\n",
    "    axes[1].set_title(\"Low-d\")\n",
    "\n",
    "    plt.suptitle(\"Comparing Distances in High Dim vs Low Dim\\n(darker means closer)\")\n",
    "\n",
    "    plt.tight_layout()"
   ]
  },
  {
   "cell_type": "code",
   "execution_count": null,
   "metadata": {},
   "outputs": [],
   "source": [
    "def plot_scatter_compare():\n",
    "    fig, axes = plt.subplots(1, 2, figsize=(10, 5))\n",
    "\n",
    "    sns.scatterplot(\n",
    "        \"x1\", \"x2\", hue=\"color\", data=df_small, hue_order=hue_order, ax=axes[0]\n",
    "    )\n",
    "    axes[0].legend().remove()\n",
    "    axes[0].set_title(\"Input Data\")\n",
    "\n",
    "    sns.scatterplot(\n",
    "        \"one_d\", \"zero\", hue=\"color\", data=df_small, hue_order=hue_order, ax=axes[1]\n",
    "    )\n",
    "    axes[1].legend().remove()\n",
    "    axes[1].set_title(\"Reduced Data\")\n",
    "    axes[1].set_yticks([])\n",
    "    axes[1].set_ylabel(\"\")"
   ]
  },
  {
   "cell_type": "markdown",
   "metadata": {},
   "source": [
    "Make up some data to play with."
   ]
  },
  {
   "cell_type": "code",
   "execution_count": null,
   "metadata": {},
   "outputs": [],
   "source": [
    "X, y = make_blobs(n_samples=300, n_features=2, centers=4, random_state=42)\n",
    "\n",
    "# Full data\n",
    "df = pd.DataFrame(X, columns=[\"x1\", \"x2\"])\n",
    "df[\"label\"] = y\n",
    "\n",
    "color_map = {0: \"blue\", 1: \"orange\", 2: \"green\", 3: \"red\"}\n",
    "hue_order = list(color_map.values())\n",
    "df[\"color\"] = df[\"label\"].replace({0: \"blue\", 1: \"orange\", 2: \"green\", 3: \"red\"})\n",
    "df[\"zero\"] = 0\n",
    "\n",
    "# Sample for demo\n",
    "df_small = df.sample(8, random_state=1337)\n",
    "df_small = df_small.sort_values(\"color\")\n",
    "df_small = df_small.reset_index(drop=True)\n",
    "df_small.index = df_small[\"color\"] + \"_\" + df_small.index.astype(str)"
   ]
  },
  {
   "cell_type": "markdown",
   "metadata": {},
   "source": [
    "Full dataset that we'll get to:"
   ]
  },
  {
   "cell_type": "code",
   "execution_count": null,
   "metadata": {},
   "outputs": [],
   "source": [
    "sns.scatterplot(\"x1\", \"x2\", hue=\"color\", data=df, hue_order=hue_order)\n",
    "plt.legend().remove()\n",
    "plt.show()"
   ]
  },
  {
   "cell_type": "markdown",
   "metadata": {},
   "source": [
    "More manageable data size to visualize pairwise distances:"
   ]
  },
  {
   "cell_type": "code",
   "execution_count": null,
   "metadata": {},
   "outputs": [],
   "source": [
    "sns.scatterplot(\"x1\", \"x2\", hue=\"color\", data=df_small, hue_order=hue_order)\n",
    "plt.legend().remove()\n",
    "plt.show()"
   ]
  },
  {
   "cell_type": "markdown",
   "metadata": {},
   "source": [
    "## t-SNE and UMAP High Level Steps\n",
    "\n",
    "#### Very very high level:\n",
    "\n",
    "1. Make a bad guess of how to place points.\n",
    "2. Compare low-d distances to high-d distances.\n",
    "3. Update guess of how to place points until high & low dim distances are similar.\n",
    "\n",
    "---\n",
    "\n",
    "#### A little more detail:\n",
    "\n",
    "1. Measure the distance/similarity between points in high dimension.\n",
    "2. Make a (bad) guess at the locations of the points in low-d.\n",
    "3. Measure the distance/similarity between points in low-d.\n",
    "4. Compare the distances between high and low dimensions (calculated in 1 and 3).  Use a measure of how good we did (this is called the *loss*).\n",
    "5. Nudge low-d points to make the distances more similar between high and low dimensions.\n",
    "6. Repeat steps 3-5 until it's as good as it's gonna be."
   ]
  },
  {
   "cell_type": "markdown",
   "metadata": {},
   "source": [
    "### 1. Measure the distance/similarity between points in high dimension\n",
    "\n",
    "Calculate the distance between each observation and display the info:\n",
    "* using `.style.background_gradient` with `axis=None`\n",
    "* using `sns.heatmap`"
   ]
  },
  {
   "cell_type": "code",
   "execution_count": null,
   "metadata": {},
   "outputs": [],
   "source": []
  },
  {
   "cell_type": "markdown",
   "metadata": {},
   "source": [
    "### 2. Make a (bad) guess at the locations of the points in low-d\n",
    "\n",
    "Here, we'll just randomly place the points in 1d space."
   ]
  },
  {
   "cell_type": "code",
   "execution_count": null,
   "metadata": {},
   "outputs": [],
   "source": [
    "np.random.seed(42)\n",
    "\n",
    "df_small[\"one_d\"] = np.random.normal(size=df_small.shape[0])\n",
    "\n",
    "plot_scatter_compare()\n",
    "plt.show()"
   ]
  },
  {
   "cell_type": "markdown",
   "metadata": {},
   "source": [
    "### 3. Measure the distance/similarity between points in low-d.\n",
    "\n",
    "Repeating distance calc from before."
   ]
  },
  {
   "cell_type": "code",
   "execution_count": null,
   "metadata": {},
   "outputs": [],
   "source": [
    "dist_mat = squareform(pdist(df_small[[\"one_d\"]]))\n",
    "\n",
    "dist_df_1d = pd.DataFrame(dist_mat, index=df_small.index, columns=df_small.index)\n",
    "dist_df_1d.style.background_gradient(axis=None)"
   ]
  },
  {
   "cell_type": "markdown",
   "metadata": {},
   "source": [
    "### 4. Compare the distances between high and low dimensions. Use a measure of how good we did (this is called the loss).\n",
    "\n",
    "We won't use an actual loss measure for this demo.  We'll use heatmaps and judge how well they match.  If we do perfectly, the heatmaps will be identical."
   ]
  },
  {
   "cell_type": "code",
   "execution_count": null,
   "metadata": {},
   "outputs": [],
   "source": [
    "plot_dist_compare(df_small[[\"x1\", \"x2\"]], df_small[[\"one_d\"]])\n",
    "plt.show()"
   ]
  },
  {
   "cell_type": "markdown",
   "metadata": {},
   "source": [
    "If you wanted to make up a loss, maybe you normalize the distance matrices and calculate the difference between the 2."
   ]
  },
  {
   "cell_type": "code",
   "execution_count": null,
   "metadata": {},
   "outputs": [],
   "source": [
    "def made_up_loss(X1, X2):\n",
    "    # Calc square dist matrix for each data set\n",
    "    dist_df_1 = calc_dist_df(X1)\n",
    "    dist_df_2 = calc_dist_df(X2)\n",
    "\n",
    "    # Scale to have max distance be 1 and min distance be 0\n",
    "    dist_df_1 = min_max_scale(dist_df_1)\n",
    "    dist_df_2 = min_max_scale(dist_df_2)\n",
    "\n",
    "    # Find the difference between the 2\n",
    "    diffs = dist_df_1 - dist_df_2\n",
    "\n",
    "    # Taking absolute value of differences and summing\n",
    "    # aka: calculating L1 distance\n",
    "    return diffs.abs().sum().sum()"
   ]
  },
  {
   "cell_type": "code",
   "execution_count": null,
   "metadata": {},
   "outputs": [],
   "source": [
    "made_up_loss(df_small[[\"x1\", \"x2\"]], df_small[[\"one_d\"]])"
   ]
  },
  {
   "cell_type": "markdown",
   "metadata": {},
   "source": [
    "### 5. Nudge low-d points to make the distances more similar between high and low dimensions.\n",
    "\n",
    "For this demo, we're not going to intelligently nudge the points in the right direction.  Instead, we'll randomly generate locations again with a preset seed that I know works better."
   ]
  },
  {
   "cell_type": "code",
   "execution_count": null,
   "metadata": {},
   "outputs": [],
   "source": [
    "np.random.seed(8)\n",
    "\n",
    "df_small[\"one_d\"] = np.random.normal(size=df_small.shape[0])\n",
    "\n",
    "plot_scatter_compare()\n",
    "plt.show()"
   ]
  },
  {
   "cell_type": "markdown",
   "metadata": {},
   "source": [
    "### Repeat 3 & 4:\n",
    "  * 3. Measure dist in low-d.\n",
    "  * 4. Compare to hi-d"
   ]
  },
  {
   "cell_type": "code",
   "execution_count": null,
   "metadata": {},
   "outputs": [],
   "source": [
    "plot_dist_compare(df_small[[\"x1\", \"x2\"]], df_small[[\"one_d\"]])"
   ]
  },
  {
   "cell_type": "code",
   "execution_count": null,
   "metadata": {},
   "outputs": [],
   "source": [
    "made_up_loss(df_small[[\"x1\", \"x2\"]], df_small[[\"one_d\"]])"
   ]
  },
  {
   "cell_type": "markdown",
   "metadata": {},
   "source": [
    "### Repeat 5:\n",
    "  * Nudge points\n",
    "  \n",
    "Reminder that we are not actually doing t-SNE or UMAP here.  They both would intelligently nudge the points.  I just kept re-running this random placement untils the results were good enough."
   ]
  },
  {
   "cell_type": "code",
   "execution_count": null,
   "metadata": {},
   "outputs": [],
   "source": [
    "np.random.seed(444)\n",
    "\n",
    "df_small[\"one_d\"] = np.random.normal(size=df_small.shape[0])\n",
    "\n",
    "plot_scatter_compare()\n",
    "plt.show()"
   ]
  },
  {
   "cell_type": "markdown",
   "metadata": {},
   "source": [
    "### Repeat:\n",
    "  * 3. Measure dist in low-d.\n",
    "  * 4. Compare to hi-d"
   ]
  },
  {
   "cell_type": "code",
   "execution_count": null,
   "metadata": {},
   "outputs": [],
   "source": [
    "plot_dist_compare(df_small[[\"x1\", \"x2\"]], df_small[[\"one_d\"]])"
   ]
  },
  {
   "cell_type": "code",
   "execution_count": null,
   "metadata": {},
   "outputs": [],
   "source": [
    "made_up_loss(df_small[[\"x1\", \"x2\"]], df_small[[\"one_d\"]])"
   ]
  },
  {
   "cell_type": "markdown",
   "metadata": {},
   "source": [
    "### Global vs Local Structure\n",
    "\n",
    "The main thing we'll be managing with both of these algorithms (t-SNE & UMAP) is how much they should care about global structure.  Should they just focus on preserving local neighborhoods or should they try and preserve everything?\n",
    "\n",
    "In our example, preserving local neighborhoods means that all the colors stay togehter.\n",
    "\n",
    "In our example, preserving global structure means the clusters should stay about the same distance apart and this might come at the cost of mixing up clusters that are close to each other.\n",
    "\n",
    "---\n",
    "\n",
    "Below shows an arrangement of our points that is a little more focused on global structure.  Notice that the red and blue now overlap, but in the original data data the red and blue data were close to each other.\n",
    "\n",
    "Being more global means that you consider people further away from you to be your neighbors.\n",
    "\n",
    "The closest cluster to red/blue in the original data is orange and green is the furthest from red/blue.  Both of these more global relationships are reflected in the reduction."
   ]
  },
  {
   "cell_type": "code",
   "execution_count": null,
   "metadata": {},
   "outputs": [],
   "source": [
    "np.random.seed(best_seed)\n",
    "\n",
    "df_small[\"one_d\"] = np.random.normal(size=df_small.shape[0])\n",
    "\n",
    "plot_scatter_compare()\n",
    "plt.show()"
   ]
  },
  {
   "cell_type": "markdown",
   "metadata": {},
   "source": [
    "## Actually applying TSNE"
   ]
  },
  {
   "cell_type": "code",
   "execution_count": null,
   "metadata": {},
   "outputs": [],
   "source": [
    "df.head()"
   ]
  },
  {
   "cell_type": "markdown",
   "metadata": {},
   "source": [
    "* Group 1: only use `perplexity` values in the range [1, 20]\n",
    "* Group 2: only use `perplexity` values in the range [41, 60]"
   ]
  },
  {
   "cell_type": "markdown",
   "metadata": {},
   "source": [
    "* Create a scatter plot of `df`.\n",
    "    * Use `x1` as the x-axis, `x2` as the y-axis, & color by the `color` column.\n",
    "* Apply `TSNE` to `df` (only use the `x1` and `x2` columns).\n",
    "    * set `n_components` to 1 to get 1 d data out\n",
    "    * set the `perplexity` to manage the trade-off between global vs. local\n",
    "* Save the transformed 1-dimensional data from `TSNE` as a new column in `df`\n",
    "* Recreate a scatter plot of `df`.\n",
    "    * Use your newly added column as the x-axis, the `zero` column as the y-axis, & color by the `color` column.\n",
    "    \n",
    "    \n",
    "* How do you think it did?\n",
    "    * How well did it preserve local structure?\n",
    "    * How well did it preserve global structure?"
   ]
  },
  {
   "cell_type": "code",
   "execution_count": null,
   "metadata": {},
   "outputs": [],
   "source": [
    "# Create a scatterplot of df\n",
    "# Use x1 as the x-axis, \n",
    "#     x2 as the y-axis, & \n",
    "#     color by the color column."
   ]
  },
  {
   "cell_type": "code",
   "execution_count": null,
   "metadata": {},
   "outputs": [],
   "source": [
    "# Apply TSNE to df (only use the x1 and x2 columns)\n",
    "# Save the transformed 1-dimensional data from TSNE as a new column in df"
   ]
  },
  {
   "cell_type": "code",
   "execution_count": null,
   "metadata": {},
   "outputs": [],
   "source": [
    "# Recreate a scatter plot of df\n",
    "# Use your newly added column as the x-axis,\n",
    "#     the zero column as the y-axis, &\n",
    "#     color by the color column."
   ]
  },
  {
   "cell_type": "code",
   "execution_count": null,
   "metadata": {},
   "outputs": [],
   "source": [
    "# How do you think it did?\n",
    "#    * How well did it preserve local structure?\n",
    "#    * How well did it preserve global structure?"
   ]
  }
 ],
 "metadata": {
  "kernelspec": {
   "display_name": "Python 3",
   "language": "python",
   "name": "python3"
  },
  "language_info": {
   "codemirror_mode": {
    "name": "ipython",
    "version": 3
   },
   "file_extension": ".py",
   "mimetype": "text/x-python",
   "name": "python",
   "nbconvert_exporter": "python",
   "pygments_lexer": "ipython3",
   "version": "3.7.6"
  }
 },
 "nbformat": 4,
 "nbformat_minor": 2
}
