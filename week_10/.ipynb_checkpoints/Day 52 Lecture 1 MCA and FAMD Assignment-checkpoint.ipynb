{
 "cells": [
  {
   "cell_type": "code",
   "execution_count": 1,
   "metadata": {},
   "outputs": [
    {
     "data": {
      "application/javascript": [
       "\n",
       "            setTimeout(function() {\n",
       "                var nbb_cell_id = 1;\n",
       "                var nbb_unformatted_code = \"%reload_ext nb_black\";\n",
       "                var nbb_formatted_code = \"%reload_ext nb_black\";\n",
       "                var nbb_cells = Jupyter.notebook.get_cells();\n",
       "                for (var i = 0; i < nbb_cells.length; ++i) {\n",
       "                    if (nbb_cells[i].input_prompt_number == nbb_cell_id) {\n",
       "                        if (nbb_cells[i].get_text() == nbb_unformatted_code) {\n",
       "                             nbb_cells[i].set_text(nbb_formatted_code);\n",
       "                        }\n",
       "                        break;\n",
       "                    }\n",
       "                }\n",
       "            }, 500);\n",
       "            "
      ],
      "text/plain": [
       "<IPython.core.display.Javascript object>"
      ]
     },
     "metadata": {},
     "output_type": "display_data"
    }
   ],
   "source": [
    "%reload_ext nb_black"
   ]
  },
  {
   "cell_type": "markdown",
   "metadata": {
    "id": "CPCRE6xVXNyj"
   },
   "source": [
    "# Dimensionality Reduction: MCA & FAMD Assignment"
   ]
  },
  {
   "cell_type": "code",
   "execution_count": 2,
   "metadata": {
    "id": "W7S1wkulXNyn"
   },
   "outputs": [
    {
     "data": {
      "application/javascript": [
       "\n",
       "            setTimeout(function() {\n",
       "                var nbb_cell_id = 2;\n",
       "                var nbb_unformatted_code = \"import prince\\nimport pandas as pd\";\n",
       "                var nbb_formatted_code = \"import prince\\nimport pandas as pd\";\n",
       "                var nbb_cells = Jupyter.notebook.get_cells();\n",
       "                for (var i = 0; i < nbb_cells.length; ++i) {\n",
       "                    if (nbb_cells[i].input_prompt_number == nbb_cell_id) {\n",
       "                        if (nbb_cells[i].get_text() == nbb_unformatted_code) {\n",
       "                             nbb_cells[i].set_text(nbb_formatted_code);\n",
       "                        }\n",
       "                        break;\n",
       "                    }\n",
       "                }\n",
       "            }, 500);\n",
       "            "
      ],
      "text/plain": [
       "<IPython.core.display.Javascript object>"
      ]
     },
     "metadata": {},
     "output_type": "display_data"
    }
   ],
   "source": [
    "import prince\n",
    "import pandas as pd"
   ]
  },
  {
   "cell_type": "markdown",
   "metadata": {
    "id": "pVyxhr_2XNyy"
   },
   "source": [
    "### Import the HR data set "
   ]
  },
  {
   "cell_type": "code",
   "execution_count": 5,
   "metadata": {
    "id": "Z_mxW5SlXNy0"
   },
   "outputs": [
    {
     "data": {
      "text/html": [
       "<div>\n",
       "<style scoped>\n",
       "    .dataframe tbody tr th:only-of-type {\n",
       "        vertical-align: middle;\n",
       "    }\n",
       "\n",
       "    .dataframe tbody tr th {\n",
       "        vertical-align: top;\n",
       "    }\n",
       "\n",
       "    .dataframe thead th {\n",
       "        text-align: right;\n",
       "    }\n",
       "</style>\n",
       "<table border=\"1\" class=\"dataframe\">\n",
       "  <thead>\n",
       "    <tr style=\"text-align: right;\">\n",
       "      <th></th>\n",
       "      <th>Age</th>\n",
       "      <th>Pay Rate</th>\n",
       "      <th>State</th>\n",
       "      <th>Zip</th>\n",
       "      <th>Sex</th>\n",
       "      <th>MaritalDesc</th>\n",
       "      <th>CitizenDesc</th>\n",
       "      <th>Hispanic/Latino</th>\n",
       "      <th>RaceDesc</th>\n",
       "      <th>Days Employed</th>\n",
       "      <th>Reason For Term</th>\n",
       "      <th>Employment Status</th>\n",
       "      <th>Department</th>\n",
       "      <th>Position</th>\n",
       "      <th>Manager Name</th>\n",
       "      <th>Employee Source</th>\n",
       "      <th>Performance Score</th>\n",
       "    </tr>\n",
       "  </thead>\n",
       "  <tbody>\n",
       "    <tr>\n",
       "      <th>0</th>\n",
       "      <td>30</td>\n",
       "      <td>28.50</td>\n",
       "      <td>MA</td>\n",
       "      <td>1450</td>\n",
       "      <td>Female</td>\n",
       "      <td>Married</td>\n",
       "      <td>US Citizen</td>\n",
       "      <td>No</td>\n",
       "      <td>Black or African American</td>\n",
       "      <td>3317</td>\n",
       "      <td>N/A - still employed</td>\n",
       "      <td>Active</td>\n",
       "      <td>Admin Offices</td>\n",
       "      <td>Accountant I</td>\n",
       "      <td>Brandon R. LeBlanc</td>\n",
       "      <td>Diversity Job Fair</td>\n",
       "      <td>Fully Meets</td>\n",
       "    </tr>\n",
       "    <tr>\n",
       "      <th>1</th>\n",
       "      <td>34</td>\n",
       "      <td>23.00</td>\n",
       "      <td>MA</td>\n",
       "      <td>1460</td>\n",
       "      <td>Male</td>\n",
       "      <td>Divorced</td>\n",
       "      <td>US Citizen</td>\n",
       "      <td>No</td>\n",
       "      <td>Black or African American</td>\n",
       "      <td>1420</td>\n",
       "      <td>N/A - still employed</td>\n",
       "      <td>Active</td>\n",
       "      <td>Admin Offices</td>\n",
       "      <td>Accountant I</td>\n",
       "      <td>Brandon R. LeBlanc</td>\n",
       "      <td>Website Banner Ads</td>\n",
       "      <td>Fully Meets</td>\n",
       "    </tr>\n",
       "    <tr>\n",
       "      <th>2</th>\n",
       "      <td>31</td>\n",
       "      <td>29.00</td>\n",
       "      <td>MA</td>\n",
       "      <td>2703</td>\n",
       "      <td>Male</td>\n",
       "      <td>Single</td>\n",
       "      <td>US Citizen</td>\n",
       "      <td>No</td>\n",
       "      <td>White</td>\n",
       "      <td>1154</td>\n",
       "      <td>N/A - still employed</td>\n",
       "      <td>Active</td>\n",
       "      <td>Admin Offices</td>\n",
       "      <td>Accountant I</td>\n",
       "      <td>Brandon R. LeBlanc</td>\n",
       "      <td>Internet Search</td>\n",
       "      <td>Fully Meets</td>\n",
       "    </tr>\n",
       "    <tr>\n",
       "      <th>3</th>\n",
       "      <td>32</td>\n",
       "      <td>21.50</td>\n",
       "      <td>MA</td>\n",
       "      <td>2170</td>\n",
       "      <td>Female</td>\n",
       "      <td>Married</td>\n",
       "      <td>US Citizen</td>\n",
       "      <td>No</td>\n",
       "      <td>White</td>\n",
       "      <td>58</td>\n",
       "      <td>N/A - still employed</td>\n",
       "      <td>Active</td>\n",
       "      <td>Admin Offices</td>\n",
       "      <td>Administrative Assistant</td>\n",
       "      <td>Brandon R. LeBlanc</td>\n",
       "      <td>Pay Per Click - Google</td>\n",
       "      <td>N/A- too early to review</td>\n",
       "    </tr>\n",
       "    <tr>\n",
       "      <th>4</th>\n",
       "      <td>30</td>\n",
       "      <td>16.56</td>\n",
       "      <td>MA</td>\n",
       "      <td>2330</td>\n",
       "      <td>Female</td>\n",
       "      <td>Single</td>\n",
       "      <td>US Citizen</td>\n",
       "      <td>No</td>\n",
       "      <td>White</td>\n",
       "      <td>940</td>\n",
       "      <td>N/A - still employed</td>\n",
       "      <td>Active</td>\n",
       "      <td>Admin Offices</td>\n",
       "      <td>Administrative Assistant</td>\n",
       "      <td>Brandon R. LeBlanc</td>\n",
       "      <td>Website Banner Ads</td>\n",
       "      <td>N/A- too early to review</td>\n",
       "    </tr>\n",
       "  </tbody>\n",
       "</table>\n",
       "</div>"
      ],
      "text/plain": [
       "   Age  Pay Rate State   Zip     Sex MaritalDesc CitizenDesc Hispanic/Latino  \\\n",
       "0   30     28.50    MA  1450  Female     Married  US Citizen              No   \n",
       "1   34     23.00    MA  1460    Male    Divorced  US Citizen              No   \n",
       "2   31     29.00    MA  2703    Male      Single  US Citizen              No   \n",
       "3   32     21.50    MA  2170  Female     Married  US Citizen              No   \n",
       "4   30     16.56    MA  2330  Female      Single  US Citizen              No   \n",
       "\n",
       "                    RaceDesc  Days Employed       Reason For Term  \\\n",
       "0  Black or African American           3317  N/A - still employed   \n",
       "1  Black or African American           1420  N/A - still employed   \n",
       "2                      White           1154  N/A - still employed   \n",
       "3                      White             58  N/A - still employed   \n",
       "4                      White            940  N/A - still employed   \n",
       "\n",
       "  Employment Status     Department                  Position  \\\n",
       "0            Active  Admin Offices              Accountant I   \n",
       "1            Active  Admin Offices              Accountant I   \n",
       "2            Active  Admin Offices              Accountant I   \n",
       "3            Active  Admin Offices  Administrative Assistant   \n",
       "4            Active  Admin Offices  Administrative Assistant   \n",
       "\n",
       "         Manager Name         Employee Source         Performance Score  \n",
       "0  Brandon R. LeBlanc      Diversity Job Fair               Fully Meets  \n",
       "1  Brandon R. LeBlanc      Website Banner Ads               Fully Meets  \n",
       "2  Brandon R. LeBlanc         Internet Search               Fully Meets  \n",
       "3  Brandon R. LeBlanc  Pay Per Click - Google  N/A- too early to review  \n",
       "4  Brandon R. LeBlanc      Website Banner Ads  N/A- too early to review  "
      ]
     },
     "execution_count": 5,
     "metadata": {},
     "output_type": "execute_result"
    },
    {
     "data": {
      "application/javascript": [
       "\n",
       "            setTimeout(function() {\n",
       "                var nbb_cell_id = 5;\n",
       "                var nbb_unformatted_code = \"data_url = \\\"data/hr_dataset.csv\\\"\\ndf = pd.read_csv(data_url)\\ndf.head()\";\n",
       "                var nbb_formatted_code = \"data_url = \\\"data/hr_dataset.csv\\\"\\ndf = pd.read_csv(data_url)\\ndf.head()\";\n",
       "                var nbb_cells = Jupyter.notebook.get_cells();\n",
       "                for (var i = 0; i < nbb_cells.length; ++i) {\n",
       "                    if (nbb_cells[i].input_prompt_number == nbb_cell_id) {\n",
       "                        if (nbb_cells[i].get_text() == nbb_unformatted_code) {\n",
       "                             nbb_cells[i].set_text(nbb_formatted_code);\n",
       "                        }\n",
       "                        break;\n",
       "                    }\n",
       "                }\n",
       "            }, 500);\n",
       "            "
      ],
      "text/plain": [
       "<IPython.core.display.Javascript object>"
      ]
     },
     "metadata": {},
     "output_type": "display_data"
    }
   ],
   "source": [
    "data_url = \"data/hr_dataset.csv\"\n",
    "df = pd.read_csv(data_url)\n",
    "df.head()"
   ]
  },
  {
   "cell_type": "markdown",
   "metadata": {
    "id": "TkXvhjyuXNy7"
   },
   "source": [
    "### Identify which columns in the data are numeric and which are categorical.\n",
    "\n",
    "Correct any columns that have been misassigned a numeric data type when they should be categorical."
   ]
  },
  {
   "cell_type": "code",
   "execution_count": null,
   "metadata": {
    "id": "1k0SHKPpXNy9"
   },
   "outputs": [],
   "source": []
  },
  {
   "cell_type": "markdown",
   "metadata": {
    "id": "12n1Oc3aXNzD"
   },
   "source": [
    "### Pull out the categorical variables and note the dimensions of the data set."
   ]
  },
  {
   "cell_type": "code",
   "execution_count": null,
   "metadata": {
    "id": "TmeVkWUqXNzF"
   },
   "outputs": [],
   "source": []
  },
  {
   "cell_type": "markdown",
   "metadata": {
    "id": "NBV2wj7RXNzK"
   },
   "source": [
    "### Reduce these categorical features down to two dimensions using MCA."
   ]
  },
  {
   "cell_type": "code",
   "execution_count": null,
   "metadata": {
    "id": "dqNk4Xp0XNzN"
   },
   "outputs": [],
   "source": []
  },
  {
   "cell_type": "markdown",
   "metadata": {
    "id": "HsQEr6OUXNzZ"
   },
   "source": [
    "### Plot the coordinates of each resulting dimension."
   ]
  },
  {
   "cell_type": "code",
   "execution_count": null,
   "metadata": {
    "id": "cvW_kz_aXNzb"
   },
   "outputs": [],
   "source": []
  },
  {
   "cell_type": "markdown",
   "metadata": {
    "id": "dQXAUkuBXNzo"
   },
   "source": [
    "### One hot encode the categorical features and note the change in dimensions in the data set."
   ]
  },
  {
   "cell_type": "code",
   "execution_count": null,
   "metadata": {
    "id": "3LkdC1inXNzp",
    "scrolled": true
   },
   "outputs": [],
   "source": []
  },
  {
   "cell_type": "markdown",
   "metadata": {
    "id": "54aV6CLkXNzu"
   },
   "source": [
    "### Reduce the one hot encoded categorical features down to two dimensions using MCA."
   ]
  },
  {
   "cell_type": "code",
   "execution_count": null,
   "metadata": {
    "id": "i5HKpiRdXNzv"
   },
   "outputs": [],
   "source": []
  },
  {
   "cell_type": "markdown",
   "metadata": {
    "id": "guArCep0XNz7"
   },
   "source": [
    "### Plot the coordinates of each resulting dimension."
   ]
  },
  {
   "cell_type": "code",
   "execution_count": null,
   "metadata": {
    "id": "CJe4p6f9XNz9"
   },
   "outputs": [],
   "source": []
  },
  {
   "cell_type": "markdown",
   "metadata": {
    "id": "yyFpZ4iVXN0B"
   },
   "source": [
    "### Use FAMD to reduce the entire data set (both the categorical and numeric features) down to two dimensions."
   ]
  },
  {
   "cell_type": "code",
   "execution_count": null,
   "metadata": {
    "id": "wv4z5m8SXN0D"
   },
   "outputs": [],
   "source": []
  },
  {
   "cell_type": "markdown",
   "metadata": {
    "id": "VZeCO376XN0I"
   },
   "source": [
    "### Plot the coordinates of each resulting dimension, color-coding the plot points according to Employment Status."
   ]
  },
  {
   "cell_type": "code",
   "execution_count": null,
   "metadata": {
    "id": "Mqe5Eyo6XN0K"
   },
   "outputs": [],
   "source": []
  }
 ],
 "metadata": {
  "colab": {
   "collapsed_sections": [],
   "name": "MCA and FAMD Assignment.ipynb",
   "provenance": []
  },
  "kernelspec": {
   "display_name": "Python 3",
   "language": "python",
   "name": "python3"
  },
  "language_info": {
   "codemirror_mode": {
    "name": "ipython",
    "version": 3
   },
   "file_extension": ".py",
   "mimetype": "text/x-python",
   "name": "python",
   "nbconvert_exporter": "python",
   "pygments_lexer": "ipython3",
   "version": "3.7.6"
  }
 },
 "nbformat": 4,
 "nbformat_minor": 1
}
