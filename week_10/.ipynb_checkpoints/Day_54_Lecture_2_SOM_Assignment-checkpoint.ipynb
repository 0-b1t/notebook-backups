{
 "cells": [
  {
   "cell_type": "code",
   "execution_count": 1,
   "metadata": {},
   "outputs": [
    {
     "data": {
      "application/javascript": [
       "\n",
       "            setTimeout(function() {\n",
       "                var nbb_cell_id = 1;\n",
       "                var nbb_unformatted_code = \"%reload_ext nb_black\";\n",
       "                var nbb_formatted_code = \"%reload_ext nb_black\";\n",
       "                var nbb_cells = Jupyter.notebook.get_cells();\n",
       "                for (var i = 0; i < nbb_cells.length; ++i) {\n",
       "                    if (nbb_cells[i].input_prompt_number == nbb_cell_id) {\n",
       "                        if (nbb_cells[i].get_text() == nbb_unformatted_code) {\n",
       "                             nbb_cells[i].set_text(nbb_formatted_code);\n",
       "                        }\n",
       "                        break;\n",
       "                    }\n",
       "                }\n",
       "            }, 500);\n",
       "            "
      ],
      "text/plain": [
       "<IPython.core.display.Javascript object>"
      ]
     },
     "metadata": {},
     "output_type": "display_data"
    }
   ],
   "source": [
    "%reload_ext nb_black"
   ]
  },
  {
   "cell_type": "code",
   "execution_count": null,
   "metadata": {
    "id": "Q1EFuZ0TR9wh"
   },
   "outputs": [],
   "source": [
    "import pandas as pd\n",
    "import numpy as np\n",
    "\n",
    "from sklearn.preprocessing import StandardScaler\n",
    "from sklearn.decomposition import PCA\n",
    "from sklearn.manifold import TSNE\n",
    "\n",
    "# !pip install minisom\n",
    "from minisom import MiniSom\n",
    "\n",
    "import seaborn as sns\n",
    "import matplotlib.pyplot as plt\n",
    "from matplotlib.gridspec import GridSpec\n",
    "\n",
    "%matplotlib inline"
   ]
  },
  {
   "cell_type": "code",
   "execution_count": null,
   "metadata": {
    "id": "IKfgx3rR_Dk6"
   },
   "outputs": [],
   "source": [
    "def som_pie_grid(som, data, labels):\n",
    "  \"\"\"Helper to create piechart grid viz\n",
    "  \n",
    "  Example: https://raw.githubusercontent.com/JustGlowing/minisom/master/examples/resulting_images/som_iris_pies.png\n",
    "\n",
    "  :param som: fitted MiniSom instance\n",
    "  :param data: the data the MiniSom was fit to\n",
    "  :param labels: an array of labels to use for coloring visual\n",
    "  \"\"\"\n",
    "  labels_map = som.labels_map(data, labels)\n",
    "  label_names = np.unique(labels)\n",
    "\n",
    "  plt.figure(figsize=(70, 70))\n",
    "  the_grid = GridSpec(70, 70)\n",
    "  for position in labels_map.keys():\n",
    "      label_fracs = [labels_map[position][lab] for lab in label_names]\n",
    "      plt.subplot(the_grid[position[1] - 12, position[0]], aspect=1)\n",
    "      patches, texts = plt.pie(label_fracs)\n",
    "\n",
    "  plt.show()\n",
    "\n",
    "  # Cheating way to align legend, create a separate figure just \n",
    "  # for legend.  Will have superfluous whitespace below\n",
    "  plt.legend(patches, label_names, loc='upper left', ncol=5)\n",
    "  plt.axis('off')\n",
    "  plt.show()"
   ]
  },
  {
   "cell_type": "markdown",
   "metadata": {
    "id": "aeCfl9S6A1ea"
   },
   "source": [
    "* Read in the data from `data_url`\n",
    "* Drop all NAs\n",
    "* Filter based on the `'Pos'` column to where only have the positions `['C', 'PG', 'SG']` remain\n",
    "* Drop all non-numeric columns\n",
    "* Scale the data"
   ]
  },
  {
   "cell_type": "code",
   "execution_count": null,
   "metadata": {
    "id": "z5L9jg9A_Bsc"
   },
   "outputs": [],
   "source": [
    "data_url = \"https://tf-assets-prod.s3.amazonaws.com/tf-curric/data-science/Data%20Sets%20Clustering/nba_player_seasons.csv\""
   ]
  },
  {
   "cell_type": "code",
   "execution_count": null,
   "metadata": {
    "id": "V53O_gTmA2In"
   },
   "outputs": [],
   "source": []
  },
  {
   "cell_type": "markdown",
   "metadata": {
    "id": "XCWaLiRSBj9V"
   },
   "source": [
    "* Fit a `MiniSom` instance to the scaled data\n",
    "  * Choose your own grid size\n",
    "  * Set a `random_seed` to have reproducible results\n",
    "  * Initialize the `MiniSom` weight vectors using `.pca_weights_init()` or `.random_weights_init()`\n",
    "  * Train the model using `.train_random()` or `.train_batch()`"
   ]
  },
  {
   "cell_type": "code",
   "execution_count": null,
   "metadata": {
    "id": "ur0Ku2zF0vE4"
   },
   "outputs": [],
   "source": []
  },
  {
   "cell_type": "markdown",
   "metadata": {
    "id": "P1cL0S5fCHZF"
   },
   "source": [
    "* Use the helper function defined at the top of the notebook to plot the SOM's fit\n",
    "  * Use the players' positions (the `'Pos'` column) as the labels in the viz\n",
    "  * Experiment with the SOM's grid size, initialization method, and training method.  Decide a 'good' fit using this visual as guidance."
   ]
  },
  {
   "cell_type": "code",
   "execution_count": null,
   "metadata": {
    "id": "Bqk8eWE1CH02"
   },
   "outputs": [],
   "source": []
  },
  {
   "cell_type": "markdown",
   "metadata": {
    "id": "J9nw_Z4UC0wL"
   },
   "source": [
    "* Perform dimension reduction (to 2d) with another method (perhaps `PCA` or `TSNE`).\n",
    "* Create a scatter plot of the results of this dimension reduction and color the scatter plot by the players' positions (the `'Pos'` column).\n",
    "  * How do these results compare to that of the SOM? What are the pros and cons of the different approaches you took in this notebook?"
   ]
  },
  {
   "cell_type": "code",
   "execution_count": null,
   "metadata": {
    "id": "Z0ZUyrqFyvZs"
   },
   "outputs": [],
   "source": []
  }
 ],
 "metadata": {
  "colab": {
   "collapsed_sections": [],
   "name": "Day 54 Lecture 2 SOM Assignment",
   "provenance": []
  },
  "kernelspec": {
   "display_name": "Python 3",
   "language": "python",
   "name": "python3"
  },
  "language_info": {
   "codemirror_mode": {
    "name": "ipython",
    "version": 3
   },
   "file_extension": ".py",
   "mimetype": "text/x-python",
   "name": "python",
   "nbconvert_exporter": "python",
   "pygments_lexer": "ipython3",
   "version": "3.7.6"
  }
 },
 "nbformat": 4,
 "nbformat_minor": 1
}
